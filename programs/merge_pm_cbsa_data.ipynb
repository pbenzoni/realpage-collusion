{
 "cells": [
  {
   "cell_type": "markdown",
   "id": "2302b087-50b1-475f-968d-6ab7924fe372",
   "metadata": {},
   "source": [
    "### Description\n",
    "Author: T. Majidzadeh\n",
    "\n",
    "Date Created: March 3, 2025\n",
    "\n",
    "Date Updated: March 3, 2025\n",
    "\n",
    "Purpose: Standardize formatting of building data and append with simplified columns"
   ]
  },
  {
   "cell_type": "code",
   "execution_count": 3,
   "id": "440d521d-d2da-43cc-b45e-99719e32b3c4",
   "metadata": {},
   "outputs": [],
   "source": [
    "import os\n",
    "import pandas as pd\n",
    "import numpy as np"
   ]
  },
  {
   "cell_type": "code",
   "execution_count": 43,
   "id": "eb8deb5b-0867-44e8-9203-44c185a396b4",
   "metadata": {},
   "outputs": [
    {
     "name": "stderr",
     "output_type": "stream",
     "text": [
      "C:\\Users\\timot\\AppData\\Local\\Temp\\ipykernel_10328\\2774504905.py:1: DtypeWarning: Columns (3) have mixed types. Specify dtype option on import or set low_memory=False.\n",
      "  cbsa_data = pd.read_csv(\"..\\\\data\\\\cbsa_osm_addresses.csv\", na_values=[\"\", \"nan\"]).astype(str)\n"
     ]
    }
   ],
   "source": [
    "cbsa_data = pd.read_csv(\"..\\\\data\\\\cbsa_osm_addresses.csv\", na_values=[\"\", \"nan\"]).astype(str)\n",
    "pm_data = pd.read_csv(\"..\\\\data\\\\pm_osm_addresses.csv\", na_values=[\"\", \"nan\"]).astype(str)"
   ]
  },
  {
   "cell_type": "code",
   "execution_count": 63,
   "id": "51887c79-97d6-4cef-a7d4-31ce835ce661",
   "metadata": {},
   "outputs": [],
   "source": [
    "cbsa_data_dropna = cbsa_data[cbsa_data['cbsa_osm_address'] != \"nan\"]\n",
    "cbsa_data_dropdups = cbsa_data_dropna.drop_duplicates(subset=\"cbsa_osm_address\")\n",
    "pm_data_dropna = pm_data[pm_data['osm_address'] != \"nan\"]\n",
    "pm_data_dropdups = pm_data_dropna.drop_duplicates(subset=\"osm_address\")"
   ]
  },
  {
   "cell_type": "code",
   "execution_count": 65,
   "id": "ad03cf83-2c9e-4336-85a8-49dd719d0e0b",
   "metadata": {},
   "outputs": [
    {
     "name": "stdout",
     "output_type": "stream",
     "text": [
      "(42000, 40)\n",
      "(35140, 40)\n",
      "(33457, 40)\n"
     ]
    }
   ],
   "source": [
    "print(cbsa_data.shape)\n",
    "print(cbsa_data_dropna.shape)\n",
    "print(cbsa_data_dropdups.shape)"
   ]
  },
  {
   "cell_type": "code",
   "execution_count": 67,
   "id": "4dce7c74-e5b8-4b2d-b687-eb43be335e16",
   "metadata": {},
   "outputs": [
    {
     "name": "stdout",
     "output_type": "stream",
     "text": [
      "(8824, 7)\n",
      "(7213, 7)\n",
      "(6865, 7)\n"
     ]
    }
   ],
   "source": [
    "print(pm_data.shape)\n",
    "print(pm_data_dropna.shape)\n",
    "print(pm_data_dropdups.shape)"
   ]
  },
  {
   "cell_type": "code",
   "execution_count": 79,
   "id": "3ad3cb71-4a7d-459a-9d77-1665eb6c1b8d",
   "metadata": {},
   "outputs": [
    {
     "data": {
      "text/plain": [
       "str"
      ]
     },
     "execution_count": 79,
     "metadata": {},
     "output_type": "execute_result"
    }
   ],
   "source": [
    "type(cbsa_data_dropdups['cbsa_osm_address'][0])"
   ]
  },
  {
   "cell_type": "code",
   "execution_count": 77,
   "id": "f151b1b2-7379-4a5a-af9c-7386d8109c82",
   "metadata": {},
   "outputs": [
    {
     "data": {
      "text/plain": [
       "str"
      ]
     },
     "execution_count": 77,
     "metadata": {},
     "output_type": "execute_result"
    }
   ],
   "source": [
    "type(pm_data_dropdups['osm_address'][0])"
   ]
  },
  {
   "cell_type": "code",
   "execution_count": 81,
   "id": "3d205922-aa21-4188-af64-790876396fd0",
   "metadata": {},
   "outputs": [
    {
     "data": {
      "text/plain": [
       "(3897, 47)"
      ]
     },
     "execution_count": 81,
     "metadata": {},
     "output_type": "execute_result"
    }
   ],
   "source": [
    "cbsa_data_dropdups.merge(\n",
    "    pm_data_dropdups,\n",
    "    how = 'inner',\n",
    "    left_on = 'cbsa_osm_address',\n",
    "    right_on = 'osm_address'\n",
    ").shape"
   ]
  }
 ],
 "metadata": {
  "kernelspec": {
   "display_name": "Python [conda env:base] *",
   "language": "python",
   "name": "conda-base-py"
  },
  "language_info": {
   "codemirror_mode": {
    "name": "ipython",
    "version": 3
   },
   "file_extension": ".py",
   "mimetype": "text/x-python",
   "name": "python",
   "nbconvert_exporter": "python",
   "pygments_lexer": "ipython3",
   "version": "3.12.7"
  }
 },
 "nbformat": 4,
 "nbformat_minor": 5
}
