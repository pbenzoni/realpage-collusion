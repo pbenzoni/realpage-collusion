{
 "cells": [
  {
   "cell_type": "markdown",
   "id": "5b985e1b-a3ca-4c92-8063-4f4827f9e2bd",
   "metadata": {},
   "source": [
    "### Description\n",
    "Author: T. Majidzadeh\n",
    "\n",
    "Date Created: February 25, 2025\n",
    "\n",
    "Date Updated: February 25, 2025\n",
    "\n",
    "Purpose: Standardize formatting of building data and append with simplified columns"
   ]
  },
  {
   "cell_type": "code",
   "execution_count": 2,
   "id": "9b862324-f691-4c1b-8d84-f18675f22a67",
   "metadata": {},
   "outputs": [],
   "source": [
    "import pandas as pd\n",
    "import numpy as np\n",
    "import json\n",
    "import os\n",
    "import re"
   ]
  },
  {
   "cell_type": "code",
   "execution_count": 3,
   "id": "cb72afcb-66b4-483b-9081-76b2e437dc5b",
   "metadata": {},
   "outputs": [],
   "source": [
    "### Patrick's files:\n",
    "patrick_files = [\n",
    "    \"air_communities_listings.csv\",\n",
    "    \"allied_orion_apartments.csv\",\n",
    "    \"bell_partners_listings.csv\",\n",
    "    \"bozzuto_listings.csv\",\n",
    "    \"brookfield_properties_listings.csv\",\n",
    "    \"camden_property_listings.csv\",\n",
    "    \"conam_management_listings.csv\",\n",
    "    \"dayrise_residential_listings.csv\",\n",
    "    \"eci_group_listings.csv\",\n",
    "    \"equity_residential_listings.csv\",\n",
    "    \"fpi_management_listings.csv\",\n",
    "    \"greystar_listings.csv\",\n",
    "    \"morgan_properties_listings.csv\",\n",
    "    \"sherman_associates_listings.csv\",\n",
    "    \"the_related_companies_listings.csv\",\n",
    "    \"windsor_properties_listings.csv\",\n",
    "    \"udr_listings.csv\"\n",
    "]\n",
    "\n",
    "patrick_names = [\n",
    "    \"Air Communities\",\n",
    "    \"Allied Orion Group\",\n",
    "    \"Bell Partners\",\n",
    "    \"Bozzuto Management Co.\",\n",
    "    \"Brookfield Properties Multifamily\",\n",
    "    \"Camden Property Trust\",\n",
    "    \"CONAM Management Corp.\",\n",
    "    \"Dayrise Residential\",\n",
    "    \"ECI Group\",\n",
    "    \"Equity Residential Services\",\n",
    "    \"FPI Management\",\n",
    "    \"Greystar Management Services\",\n",
    "    \"Morgan Properties Management Co.\",\n",
    "    \"Sherman Associates\",\n",
    "    \"The Related Companies\",\n",
    "    \"Windsor Property Management Co.\",\n",
    "    \"UDR Inc.\"\n",
    "]"
   ]
  },
  {
   "cell_type": "code",
   "execution_count": 4,
   "id": "f3c950e5-98c5-46c1-bd97-5267ee8f1bc1",
   "metadata": {},
   "outputs": [],
   "source": [
    "def clean_file_patrick(file, name):\n",
    "    '''\n",
    "    Import and clean a file gathered by Patrick.\n",
    "    '''\n",
    "    df = pd.read_csv('..\\\\data\\\\pm_data_clean\\\\'+file)\n",
    "    df.dropna(subset='Title', inplace=True)\n",
    "    df.rename(columns={\n",
    "        \"Title\" : \"building_name\",\n",
    "        \"Address\": \"raw_address\"\n",
    "    }, inplace=True)\n",
    "    df[\"company_name\"] = name\n",
    "    df = df[['company_name', 'building_name', 'raw_address']]\n",
    "    return [df]\n",
    "\n",
    "dfs = []\n",
    "for file, name in zip(patrick_files, patrick_names):\n",
    "    dfs += clean_file_patrick(file, name)\n",
    "patrick_appended = pd.concat(dfs)\n",
    "patrick_appended['author'] = 'Patrick'"
   ]
  },
  {
   "cell_type": "code",
   "execution_count": 5,
   "id": "a6dc0388-88ec-4e48-afe4-bbfb9d4f290f",
   "metadata": {},
   "outputs": [],
   "source": [
    "tim_files = [\n",
    "    \"hsl_properties.csv\",\n",
    "    \"irt_living.csv\",\n",
    "    \"jbg_smith_living.csv\",\n",
    "    \"kairoi_residential.csv\",\n",
    "    \"knightvest_residential.csv\",\n",
    "    \"lantower_living.csv\",\n",
    "    \"mid_america_apartments.csv\",\n",
    "    \"mission_rock_residential.csv\",\n",
    "    \"paradigm_companies.csv\",\n",
    "    \"prometheus_apartments.csv\",\n",
    "    \"rose_associates.csv\",\n",
    "    \"rpm_living.csv\",\n",
    "    \"srg_living.csv\"\n",
    "]\n",
    "tim_names = [\n",
    "    \"HSL Properties\",\n",
    "    \"Independence Realty Trust\",\n",
    "    \"JBG Smith Properties\",\n",
    "    \"Kairoi Management\",\n",
    "    \"Knightvest Residential\",\n",
    "    \"Lantower Luxury Living\",\n",
    "    \"Mid-America Apartments\",\n",
    "    \"Mission Rock Residential\",\n",
    "    \"Paradigm Management\",\n",
    "    \"Prometheus Real Estate Group\",\n",
    "    \"Rose Associates\",\n",
    "    \"RPM Living\",\n",
    "    \"Sares Regis Group\"\n",
    "]"
   ]
  },
  {
   "cell_type": "code",
   "execution_count": 6,
   "id": "fdb9c0ab-02be-4434-a01c-ac86fb60a302",
   "metadata": {},
   "outputs": [],
   "source": [
    "def clean_file_tim(file, name):\n",
    "    '''\n",
    "    Import and clean a file gathered by Tim.\n",
    "    '''\n",
    "    df = pd.read_csv('..\\\\data\\\\pm_data_clean\\\\'+file)\n",
    "    df.dropna(subset='building_name', inplace=True)\n",
    "    df = df[['company_name', 'building_name', 'raw_address']]\n",
    "    return [df]\n",
    "\n",
    "dfs = []\n",
    "for file, name in zip(tim_files, tim_names):\n",
    "    dfs += clean_file_tim(file, name)\n",
    "tim_appended = pd.concat(dfs)\n",
    "tim_appended['author'] = 'Tim'"
   ]
  },
  {
   "cell_type": "code",
   "execution_count": 7,
   "id": "91957892-27e8-4097-b493-f9e18234cf0e",
   "metadata": {},
   "outputs": [],
   "source": [
    "ahmad_csvs = [\n",
    "    \"security_prop_appts.csv\",\n",
    "    \"thrive communities appt.csv\",\n",
    "    \"master_weidner.csv\",\n",
    "    \"cws_apartments.csv\",\n",
    "    \"essex.csv\",\n",
    "    \"gables.csv\",\n",
    "    \"highmarkres.csv\",\n",
    "]\n",
    "ahmad_csvs_names = [\n",
    "    \"Security Properties Residential\",\n",
    "    \"Thrive Communities\",\n",
    "    \"Weidner Property Management\",\n",
    "    \"CWS Apartment Homes\",\n",
    "    \"Essex Property Trust\",\n",
    "    \"Gables Residential Services\",\n",
    "    \"Highmark Residential\"\n",
    "]"
   ]
  },
  {
   "cell_type": "code",
   "execution_count": 8,
   "id": "4a3abbb3-8a72-42a1-bf5e-24f682442db7",
   "metadata": {},
   "outputs": [],
   "source": [
    "raw_dfs = [pd.read_csv('..\\\\data\\\\pm_data_clean\\\\'+file) for file in ahmad_csvs]"
   ]
  },
  {
   "cell_type": "code",
   "execution_count": 9,
   "id": "e11f18a7-d810-478f-b96e-c0f99bf5793a",
   "metadata": {},
   "outputs": [],
   "source": [
    "def rename_ahmad(df, building, addr):\n",
    "    '''\n",
    "    Given an column name for buildings and a column name for addresses,\n",
    "    renames the columns to a standard format.\n",
    "    '''\n",
    "    out = df.rename(columns={building:'building_name', addr:'raw_address'})\n",
    "    return out"
   ]
  },
  {
   "cell_type": "code",
   "execution_count": 10,
   "id": "20806a15-3874-4757-963d-71df542b2238",
   "metadata": {},
   "outputs": [],
   "source": [
    "building_names = [\n",
    "    \"js-property-details\",\n",
    "    \"small-margin\",\n",
    "    \"property-name\",\n",
    "    \"Community Name\",\n",
    "    \"community-card__content__property\",\n",
    "    \"MuiTypography-root\",\n",
    "    \"name\"\n",
    "]\n",
    "building_addresses = [\n",
    "    \"prop-address\",\n",
    "    \"small-margin (3)\",\n",
    "    \"mb-1\",\n",
    "    \"Address\",\n",
    "    \"community-card__content__location\",\n",
    "    \"raw_address\",\n",
    "    \"full-address\"\n",
    "]"
   ]
  },
  {
   "cell_type": "code",
   "execution_count": 11,
   "id": "8191b7c6-8bb2-46bc-ac99-24dbba177232",
   "metadata": {},
   "outputs": [],
   "source": [
    "raw_dfs[2]['property-name'] = [re.sub(r'opens in a new tab', '', string).strip() for string in raw_dfs[2]['property-name']]\n",
    "raw_dfs[5]['raw_address'] = \"\""
   ]
  },
  {
   "cell_type": "code",
   "execution_count": 12,
   "id": "b293988b-fef4-495d-98b3-2c07a1b7d598",
   "metadata": {},
   "outputs": [],
   "source": [
    "dfs = []\n",
    "for i in range(len(raw_dfs)):\n",
    "    df = rename_ahmad(raw_dfs[i], building_names[i], building_addresses[i])\n",
    "    df['company_name'] = ahmad_csvs_names[i]\n",
    "    df = df[['company_name', 'building_name', 'raw_address']]\n",
    "    df.head()\n",
    "    dfs += [df]\n",
    "dfs = pd.concat(dfs)"
   ]
  },
  {
   "cell_type": "code",
   "execution_count": 13,
   "id": "241536ff-de35-477a-83cb-36fcb4de2808",
   "metadata": {},
   "outputs": [],
   "source": [
    "f = open(\"..\\\\data\\\\pm_data_clean\\\\ZLS.txt\")\n",
    "zrs_df = pd.read_json(f)\n",
    "zrs_df['Zip'] = zrs_df['Zip'].astype(str)\n",
    "zrs_df['State Zip'] = zrs_df[[\"State\", \"Zip\"]].agg(\" \".join, axis=1)\n",
    "zrs_df['raw_address'] = zrs_df[[\"Address\", \"City\", \"State Zip\"]].agg(\", \".join, axis=1)\n",
    "zrs_df['company_name'] = \"ZRS Management LLC\"\n",
    "zrs_df['building_name'] = zrs_df[\"Name\"]\n",
    "zrs_df = zrs_df[[\"company_name\", \"building_name\", \"raw_address\"]]\n",
    "f.close()"
   ]
  },
  {
   "cell_type": "code",
   "execution_count": 14,
   "id": "711881ca-f6d9-47ea-b296-61cbae5788ba",
   "metadata": {},
   "outputs": [],
   "source": [
    "simpson_1 = json.loads(open(\"..\\\\data\\\\pm_data_clean\\\\simpson_1.txt\").read())\n",
    "simpson_allcities = json.loads(open(\"..\\\\data\\\\pm_data_clean\\\\simpson_allcities.txt\").read())\n",
    "simpson_allmapcities = json.loads(open(\"..\\\\data\\\\pm_data_clean\\\\simpson_allmapcities.txt\").read())"
   ]
  },
  {
   "cell_type": "code",
   "execution_count": 15,
   "id": "4f72e20e-1c64-446e-98d1-1e9bbd57f635",
   "metadata": {},
   "outputs": [],
   "source": [
    "simpson_dfs = []\n",
    "for jsonobj in [simpson_1, simpson_allcities, simpson_allmapcities]:\n",
    "    for item in jsonobj:\n",
    "        simpson_dfs += [pd.DataFrame(item['Communities'])]\n",
    "simpson_dfs = pd.concat(simpson_dfs)\n",
    "simpson_dfs.drop_duplicates(subset=[\"CommunityID\", \"Name\", \"Address1\", \"Address2\", \"City\", \"State\", \"Zip\"], inplace=True)"
   ]
  },
  {
   "cell_type": "code",
   "execution_count": 16,
   "id": "dae0ecbd-1008-4efd-8533-833a6423b1e2",
   "metadata": {},
   "outputs": [],
   "source": [
    "simpson_dfs['Address'] = simpson_dfs[[\"Address1\", \"Address2\"]].agg(\" \".join, axis=1)\n",
    "simpson_dfs['State Zip'] = simpson_dfs[[\"State\", \"Zip\"]].agg(\" \".join, axis=1)\n",
    "simpson_dfs['raw_address'] = simpson_dfs[[\"Address\", \"City\", \"State Zip\"]].agg(\", \".join, axis=1)\n",
    "simpson_dfs['building_name'] = simpson_dfs['Name']\n",
    "simpson_dfs['company_name'] = \"Simpson Property Group\"\n",
    "simpson_dfs = simpson_dfs[[\"company_name\", \"building_name\", \"raw_address\"]]"
   ]
  },
  {
   "cell_type": "code",
   "execution_count": 17,
   "id": "49fa3313-5588-4244-802d-5fdaddc93dde",
   "metadata": {},
   "outputs": [],
   "source": [
    "ahmad_appended = pd.concat([dfs, zrs_df, simpson_dfs])\n",
    "ahmad_appended['author'] = 'Ahmad'"
   ]
  },
  {
   "cell_type": "code",
   "execution_count": 18,
   "id": "211c0fd4-6112-4dd9-b9c0-1ee379b176d1",
   "metadata": {},
   "outputs": [],
   "source": [
    "wcsmith = pd.read_csv(\"..\\\\data\\\\pm_data_clean\\\\wcsmith_listings.csv\")\n",
    "wcsmith.rename(columns={\"propertyName\":\"building_name\"}, inplace=True)\n",
    "wcsmith['company_name'] = \"William C. Smith & Co.\"\n",
    "wcsmith[\"propertyZip\"] = wcsmith[\"propertyZip\"].astype(str)\n",
    "wcsmith['State Zip'] = wcsmith[[\"propertyState\", \"propertyZip\"]].agg(\" \".join, axis=1)\n",
    "wcsmith['raw_address'] = wcsmith[[\"propertyAddress\", \"propertyCity\", \"State Zip\"]].agg(\", \".join, axis=1)\n",
    "wcsmith = wcsmith[[\"company_name\", \"building_name\", \"raw_address\"]]"
   ]
  },
  {
   "cell_type": "code",
   "execution_count": 19,
   "id": "78aef956-ef65-4921-94e8-85fd949316aa",
   "metadata": {},
   "outputs": [],
   "source": [
    "wbpc = pd.read_csv(\"..\\\\data\\\\pm_data_clean\\\\geocoded_wpbc_data.csv\")\n",
    "wbpc.rename(columns={\"propertyName\":\"building_name\", \"fullAddress\":\"raw_address\"}, inplace=True)\n",
    "wbpc[\"building_name\"] = \"\"\n",
    "wbpc[\"company_name\"] = \"Willow Bridge Property Co.\"\n",
    "wbpc = wbpc[[\"company_name\", \"building_name\", \"raw_address\"]]"
   ]
  },
  {
   "cell_type": "code",
   "execution_count": 20,
   "id": "a4456633-619a-44a5-9a9e-0ba37a9eda62",
   "metadata": {},
   "outputs": [],
   "source": [
    "chelle_appended = pd.concat([wcsmith, wbpc])\n",
    "chelle_appended['author'] = 'Chelle'"
   ]
  },
  {
   "cell_type": "code",
   "execution_count": 21,
   "id": "69f55f3e-9419-4631-aba9-963bf2ea17cc",
   "metadata": {},
   "outputs": [
    {
     "data": {
      "text/plain": [
       "(8824, 4)"
      ]
     },
     "execution_count": 21,
     "metadata": {},
     "output_type": "execute_result"
    }
   ],
   "source": [
    "all_appended = pd.concat(\n",
    "    [\n",
    "        patrick_appended,\n",
    "        tim_appended,\n",
    "        ahmad_appended, \n",
    "        chelle_appended\n",
    "    ]\n",
    ")\n",
    "all_appended.shape"
   ]
  },
  {
   "cell_type": "code",
   "execution_count": 22,
   "id": "3dfe588b-cc2b-4a68-9730-498b3418bb90",
   "metadata": {},
   "outputs": [],
   "source": [
    "all_appended.to_csv('..\\\\data\\\\pm_data_small_appended.csv', index=False)"
   ]
  }
 ],
 "metadata": {
  "kernelspec": {
   "display_name": "Python [conda env:base] *",
   "language": "python",
   "name": "conda-base-py"
  },
  "language_info": {
   "codemirror_mode": {
    "name": "ipython",
    "version": 3
   },
   "file_extension": ".py",
   "mimetype": "text/x-python",
   "name": "python",
   "nbconvert_exporter": "python",
   "pygments_lexer": "ipython3",
   "version": "3.12.7"
  }
 },
 "nbformat": 4,
 "nbformat_minor": 5
}
