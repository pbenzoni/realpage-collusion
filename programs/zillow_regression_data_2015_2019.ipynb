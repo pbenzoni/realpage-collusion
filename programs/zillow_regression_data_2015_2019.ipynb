{
 "cells": [
  {
   "cell_type": "markdown",
   "id": "01ad75c7-bb46-40f6-89a5-ee1aca64d71b",
   "metadata": {},
   "source": [
    "### Description\n",
    "Author: T. Majidzadeh\n",
    "\n",
    "Date Created: March 9, 2025\n",
    "\n",
    "Date Updated: April 4, 2025\n",
    "\n",
    "Purpose: Prepare data for Zillow rent indices, 2015-2019, treatment in Dec 2017. Prototype version assumes \"affected\" metros are those with at least 35% post-merger penetration rate and at least 10% share gain from the merger.\n",
    "\n",
    "Update: Add-back rent index up to 2022-12-31 for graphing purposes."
   ]
  },
  {
   "cell_type": "code",
   "execution_count": 2,
   "id": "2ea3c02e-73f0-4cfa-9b6f-383f27d89a70",
   "metadata": {},
   "outputs": [],
   "source": [
    "import pandas as pd\n",
    "import numpy as np\n",
    "from datetime import datetime\n",
    "import json\n",
    "import os\n",
    "import re"
   ]
  },
  {
   "cell_type": "code",
   "execution_count": 3,
   "id": "cb31b6ba-e854-4011-9dda-b17b9068062c",
   "metadata": {},
   "outputs": [],
   "source": [
    "paths = {\n",
    "    \"zillow_raw\": \"..\\\\data\\\\zillow_data_raw\\\\\",\n",
    "    \"zillow_reg\": \"..\\\\data\\\\zillow_reg_data\\\\\"\n",
    "}"
   ]
  },
  {
   "cell_type": "code",
   "execution_count": 4,
   "id": "63d21105-2cf3-4b86-ab86-68673f3a6c14",
   "metadata": {},
   "outputs": [],
   "source": [
    "first_ym = datetime.strptime('2015-01-01', '%Y-%m-%d').date()\n",
    "treat_ym = datetime.strptime('2017-12-01', '%Y-%m-%d').date()\n",
    "covid_ym = datetime.strptime('2020-01-01', '%Y-%m-%d').date()\n",
    "end_ym = datetime.strptime('2023-01-01', '%Y-%m-%d').date()\n",
    "lag_months = 1\n",
    "\n",
    "def months_since_start(date, start_date):\n",
    "    return (date.year - start_date.year) * 12 + (date.month - start_date.month)\n",
    "\n",
    "def lag_term(df, num_months=1):\n",
    "    sorted_df = df.sort_values(by=['RegionName', 'Year-Month'])\n",
    "    shifted = sorted_df.groupby('RegionName')['ZORI'].shift(num_months)\n",
    "    return shifted"
   ]
  },
  {
   "cell_type": "code",
   "execution_count": 5,
   "id": "9edaab55-5a34-43d9-ae2f-ae9c9b909d8f",
   "metadata": {},
   "outputs": [],
   "source": [
    "# Assumes \"affected\" metros are those with at least 35% post-merger penetration rate and at least 10% share gain from the merger.\n",
    "\n",
    "affected_msas = {\n",
    "    \"Atlanta, GA\" : 1,\n",
    "    \"Dallas, TX\" : 1,\n",
    "    \"Phoenix, AZ\" : 1,\n",
    "    \"Denver, CO\" : 1,\n",
    "    \"Tampa, FL\" : 1,\n",
    "    \"Washington, DC\" : 1,\n",
    "    \n",
    "    \"Houston, TX\" : 0,\n",
    "    \"Riverside, CA\" : 0,\n",
    "    \"Las Vegas, NV\" : 0,\n",
    "    \"Seattle, WA\" : 0,\n",
    "    \"Philadelphia, PA\" : 0,\n",
    "    \"Boston, MA\" : 0,\n",
    "    \"Minneapolis, MN\" : 0,\n",
    "    \"San Diego, CA\" : 0,\n",
    "    \"Miami, FL\" : 0,\n",
    "    \"San Francisco, CA\" : 0,\n",
    "    \"Chicago, IL\" : 0,\n",
    "    \"Detroit, MI\" : 0,\n",
    "    \"Los Angeles, CA\" : 0,\n",
    "    \"New York, NY\" : 0\n",
    "}"
   ]
  },
  {
   "cell_type": "code",
   "execution_count": 6,
   "id": "f07752b0-6b41-48b8-af26-06d0951a7f82",
   "metadata": {},
   "outputs": [],
   "source": [
    "zillow_raw = pd.read_csv(\n",
    "    paths[\"zillow_raw\"]+\"Metro_zori_uc_mfr_sm_month.csv\"\n",
    ")"
   ]
  },
  {
   "cell_type": "code",
   "execution_count": 7,
   "id": "ebfe3f41-aa51-4ed9-a418-9c20940b5374",
   "metadata": {},
   "outputs": [],
   "source": [
    "zillow_long = zillow_raw.melt(\n",
    "    id_vars=[\"RegionName\", \"StateName\"],\n",
    "    value_vars=zillow_raw.columns[5:],\n",
    "    var_name=\"Year-Month\",\n",
    "    value_name=\"ZORI\"\n",
    ")\n",
    "zillow_long['Year-Month'] = zillow_long['Year-Month'] \\\n",
    "    .apply(lambda x: datetime.strptime(x, '%Y-%m-%d').date())"
   ]
  },
  {
   "cell_type": "code",
   "execution_count": 8,
   "id": "f2d493a2-7ed5-468b-b7f3-b9a5137d4117",
   "metadata": {},
   "outputs": [],
   "source": [
    "zillow_long['AffectedCity'] = zillow_long['RegionName'].map(affected_msas)\n",
    "zillow_long['AffectedTime'] = zillow_long['Year-Month'].apply(lambda x: (x >= treat_ym)*1)\n",
    "zillow_long['Year'] = zillow_long['Year-Month'].apply(lambda x: x.year)\n",
    "zillow_long['Month'] = zillow_long['Year-Month'].apply(lambda x: x.month)\n",
    "zillow_long['TimeTrend'] = zillow_long['Year-Month'] \\\n",
    "    .apply(lambda x: months_since_start(x, first_ym))\n",
    "zillow_long['ZORI-Lag1'] = lag_term(zillow_long, lag_months)"
   ]
  },
  {
   "cell_type": "code",
   "execution_count": 9,
   "id": "ba3c9370-79b7-494b-ac75-bcc7d17bc158",
   "metadata": {},
   "outputs": [
    {
     "name": "stderr",
     "output_type": "stream",
     "text": [
      "C:\\Users\\timot\\AppData\\Local\\Temp\\ipykernel_21620\\2523666965.py:2: SettingWithCopyWarning: \n",
      "A value is trying to be set on a copy of a slice from a DataFrame.\n",
      "Try using .loc[row_indexer,col_indexer] = value instead\n",
      "\n",
      "See the caveats in the documentation: https://pandas.pydata.org/pandas-docs/stable/user_guide/indexing.html#returning-a-view-versus-a-copy\n",
      "  zillow_reg['AffectedCity'] = zillow_reg['AffectedCity'].astype(int)\n"
     ]
    }
   ],
   "source": [
    "zillow_reg = zillow_long.dropna(subset='AffectedCity')\n",
    "zillow_reg['AffectedCity'] = zillow_reg['AffectedCity'].astype(int)\n",
    "zillow_reg = zillow_reg[zillow_reg['Year-Month'] < end_ym]"
   ]
  },
  {
   "cell_type": "code",
   "execution_count": 10,
   "id": "413f96f8-b6c2-43a1-b82d-4322b01899f0",
   "metadata": {},
   "outputs": [],
   "source": [
    "zillow_long.to_csv(paths['zillow_reg']+'zillow_data_long.csv')\n",
    "zillow_reg.to_csv(paths['zillow_reg']+'zillow_data_reg_20250404.csv')\n",
    "zillow_reg.to_pickle(paths['zillow_reg']+'zillow_data_reg_20250404.pkl')"
   ]
  }
 ],
 "metadata": {
  "kernelspec": {
   "display_name": "Python [conda env:base] *",
   "language": "python",
   "name": "conda-base-py"
  },
  "language_info": {
   "codemirror_mode": {
    "name": "ipython",
    "version": 3
   },
   "file_extension": ".py",
   "mimetype": "text/x-python",
   "name": "python",
   "nbconvert_exporter": "python",
   "pygments_lexer": "ipython3",
   "version": "3.12.7"
  }
 },
 "nbformat": 4,
 "nbformat_minor": 5
}
