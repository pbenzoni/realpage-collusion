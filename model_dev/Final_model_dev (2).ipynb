{
  "nbformat": 4,
  "nbformat_minor": 0,
  "metadata": {
    "colab": {
      "provenance": [],
      "gpuType": "T4"
    },
    "kernelspec": {
      "name": "python3",
      "display_name": "Python 3"
    },
    "language_info": {
      "name": "python"
    },
    "accelerator": "GPU"
  },
  "cells": [
    {
      "cell_type": "code",
      "source": [
        "from google.colab import files\n",
        "\n",
        "uploaded = files.upload()"
      ],
      "metadata": {
        "colab": {
          "base_uri": "https://localhost:8080/",
          "height": 72
        },
        "id": "YBRyCmzBLwrQ",
        "outputId": "a0e6a270-a9ff-451f-a0bf-d75b5c0a37f8"
      },
      "execution_count": 3,
      "outputs": [
        {
          "output_type": "display_data",
          "data": {
            "text/plain": [
              "<IPython.core.display.HTML object>"
            ],
            "text/html": [
              "\n",
              "     <input type=\"file\" id=\"files-b3f8b96d-0a18-47d2-b157-85175156ce08\" name=\"files[]\" multiple disabled\n",
              "        style=\"border:none\" />\n",
              "     <output id=\"result-b3f8b96d-0a18-47d2-b157-85175156ce08\">\n",
              "      Upload widget is only available when the cell has been executed in the\n",
              "      current browser session. Please rerun this cell to enable.\n",
              "      </output>\n",
              "      <script>// Copyright 2017 Google LLC\n",
              "//\n",
              "// Licensed under the Apache License, Version 2.0 (the \"License\");\n",
              "// you may not use this file except in compliance with the License.\n",
              "// You may obtain a copy of the License at\n",
              "//\n",
              "//      http://www.apache.org/licenses/LICENSE-2.0\n",
              "//\n",
              "// Unless required by applicable law or agreed to in writing, software\n",
              "// distributed under the License is distributed on an \"AS IS\" BASIS,\n",
              "// WITHOUT WARRANTIES OR CONDITIONS OF ANY KIND, either express or implied.\n",
              "// See the License for the specific language governing permissions and\n",
              "// limitations under the License.\n",
              "\n",
              "/**\n",
              " * @fileoverview Helpers for google.colab Python module.\n",
              " */\n",
              "(function(scope) {\n",
              "function span(text, styleAttributes = {}) {\n",
              "  const element = document.createElement('span');\n",
              "  element.textContent = text;\n",
              "  for (const key of Object.keys(styleAttributes)) {\n",
              "    element.style[key] = styleAttributes[key];\n",
              "  }\n",
              "  return element;\n",
              "}\n",
              "\n",
              "// Max number of bytes which will be uploaded at a time.\n",
              "const MAX_PAYLOAD_SIZE = 100 * 1024;\n",
              "\n",
              "function _uploadFiles(inputId, outputId) {\n",
              "  const steps = uploadFilesStep(inputId, outputId);\n",
              "  const outputElement = document.getElementById(outputId);\n",
              "  // Cache steps on the outputElement to make it available for the next call\n",
              "  // to uploadFilesContinue from Python.\n",
              "  outputElement.steps = steps;\n",
              "\n",
              "  return _uploadFilesContinue(outputId);\n",
              "}\n",
              "\n",
              "// This is roughly an async generator (not supported in the browser yet),\n",
              "// where there are multiple asynchronous steps and the Python side is going\n",
              "// to poll for completion of each step.\n",
              "// This uses a Promise to block the python side on completion of each step,\n",
              "// then passes the result of the previous step as the input to the next step.\n",
              "function _uploadFilesContinue(outputId) {\n",
              "  const outputElement = document.getElementById(outputId);\n",
              "  const steps = outputElement.steps;\n",
              "\n",
              "  const next = steps.next(outputElement.lastPromiseValue);\n",
              "  return Promise.resolve(next.value.promise).then((value) => {\n",
              "    // Cache the last promise value to make it available to the next\n",
              "    // step of the generator.\n",
              "    outputElement.lastPromiseValue = value;\n",
              "    return next.value.response;\n",
              "  });\n",
              "}\n",
              "\n",
              "/**\n",
              " * Generator function which is called between each async step of the upload\n",
              " * process.\n",
              " * @param {string} inputId Element ID of the input file picker element.\n",
              " * @param {string} outputId Element ID of the output display.\n",
              " * @return {!Iterable<!Object>} Iterable of next steps.\n",
              " */\n",
              "function* uploadFilesStep(inputId, outputId) {\n",
              "  const inputElement = document.getElementById(inputId);\n",
              "  inputElement.disabled = false;\n",
              "\n",
              "  const outputElement = document.getElementById(outputId);\n",
              "  outputElement.innerHTML = '';\n",
              "\n",
              "  const pickedPromise = new Promise((resolve) => {\n",
              "    inputElement.addEventListener('change', (e) => {\n",
              "      resolve(e.target.files);\n",
              "    });\n",
              "  });\n",
              "\n",
              "  const cancel = document.createElement('button');\n",
              "  inputElement.parentElement.appendChild(cancel);\n",
              "  cancel.textContent = 'Cancel upload';\n",
              "  const cancelPromise = new Promise((resolve) => {\n",
              "    cancel.onclick = () => {\n",
              "      resolve(null);\n",
              "    };\n",
              "  });\n",
              "\n",
              "  // Wait for the user to pick the files.\n",
              "  const files = yield {\n",
              "    promise: Promise.race([pickedPromise, cancelPromise]),\n",
              "    response: {\n",
              "      action: 'starting',\n",
              "    }\n",
              "  };\n",
              "\n",
              "  cancel.remove();\n",
              "\n",
              "  // Disable the input element since further picks are not allowed.\n",
              "  inputElement.disabled = true;\n",
              "\n",
              "  if (!files) {\n",
              "    return {\n",
              "      response: {\n",
              "        action: 'complete',\n",
              "      }\n",
              "    };\n",
              "  }\n",
              "\n",
              "  for (const file of files) {\n",
              "    const li = document.createElement('li');\n",
              "    li.append(span(file.name, {fontWeight: 'bold'}));\n",
              "    li.append(span(\n",
              "        `(${file.type || 'n/a'}) - ${file.size} bytes, ` +\n",
              "        `last modified: ${\n",
              "            file.lastModifiedDate ? file.lastModifiedDate.toLocaleDateString() :\n",
              "                                    'n/a'} - `));\n",
              "    const percent = span('0% done');\n",
              "    li.appendChild(percent);\n",
              "\n",
              "    outputElement.appendChild(li);\n",
              "\n",
              "    const fileDataPromise = new Promise((resolve) => {\n",
              "      const reader = new FileReader();\n",
              "      reader.onload = (e) => {\n",
              "        resolve(e.target.result);\n",
              "      };\n",
              "      reader.readAsArrayBuffer(file);\n",
              "    });\n",
              "    // Wait for the data to be ready.\n",
              "    let fileData = yield {\n",
              "      promise: fileDataPromise,\n",
              "      response: {\n",
              "        action: 'continue',\n",
              "      }\n",
              "    };\n",
              "\n",
              "    // Use a chunked sending to avoid message size limits. See b/62115660.\n",
              "    let position = 0;\n",
              "    do {\n",
              "      const length = Math.min(fileData.byteLength - position, MAX_PAYLOAD_SIZE);\n",
              "      const chunk = new Uint8Array(fileData, position, length);\n",
              "      position += length;\n",
              "\n",
              "      const base64 = btoa(String.fromCharCode.apply(null, chunk));\n",
              "      yield {\n",
              "        response: {\n",
              "          action: 'append',\n",
              "          file: file.name,\n",
              "          data: base64,\n",
              "        },\n",
              "      };\n",
              "\n",
              "      let percentDone = fileData.byteLength === 0 ?\n",
              "          100 :\n",
              "          Math.round((position / fileData.byteLength) * 100);\n",
              "      percent.textContent = `${percentDone}% done`;\n",
              "\n",
              "    } while (position < fileData.byteLength);\n",
              "  }\n",
              "\n",
              "  // All done.\n",
              "  yield {\n",
              "    response: {\n",
              "      action: 'complete',\n",
              "    }\n",
              "  };\n",
              "}\n",
              "\n",
              "scope.google = scope.google || {};\n",
              "scope.google.colab = scope.google.colab || {};\n",
              "scope.google.colab._files = {\n",
              "  _uploadFiles,\n",
              "  _uploadFilesContinue,\n",
              "};\n",
              "})(self);\n",
              "</script> "
            ]
          },
          "metadata": {}
        },
        {
          "output_type": "stream",
          "name": "stdout",
          "text": [
            "Saving cbsa_data_realpageflag.csv to cbsa_data_realpageflag.csv\n"
          ]
        }
      ]
    },
    {
      "cell_type": "markdown",
      "source": [
        "# INITIAL FEATURE SELECTION AND CLEANING"
      ],
      "metadata": {
        "id": "-2r6hzVKhCnG"
      }
    },
    {
      "cell_type": "code",
      "source": [
        "#import libraries\n",
        "import pandas as pd\n",
        "import numpy as np\n",
        "import matplotlib.pyplot as plt\n",
        "import seaborn as sns\n",
        "from sklearn.model_selection import train_test_split\n",
        "from sklearn.ensemble import RandomForestClassifier\n",
        "from sklearn.metrics import classification_report, confusion_matrix\n",
        "from sklearn.linear_model import LogisticRegression\n",
        "import statsmodels.api as sm\n",
        "from sklearn.model_selection import train_test_split"
      ],
      "metadata": {
        "id": "8h0BaquTexXV"
      },
      "execution_count": 1,
      "outputs": []
    },
    {
      "cell_type": "code",
      "source": [
        "df = pd.read_csv(\"cbsa_data_realpageflag.csv\", low_memory=False)\n",
        "\n",
        "##PETER FEEDBACK CHANGES\n",
        "# Exclude all CBSA without 1 realpage user\n",
        "cbsa_with_realpage = df[df['uses_realpage'] == 1]['cbsa_code'].unique()\n",
        "df = df[df['cbsa_code'].isin(cbsa_with_realpage)]\n",
        "\n",
        "# Exclude student housing\n",
        "df = df[~df.get('type', '').astype(str).str.contains(\"Student\", na=False)]\n",
        "\n",
        "# Convert yearBuilt to building age\n",
        "if 'yearBuilt' in df.columns:\n",
        "    df['building_age'] = 2025 - df['yearBuilt']\n",
        "    df = df.drop(columns=['yearBuilt'])  # Drop the original\n",
        "\n",
        "numeric_cols = df.select_dtypes(include=[np.number]).columns.tolist()\n",
        "df[numeric_cols] = df[numeric_cols].apply(pd.to_numeric, errors='coerce')\n",
        "\n",
        "# high missing values\n",
        "missing_threshold = 0.5 * len(df)\n",
        "high_missing_cols = df.columns[df.isnull().sum() > missing_threshold].tolist()\n",
        "\n",
        "# Identify low-variance features\n",
        "low_variance_cols = df[numeric_cols].var()[df[numeric_cols].var() < 0.01].index.tolist()\n",
        "\n",
        "# highly correlated features\n",
        "correlation_matrix = df[numeric_cols].corr()\n",
        "high_corr_pairs = correlation_matrix.abs().unstack().sort_values(ascending=False)\n",
        "high_corr_pairs = high_corr_pairs[high_corr_pairs < 1].reset_index()\n",
        "high_corr_pairs.columns = [\"Feature_1\", \"Feature_2\", \"Correlation\"]\n",
        "high_corr_features = set(high_corr_pairs[high_corr_pairs[\"Correlation\"] > 0.9][\"Feature_1\"])\n",
        "\n",
        "# Don't remove MPF features yet\n",
        "mpf_columns = [col for col in df.columns if \"MPF\" in col]\n",
        "\n",
        "# Remove only non-MPF columns\n",
        "columns_to_remove = list(set(high_missing_cols + low_variance_cols + list(high_corr_features)))\n",
        "columns_to_remove = [col for col in columns_to_remove if col not in mpf_columns]\n",
        "\n",
        "# Create cleaned dataset\n",
        "df_cleaned = df.drop(columns=columns_to_remove, errors='ignore')\n",
        "\n",
        "# Save\n",
        "df_cleaned.to_csv(\"cbsa_data_final_cleaned.csv\", index=False)\n",
        "\n",
        "# Display removed columns summary\n",
        "removed_cols_info = {\n",
        "    \"High Missing Values\": high_missing_cols,\n",
        "    \"Low Variance\": low_variance_cols,\n",
        "    \"Highly Correlated Features\": list(high_corr_features)\n",
        "}\n",
        "removed_cols_df = pd.DataFrame(dict([(k, pd.Series(v)) for k, v in removed_cols_info.items()]))\n",
        "\n",
        "# Show the removed columns\n",
        "print(\"Removed Columns Summary:\")\n",
        "print(removed_cols_df)\n"
      ],
      "metadata": {
        "colab": {
          "base_uri": "https://localhost:8080/"
        },
        "id": "jfYiptWLT5RV",
        "outputId": "32121ff5-799d-4bb8-b5a0-854245f277f4"
      },
      "execution_count": 4,
      "outputs": [
        {
          "output_type": "stream",
          "name": "stdout",
          "text": [
            "Removed Columns Summary:\n",
            "       High Missing Values         Low Variance Highly Correlated Features\n",
            "0      MPF-HIST-CONC-RATIO     MPF-ANN-RENT-CHG                   MPF-RPSF\n",
            "1      SH-HIST-ASK-RENT-PB  MPF-HIST-CONC-RATIO                   MPF-RENT\n",
            "2          SH-HIST-RENT-PB                  NaN          MPF-HIST-ASK-RENT\n",
            "3    SH-HIST-CONC-RATIO-PB                  NaN      MPF-HIST-AVG-ASK-RPSF\n",
            "4        SH-HIST-OCCUPANCY                  NaN                        NaN\n",
            "5          SH-HIST-RPSF-PB                  NaN                        NaN\n",
            "6  SH-HIST-AVG-ASK-RPSF-PB                  NaN                        NaN\n",
            "7  SH-HIST-ANN-RENT-PB-CHG                  NaN                        NaN\n"
          ]
        }
      ]
    },
    {
      "cell_type": "code",
      "source": [
        "df_cleaned.head()"
      ],
      "metadata": {
        "colab": {
          "base_uri": "https://localhost:8080/",
          "height": 446
        },
        "id": "W_KXy-W-VbxG",
        "outputId": "46494d7c-ce6d-4527-972a-9172eeadb92e"
      },
      "execution_count": 5,
      "outputs": [
        {
          "output_type": "execute_result",
          "data": {
            "text/plain": [
              "   propertyId    propertyName zipCode            address     city state  \\\n",
              "0        7915         Warwick   79606  2400 Arrowhead Dr  Abilene    TX   \n",
              "1        9952      Mill Creek   79605        5249 US-277  Abilene    TX   \n",
              "2       10561     The Landing   79605     5450 Texas Ave  Abilene    TX   \n",
              "3       10762  Curry Junction   79606      3549 Curry Ln  Abilene    TX   \n",
              "4       11055      Indian Run   79606  3549 Cedar Run Rd  Abilene    TX   \n",
              "\n",
              "   averageSquareFootage  stories  stable class  ...  MPF-HIST-AVG-ASK-RPSF  \\\n",
              "0                   956        2  stable     B  ...                  0.982   \n",
              "1                   953        2  stable     B  ...                  1.082   \n",
              "2                   609        2  stable     B  ...                  1.466   \n",
              "3                   819        2  stable     B  ...                  1.245   \n",
              "4                   738        2  stable     B  ...                  1.235   \n",
              "\n",
              "   MPF-HIST-CONC-RATIO MPF-OCC MPF-RENT MPF-RPSF  data_index cbsa_code  \\\n",
              "0                  NaN   0.974    939.0    0.982           0     10180   \n",
              "1                  NaN   0.994   1032.0    1.082           1     10180   \n",
              "2                  NaN   0.970    893.0    1.466           2     10180   \n",
              "3                  NaN   0.972   1021.0    1.245           3     10180   \n",
              "4                  NaN   0.934    912.0    1.235           4     10180   \n",
              "\n",
              "    status  uses_realpage  building_age  \n",
              "0  success              0            44  \n",
              "1  success              0            42  \n",
              "2  success              0            42  \n",
              "3  success              0            40  \n",
              "4  success              0            42  \n",
              "\n",
              "[5 rows x 30 columns]"
            ],
            "text/html": [
              "\n",
              "  <div id=\"df-06f6db8c-15ad-4222-9d9e-acdcd592e6ee\" class=\"colab-df-container\">\n",
              "    <div>\n",
              "<style scoped>\n",
              "    .dataframe tbody tr th:only-of-type {\n",
              "        vertical-align: middle;\n",
              "    }\n",
              "\n",
              "    .dataframe tbody tr th {\n",
              "        vertical-align: top;\n",
              "    }\n",
              "\n",
              "    .dataframe thead th {\n",
              "        text-align: right;\n",
              "    }\n",
              "</style>\n",
              "<table border=\"1\" class=\"dataframe\">\n",
              "  <thead>\n",
              "    <tr style=\"text-align: right;\">\n",
              "      <th></th>\n",
              "      <th>propertyId</th>\n",
              "      <th>propertyName</th>\n",
              "      <th>zipCode</th>\n",
              "      <th>address</th>\n",
              "      <th>city</th>\n",
              "      <th>state</th>\n",
              "      <th>averageSquareFootage</th>\n",
              "      <th>stories</th>\n",
              "      <th>stable</th>\n",
              "      <th>class</th>\n",
              "      <th>...</th>\n",
              "      <th>MPF-HIST-AVG-ASK-RPSF</th>\n",
              "      <th>MPF-HIST-CONC-RATIO</th>\n",
              "      <th>MPF-OCC</th>\n",
              "      <th>MPF-RENT</th>\n",
              "      <th>MPF-RPSF</th>\n",
              "      <th>data_index</th>\n",
              "      <th>cbsa_code</th>\n",
              "      <th>status</th>\n",
              "      <th>uses_realpage</th>\n",
              "      <th>building_age</th>\n",
              "    </tr>\n",
              "  </thead>\n",
              "  <tbody>\n",
              "    <tr>\n",
              "      <th>0</th>\n",
              "      <td>7915</td>\n",
              "      <td>Warwick</td>\n",
              "      <td>79606</td>\n",
              "      <td>2400 Arrowhead Dr</td>\n",
              "      <td>Abilene</td>\n",
              "      <td>TX</td>\n",
              "      <td>956</td>\n",
              "      <td>2</td>\n",
              "      <td>stable</td>\n",
              "      <td>B</td>\n",
              "      <td>...</td>\n",
              "      <td>0.982</td>\n",
              "      <td>NaN</td>\n",
              "      <td>0.974</td>\n",
              "      <td>939.0</td>\n",
              "      <td>0.982</td>\n",
              "      <td>0</td>\n",
              "      <td>10180</td>\n",
              "      <td>success</td>\n",
              "      <td>0</td>\n",
              "      <td>44</td>\n",
              "    </tr>\n",
              "    <tr>\n",
              "      <th>1</th>\n",
              "      <td>9952</td>\n",
              "      <td>Mill Creek</td>\n",
              "      <td>79605</td>\n",
              "      <td>5249 US-277</td>\n",
              "      <td>Abilene</td>\n",
              "      <td>TX</td>\n",
              "      <td>953</td>\n",
              "      <td>2</td>\n",
              "      <td>stable</td>\n",
              "      <td>B</td>\n",
              "      <td>...</td>\n",
              "      <td>1.082</td>\n",
              "      <td>NaN</td>\n",
              "      <td>0.994</td>\n",
              "      <td>1032.0</td>\n",
              "      <td>1.082</td>\n",
              "      <td>1</td>\n",
              "      <td>10180</td>\n",
              "      <td>success</td>\n",
              "      <td>0</td>\n",
              "      <td>42</td>\n",
              "    </tr>\n",
              "    <tr>\n",
              "      <th>2</th>\n",
              "      <td>10561</td>\n",
              "      <td>The Landing</td>\n",
              "      <td>79605</td>\n",
              "      <td>5450 Texas Ave</td>\n",
              "      <td>Abilene</td>\n",
              "      <td>TX</td>\n",
              "      <td>609</td>\n",
              "      <td>2</td>\n",
              "      <td>stable</td>\n",
              "      <td>B</td>\n",
              "      <td>...</td>\n",
              "      <td>1.466</td>\n",
              "      <td>NaN</td>\n",
              "      <td>0.970</td>\n",
              "      <td>893.0</td>\n",
              "      <td>1.466</td>\n",
              "      <td>2</td>\n",
              "      <td>10180</td>\n",
              "      <td>success</td>\n",
              "      <td>0</td>\n",
              "      <td>42</td>\n",
              "    </tr>\n",
              "    <tr>\n",
              "      <th>3</th>\n",
              "      <td>10762</td>\n",
              "      <td>Curry Junction</td>\n",
              "      <td>79606</td>\n",
              "      <td>3549 Curry Ln</td>\n",
              "      <td>Abilene</td>\n",
              "      <td>TX</td>\n",
              "      <td>819</td>\n",
              "      <td>2</td>\n",
              "      <td>stable</td>\n",
              "      <td>B</td>\n",
              "      <td>...</td>\n",
              "      <td>1.245</td>\n",
              "      <td>NaN</td>\n",
              "      <td>0.972</td>\n",
              "      <td>1021.0</td>\n",
              "      <td>1.245</td>\n",
              "      <td>3</td>\n",
              "      <td>10180</td>\n",
              "      <td>success</td>\n",
              "      <td>0</td>\n",
              "      <td>40</td>\n",
              "    </tr>\n",
              "    <tr>\n",
              "      <th>4</th>\n",
              "      <td>11055</td>\n",
              "      <td>Indian Run</td>\n",
              "      <td>79606</td>\n",
              "      <td>3549 Cedar Run Rd</td>\n",
              "      <td>Abilene</td>\n",
              "      <td>TX</td>\n",
              "      <td>738</td>\n",
              "      <td>2</td>\n",
              "      <td>stable</td>\n",
              "      <td>B</td>\n",
              "      <td>...</td>\n",
              "      <td>1.235</td>\n",
              "      <td>NaN</td>\n",
              "      <td>0.934</td>\n",
              "      <td>912.0</td>\n",
              "      <td>1.235</td>\n",
              "      <td>4</td>\n",
              "      <td>10180</td>\n",
              "      <td>success</td>\n",
              "      <td>0</td>\n",
              "      <td>42</td>\n",
              "    </tr>\n",
              "  </tbody>\n",
              "</table>\n",
              "<p>5 rows × 30 columns</p>\n",
              "</div>\n",
              "    <div class=\"colab-df-buttons\">\n",
              "\n",
              "  <div class=\"colab-df-container\">\n",
              "    <button class=\"colab-df-convert\" onclick=\"convertToInteractive('df-06f6db8c-15ad-4222-9d9e-acdcd592e6ee')\"\n",
              "            title=\"Convert this dataframe to an interactive table.\"\n",
              "            style=\"display:none;\">\n",
              "\n",
              "  <svg xmlns=\"http://www.w3.org/2000/svg\" height=\"24px\" viewBox=\"0 -960 960 960\">\n",
              "    <path d=\"M120-120v-720h720v720H120Zm60-500h600v-160H180v160Zm220 220h160v-160H400v160Zm0 220h160v-160H400v160ZM180-400h160v-160H180v160Zm440 0h160v-160H620v160ZM180-180h160v-160H180v160Zm440 0h160v-160H620v160Z\"/>\n",
              "  </svg>\n",
              "    </button>\n",
              "\n",
              "  <style>\n",
              "    .colab-df-container {\n",
              "      display:flex;\n",
              "      gap: 12px;\n",
              "    }\n",
              "\n",
              "    .colab-df-convert {\n",
              "      background-color: #E8F0FE;\n",
              "      border: none;\n",
              "      border-radius: 50%;\n",
              "      cursor: pointer;\n",
              "      display: none;\n",
              "      fill: #1967D2;\n",
              "      height: 32px;\n",
              "      padding: 0 0 0 0;\n",
              "      width: 32px;\n",
              "    }\n",
              "\n",
              "    .colab-df-convert:hover {\n",
              "      background-color: #E2EBFA;\n",
              "      box-shadow: 0px 1px 2px rgba(60, 64, 67, 0.3), 0px 1px 3px 1px rgba(60, 64, 67, 0.15);\n",
              "      fill: #174EA6;\n",
              "    }\n",
              "\n",
              "    .colab-df-buttons div {\n",
              "      margin-bottom: 4px;\n",
              "    }\n",
              "\n",
              "    [theme=dark] .colab-df-convert {\n",
              "      background-color: #3B4455;\n",
              "      fill: #D2E3FC;\n",
              "    }\n",
              "\n",
              "    [theme=dark] .colab-df-convert:hover {\n",
              "      background-color: #434B5C;\n",
              "      box-shadow: 0px 1px 3px 1px rgba(0, 0, 0, 0.15);\n",
              "      filter: drop-shadow(0px 1px 2px rgba(0, 0, 0, 0.3));\n",
              "      fill: #FFFFFF;\n",
              "    }\n",
              "  </style>\n",
              "\n",
              "    <script>\n",
              "      const buttonEl =\n",
              "        document.querySelector('#df-06f6db8c-15ad-4222-9d9e-acdcd592e6ee button.colab-df-convert');\n",
              "      buttonEl.style.display =\n",
              "        google.colab.kernel.accessAllowed ? 'block' : 'none';\n",
              "\n",
              "      async function convertToInteractive(key) {\n",
              "        const element = document.querySelector('#df-06f6db8c-15ad-4222-9d9e-acdcd592e6ee');\n",
              "        const dataTable =\n",
              "          await google.colab.kernel.invokeFunction('convertToInteractive',\n",
              "                                                    [key], {});\n",
              "        if (!dataTable) return;\n",
              "\n",
              "        const docLinkHtml = 'Like what you see? Visit the ' +\n",
              "          '<a target=\"_blank\" href=https://colab.research.google.com/notebooks/data_table.ipynb>data table notebook</a>'\n",
              "          + ' to learn more about interactive tables.';\n",
              "        element.innerHTML = '';\n",
              "        dataTable['output_type'] = 'display_data';\n",
              "        await google.colab.output.renderOutput(dataTable, element);\n",
              "        const docLink = document.createElement('div');\n",
              "        docLink.innerHTML = docLinkHtml;\n",
              "        element.appendChild(docLink);\n",
              "      }\n",
              "    </script>\n",
              "  </div>\n",
              "\n",
              "\n",
              "<div id=\"df-c1c608df-c499-4478-aae2-012d4e0a2001\">\n",
              "  <button class=\"colab-df-quickchart\" onclick=\"quickchart('df-c1c608df-c499-4478-aae2-012d4e0a2001')\"\n",
              "            title=\"Suggest charts\"\n",
              "            style=\"display:none;\">\n",
              "\n",
              "<svg xmlns=\"http://www.w3.org/2000/svg\" height=\"24px\"viewBox=\"0 0 24 24\"\n",
              "     width=\"24px\">\n",
              "    <g>\n",
              "        <path d=\"M19 3H5c-1.1 0-2 .9-2 2v14c0 1.1.9 2 2 2h14c1.1 0 2-.9 2-2V5c0-1.1-.9-2-2-2zM9 17H7v-7h2v7zm4 0h-2V7h2v10zm4 0h-2v-4h2v4z\"/>\n",
              "    </g>\n",
              "</svg>\n",
              "  </button>\n",
              "\n",
              "<style>\n",
              "  .colab-df-quickchart {\n",
              "      --bg-color: #E8F0FE;\n",
              "      --fill-color: #1967D2;\n",
              "      --hover-bg-color: #E2EBFA;\n",
              "      --hover-fill-color: #174EA6;\n",
              "      --disabled-fill-color: #AAA;\n",
              "      --disabled-bg-color: #DDD;\n",
              "  }\n",
              "\n",
              "  [theme=dark] .colab-df-quickchart {\n",
              "      --bg-color: #3B4455;\n",
              "      --fill-color: #D2E3FC;\n",
              "      --hover-bg-color: #434B5C;\n",
              "      --hover-fill-color: #FFFFFF;\n",
              "      --disabled-bg-color: #3B4455;\n",
              "      --disabled-fill-color: #666;\n",
              "  }\n",
              "\n",
              "  .colab-df-quickchart {\n",
              "    background-color: var(--bg-color);\n",
              "    border: none;\n",
              "    border-radius: 50%;\n",
              "    cursor: pointer;\n",
              "    display: none;\n",
              "    fill: var(--fill-color);\n",
              "    height: 32px;\n",
              "    padding: 0;\n",
              "    width: 32px;\n",
              "  }\n",
              "\n",
              "  .colab-df-quickchart:hover {\n",
              "    background-color: var(--hover-bg-color);\n",
              "    box-shadow: 0 1px 2px rgba(60, 64, 67, 0.3), 0 1px 3px 1px rgba(60, 64, 67, 0.15);\n",
              "    fill: var(--button-hover-fill-color);\n",
              "  }\n",
              "\n",
              "  .colab-df-quickchart-complete:disabled,\n",
              "  .colab-df-quickchart-complete:disabled:hover {\n",
              "    background-color: var(--disabled-bg-color);\n",
              "    fill: var(--disabled-fill-color);\n",
              "    box-shadow: none;\n",
              "  }\n",
              "\n",
              "  .colab-df-spinner {\n",
              "    border: 2px solid var(--fill-color);\n",
              "    border-color: transparent;\n",
              "    border-bottom-color: var(--fill-color);\n",
              "    animation:\n",
              "      spin 1s steps(1) infinite;\n",
              "  }\n",
              "\n",
              "  @keyframes spin {\n",
              "    0% {\n",
              "      border-color: transparent;\n",
              "      border-bottom-color: var(--fill-color);\n",
              "      border-left-color: var(--fill-color);\n",
              "    }\n",
              "    20% {\n",
              "      border-color: transparent;\n",
              "      border-left-color: var(--fill-color);\n",
              "      border-top-color: var(--fill-color);\n",
              "    }\n",
              "    30% {\n",
              "      border-color: transparent;\n",
              "      border-left-color: var(--fill-color);\n",
              "      border-top-color: var(--fill-color);\n",
              "      border-right-color: var(--fill-color);\n",
              "    }\n",
              "    40% {\n",
              "      border-color: transparent;\n",
              "      border-right-color: var(--fill-color);\n",
              "      border-top-color: var(--fill-color);\n",
              "    }\n",
              "    60% {\n",
              "      border-color: transparent;\n",
              "      border-right-color: var(--fill-color);\n",
              "    }\n",
              "    80% {\n",
              "      border-color: transparent;\n",
              "      border-right-color: var(--fill-color);\n",
              "      border-bottom-color: var(--fill-color);\n",
              "    }\n",
              "    90% {\n",
              "      border-color: transparent;\n",
              "      border-bottom-color: var(--fill-color);\n",
              "    }\n",
              "  }\n",
              "</style>\n",
              "\n",
              "  <script>\n",
              "    async function quickchart(key) {\n",
              "      const quickchartButtonEl =\n",
              "        document.querySelector('#' + key + ' button');\n",
              "      quickchartButtonEl.disabled = true;  // To prevent multiple clicks.\n",
              "      quickchartButtonEl.classList.add('colab-df-spinner');\n",
              "      try {\n",
              "        const charts = await google.colab.kernel.invokeFunction(\n",
              "            'suggestCharts', [key], {});\n",
              "      } catch (error) {\n",
              "        console.error('Error during call to suggestCharts:', error);\n",
              "      }\n",
              "      quickchartButtonEl.classList.remove('colab-df-spinner');\n",
              "      quickchartButtonEl.classList.add('colab-df-quickchart-complete');\n",
              "    }\n",
              "    (() => {\n",
              "      let quickchartButtonEl =\n",
              "        document.querySelector('#df-c1c608df-c499-4478-aae2-012d4e0a2001 button');\n",
              "      quickchartButtonEl.style.display =\n",
              "        google.colab.kernel.accessAllowed ? 'block' : 'none';\n",
              "    })();\n",
              "  </script>\n",
              "</div>\n",
              "\n",
              "    </div>\n",
              "  </div>\n"
            ],
            "application/vnd.google.colaboratory.intrinsic+json": {
              "type": "dataframe",
              "variable_name": "df_cleaned"
            }
          },
          "metadata": {},
          "execution_count": 5
        }
      ]
    },
    {
      "cell_type": "code",
      "source": [
        "# Load dataset\n",
        "df = pd.read_csv(\"cbsa_data_final_cleaned.csv\", low_memory=False)\n",
        "numeric_cols = df.select_dtypes(include=[np.number]).columns.tolist()\n",
        "df_numeric = df[numeric_cols].copy()\n",
        "if \"MPF-RPSF\" not in df_numeric.columns:\n",
        "    raise ValueError(\"MPF-RPSF column is missing\")\n",
        "\n",
        "# Fill missing numeric values with medians\n",
        "df_numeric.fillna(df_numeric.median(), inplace=True)\n",
        "\n",
        "# Set X and y\n",
        "X = df_numeric.drop(columns=[\"MPF-RPSF\"], errors=\"ignore\")\n",
        "y = df_numeric[\"MPF-RPSF\"]\n",
        "\n",
        "# Final check\n",
        "if X.empty or y.empty:\n",
        "    raise ValueError(\"X or y is empty after preprocessing\")\n",
        "\n",
        "# Split data\n",
        "X_train, X_test, y_train, y_test = train_test_split(X, y, test_size=0.2, random_state=42)\n",
        "\n",
        "# Regression Model\n",
        "X_train_const = sm.add_constant(X_train)\n",
        "model = sm.OLS(y_train, X_train_const).fit()\n",
        "\n",
        "# Output summary\n",
        "print(model.summary())\n"
      ],
      "metadata": {
        "colab": {
          "base_uri": "https://localhost:8080/"
        },
        "id": "osoKRWh1c2n4",
        "outputId": "37208634-6194-4293-e0da-77cfc03c6596"
      },
      "execution_count": 6,
      "outputs": [
        {
          "output_type": "stream",
          "name": "stdout",
          "text": [
            "                            OLS Regression Results                            \n",
            "==============================================================================\n",
            "Dep. Variable:               MPF-RPSF   R-squared:                       0.999\n",
            "Model:                            OLS   Adj. R-squared:                  0.999\n",
            "Method:                 Least Squares   F-statistic:                 2.442e+06\n",
            "Date:                Sun, 13 Apr 2025   Prob (F-statistic):               0.00\n",
            "Time:                        00:08:09   Log-Likelihood:                 74668.\n",
            "No. Observations:               29835   AIC:                        -1.493e+05\n",
            "Df Residuals:                   29818   BIC:                        -1.492e+05\n",
            "Df Model:                          16                                         \n",
            "Covariance Type:            nonrobust                                         \n",
            "=========================================================================================\n",
            "                            coef    std err          t      P>|t|      [0.025      0.975]\n",
            "-----------------------------------------------------------------------------------------\n",
            "const                     0.0051      0.002      2.780      0.005       0.001       0.009\n",
            "propertyId              1.22e-08   1.48e-09      8.268      0.000     9.3e-09    1.51e-08\n",
            "averageSquareFootage   4.881e-06   1.15e-06      4.254      0.000    2.63e-06    7.13e-06\n",
            "stories                  -0.0002   3.32e-05     -4.980      0.000      -0.000      -0.000\n",
            "latitude                 -0.0002   2.54e-05     -7.941      0.000      -0.000      -0.000\n",
            "longitude             -2.809e-05   8.16e-06     -3.442      0.001   -4.41e-05   -1.21e-05\n",
            "unitcount              -1.86e-06   8.56e-07     -2.173      0.030   -3.54e-06   -1.82e-07\n",
            "MPF-ANN-RENT-CHG          0.0116      0.002      7.078      0.000       0.008       0.015\n",
            "MPF-HIST-ASK-RENT        -0.0010   2.22e-06   -464.528      0.000      -0.001      -0.001\n",
            "MPF-HIST-AVG-ASK-RPSF     0.9810      0.001   1839.746      0.000       0.980       0.982\n",
            "MPF-HIST-CONC-RATIO      -0.0757      0.006    -12.764      0.000      -0.087      -0.064\n",
            "MPF-OCC                  -0.0027      0.001     -3.748      0.000      -0.004      -0.001\n",
            "MPF-RENT                  0.0011   2.17e-06    484.662      0.000       0.001       0.001\n",
            "data_index             2.356e-07   3.14e-07      0.750      0.453    -3.8e-07    8.51e-07\n",
            "cbsa_code             -1.709e-08   1.03e-08     -1.666      0.096   -3.72e-08    3.02e-09\n",
            "uses_realpage            -0.0004      0.000     -1.108      0.268      -0.001       0.000\n",
            "building_age              0.0001   6.61e-06     17.303      0.000       0.000       0.000\n",
            "==============================================================================\n",
            "Omnibus:                    26983.394   Durbin-Watson:                   2.006\n",
            "Prob(Omnibus):                  0.000   Jarque-Bera (JB):         25380141.627\n",
            "Skew:                          -3.260   Prob(JB):                         0.00\n",
            "Kurtosis:                     145.737   Cond. No.                     9.03e+06\n",
            "==============================================================================\n",
            "\n",
            "Notes:\n",
            "[1] Standard Errors assume that the covariance matrix of the errors is correctly specified.\n",
            "[2] The condition number is large, 9.03e+06. This might indicate that there are\n",
            "strong multicollinearity or other numerical problems.\n"
          ]
        }
      ]
    },
    {
      "cell_type": "code",
      "source": [
        "from statsmodels.stats.outliers_influence import variance_inflation_factor\n",
        "\n",
        "# Compute VIF\n",
        "X_vif = sm.add_constant(X_train)\n",
        "vif_data = pd.DataFrame()\n",
        "vif_data[\"Feature\"] = X_vif.columns\n",
        "vif_data[\"VIF\"] = [variance_inflation_factor(X_vif.values, i) for i in range(X_vif.shape[1])]\n",
        "\n",
        "# Display VIF values\n",
        "print(vif_data.sort_values(by=\"VIF\", ascending=False))\n"
      ],
      "metadata": {
        "colab": {
          "base_uri": "https://localhost:8080/"
        },
        "id": "quAm13oEfpVQ",
        "outputId": "17544970-e118-4239-b392-76228827e829"
      },
      "execution_count": 7,
      "outputs": [
        {
          "output_type": "stream",
          "name": "stdout",
          "text": [
            "                  Feature         VIF\n",
            "0                   const  253.135194\n",
            "8       MPF-HIST-ASK-RENT  152.738350\n",
            "12               MPF-RENT  138.789319\n",
            "9   MPF-HIST-AVG-ASK-RPSF   11.627183\n",
            "2    averageSquareFootage    4.670734\n",
            "1              propertyId    1.859771\n",
            "16           building_age    1.619949\n",
            "10    MPF-HIST-CONC-RATIO    1.599573\n",
            "11                MPF-OCC    1.549605\n",
            "13             data_index    1.348215\n",
            "3                 stories    1.330761\n",
            "4                latitude    1.229321\n",
            "6               unitcount    1.154975\n",
            "5               longitude    1.142442\n",
            "7        MPF-ANN-RENT-CHG    1.104324\n",
            "14              cbsa_code    1.101532\n",
            "15          uses_realpage    1.090347\n"
          ]
        }
      ]
    },
    {
      "cell_type": "code",
      "source": [
        "# Drop the highly collinear feature\n",
        "X_train = X_train.drop(columns=[\"MPF-HIST-AVG-ASK-RPSF\"], errors=\"ignore\")\n",
        "X_test = X_test.drop(columns=[\"MPF-HIST-AVG-ASK-RPSF\"], errors=\"ignore\")\n",
        "\n",
        "# Re-run regression\n",
        "model_v2 = sm.OLS(y_train, sm.add_constant(X_train)).fit()\n",
        "\n",
        "# Print updated regression summary\n",
        "print(model_v2.summary())\n"
      ],
      "metadata": {
        "colab": {
          "base_uri": "https://localhost:8080/"
        },
        "id": "-OcwZzpYgUg_",
        "outputId": "bf55a17c-6854-4a0a-e613-8ead8eac4f70"
      },
      "execution_count": 8,
      "outputs": [
        {
          "output_type": "stream",
          "name": "stdout",
          "text": [
            "                            OLS Regression Results                            \n",
            "==============================================================================\n",
            "Dep. Variable:               MPF-RPSF   R-squared:                       0.913\n",
            "Model:                            OLS   Adj. R-squared:                  0.913\n",
            "Method:                 Least Squares   F-statistic:                 2.077e+04\n",
            "Date:                Sun, 13 Apr 2025   Prob (F-statistic):               0.00\n",
            "Time:                        00:08:12   Log-Likelihood:                 3948.9\n",
            "No. Observations:               29835   AIC:                            -7866.\n",
            "Df Residuals:                   29819   BIC:                            -7733.\n",
            "Df Model:                          15                                         \n",
            "Covariance Type:            nonrobust                                         \n",
            "========================================================================================\n",
            "                           coef    std err          t      P>|t|      [0.025      0.975]\n",
            "----------------------------------------------------------------------------------------\n",
            "const                    1.5348      0.017     88.277      0.000       1.501       1.569\n",
            "propertyId            1.415e-07   1.58e-08      8.972      0.000    1.11e-07    1.72e-07\n",
            "averageSquareFootage    -0.0018   6.41e-06   -279.885      0.000      -0.002      -0.002\n",
            "stories                  0.0050      0.000     14.240      0.000       0.004       0.006\n",
            "latitude                 0.0013      0.000      4.675      0.000       0.001       0.002\n",
            "longitude               -0.0006   8.73e-05     -6.345      0.000      -0.001      -0.000\n",
            "unitcount               -0.0001   9.13e-06    -13.488      0.000      -0.000      -0.000\n",
            "MPF-ANN-RENT-CHG         0.0064      0.018      0.363      0.717      -0.028       0.041\n",
            "MPF-HIST-ASK-RENT     3.157e-05   2.29e-05      1.379      0.168   -1.33e-05    7.64e-05\n",
            "MPF-HIST-CONC-RATIO      0.1664      0.063      2.622      0.009       0.042       0.291\n",
            "MPF-OCC                 -0.0049      0.008     -0.642      0.521      -0.020       0.010\n",
            "MPF-RENT                 0.0011   2.32e-05     45.462      0.000       0.001       0.001\n",
            "data_index            8.793e-06   3.36e-06      2.616      0.009     2.2e-06    1.54e-05\n",
            "cbsa_code             5.935e-07    1.1e-07      5.408      0.000    3.78e-07    8.09e-07\n",
            "uses_realpage            0.0006      0.004      0.157      0.875      -0.007       0.008\n",
            "building_age             0.0008   7.06e-05     11.675      0.000       0.001       0.001\n",
            "==============================================================================\n",
            "Omnibus:                    53128.547   Durbin-Watson:                   2.004\n",
            "Prob(Omnibus):                  0.000   Jarque-Bera (JB):        567374141.464\n",
            "Skew:                          11.956   Prob(JB):                         0.00\n",
            "Kurtosis:                     678.158   Cond. No.                     9.03e+06\n",
            "==============================================================================\n",
            "\n",
            "Notes:\n",
            "[1] Standard Errors assume that the covariance matrix of the errors is correctly specified.\n",
            "[2] The condition number is large, 9.03e+06. This might indicate that there are\n",
            "strong multicollinearity or other numerical problems.\n"
          ]
        }
      ]
    },
    {
      "cell_type": "markdown",
      "source": [
        "Drop columns"
      ],
      "metadata": {
        "id": "sSRxX__cELO2"
      }
    },
    {
      "cell_type": "code",
      "source": [
        "cols_to_drop = [\n",
        "    \"propertyId\", \"data_index\"  # ID fields\n",
        "    \"MPF-HIST-AVG-ASK-RPSF\"  # collinear\n",
        "]\n",
        "\n",
        "X_train = X_train.drop(columns=[col for col in cols_to_drop if col in X_train.columns], errors=\"ignore\")\n",
        "X_test = X_test.drop(columns=[col for col in cols_to_drop if col in X_test.columns], errors=\"ignore\")\n"
      ],
      "metadata": {
        "id": "Q0x6TnQYEKPe"
      },
      "execution_count": 9,
      "outputs": []
    },
    {
      "cell_type": "code",
      "source": [
        "model_v3 = sm.OLS(y_train, sm.add_constant(X_train)).fit()\n",
        "print(model_v3.summary())"
      ],
      "metadata": {
        "colab": {
          "base_uri": "https://localhost:8080/"
        },
        "id": "f5SqsQugEVsn",
        "outputId": "8b0daefe-454c-43eb-ebb8-62de030b8ba0"
      },
      "execution_count": 10,
      "outputs": [
        {
          "output_type": "stream",
          "name": "stdout",
          "text": [
            "                            OLS Regression Results                            \n",
            "==============================================================================\n",
            "Dep. Variable:               MPF-RPSF   R-squared:                       0.912\n",
            "Model:                            OLS   Adj. R-squared:                  0.912\n",
            "Method:                 Least Squares   F-statistic:                 2.219e+04\n",
            "Date:                Sun, 13 Apr 2025   Prob (F-statistic):               0.00\n",
            "Time:                        00:08:14   Log-Likelihood:                 3908.7\n",
            "No. Observations:               29835   AIC:                            -7787.\n",
            "Df Residuals:                   29820   BIC:                            -7663.\n",
            "Df Model:                          14                                         \n",
            "Covariance Type:            nonrobust                                         \n",
            "========================================================================================\n",
            "                           coef    std err          t      P>|t|      [0.025      0.975]\n",
            "----------------------------------------------------------------------------------------\n",
            "const                    1.5586      0.017     90.584      0.000       1.525       1.592\n",
            "averageSquareFootage    -0.0018   6.42e-06   -279.404      0.000      -0.002      -0.002\n",
            "stories                  0.0049      0.000     13.880      0.000       0.004       0.006\n",
            "latitude                 0.0019      0.000      7.151      0.000       0.001       0.002\n",
            "longitude               -0.0005   8.71e-05     -5.656      0.000      -0.001      -0.000\n",
            "unitcount               -0.0001   8.87e-06    -16.157      0.000      -0.000      -0.000\n",
            "MPF-ANN-RENT-CHG         0.0128      0.018      0.728      0.467      -0.022       0.047\n",
            "MPF-HIST-ASK-RENT     4.212e-05   2.29e-05      1.840      0.066   -2.75e-06     8.7e-05\n",
            "MPF-HIST-CONC-RATIO      0.1899      0.064      2.990      0.003       0.065       0.314\n",
            "MPF-OCC                 -0.0226      0.007     -3.053      0.002      -0.037      -0.008\n",
            "MPF-RENT                 0.0010   2.32e-05     44.969      0.000       0.001       0.001\n",
            "data_index            1.964e-05   3.14e-06      6.253      0.000    1.35e-05    2.58e-05\n",
            "cbsa_code              6.29e-07    1.1e-07      5.728      0.000    4.14e-07    8.44e-07\n",
            "uses_realpage           -0.0013      0.004     -0.336      0.737      -0.009       0.006\n",
            "building_age             0.0006   6.58e-05      9.012      0.000       0.000       0.001\n",
            "==============================================================================\n",
            "Omnibus:                    53023.027   Durbin-Watson:                   2.003\n",
            "Prob(Omnibus):                  0.000   Jarque-Bera (JB):        556342135.505\n",
            "Skew:                          11.908   Prob(JB):                         0.00\n",
            "Kurtosis:                     671.557   Cond. No.                     1.65e+06\n",
            "==============================================================================\n",
            "\n",
            "Notes:\n",
            "[1] Standard Errors assume that the covariance matrix of the errors is correctly specified.\n",
            "[2] The condition number is large, 1.65e+06. This might indicate that there are\n",
            "strong multicollinearity or other numerical problems.\n"
          ]
        }
      ]
    },
    {
      "cell_type": "markdown",
      "source": [
        "PROPENSITY MODEL WITH UPDATES"
      ],
      "metadata": {
        "id": "M7mNNN7KqYau"
      }
    },
    {
      "cell_type": "code",
      "source": [
        "import pandas as pd\n",
        "import numpy as np\n",
        "from sklearn.linear_model import LogisticRegression\n",
        "from sklearn.neighbors import NearestNeighbors\n",
        "from sklearn.preprocessing import StandardScaler\n",
        "# Clone the cleaned dataset\n",
        "df_psm = df_cleaned.copy()\n",
        "\n",
        "# Drop rows missing CBSA or treatment indicator\n",
        "df_psm = df_psm.dropna(subset=['cbsa_code', 'uses_realpage'])\n",
        "required_cols = [\n",
        "    'averageSquareFootage', 'stories', 'unitcount', 'building_age',\n",
        "    'MPF-OCC', 'MPF-RPSF'\n",
        "]\n",
        "df_psm = df_psm.dropna(subset=required_cols)\n",
        "\n",
        "treatment = 'uses_realpage'\n",
        "covariates = required_cols[:-1]\n",
        "\n",
        "# One-hot encode\n",
        "df_psm['cbsa_code'] = df_psm['cbsa_code'].astype(str)\n",
        "df_psm = pd.get_dummies(df_psm, columns=['cbsa_code'], drop_first=True)\n",
        "\n",
        "# Prepare features for propensity model\n",
        "X_covariates = df_psm[covariates + [col for col in df_psm.columns if col.startswith('cbsa_code_')]]\n",
        "X_covariates = X_covariates.select_dtypes(include=[np.number])  # Drop any non-numeric\n",
        "\n",
        "# Standardize features\n",
        "scaler = StandardScaler()\n",
        "X_scaled = scaler.fit_transform(X_covariates)\n",
        "\n",
        "# Logistic regression\n",
        "logit = LogisticRegression(max_iter=1000)\n",
        "logit.fit(X_scaled, df_psm[treatment])\n",
        "df_psm['propensity_score'] = logit.predict_proba(X_scaled)[:, 1]\n",
        "\n",
        "# Separate treated and control groups\n",
        "treated = df_psm[df_psm[treatment] == 1]\n",
        "control = df_psm[df_psm[treatment] == 0]\n",
        "\n",
        "# NNM\n",
        "nn = NearestNeighbors(n_neighbors=1)\n",
        "nn.fit(control[['propensity_score']])\n",
        "_, indices = nn.kneighbors(treated[['propensity_score']])\n",
        "\n",
        "matched_control = control.iloc[indices.flatten()].copy()\n",
        "matched_control['match_id'] = treated.index\n",
        "treated_matched = treated.copy()\n",
        "treated_matched['match_id'] = treated.index\n",
        "\n",
        "matched_df = pd.concat([treated_matched, matched_control], axis=0)\n",
        "\n",
        "# Compute ATT on rent per square foot\n",
        "att = treated_matched['MPF-RPSF'].mean() - matched_control['MPF-RPSF'].mean()\n",
        "print(f\"ATT with CBSA clustering (RPSF): {att:.2f}\")\n"
      ],
      "metadata": {
        "colab": {
          "base_uri": "https://localhost:8080/"
        },
        "id": "YXjQuPVyYG46",
        "outputId": "fef63dc1-0f45-4624-a14b-78dd34df6f58"
      },
      "execution_count": 11,
      "outputs": [
        {
          "output_type": "stream",
          "name": "stdout",
          "text": [
            "ATT with CBSA clustering (RPSF): 0.23\n"
          ]
        }
      ]
    },
    {
      "cell_type": "code",
      "source": [
        "\n",
        "# Compute unit-level rent differences\n",
        "rent_diff = treated_matched['MPF-RPSF'].values - matched_control['MPF-RPSF'].values\n",
        "\n",
        "# Plot distribution\n",
        "sns.histplot(rent_diff, bins=30, kde=True)\n",
        "plt.axvline(rent_diff.mean(), color='red', linestyle='--', label=f'Mean ATT = {rent_diff.mean():.2f}')\n",
        "plt.title(\"Distribution of Rent Differences (RealPage - Non-RealPage)\")\n",
        "plt.xlabel(\"Rent Difference (RPSF)\")\n",
        "plt.ylabel(\"Count\")\n",
        "plt.legend()\n",
        "plt.tight_layout()\n",
        "plt.show()\n"
      ],
      "metadata": {
        "colab": {
          "base_uri": "https://localhost:8080/",
          "height": 487
        },
        "id": "wT6AJ66JfIVD",
        "outputId": "18659065-a00d-4600-9307-fce8fb3ad236"
      },
      "execution_count": 20,
      "outputs": [
        {
          "output_type": "display_data",
          "data": {
            "text/plain": [
              "<Figure size 640x480 with 1 Axes>"
            ],
            "image/png": "[encoded data removed]"
          },
          "metadata": {}
        }
      ]
    },
    {
      "cell_type": "code",
      "source": [
        "num_pairs = len(treated_matched)\n",
        "print(f\"Number of matched pairs: {num_pairs}\")\n"
      ],
      "metadata": {
        "colab": {
          "base_uri": "https://localhost:8080/"
        },
        "id": "Jl72olW0f7oE",
        "outputId": "9cd76e3e-5241-4080-9c35-64f152c60781"
      },
      "execution_count": 21,
      "outputs": [
        {
          "output_type": "stream",
          "name": "stdout",
          "text": [
            "Number of matched pairs: 5089\n"
          ]
        }
      ]
    },
    {
      "cell_type": "code",
      "source": [
        "def standardized_mean_diff(treated, control, covariates):\n",
        "    smd = {}\n",
        "    for col in covariates:\n",
        "        mean_t = treated[col].mean()\n",
        "        mean_c = control[col].mean()\n",
        "        std_pooled = np.sqrt((treated[col].var() + control[col].var()) / 2)\n",
        "        smd[col] = np.abs(mean_t - mean_c) / std_pooled\n",
        "    return pd.Series(smd).sort_values(ascending=False)\n",
        "\n",
        "# Before matching\n",
        "smd_before = standardized_mean_diff(treated, control, covariates)\n",
        "\n",
        "# After matching\n",
        "smd_after = standardized_mean_diff(treated_matched, matched_control, covariates)\n",
        "\n",
        "print(\"Standardized Mean Differences (Before Matching):\\n\", smd_before)\n",
        "print(\"\\nStandardized Mean Differences (After Matching):\\n\", smd_after)\n"
      ],
      "metadata": {
        "id": "xiWDy7BG9vmd",
        "outputId": "e50777c1-f9af-4fab-d05d-3a876bf41b6e",
        "colab": {
          "base_uri": "https://localhost:8080/"
        }
      },
      "execution_count": 13,
      "outputs": [
        {
          "output_type": "stream",
          "name": "stdout",
          "text": [
            "Standardized Mean Differences (Before Matching):\n",
            " building_age            0.514610\n",
            "unitcount               0.418957\n",
            "stories                 0.260817\n",
            "MPF-OCC                 0.188098\n",
            "averageSquareFootage    0.060957\n",
            "dtype: float64\n",
            "\n",
            "Standardized Mean Differences (After Matching):\n",
            " stories                 0.043717\n",
            "building_age            0.043503\n",
            "unitcount               0.039113\n",
            "MPF-OCC                 0.017102\n",
            "averageSquareFootage    0.014926\n",
            "dtype: float64\n"
          ]
        }
      ]
    },
    {
      "cell_type": "code",
      "source": [
        "# Choose an example match (e.g., first one)\n",
        "example_id = treated_matched['match_id'].sample(5).values[0]\n",
        "\n",
        "# Extract treated and matched control property\n",
        "treated_example = treated_matched[treated_matched['match_id'] == example_id]\n",
        "control_example = matched_control[matched_control['match_id'] == example_id]\n",
        "\n",
        "# Select relevant columns for display\n",
        "display_cols = [\n",
        "    'averageSquareFootage', 'stories', 'unitcount', 'building_age',\n",
        "    'MPF-OCC', 'MPF-RPSF', 'propensity_score', 'uses_realpage'\n",
        "]\n",
        "\n",
        "# Combine and label\n",
        "treated_example_display = treated_example[display_cols].copy()\n",
        "treated_example_display['match_type'] = 'RealPage (Treated)'\n",
        "\n",
        "control_example_display = control_example[display_cols].copy()\n",
        "control_example_display['match_type'] = 'Non-RealPage (Control)'\n",
        "\n",
        "# Concatenate for side-by-side view\n",
        "example_pair = pd.concat([treated_example_display, control_example_display], ignore_index=True)\n",
        "print(\"Example of matched properties:\")\n",
        "display(example_pair)\n"
      ],
      "metadata": {
        "colab": {
          "base_uri": "https://localhost:8080/",
          "height": 142
        },
        "id": "kWAM19rWe7MY",
        "outputId": "f827df20-0d57-4f39-c078-dc50b6d55605"
      },
      "execution_count": 15,
      "outputs": [
        {
          "output_type": "stream",
          "name": "stdout",
          "text": [
            "Example of matched properties:\n"
          ]
        },
        {
          "output_type": "display_data",
          "data": {
            "text/plain": [
              "   averageSquareFootage  stories  unitcount  building_age  MPF-OCC  MPF-RPSF  \\\n",
              "0                   695        4        277             5    0.964     3.162   \n",
              "1                  1047        3        232             0    0.000     1.294   \n",
              "\n",
              "   propensity_score  uses_realpage              match_type  \n",
              "0          0.231973              1      RealPage (Treated)  \n",
              "1          0.231977              0  Non-RealPage (Control)  "
            ],
            "text/html": [
              "\n",
              "  <div id=\"df-05ca89ca-ea5e-4169-aa64-054cae1d7065\" class=\"colab-df-container\">\n",
              "    <div>\n",
              "<style scoped>\n",
              "    .dataframe tbody tr th:only-of-type {\n",
              "        vertical-align: middle;\n",
              "    }\n",
              "\n",
              "    .dataframe tbody tr th {\n",
              "        vertical-align: top;\n",
              "    }\n",
              "\n",
              "    .dataframe thead th {\n",
              "        text-align: right;\n",
              "    }\n",
              "</style>\n",
              "<table border=\"1\" class=\"dataframe\">\n",
              "  <thead>\n",
              "    <tr style=\"text-align: right;\">\n",
              "      <th></th>\n",
              "      <th>averageSquareFootage</th>\n",
              "      <th>stories</th>\n",
              "      <th>unitcount</th>\n",
              "      <th>building_age</th>\n",
              "      <th>MPF-OCC</th>\n",
              "      <th>MPF-RPSF</th>\n",
              "      <th>propensity_score</th>\n",
              "      <th>uses_realpage</th>\n",
              "      <th>match_type</th>\n",
              "    </tr>\n",
              "  </thead>\n",
              "  <tbody>\n",
              "    <tr>\n",
              "      <th>0</th>\n",
              "      <td>695</td>\n",
              "      <td>4</td>\n",
              "      <td>277</td>\n",
              "      <td>5</td>\n",
              "      <td>0.964</td>\n",
              "      <td>3.162</td>\n",
              "      <td>0.231973</td>\n",
              "      <td>1</td>\n",
              "      <td>RealPage (Treated)</td>\n",
              "    </tr>\n",
              "    <tr>\n",
              "      <th>1</th>\n",
              "      <td>1047</td>\n",
              "      <td>3</td>\n",
              "      <td>232</td>\n",
              "      <td>0</td>\n",
              "      <td>0.000</td>\n",
              "      <td>1.294</td>\n",
              "      <td>0.231977</td>\n",
              "      <td>0</td>\n",
              "      <td>Non-RealPage (Control)</td>\n",
              "    </tr>\n",
              "  </tbody>\n",
              "</table>\n",
              "</div>\n",
              "    <div class=\"colab-df-buttons\">\n",
              "\n",
              "  <div class=\"colab-df-container\">\n",
              "    <button class=\"colab-df-convert\" onclick=\"convertToInteractive('df-05ca89ca-ea5e-4169-aa64-054cae1d7065')\"\n",
              "            title=\"Convert this dataframe to an interactive table.\"\n",
              "            style=\"display:none;\">\n",
              "\n",
              "  <svg xmlns=\"http://www.w3.org/2000/svg\" height=\"24px\" viewBox=\"0 -960 960 960\">\n",
              "    <path d=\"M120-120v-720h720v720H120Zm60-500h600v-160H180v160Zm220 220h160v-160H400v160Zm0 220h160v-160H400v160ZM180-400h160v-160H180v160Zm440 0h160v-160H620v160ZM180-180h160v-160H180v160Zm440 0h160v-160H620v160Z\"/>\n",
              "  </svg>\n",
              "    </button>\n",
              "\n",
              "  <style>\n",
              "    .colab-df-container {\n",
              "      display:flex;\n",
              "      gap: 12px;\n",
              "    }\n",
              "\n",
              "    .colab-df-convert {\n",
              "      background-color: #E8F0FE;\n",
              "      border: none;\n",
              "      border-radius: 50%;\n",
              "      cursor: pointer;\n",
              "      display: none;\n",
              "      fill: #1967D2;\n",
              "      height: 32px;\n",
              "      padding: 0 0 0 0;\n",
              "      width: 32px;\n",
              "    }\n",
              "\n",
              "    .colab-df-convert:hover {\n",
              "      background-color: #E2EBFA;\n",
              "      box-shadow: 0px 1px 2px rgba(60, 64, 67, 0.3), 0px 1px 3px 1px rgba(60, 64, 67, 0.15);\n",
              "      fill: #174EA6;\n",
              "    }\n",
              "\n",
              "    .colab-df-buttons div {\n",
              "      margin-bottom: 4px;\n",
              "    }\n",
              "\n",
              "    [theme=dark] .colab-df-convert {\n",
              "      background-color: #3B4455;\n",
              "      fill: #D2E3FC;\n",
              "    }\n",
              "\n",
              "    [theme=dark] .colab-df-convert:hover {\n",
              "      background-color: #434B5C;\n",
              "      box-shadow: 0px 1px 3px 1px rgba(0, 0, 0, 0.15);\n",
              "      filter: drop-shadow(0px 1px 2px rgba(0, 0, 0, 0.3));\n",
              "      fill: #FFFFFF;\n",
              "    }\n",
              "  </style>\n",
              "\n",
              "    <script>\n",
              "      const buttonEl =\n",
              "        document.querySelector('#df-05ca89ca-ea5e-4169-aa64-054cae1d7065 button.colab-df-convert');\n",
              "      buttonEl.style.display =\n",
              "        google.colab.kernel.accessAllowed ? 'block' : 'none';\n",
              "\n",
              "      async function convertToInteractive(key) {\n",
              "        const element = document.querySelector('#df-05ca89ca-ea5e-4169-aa64-054cae1d7065');\n",
              "        const dataTable =\n",
              "          await google.colab.kernel.invokeFunction('convertToInteractive',\n",
              "                                                    [key], {});\n",
              "        if (!dataTable) return;\n",
              "\n",
              "        const docLinkHtml = 'Like what you see? Visit the ' +\n",
              "          '<a target=\"_blank\" href=https://colab.research.google.com/notebooks/data_table.ipynb>data table notebook</a>'\n",
              "          + ' to learn more about interactive tables.';\n",
              "        element.innerHTML = '';\n",
              "        dataTable['output_type'] = 'display_data';\n",
              "        await google.colab.output.renderOutput(dataTable, element);\n",
              "        const docLink = document.createElement('div');\n",
              "        docLink.innerHTML = docLinkHtml;\n",
              "        element.appendChild(docLink);\n",
              "      }\n",
              "    </script>\n",
              "  </div>\n",
              "\n",
              "\n",
              "<div id=\"df-9d337318-dec7-47ed-8950-f1a21b9f6ae6\">\n",
              "  <button class=\"colab-df-quickchart\" onclick=\"quickchart('df-9d337318-dec7-47ed-8950-f1a21b9f6ae6')\"\n",
              "            title=\"Suggest charts\"\n",
              "            style=\"display:none;\">\n",
              "\n",
              "<svg xmlns=\"http://www.w3.org/2000/svg\" height=\"24px\"viewBox=\"0 0 24 24\"\n",
              "     width=\"24px\">\n",
              "    <g>\n",
              "        <path d=\"M19 3H5c-1.1 0-2 .9-2 2v14c0 1.1.9 2 2 2h14c1.1 0 2-.9 2-2V5c0-1.1-.9-2-2-2zM9 17H7v-7h2v7zm4 0h-2V7h2v10zm4 0h-2v-4h2v4z\"/>\n",
              "    </g>\n",
              "</svg>\n",
              "  </button>\n",
              "\n",
              "<style>\n",
              "  .colab-df-quickchart {\n",
              "      --bg-color: #E8F0FE;\n",
              "      --fill-color: #1967D2;\n",
              "      --hover-bg-color: #E2EBFA;\n",
              "      --hover-fill-color: #174EA6;\n",
              "      --disabled-fill-color: #AAA;\n",
              "      --disabled-bg-color: #DDD;\n",
              "  }\n",
              "\n",
              "  [theme=dark] .colab-df-quickchart {\n",
              "      --bg-color: #3B4455;\n",
              "      --fill-color: #D2E3FC;\n",
              "      --hover-bg-color: #434B5C;\n",
              "      --hover-fill-color: #FFFFFF;\n",
              "      --disabled-bg-color: #3B4455;\n",
              "      --disabled-fill-color: #666;\n",
              "  }\n",
              "\n",
              "  .colab-df-quickchart {\n",
              "    background-color: var(--bg-color);\n",
              "    border: none;\n",
              "    border-radius: 50%;\n",
              "    cursor: pointer;\n",
              "    display: none;\n",
              "    fill: var(--fill-color);\n",
              "    height: 32px;\n",
              "    padding: 0;\n",
              "    width: 32px;\n",
              "  }\n",
              "\n",
              "  .colab-df-quickchart:hover {\n",
              "    background-color: var(--hover-bg-color);\n",
              "    box-shadow: 0 1px 2px rgba(60, 64, 67, 0.3), 0 1px 3px 1px rgba(60, 64, 67, 0.15);\n",
              "    fill: var(--button-hover-fill-color);\n",
              "  }\n",
              "\n",
              "  .colab-df-quickchart-complete:disabled,\n",
              "  .colab-df-quickchart-complete:disabled:hover {\n",
              "    background-color: var(--disabled-bg-color);\n",
              "    fill: var(--disabled-fill-color);\n",
              "    box-shadow: none;\n",
              "  }\n",
              "\n",
              "  .colab-df-spinner {\n",
              "    border: 2px solid var(--fill-color);\n",
              "    border-color: transparent;\n",
              "    border-bottom-color: var(--fill-color);\n",
              "    animation:\n",
              "      spin 1s steps(1) infinite;\n",
              "  }\n",
              "\n",
              "  @keyframes spin {\n",
              "    0% {\n",
              "      border-color: transparent;\n",
              "      border-bottom-color: var(--fill-color);\n",
              "      border-left-color: var(--fill-color);\n",
              "    }\n",
              "    20% {\n",
              "      border-color: transparent;\n",
              "      border-left-color: var(--fill-color);\n",
              "      border-top-color: var(--fill-color);\n",
              "    }\n",
              "    30% {\n",
              "      border-color: transparent;\n",
              "      border-left-color: var(--fill-color);\n",
              "      border-top-color: var(--fill-color);\n",
              "      border-right-color: var(--fill-color);\n",
              "    }\n",
              "    40% {\n",
              "      border-color: transparent;\n",
              "      border-right-color: var(--fill-color);\n",
              "      border-top-color: var(--fill-color);\n",
              "    }\n",
              "    60% {\n",
              "      border-color: transparent;\n",
              "      border-right-color: var(--fill-color);\n",
              "    }\n",
              "    80% {\n",
              "      border-color: transparent;\n",
              "      border-right-color: var(--fill-color);\n",
              "      border-bottom-color: var(--fill-color);\n",
              "    }\n",
              "    90% {\n",
              "      border-color: transparent;\n",
              "      border-bottom-color: var(--fill-color);\n",
              "    }\n",
              "  }\n",
              "</style>\n",
              "\n",
              "  <script>\n",
              "    async function quickchart(key) {\n",
              "      const quickchartButtonEl =\n",
              "        document.querySelector('#' + key + ' button');\n",
              "      quickchartButtonEl.disabled = true;  // To prevent multiple clicks.\n",
              "      quickchartButtonEl.classList.add('colab-df-spinner');\n",
              "      try {\n",
              "        const charts = await google.colab.kernel.invokeFunction(\n",
              "            'suggestCharts', [key], {});\n",
              "      } catch (error) {\n",
              "        console.error('Error during call to suggestCharts:', error);\n",
              "      }\n",
              "      quickchartButtonEl.classList.remove('colab-df-spinner');\n",
              "      quickchartButtonEl.classList.add('colab-df-quickchart-complete');\n",
              "    }\n",
              "    (() => {\n",
              "      let quickchartButtonEl =\n",
              "        document.querySelector('#df-9d337318-dec7-47ed-8950-f1a21b9f6ae6 button');\n",
              "      quickchartButtonEl.style.display =\n",
              "        google.colab.kernel.accessAllowed ? 'block' : 'none';\n",
              "    })();\n",
              "  </script>\n",
              "</div>\n",
              "\n",
              "  <div id=\"id_66924019-66f5-43d8-b04f-c52debe01d13\">\n",
              "    <style>\n",
              "      .colab-df-generate {\n",
              "        background-color: #E8F0FE;\n",
              "        border: none;\n",
              "        border-radius: 50%;\n",
              "        cursor: pointer;\n",
              "        display: none;\n",
              "        fill: #1967D2;\n",
              "        height: 32px;\n",
              "        padding: 0 0 0 0;\n",
              "        width: 32px;\n",
              "      }\n",
              "\n",
              "      .colab-df-generate:hover {\n",
              "        background-color: #E2EBFA;\n",
              "        box-shadow: 0px 1px 2px rgba(60, 64, 67, 0.3), 0px 1px 3px 1px rgba(60, 64, 67, 0.15);\n",
              "        fill: #174EA6;\n",
              "      }\n",
              "\n",
              "      [theme=dark] .colab-df-generate {\n",
              "        background-color: #3B4455;\n",
              "        fill: #D2E3FC;\n",
              "      }\n",
              "\n",
              "      [theme=dark] .colab-df-generate:hover {\n",
              "        background-color: #434B5C;\n",
              "        box-shadow: 0px 1px 3px 1px rgba(0, 0, 0, 0.15);\n",
              "        filter: drop-shadow(0px 1px 2px rgba(0, 0, 0, 0.3));\n",
              "        fill: #FFFFFF;\n",
              "      }\n",
              "    </style>\n",
              "    <button class=\"colab-df-generate\" onclick=\"generateWithVariable('example_pair')\"\n",
              "            title=\"Generate code using this dataframe.\"\n",
              "            style=\"display:none;\">\n",
              "\n",
              "  <svg xmlns=\"http://www.w3.org/2000/svg\" height=\"24px\"viewBox=\"0 0 24 24\"\n",
              "       width=\"24px\">\n",
              "    <path d=\"M7,19H8.4L18.45,9,17,7.55,7,17.6ZM5,21V16.75L18.45,3.32a2,2,0,0,1,2.83,0l1.4,1.43a1.91,1.91,0,0,1,.58,1.4,1.91,1.91,0,0,1-.58,1.4L9.25,21ZM18.45,9,17,7.55Zm-12,3A5.31,5.31,0,0,0,4.9,8.1,5.31,5.31,0,0,0,1,6.5,5.31,5.31,0,0,0,4.9,4.9,5.31,5.31,0,0,0,6.5,1,5.31,5.31,0,0,0,8.1,4.9,5.31,5.31,0,0,0,12,6.5,5.46,5.46,0,0,0,6.5,12Z\"/>\n",
              "  </svg>\n",
              "    </button>\n",
              "    <script>\n",
              "      (() => {\n",
              "      const buttonEl =\n",
              "        document.querySelector('#id_66924019-66f5-43d8-b04f-c52debe01d13 button.colab-df-generate');\n",
              "      buttonEl.style.display =\n",
              "        google.colab.kernel.accessAllowed ? 'block' : 'none';\n",
              "\n",
              "      buttonEl.onclick = () => {\n",
              "        google.colab.notebook.generateWithVariable('example_pair');\n",
              "      }\n",
              "      })();\n",
              "    </script>\n",
              "  </div>\n",
              "\n",
              "    </div>\n",
              "  </div>\n"
            ],
            "application/vnd.google.colaboratory.intrinsic+json": {
              "type": "dataframe",
              "variable_name": "example_pair",
              "summary": "{\n  \"name\": \"example_pair\",\n  \"rows\": 2,\n  \"fields\": [\n    {\n      \"column\": \"averageSquareFootage\",\n      \"properties\": {\n        \"dtype\": \"number\",\n        \"std\": 248,\n        \"min\": 695,\n        \"max\": 1047,\n        \"num_unique_values\": 2,\n        \"samples\": [\n          1047,\n          695\n        ],\n        \"semantic_type\": \"\",\n        \"description\": \"\"\n      }\n    },\n    {\n      \"column\": \"stories\",\n      \"properties\": {\n        \"dtype\": \"number\",\n        \"std\": 0,\n        \"min\": 3,\n        \"max\": 4,\n        \"num_unique_values\": 2,\n        \"samples\": [\n          3,\n          4\n        ],\n        \"semantic_type\": \"\",\n        \"description\": \"\"\n      }\n    },\n    {\n      \"column\": \"unitcount\",\n      \"properties\": {\n        \"dtype\": \"number\",\n        \"std\": 31,\n        \"min\": 232,\n        \"max\": 277,\n        \"num_unique_values\": 2,\n        \"samples\": [\n          232,\n          277\n        ],\n        \"semantic_type\": \"\",\n        \"description\": \"\"\n      }\n    },\n    {\n      \"column\": \"building_age\",\n      \"properties\": {\n        \"dtype\": \"number\",\n        \"std\": 3,\n        \"min\": 0,\n        \"max\": 5,\n        \"num_unique_values\": 2,\n        \"samples\": [\n          0,\n          5\n        ],\n        \"semantic_type\": \"\",\n        \"description\": \"\"\n      }\n    },\n    {\n      \"column\": \"MPF-OCC\",\n      \"properties\": {\n        \"dtype\": \"number\",\n        \"std\": 0.6816509370638317,\n        \"min\": 0.0,\n        \"max\": 0.964,\n        \"num_unique_values\": 2,\n        \"samples\": [\n          0.0,\n          0.964\n        ],\n        \"semantic_type\": \"\",\n        \"description\": \"\"\n      }\n    },\n    {\n      \"column\": \"MPF-RPSF\",\n      \"properties\": {\n        \"dtype\": \"number\",\n        \"std\": 1.3208754672564706,\n        \"min\": 1.294,\n        \"max\": 3.162,\n        \"num_unique_values\": 2,\n        \"samples\": [\n          1.294,\n          3.162\n        ],\n        \"semantic_type\": \"\",\n        \"description\": \"\"\n      }\n    },\n    {\n      \"column\": \"propensity_score\",\n      \"properties\": {\n        \"dtype\": \"number\",\n        \"std\": 2.8941034709316706e-06,\n        \"min\": 0.23197252066533453,\n        \"max\": 0.23197661354571403,\n        \"num_unique_values\": 2,\n        \"samples\": [\n          0.23197661354571403,\n          0.23197252066533453\n        ],\n        \"semantic_type\": \"\",\n        \"description\": \"\"\n      }\n    },\n    {\n      \"column\": \"uses_realpage\",\n      \"properties\": {\n        \"dtype\": \"number\",\n        \"std\": 0,\n        \"min\": 0,\n        \"max\": 1,\n        \"num_unique_values\": 2,\n        \"samples\": [\n          0,\n          1\n        ],\n        \"semantic_type\": \"\",\n        \"description\": \"\"\n      }\n    },\n    {\n      \"column\": \"match_type\",\n      \"properties\": {\n        \"dtype\": \"string\",\n        \"num_unique_values\": 2,\n        \"samples\": [\n          \"Non-RealPage (Control)\",\n          \"RealPage (Treated)\"\n        ],\n        \"semantic_type\": \"\",\n        \"description\": \"\"\n      }\n    }\n  ]\n}"
            }
          },
          "metadata": {}
        }
      ]
    },
    {
      "cell_type": "code",
      "source": [
        "print(f\"Total matched pairs: {len(treated_matched)}\")\n"
      ],
      "metadata": {
        "colab": {
          "base_uri": "https://localhost:8080/"
        },
        "id": "t-ocQssNrC9M",
        "outputId": "7ef063a8-a54d-431a-c164-dd3487a4f89f"
      },
      "execution_count": 14,
      "outputs": [
        {
          "output_type": "stream",
          "name": "stdout",
          "text": [
            "Total matched pairs: 5089\n"
          ]
        }
      ]
    },
    {
      "cell_type": "markdown",
      "source": [
        "# PROPENSITY SCORE MATCHING"
      ],
      "metadata": {
        "id": "ib-8ficTd0Bq"
      }
    },
    {
      "cell_type": "code",
      "source": [
        "import pandas as pd\n",
        "import numpy as np\n",
        "from sklearn.linear_model import LogisticRegression\n",
        "from sklearn.neighbors import NearestNeighbors\n",
        "from sklearn.preprocessing import StandardScaler\n",
        "\n",
        "# data\n",
        "df_psm = df_cleaned.copy()\n",
        "\n",
        "# Define covariates\n",
        "treatment = 'uses_realpage'\n",
        "covariates = [\n",
        "    'averageSquareFootage', 'stories', 'unitcount', 'building_age',\n",
        "    'MPF-OCC', 'MPF-HIST-CONC-RATIO'\n",
        "]\n",
        "\n",
        "# Drop rows\n",
        "df_psm = df_psm.dropna(subset=covariates + [treatment])\n"
      ],
      "metadata": {
        "id": "M9B5GOxod3q3"
      },
      "execution_count": null,
      "outputs": []
    },
    {
      "cell_type": "code",
      "source": [
        "# Normalize\n",
        "scaler = StandardScaler()\n",
        "X_scaled = scaler.fit_transform(df_psm[covariates])\n",
        "\n",
        "# Logistic regression\n",
        "logit = LogisticRegression()\n",
        "logit.fit(X_scaled, df_psm[treatment])\n",
        "df_psm['propensity_score'] = logit.predict_proba(X_scaled)[:, 1]\n"
      ],
      "metadata": {
        "id": "__CRt4lLeB0I"
      },
      "execution_count": null,
      "outputs": []
    },
    {
      "cell_type": "code",
      "source": [
        "# Split treatment/control\n",
        "treated = df_psm[df_psm[treatment] == 1]\n",
        "control = df_psm[df_psm[treatment] == 0]\n",
        "\n",
        "# nearest neibor\n",
        "nn = NearestNeighbors(n_neighbors=1)\n",
        "nn.fit(control[['propensity_score']])\n",
        "distances, indices = nn.kneighbors(treated[['propensity_score']])\n",
        "\n",
        "# get matched\n",
        "matched_control = control.iloc[indices.flatten()].copy()\n",
        "matched_control['match_id'] = treated.index\n",
        "treated_matched = treated.copy()\n",
        "treated_matched['match_id'] = treated.index\n",
        "\n",
        "matched_df = pd.concat([treated_matched, matched_control], axis=0)\n"
      ],
      "metadata": {
        "id": "SiMMHWfueC8c"
      },
      "execution_count": null,
      "outputs": []
    },
    {
      "cell_type": "markdown",
      "source": [
        "Propensity Score Matching Results"
      ],
      "metadata": {
        "id": "vTG4iMwYAJCb"
      }
    },
    {
      "cell_type": "code",
      "source": [
        "# Check mean rent between groups\n",
        "rent_treated = treated_matched['MPF-RENT']\n",
        "rent_control = matched_control['MPF-RENT']\n",
        "\n",
        "att = rent_treated.mean() - rent_control.mean()\n",
        "print(f\"RealPage vs not RealPage cost difference (ATT): {att:.2f}\")\n"
      ],
      "metadata": {
        "colab": {
          "base_uri": "https://localhost:8080/"
        },
        "id": "o6ioPTuJeFkW",
        "outputId": "9dd3b7df-fed4-4375-bde4-3ab74897c676"
      },
      "execution_count": null,
      "outputs": [
        {
          "output_type": "stream",
          "name": "stdout",
          "text": [
            "RealPage vs not RealPage cost difference (ATT): 236.77\n"
          ]
        }
      ]
    },
    {
      "cell_type": "code",
      "source": [
        "\n",
        "\n",
        "sns.histplot(df_psm, x=\"propensity_score\", hue=\"uses_realpage\", element=\"step\", stat=\"density\", common_norm=False)\n",
        "plt.title(\"Propensity Score Distribution (Before Matching)\")\n",
        "plt.show()\n"
      ],
      "metadata": {
        "colab": {
          "base_uri": "https://localhost:8080/",
          "height": 472
        },
        "id": "rQNZCzvkeHld",
        "outputId": "024502ab-ab4e-4542-c158-6c2810ac4ab4"
      },
      "execution_count": null,
      "outputs": [
        {
          "output_type": "display_data",
          "data": {
            "text/plain": [
              "<Figure size 640x480 with 1 Axes>"
            ],
            "image/png": "[encoded data removed]"
          },
          "metadata": {}
        }
      ]
    },
    {
      "cell_type": "code",
      "source": [
        "diff = treated_matched['MPF-RENT'].values - matched_control['MPF-RENT'].values\n",
        "\n",
        "sns.histplot(diff, bins=30, kde=True)\n",
        "plt.axvline(diff.mean(), color='red', linestyle='--')\n",
        "plt.title(\"Distribution of Rent Differences (RealPage - Non-RealPage)\")\n",
        "plt.xlabel(\"Rent Difference\")\n",
        "plt.ylabel(\"Count\")\n",
        "plt.show()\n"
      ],
      "metadata": {
        "colab": {
          "base_uri": "https://localhost:8080/",
          "height": 472
        },
        "id": "4NJlttYx_fGP",
        "outputId": "cb9d6149-aea0-4fcf-803f-98f42f1cd6db"
      },
      "execution_count": null,
      "outputs": [
        {
          "output_type": "display_data",
          "data": {
            "text/plain": [
              "<Figure size 640x480 with 1 Axes>"
            ],
            "image/png": "[encoded data removed]"
          },
          "metadata": {}
        }
      ]
    },
    {
      "cell_type": "code",
      "source": [
        "print(f\"Total matched pairs: {len(treated_matched)}\")\n"
      ],
      "metadata": {
        "colab": {
          "base_uri": "https://localhost:8080/"
        },
        "id": "ZBRCDM9aA8-c",
        "outputId": "0c66d3ab-fa15-40db-9d4d-a303f5e83dc0"
      },
      "execution_count": null,
      "outputs": [
        {
          "output_type": "stream",
          "name": "stdout",
          "text": [
            "Total matched pairs: 1860\n"
          ]
        }
      ]
    },
    {
      "cell_type": "code",
      "source": [
        "from scipy.stats import ttest_rel\n",
        "t_stat, p_value = ttest_rel(treated_matched['MPF-RENT'], matched_control['MPF-RENT'])\n",
        "print(f\"T-stat: {t_stat:.3f}, p-value: {p_value:.4f}\")\n"
      ],
      "metadata": {
        "colab": {
          "base_uri": "https://localhost:8080/"
        },
        "id": "VGG4bjybeTBJ",
        "outputId": "efeb6c00-d7c0-4416-c4be-099161475494"
      },
      "execution_count": null,
      "outputs": [
        {
          "output_type": "stream",
          "name": "stdout",
          "text": [
            "T-stat: 10.348, p-value: 0.0000\n"
          ]
        }
      ]
    },
    {
      "cell_type": "code",
      "source": [
        "def standardized_mean_diff(treated, control, col):\n",
        "    mean_t = treated[col].mean()\n",
        "    mean_c = control[col].mean()\n",
        "    pooled_std = np.sqrt((treated[col].var() + control[col].var()) / 2)\n",
        "    return (mean_t - mean_c) / pooled_std\n",
        "\n",
        "balance_stats = {\n",
        "    col: standardized_mean_diff(treated_matched, matched_control, col)\n",
        "    for col in covariates  # the list you matched on\n",
        "}\n",
        "\n",
        "balance_df = pd.Series(balance_stats).sort_values()\n",
        "print(balance_df)\n"
      ],
      "metadata": {
        "colab": {
          "base_uri": "https://localhost:8080/"
        },
        "id": "QRe2xCiFACvB",
        "outputId": "f3867ff6-90de-48e4-9f15-fd3eb00b8c61"
      },
      "execution_count": null,
      "outputs": [
        {
          "output_type": "stream",
          "name": "stdout",
          "text": [
            "MPF-HIST-CONC-RATIO    -0.016669\n",
            "MPF-OCC                -0.002372\n",
            "averageSquareFootage   -0.000189\n",
            "unitcount               0.012722\n",
            "building_age            0.028639\n",
            "stories                 0.064516\n",
            "dtype: float64\n"
          ]
        }
      ]
    },
    {
      "cell_type": "code",
      "source": [
        "\n",
        "df_matched = pd.DataFrame({\n",
        "    'Rent': pd.concat([treated_matched['MPF-RENT'], matched_control['MPF-RENT']]),\n",
        "    'Group': ['RealPage'] * len(treated_matched) + ['Non-RealPage'] * len(matched_control)\n",
        "})\n",
        "\n",
        "sns.boxplot(x=\"Group\", y=\"Rent\", data=df_matched)\n",
        "plt.title(\"Rent Comparison (Matched Sample)\")\n",
        "plt.ylabel(\"MPF-RENT\")\n",
        "plt.show()\n"
      ],
      "metadata": {
        "colab": {
          "base_uri": "https://localhost:8080/",
          "height": 472
        },
        "id": "qGN4dBH0eVyV",
        "outputId": "c2cd0332-6e2e-4d87-a2af-8296119fc1cf"
      },
      "execution_count": null,
      "outputs": [
        {
          "output_type": "display_data",
          "data": {
            "text/plain": [
              "<Figure size 640x480 with 1 Axes>"
            ],
            "image/png": "[encoded data removed]"
          },
          "metadata": {}
        }
      ]
    },
    {
      "cell_type": "markdown",
      "source": [
        "# Supervised Residual Analysis"
      ],
      "metadata": {
        "id": "GxPp_37jFWTC"
      }
    },
    {
      "cell_type": "code",
      "source": [
        "from sklearn.ensemble import RandomForestRegressor\n",
        "from sklearn.model_selection import train_test_split\n",
        "from scipy.stats import ttest_ind\n",
        "\n",
        "# Load clean\n",
        "df = pd.read_csv(\"cbsa_data_final_cleaned.csv\", low_memory=False)\n",
        "df = df.dropna()\n",
        "exclude_cols = [\"MPF-RENT\", \"uses_realpage\", \"propertyId\", \"data_index\", \"cbsa_code\", \"MPF-HIST-AVG-ASK-RPSF\"]\n",
        "features = [col for col in df.columns if col not in exclude_cols and df[col].dtype in [np.float64, np.int64]]\n",
        "# Target variable\n",
        "target = \"MPF-RENT\"\n",
        "\n",
        "assert target in df.columns and \"uses_realpage\" in df.columns\n",
        "X = df[features]\n",
        "y = df[target]\n",
        "\n",
        "# Train-test split\n",
        "X_train, X_test, y_train, y_test, idx_train, idx_test = train_test_split(X, y, df.index, test_size=0.2, random_state=42)\n",
        "\n",
        "# Fit Random Forest\n",
        "rf_model = RandomForestRegressor(n_estimators=100, random_state=42)\n",
        "rf_model.fit(X_train, y_train)\n",
        "\n",
        "# Predict on test set\n",
        "y_pred = rf_model.predict(X_test)\n",
        "\n",
        "# Create DataFrame with results\n",
        "df_results = pd.DataFrame({\n",
        "    \"actual_rent\": y_test.values,\n",
        "    \"predicted_rent\": y_pred,\n",
        "    \"residual\": y_test.values - y_pred,\n",
        "    \"uses_realpage\": df.loc[idx_test, \"uses_realpage\"].values\n",
        "})\n"
      ],
      "metadata": {
        "id": "Tjku0qxqHrWr"
      },
      "execution_count": null,
      "outputs": []
    },
    {
      "cell_type": "code",
      "source": [
        "# Mean residual difference\n",
        "realpage_res = df_results[df_results[\"uses_realpage\"] == 1][\"residual\"]\n",
        "non_realpage_res = df_results[df_results[\"uses_realpage\"] == 0][\"residual\"]\n",
        "\n",
        "att_residual = realpage_res.mean() - non_realpage_res.mean()\n",
        "print(f\"Average Residual Difference (RealPage - Non-RealPage): ${att_residual:.2f}\")\n"
      ],
      "metadata": {
        "colab": {
          "base_uri": "https://localhost:8080/"
        },
        "id": "55dPs8TpJiIz",
        "outputId": "cc38fe68-e2c3-4bb5-8854-950bce64b245"
      },
      "execution_count": null,
      "outputs": [
        {
          "output_type": "stream",
          "name": "stdout",
          "text": [
            "Average Residual Difference (RealPage - Non-RealPage): $1.85\n"
          ]
        }
      ]
    },
    {
      "cell_type": "code",
      "source": [
        "import seaborn as sns\n",
        "import matplotlib.pyplot as plt\n",
        "\n",
        "sns.boxplot(x=\"uses_realpage\", y=\"residual\", data=df_results)\n",
        "plt.axhline(0, color='red', linestyle='--')\n",
        "plt.title(\"Residual Rent Comparison\")\n",
        "plt.xlabel(\"Uses RealPage\")\n",
        "plt.ylabel(\"Actual - Predicted Rent\")\n",
        "plt.xticks([0, 1], [\"No\", \"Yes\"])\n",
        "plt.tight_layout()\n",
        "plt.show()\n"
      ],
      "metadata": {
        "colab": {
          "base_uri": "https://localhost:8080/",
          "height": 487
        },
        "id": "BvVE5BO-JkLD",
        "outputId": "4890f753-961c-4bf3-91f3-0f8d7fd02a3f"
      },
      "execution_count": null,
      "outputs": [
        {
          "output_type": "display_data",
          "data": {
            "text/plain": [
              "<Figure size 640x480 with 1 Axes>"
            ],
            "image/png": "[encoded data removed]"
          },
          "metadata": {}
        }
      ]
    },
    {
      "cell_type": "code",
      "source": [
        "t_stat, p_val = ttest_ind(realpage_res, non_realpage_res, equal_var=False)\n",
        "print(f\"T-statistic: {t_stat:.3f}, p-value: {p_val:.4f}\")\n"
      ],
      "metadata": {
        "colab": {
          "base_uri": "https://localhost:8080/"
        },
        "id": "mit3Di5eJnem",
        "outputId": "02e7db47-7dcf-4c05-e0c0-f12b473848f4"
      },
      "execution_count": null,
      "outputs": [
        {
          "output_type": "stream",
          "name": "stdout",
          "text": [
            "T-statistic: 0.411, p-value: 0.6816\n"
          ]
        }
      ]
    },
    {
      "cell_type": "markdown",
      "source": [
        "Residual analysis is not statistically significant"
      ],
      "metadata": {
        "id": "c9PObRppKlcH"
      }
    }
  ]
}