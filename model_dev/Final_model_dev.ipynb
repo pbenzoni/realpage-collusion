{
  "nbformat": 4,
  "nbformat_minor": 0,
  "metadata": {
    "colab": {
      "provenance": [],
      "gpuType": "T4"
    },
    "kernelspec": {
      "name": "python3",
      "display_name": "Python 3"
    },
    "language_info": {
      "name": "python"
    },
    "accelerator": "GPU"
  },
  "cells": [
    {
      "cell_type": "code",
      "source": [
        "from google.colab import files\n",
        "\n",
        "uploaded = files.upload()"
      ],
      "metadata": {
        "colab": {
          "base_uri": "https://localhost:8080/",
          "height": 73
        },
        "id": "YBRyCmzBLwrQ",
        "outputId": "16c5cfe8-83ba-4142-d11f-d4c7710e99e6"
      },
      "execution_count": 1,
      "outputs": [
        {
          "output_type": "display_data",
          "data": {
            "text/plain": [
              "<IPython.core.display.HTML object>"
            ],
            "text/html": [
              "\n",
              "     <input type=\"file\" id=\"files-f4ca8142-43a2-4728-9ba5-7c84a904bffa\" name=\"files[]\" multiple disabled\n",
              "        style=\"border:none\" />\n",
              "     <output id=\"result-f4ca8142-43a2-4728-9ba5-7c84a904bffa\">\n",
              "      Upload widget is only available when the cell has been executed in the\n",
              "      current browser session. Please rerun this cell to enable.\n",
              "      </output>\n",
              "      <script>// Copyright 2017 Google LLC\n",
              "//\n",
              "// Licensed under the Apache License, Version 2.0 (the \"License\");\n",
              "// you may not use this file except in compliance with the License.\n",
              "// You may obtain a copy of the License at\n",
              "//\n",
              "//      http://www.apache.org/licenses/LICENSE-2.0\n",
              "//\n",
              "// Unless required by applicable law or agreed to in writing, software\n",
              "// distributed under the License is distributed on an \"AS IS\" BASIS,\n",
              "// WITHOUT WARRANTIES OR CONDITIONS OF ANY KIND, either express or implied.\n",
              "// See the License for the specific language governing permissions and\n",
              "// limitations under the License.\n",
              "\n",
              "/**\n",
              " * @fileoverview Helpers for google.colab Python module.\n",
              " */\n",
              "(function(scope) {\n",
              "function span(text, styleAttributes = {}) {\n",
              "  const element = document.createElement('span');\n",
              "  element.textContent = text;\n",
              "  for (const key of Object.keys(styleAttributes)) {\n",
              "    element.style[key] = styleAttributes[key];\n",
              "  }\n",
              "  return element;\n",
              "}\n",
              "\n",
              "// Max number of bytes which will be uploaded at a time.\n",
              "const MAX_PAYLOAD_SIZE = 100 * 1024;\n",
              "\n",
              "function _uploadFiles(inputId, outputId) {\n",
              "  const steps = uploadFilesStep(inputId, outputId);\n",
              "  const outputElement = document.getElementById(outputId);\n",
              "  // Cache steps on the outputElement to make it available for the next call\n",
              "  // to uploadFilesContinue from Python.\n",
              "  outputElement.steps = steps;\n",
              "\n",
              "  return _uploadFilesContinue(outputId);\n",
              "}\n",
              "\n",
              "// This is roughly an async generator (not supported in the browser yet),\n",
              "// where there are multiple asynchronous steps and the Python side is going\n",
              "// to poll for completion of each step.\n",
              "// This uses a Promise to block the python side on completion of each step,\n",
              "// then passes the result of the previous step as the input to the next step.\n",
              "function _uploadFilesContinue(outputId) {\n",
              "  const outputElement = document.getElementById(outputId);\n",
              "  const steps = outputElement.steps;\n",
              "\n",
              "  const next = steps.next(outputElement.lastPromiseValue);\n",
              "  return Promise.resolve(next.value.promise).then((value) => {\n",
              "    // Cache the last promise value to make it available to the next\n",
              "    // step of the generator.\n",
              "    outputElement.lastPromiseValue = value;\n",
              "    return next.value.response;\n",
              "  });\n",
              "}\n",
              "\n",
              "/**\n",
              " * Generator function which is called between each async step of the upload\n",
              " * process.\n",
              " * @param {string} inputId Element ID of the input file picker element.\n",
              " * @param {string} outputId Element ID of the output display.\n",
              " * @return {!Iterable<!Object>} Iterable of next steps.\n",
              " */\n",
              "function* uploadFilesStep(inputId, outputId) {\n",
              "  const inputElement = document.getElementById(inputId);\n",
              "  inputElement.disabled = false;\n",
              "\n",
              "  const outputElement = document.getElementById(outputId);\n",
              "  outputElement.innerHTML = '';\n",
              "\n",
              "  const pickedPromise = new Promise((resolve) => {\n",
              "    inputElement.addEventListener('change', (e) => {\n",
              "      resolve(e.target.files);\n",
              "    });\n",
              "  });\n",
              "\n",
              "  const cancel = document.createElement('button');\n",
              "  inputElement.parentElement.appendChild(cancel);\n",
              "  cancel.textContent = 'Cancel upload';\n",
              "  const cancelPromise = new Promise((resolve) => {\n",
              "    cancel.onclick = () => {\n",
              "      resolve(null);\n",
              "    };\n",
              "  });\n",
              "\n",
              "  // Wait for the user to pick the files.\n",
              "  const files = yield {\n",
              "    promise: Promise.race([pickedPromise, cancelPromise]),\n",
              "    response: {\n",
              "      action: 'starting',\n",
              "    }\n",
              "  };\n",
              "\n",
              "  cancel.remove();\n",
              "\n",
              "  // Disable the input element since further picks are not allowed.\n",
              "  inputElement.disabled = true;\n",
              "\n",
              "  if (!files) {\n",
              "    return {\n",
              "      response: {\n",
              "        action: 'complete',\n",
              "      }\n",
              "    };\n",
              "  }\n",
              "\n",
              "  for (const file of files) {\n",
              "    const li = document.createElement('li');\n",
              "    li.append(span(file.name, {fontWeight: 'bold'}));\n",
              "    li.append(span(\n",
              "        `(${file.type || 'n/a'}) - ${file.size} bytes, ` +\n",
              "        `last modified: ${\n",
              "            file.lastModifiedDate ? file.lastModifiedDate.toLocaleDateString() :\n",
              "                                    'n/a'} - `));\n",
              "    const percent = span('0% done');\n",
              "    li.appendChild(percent);\n",
              "\n",
              "    outputElement.appendChild(li);\n",
              "\n",
              "    const fileDataPromise = new Promise((resolve) => {\n",
              "      const reader = new FileReader();\n",
              "      reader.onload = (e) => {\n",
              "        resolve(e.target.result);\n",
              "      };\n",
              "      reader.readAsArrayBuffer(file);\n",
              "    });\n",
              "    // Wait for the data to be ready.\n",
              "    let fileData = yield {\n",
              "      promise: fileDataPromise,\n",
              "      response: {\n",
              "        action: 'continue',\n",
              "      }\n",
              "    };\n",
              "\n",
              "    // Use a chunked sending to avoid message size limits. See b/62115660.\n",
              "    let position = 0;\n",
              "    do {\n",
              "      const length = Math.min(fileData.byteLength - position, MAX_PAYLOAD_SIZE);\n",
              "      const chunk = new Uint8Array(fileData, position, length);\n",
              "      position += length;\n",
              "\n",
              "      const base64 = btoa(String.fromCharCode.apply(null, chunk));\n",
              "      yield {\n",
              "        response: {\n",
              "          action: 'append',\n",
              "          file: file.name,\n",
              "          data: base64,\n",
              "        },\n",
              "      };\n",
              "\n",
              "      let percentDone = fileData.byteLength === 0 ?\n",
              "          100 :\n",
              "          Math.round((position / fileData.byteLength) * 100);\n",
              "      percent.textContent = `${percentDone}% done`;\n",
              "\n",
              "    } while (position < fileData.byteLength);\n",
              "  }\n",
              "\n",
              "  // All done.\n",
              "  yield {\n",
              "    response: {\n",
              "      action: 'complete',\n",
              "    }\n",
              "  };\n",
              "}\n",
              "\n",
              "scope.google = scope.google || {};\n",
              "scope.google.colab = scope.google.colab || {};\n",
              "scope.google.colab._files = {\n",
              "  _uploadFiles,\n",
              "  _uploadFilesContinue,\n",
              "};\n",
              "})(self);\n",
              "</script> "
            ]
          },
          "metadata": {}
        },
        {
          "output_type": "stream",
          "name": "stdout",
          "text": [
            "Saving cbsa_data_realpageflag.csv to cbsa_data_realpageflag.csv\n"
          ]
        }
      ]
    },
    {
      "cell_type": "code",
      "source": [],
      "metadata": {
        "id": "BFCm5ABShDp6"
      },
      "execution_count": null,
      "outputs": []
    },
    {
      "cell_type": "markdown",
      "source": [
        "# INITIAL FEATURE SELECTION AND CLEANING"
      ],
      "metadata": {
        "id": "-2r6hzVKhCnG"
      }
    },
    {
      "cell_type": "code",
      "source": [
        "#import libraries\n",
        "import pandas as pd\n",
        "import numpy as np\n",
        "import matplotlib.pyplot as plt\n",
        "import seaborn as sns\n",
        "from sklearn.model_selection import train_test_split\n",
        "from sklearn.ensemble import RandomForestClassifier\n",
        "from sklearn.metrics import classification_report, confusion_matrix\n",
        "from sklearn.linear_model import LogisticRegression\n",
        "import statsmodels.api as sm\n",
        "from sklearn.model_selection import train_test_split"
      ],
      "metadata": {
        "id": "8h0BaquTexXV"
      },
      "execution_count": 2,
      "outputs": []
    },
    {
      "cell_type": "code",
      "source": [
        "df = pd.read_csv(\"cbsa_data_realpageflag.csv\", low_memory=False)\n",
        "\n",
        "numeric_cols = df.select_dtypes(include=[np.number]).columns.tolist()\n",
        "df[numeric_cols] = df[numeric_cols].apply(pd.to_numeric, errors='coerce')\n",
        "\n",
        "# high missing values\n",
        "missing_threshold = 0.5 * len(df)\n",
        "high_missing_cols = df.columns[df.isnull().sum() > missing_threshold].tolist()\n",
        "\n",
        "# Identify low-variance features\n",
        "low_variance_cols = df[numeric_cols].var()[df[numeric_cols].var() < 0.01].index.tolist()\n",
        "\n",
        "# highly correlated features\n",
        "correlation_matrix = df[numeric_cols].corr()\n",
        "high_corr_pairs = correlation_matrix.abs().unstack().sort_values(ascending=False)\n",
        "high_corr_pairs = high_corr_pairs[high_corr_pairs < 1].reset_index()\n",
        "high_corr_pairs.columns = [\"Feature_1\", \"Feature_2\", \"Correlation\"]\n",
        "high_corr_features = set(high_corr_pairs[high_corr_pairs[\"Correlation\"] > 0.9][\"Feature_1\"])\n",
        "\n",
        "# Don't remove MPF features yet\n",
        "mpf_columns = [col for col in df.columns if \"MPF\" in col]\n",
        "\n",
        "# Remove only non-MPF columns\n",
        "columns_to_remove = list(set(high_missing_cols + low_variance_cols + list(high_corr_features)))\n",
        "columns_to_remove = [col for col in columns_to_remove if col not in mpf_columns]\n",
        "\n",
        "# Create cleaned dataset\n",
        "df_cleaned = df.drop(columns=columns_to_remove, errors='ignore')\n",
        "\n",
        "# Save\n",
        "df_cleaned.to_csv(\"cbsa_data_final_cleaned.csv\", index=False)\n",
        "\n",
        "# Display removed columns summary\n",
        "removed_cols_info = {\n",
        "    \"High Missing Values\": high_missing_cols,\n",
        "    \"Low Variance\": low_variance_cols,\n",
        "    \"Highly Correlated Features\": list(high_corr_features)\n",
        "}\n",
        "removed_cols_df = pd.DataFrame(dict([(k, pd.Series(v)) for k, v in removed_cols_info.items()]))\n",
        "\n",
        "# Show the removed columns\n",
        "print(\"Removed Columns Summary:\")\n",
        "print(removed_cols_df)\n"
      ],
      "metadata": {
        "colab": {
          "base_uri": "https://localhost:8080/"
        },
        "id": "jfYiptWLT5RV",
        "outputId": "47259716-b2dc-40b2-fc93-88d5412bc5aa"
      },
      "execution_count": 3,
      "outputs": [
        {
          "output_type": "stream",
          "name": "stdout",
          "text": [
            "Removed Columns Summary:\n",
            "       High Missing Values             Low Variance Highly Correlated Features\n",
            "0      MPF-HIST-CONC-RATIO         MPF-ANN-RENT-CHG      MPF-HIST-AVG-ASK-RPSF\n",
            "1      SH-HIST-ASK-RENT-PB      MPF-HIST-CONC-RATIO                   MPF-RENT\n",
            "2          SH-HIST-RENT-PB    SH-HIST-CONC-RATIO-PB    SH-HIST-AVG-ASK-RPSF-PB\n",
            "3    SH-HIST-CONC-RATIO-PB  SH-HIST-ANN-RENT-PB-CHG        SH-HIST-ASK-RENT-PB\n",
            "4        SH-HIST-OCCUPANCY                      NaN                   MPF-RPSF\n",
            "5          SH-HIST-RPSF-PB                      NaN            SH-HIST-RPSF-PB\n",
            "6  SH-HIST-AVG-ASK-RPSF-PB                      NaN          MPF-HIST-ASK-RENT\n",
            "7  SH-HIST-ANN-RENT-PB-CHG                      NaN            SH-HIST-RENT-PB\n"
          ]
        }
      ]
    },
    {
      "cell_type": "code",
      "source": [
        "df_cleaned.head()"
      ],
      "metadata": {
        "colab": {
          "base_uri": "https://localhost:8080/",
          "height": 305
        },
        "id": "W_KXy-W-VbxG",
        "outputId": "c6abf0e9-ea16-4538-c2ab-a8d2e052a8e3"
      },
      "execution_count": 4,
      "outputs": [
        {
          "output_type": "execute_result",
          "data": {
            "text/plain": [
              "   propertyId    propertyName zipCode            address     city state  \\\n",
              "0        7915         Warwick   79606  2400 Arrowhead Dr  Abilene    TX   \n",
              "1        9952      Mill Creek   79605        5249 US-277  Abilene    TX   \n",
              "2       10561     The Landing   79605     5450 Texas Ave  Abilene    TX   \n",
              "3       10762  Curry Junction   79606      3549 Curry Ln  Abilene    TX   \n",
              "4       11055      Indian Run   79606  3549 Cedar Run Rd  Abilene    TX   \n",
              "\n",
              "   averageSquareFootage  stories  stable class  ...  MPF-HIST-ASK-RENT  \\\n",
              "0                   956        2  stable     B  ...              939.0   \n",
              "1                   953        2  stable     B  ...             1032.0   \n",
              "2                   609        2  stable     B  ...              893.0   \n",
              "3                   819        2  stable     B  ...             1021.0   \n",
              "4                   738        2  stable     B  ...              912.0   \n",
              "\n",
              "   MPF-HIST-AVG-ASK-RPSF MPF-HIST-CONC-RATIO MPF-OCC MPF-RENT  MPF-RPSF  \\\n",
              "0                  0.982                 NaN   0.974    939.0     0.982   \n",
              "1                  1.082                 NaN   0.994   1032.0     1.082   \n",
              "2                  1.466                 NaN   0.970    893.0     1.466   \n",
              "3                  1.245                 NaN   0.972   1021.0     1.245   \n",
              "4                  1.235                 NaN   0.934    912.0     1.235   \n",
              "\n",
              "   data_index cbsa_code   status  uses_realpage  \n",
              "0           0     10180  success              0  \n",
              "1           1     10180  success              0  \n",
              "2           2     10180  success              0  \n",
              "3           3     10180  success              0  \n",
              "4           4     10180  success              0  \n",
              "\n",
              "[5 rows x 30 columns]"
            ],
            "text/html": [
              "\n",
              "  <div id=\"df-161265e6-68ad-4748-a862-3bbf9cf6d7f6\" class=\"colab-df-container\">\n",
              "    <div>\n",
              "<style scoped>\n",
              "    .dataframe tbody tr th:only-of-type {\n",
              "        vertical-align: middle;\n",
              "    }\n",
              "\n",
              "    .dataframe tbody tr th {\n",
              "        vertical-align: top;\n",
              "    }\n",
              "\n",
              "    .dataframe thead th {\n",
              "        text-align: right;\n",
              "    }\n",
              "</style>\n",
              "<table border=\"1\" class=\"dataframe\">\n",
              "  <thead>\n",
              "    <tr style=\"text-align: right;\">\n",
              "      <th></th>\n",
              "      <th>propertyId</th>\n",
              "      <th>propertyName</th>\n",
              "      <th>zipCode</th>\n",
              "      <th>address</th>\n",
              "      <th>city</th>\n",
              "      <th>state</th>\n",
              "      <th>averageSquareFootage</th>\n",
              "      <th>stories</th>\n",
              "      <th>stable</th>\n",
              "      <th>class</th>\n",
              "      <th>...</th>\n",
              "      <th>MPF-HIST-ASK-RENT</th>\n",
              "      <th>MPF-HIST-AVG-ASK-RPSF</th>\n",
              "      <th>MPF-HIST-CONC-RATIO</th>\n",
              "      <th>MPF-OCC</th>\n",
              "      <th>MPF-RENT</th>\n",
              "      <th>MPF-RPSF</th>\n",
              "      <th>data_index</th>\n",
              "      <th>cbsa_code</th>\n",
              "      <th>status</th>\n",
              "      <th>uses_realpage</th>\n",
              "    </tr>\n",
              "  </thead>\n",
              "  <tbody>\n",
              "    <tr>\n",
              "      <th>0</th>\n",
              "      <td>7915</td>\n",
              "      <td>Warwick</td>\n",
              "      <td>79606</td>\n",
              "      <td>2400 Arrowhead Dr</td>\n",
              "      <td>Abilene</td>\n",
              "      <td>TX</td>\n",
              "      <td>956</td>\n",
              "      <td>2</td>\n",
              "      <td>stable</td>\n",
              "      <td>B</td>\n",
              "      <td>...</td>\n",
              "      <td>939.0</td>\n",
              "      <td>0.982</td>\n",
              "      <td>NaN</td>\n",
              "      <td>0.974</td>\n",
              "      <td>939.0</td>\n",
              "      <td>0.982</td>\n",
              "      <td>0</td>\n",
              "      <td>10180</td>\n",
              "      <td>success</td>\n",
              "      <td>0</td>\n",
              "    </tr>\n",
              "    <tr>\n",
              "      <th>1</th>\n",
              "      <td>9952</td>\n",
              "      <td>Mill Creek</td>\n",
              "      <td>79605</td>\n",
              "      <td>5249 US-277</td>\n",
              "      <td>Abilene</td>\n",
              "      <td>TX</td>\n",
              "      <td>953</td>\n",
              "      <td>2</td>\n",
              "      <td>stable</td>\n",
              "      <td>B</td>\n",
              "      <td>...</td>\n",
              "      <td>1032.0</td>\n",
              "      <td>1.082</td>\n",
              "      <td>NaN</td>\n",
              "      <td>0.994</td>\n",
              "      <td>1032.0</td>\n",
              "      <td>1.082</td>\n",
              "      <td>1</td>\n",
              "      <td>10180</td>\n",
              "      <td>success</td>\n",
              "      <td>0</td>\n",
              "    </tr>\n",
              "    <tr>\n",
              "      <th>2</th>\n",
              "      <td>10561</td>\n",
              "      <td>The Landing</td>\n",
              "      <td>79605</td>\n",
              "      <td>5450 Texas Ave</td>\n",
              "      <td>Abilene</td>\n",
              "      <td>TX</td>\n",
              "      <td>609</td>\n",
              "      <td>2</td>\n",
              "      <td>stable</td>\n",
              "      <td>B</td>\n",
              "      <td>...</td>\n",
              "      <td>893.0</td>\n",
              "      <td>1.466</td>\n",
              "      <td>NaN</td>\n",
              "      <td>0.970</td>\n",
              "      <td>893.0</td>\n",
              "      <td>1.466</td>\n",
              "      <td>2</td>\n",
              "      <td>10180</td>\n",
              "      <td>success</td>\n",
              "      <td>0</td>\n",
              "    </tr>\n",
              "    <tr>\n",
              "      <th>3</th>\n",
              "      <td>10762</td>\n",
              "      <td>Curry Junction</td>\n",
              "      <td>79606</td>\n",
              "      <td>3549 Curry Ln</td>\n",
              "      <td>Abilene</td>\n",
              "      <td>TX</td>\n",
              "      <td>819</td>\n",
              "      <td>2</td>\n",
              "      <td>stable</td>\n",
              "      <td>B</td>\n",
              "      <td>...</td>\n",
              "      <td>1021.0</td>\n",
              "      <td>1.245</td>\n",
              "      <td>NaN</td>\n",
              "      <td>0.972</td>\n",
              "      <td>1021.0</td>\n",
              "      <td>1.245</td>\n",
              "      <td>3</td>\n",
              "      <td>10180</td>\n",
              "      <td>success</td>\n",
              "      <td>0</td>\n",
              "    </tr>\n",
              "    <tr>\n",
              "      <th>4</th>\n",
              "      <td>11055</td>\n",
              "      <td>Indian Run</td>\n",
              "      <td>79606</td>\n",
              "      <td>3549 Cedar Run Rd</td>\n",
              "      <td>Abilene</td>\n",
              "      <td>TX</td>\n",
              "      <td>738</td>\n",
              "      <td>2</td>\n",
              "      <td>stable</td>\n",
              "      <td>B</td>\n",
              "      <td>...</td>\n",
              "      <td>912.0</td>\n",
              "      <td>1.235</td>\n",
              "      <td>NaN</td>\n",
              "      <td>0.934</td>\n",
              "      <td>912.0</td>\n",
              "      <td>1.235</td>\n",
              "      <td>4</td>\n",
              "      <td>10180</td>\n",
              "      <td>success</td>\n",
              "      <td>0</td>\n",
              "    </tr>\n",
              "  </tbody>\n",
              "</table>\n",
              "<p>5 rows × 30 columns</p>\n",
              "</div>\n",
              "    <div class=\"colab-df-buttons\">\n",
              "\n",
              "  <div class=\"colab-df-container\">\n",
              "    <button class=\"colab-df-convert\" onclick=\"convertToInteractive('df-161265e6-68ad-4748-a862-3bbf9cf6d7f6')\"\n",
              "            title=\"Convert this dataframe to an interactive table.\"\n",
              "            style=\"display:none;\">\n",
              "\n",
              "  <svg xmlns=\"http://www.w3.org/2000/svg\" height=\"24px\" viewBox=\"0 -960 960 960\">\n",
              "    <path d=\"M120-120v-720h720v720H120Zm60-500h600v-160H180v160Zm220 220h160v-160H400v160Zm0 220h160v-160H400v160ZM180-400h160v-160H180v160Zm440 0h160v-160H620v160ZM180-180h160v-160H180v160Zm440 0h160v-160H620v160Z\"/>\n",
              "  </svg>\n",
              "    </button>\n",
              "\n",
              "  <style>\n",
              "    .colab-df-container {\n",
              "      display:flex;\n",
              "      gap: 12px;\n",
              "    }\n",
              "\n",
              "    .colab-df-convert {\n",
              "      background-color: #E8F0FE;\n",
              "      border: none;\n",
              "      border-radius: 50%;\n",
              "      cursor: pointer;\n",
              "      display: none;\n",
              "      fill: #1967D2;\n",
              "      height: 32px;\n",
              "      padding: 0 0 0 0;\n",
              "      width: 32px;\n",
              "    }\n",
              "\n",
              "    .colab-df-convert:hover {\n",
              "      background-color: #E2EBFA;\n",
              "      box-shadow: 0px 1px 2px rgba(60, 64, 67, 0.3), 0px 1px 3px 1px rgba(60, 64, 67, 0.15);\n",
              "      fill: #174EA6;\n",
              "    }\n",
              "\n",
              "    .colab-df-buttons div {\n",
              "      margin-bottom: 4px;\n",
              "    }\n",
              "\n",
              "    [theme=dark] .colab-df-convert {\n",
              "      background-color: #3B4455;\n",
              "      fill: #D2E3FC;\n",
              "    }\n",
              "\n",
              "    [theme=dark] .colab-df-convert:hover {\n",
              "      background-color: #434B5C;\n",
              "      box-shadow: 0px 1px 3px 1px rgba(0, 0, 0, 0.15);\n",
              "      filter: drop-shadow(0px 1px 2px rgba(0, 0, 0, 0.3));\n",
              "      fill: #FFFFFF;\n",
              "    }\n",
              "  </style>\n",
              "\n",
              "    <script>\n",
              "      const buttonEl =\n",
              "        document.querySelector('#df-161265e6-68ad-4748-a862-3bbf9cf6d7f6 button.colab-df-convert');\n",
              "      buttonEl.style.display =\n",
              "        google.colab.kernel.accessAllowed ? 'block' : 'none';\n",
              "\n",
              "      async function convertToInteractive(key) {\n",
              "        const element = document.querySelector('#df-161265e6-68ad-4748-a862-3bbf9cf6d7f6');\n",
              "        const dataTable =\n",
              "          await google.colab.kernel.invokeFunction('convertToInteractive',\n",
              "                                                    [key], {});\n",
              "        if (!dataTable) return;\n",
              "\n",
              "        const docLinkHtml = 'Like what you see? Visit the ' +\n",
              "          '<a target=\"_blank\" href=https://colab.research.google.com/notebooks/data_table.ipynb>data table notebook</a>'\n",
              "          + ' to learn more about interactive tables.';\n",
              "        element.innerHTML = '';\n",
              "        dataTable['output_type'] = 'display_data';\n",
              "        await google.colab.output.renderOutput(dataTable, element);\n",
              "        const docLink = document.createElement('div');\n",
              "        docLink.innerHTML = docLinkHtml;\n",
              "        element.appendChild(docLink);\n",
              "      }\n",
              "    </script>\n",
              "  </div>\n",
              "\n",
              "\n",
              "<div id=\"df-0d740b5c-ebba-4dae-81eb-1a85586778ba\">\n",
              "  <button class=\"colab-df-quickchart\" onclick=\"quickchart('df-0d740b5c-ebba-4dae-81eb-1a85586778ba')\"\n",
              "            title=\"Suggest charts\"\n",
              "            style=\"display:none;\">\n",
              "\n",
              "<svg xmlns=\"http://www.w3.org/2000/svg\" height=\"24px\"viewBox=\"0 0 24 24\"\n",
              "     width=\"24px\">\n",
              "    <g>\n",
              "        <path d=\"M19 3H5c-1.1 0-2 .9-2 2v14c0 1.1.9 2 2 2h14c1.1 0 2-.9 2-2V5c0-1.1-.9-2-2-2zM9 17H7v-7h2v7zm4 0h-2V7h2v10zm4 0h-2v-4h2v4z\"/>\n",
              "    </g>\n",
              "</svg>\n",
              "  </button>\n",
              "\n",
              "<style>\n",
              "  .colab-df-quickchart {\n",
              "      --bg-color: #E8F0FE;\n",
              "      --fill-color: #1967D2;\n",
              "      --hover-bg-color: #E2EBFA;\n",
              "      --hover-fill-color: #174EA6;\n",
              "      --disabled-fill-color: #AAA;\n",
              "      --disabled-bg-color: #DDD;\n",
              "  }\n",
              "\n",
              "  [theme=dark] .colab-df-quickchart {\n",
              "      --bg-color: #3B4455;\n",
              "      --fill-color: #D2E3FC;\n",
              "      --hover-bg-color: #434B5C;\n",
              "      --hover-fill-color: #FFFFFF;\n",
              "      --disabled-bg-color: #3B4455;\n",
              "      --disabled-fill-color: #666;\n",
              "  }\n",
              "\n",
              "  .colab-df-quickchart {\n",
              "    background-color: var(--bg-color);\n",
              "    border: none;\n",
              "    border-radius: 50%;\n",
              "    cursor: pointer;\n",
              "    display: none;\n",
              "    fill: var(--fill-color);\n",
              "    height: 32px;\n",
              "    padding: 0;\n",
              "    width: 32px;\n",
              "  }\n",
              "\n",
              "  .colab-df-quickchart:hover {\n",
              "    background-color: var(--hover-bg-color);\n",
              "    box-shadow: 0 1px 2px rgba(60, 64, 67, 0.3), 0 1px 3px 1px rgba(60, 64, 67, 0.15);\n",
              "    fill: var(--button-hover-fill-color);\n",
              "  }\n",
              "\n",
              "  .colab-df-quickchart-complete:disabled,\n",
              "  .colab-df-quickchart-complete:disabled:hover {\n",
              "    background-color: var(--disabled-bg-color);\n",
              "    fill: var(--disabled-fill-color);\n",
              "    box-shadow: none;\n",
              "  }\n",
              "\n",
              "  .colab-df-spinner {\n",
              "    border: 2px solid var(--fill-color);\n",
              "    border-color: transparent;\n",
              "    border-bottom-color: var(--fill-color);\n",
              "    animation:\n",
              "      spin 1s steps(1) infinite;\n",
              "  }\n",
              "\n",
              "  @keyframes spin {\n",
              "    0% {\n",
              "      border-color: transparent;\n",
              "      border-bottom-color: var(--fill-color);\n",
              "      border-left-color: var(--fill-color);\n",
              "    }\n",
              "    20% {\n",
              "      border-color: transparent;\n",
              "      border-left-color: var(--fill-color);\n",
              "      border-top-color: var(--fill-color);\n",
              "    }\n",
              "    30% {\n",
              "      border-color: transparent;\n",
              "      border-left-color: var(--fill-color);\n",
              "      border-top-color: var(--fill-color);\n",
              "      border-right-color: var(--fill-color);\n",
              "    }\n",
              "    40% {\n",
              "      border-color: transparent;\n",
              "      border-right-color: var(--fill-color);\n",
              "      border-top-color: var(--fill-color);\n",
              "    }\n",
              "    60% {\n",
              "      border-color: transparent;\n",
              "      border-right-color: var(--fill-color);\n",
              "    }\n",
              "    80% {\n",
              "      border-color: transparent;\n",
              "      border-right-color: var(--fill-color);\n",
              "      border-bottom-color: var(--fill-color);\n",
              "    }\n",
              "    90% {\n",
              "      border-color: transparent;\n",
              "      border-bottom-color: var(--fill-color);\n",
              "    }\n",
              "  }\n",
              "</style>\n",
              "\n",
              "  <script>\n",
              "    async function quickchart(key) {\n",
              "      const quickchartButtonEl =\n",
              "        document.querySelector('#' + key + ' button');\n",
              "      quickchartButtonEl.disabled = true;  // To prevent multiple clicks.\n",
              "      quickchartButtonEl.classList.add('colab-df-spinner');\n",
              "      try {\n",
              "        const charts = await google.colab.kernel.invokeFunction(\n",
              "            'suggestCharts', [key], {});\n",
              "      } catch (error) {\n",
              "        console.error('Error during call to suggestCharts:', error);\n",
              "      }\n",
              "      quickchartButtonEl.classList.remove('colab-df-spinner');\n",
              "      quickchartButtonEl.classList.add('colab-df-quickchart-complete');\n",
              "    }\n",
              "    (() => {\n",
              "      let quickchartButtonEl =\n",
              "        document.querySelector('#df-0d740b5c-ebba-4dae-81eb-1a85586778ba button');\n",
              "      quickchartButtonEl.style.display =\n",
              "        google.colab.kernel.accessAllowed ? 'block' : 'none';\n",
              "    })();\n",
              "  </script>\n",
              "</div>\n",
              "\n",
              "    </div>\n",
              "  </div>\n"
            ],
            "application/vnd.google.colaboratory.intrinsic+json": {
              "type": "dataframe",
              "variable_name": "df_cleaned"
            }
          },
          "metadata": {},
          "execution_count": 4
        }
      ]
    },
    {
      "cell_type": "code",
      "source": [
        "\n",
        "\n",
        "# Load dataset\n",
        "df = pd.read_csv(\"cbsa_data_final_cleaned.csv\", low_memory=False)\n",
        "numeric_cols = df.select_dtypes(include=[np.number]).columns.tolist()\n",
        "df_numeric = df[numeric_cols].copy()\n",
        "\n",
        "if \"MPF-RENT\" not in df_numeric.columns:\n",
        "    raise ValueError(\"MPF-RENT column is missing\")\n",
        "\n",
        "df_numeric.fillna(df_numeric.median(), inplace=True)\n",
        "\n",
        "X = df_numeric.drop(columns=[\"MPF-RENT\"], errors=\"ignore\")\n",
        "y = df_numeric[\"MPF-RENT\"]\n",
        "\n",
        "if X.empty or y.empty:\n",
        "    raise ValueError(\"X or y is empty after preprocessing\")\n",
        "\n",
        "X_train, X_test, y_train, y_test = train_test_split(X, y, test_size=0.2, random_state=42)\n",
        "\n",
        "# Regression Model\n",
        "X_train_const = sm.add_constant(X_train)\n",
        "model = sm.OLS(y_train, X_train_const).fit()\n",
        "\n",
        "# Model Summary\n",
        "print(model.summary())\n"
      ],
      "metadata": {
        "colab": {
          "base_uri": "https://localhost:8080/"
        },
        "id": "osoKRWh1c2n4",
        "outputId": "b78216cb-5751-47da-813b-d89883b30893"
      },
      "execution_count": 5,
      "outputs": [
        {
          "output_type": "stream",
          "name": "stdout",
          "text": [
            "                            OLS Regression Results                            \n",
            "==============================================================================\n",
            "Dep. Variable:               MPF-RENT   R-squared:                       0.999\n",
            "Model:                            OLS   Adj. R-squared:                  0.999\n",
            "Method:                 Least Squares   F-statistic:                 2.665e+06\n",
            "Date:                Sat, 29 Mar 2025   Prob (F-statistic):               0.00\n",
            "Time:                        22:16:05   Log-Likelihood:            -1.4318e+05\n",
            "No. Observations:               33600   AIC:                         2.864e+05\n",
            "Df Residuals:                   33583   BIC:                         2.865e+05\n",
            "Df Model:                          16                                         \n",
            "Covariance Type:            nonrobust                                         \n",
            "=========================================================================================\n",
            "                            coef    std err          t      P>|t|      [0.025      0.975]\n",
            "-----------------------------------------------------------------------------------------\n",
            "const                  -184.3393     10.788    -17.088      0.000    -205.483    -163.195\n",
            "propertyId             -1.33e-05   1.19e-06    -11.172      0.000   -1.56e-05    -1.1e-05\n",
            "averageSquareFootage     -0.0007      0.001     -0.912      0.362      -0.002       0.001\n",
            "stories                   0.1061      0.027      3.935      0.000       0.053       0.159\n",
            "latitude                  0.1945      0.021      9.487      0.000       0.154       0.235\n",
            "longitude                 0.0170      0.007      2.509      0.012       0.004       0.030\n",
            "unitcount             -6.084e-05      0.001     -0.086      0.932      -0.001       0.001\n",
            "yearBuilt                 0.0886      0.005     16.358      0.000       0.078       0.099\n",
            "MPF-ANN-RENT-CHG          4.1811      1.374      3.043      0.002       1.488       6.874\n",
            "MPF-HIST-ASK-RENT         0.9785      0.000   2226.495      0.000       0.978       0.979\n",
            "MPF-HIST-AVG-ASK-RPSF  -826.9674      1.643   -503.406      0.000    -830.187    -823.748\n",
            "MPF-HIST-CONC-RATIO     -96.1855      5.020    -19.160      0.000    -106.025     -86.346\n",
            "MPF-OCC                  14.1837      0.574     24.725      0.000      13.059      15.308\n",
            "MPF-RPSF                844.6217      1.633    517.074      0.000     841.420     847.823\n",
            "data_index               -0.0011      0.000     -4.360      0.000      -0.002      -0.001\n",
            "cbsa_code              2.374e-05   8.28e-06      2.866      0.004     7.5e-06       4e-05\n",
            "uses_realpage            -0.0407      0.297     -0.137      0.891      -0.624       0.542\n",
            "==============================================================================\n",
            "Omnibus:                    14064.018   Durbin-Watson:                   2.008\n",
            "Prob(Omnibus):                  0.000   Jarque-Bera (JB):         22119544.043\n",
            "Skew:                          -0.260   Prob(JB):                         0.00\n",
            "Kurtosis:                     128.696   Cond. No.                     2.04e+07\n",
            "==============================================================================\n",
            "\n",
            "Notes:\n",
            "[1] Standard Errors assume that the covariance matrix of the errors is correctly specified.\n",
            "[2] The condition number is large, 2.04e+07. This might indicate that there are\n",
            "strong multicollinearity or other numerical problems.\n"
          ]
        }
      ]
    },
    {
      "cell_type": "code",
      "source": [
        "from statsmodels.stats.outliers_influence import variance_inflation_factor\n",
        "\n",
        "# Compute VIF\n",
        "X_vif = sm.add_constant(X_train)\n",
        "vif_data = pd.DataFrame()\n",
        "vif_data[\"Feature\"] = X_vif.columns\n",
        "vif_data[\"VIF\"] = [variance_inflation_factor(X_vif.values, i) for i in range(X_vif.shape[1])]\n",
        "\n",
        "# Display VIF values\n",
        "print(vif_data.sort_values(by=\"VIF\", ascending=False))\n"
      ],
      "metadata": {
        "colab": {
          "base_uri": "https://localhost:8080/"
        },
        "id": "quAm13oEfpVQ",
        "outputId": "2f0ef104-9562-4c52-d94c-1ea341c56501"
      },
      "execution_count": 6,
      "outputs": [
        {
          "output_type": "stream",
          "name": "stdout",
          "text": [
            "                  Feature           VIF\n",
            "0                   const  13277.748471\n",
            "10  MPF-HIST-AVG-ASK-RPSF    157.714766\n",
            "13               MPF-RPSF    148.678003\n",
            "9       MPF-HIST-ASK-RENT      8.684156\n",
            "2    averageSquareFootage      3.281505\n",
            "1              propertyId      1.789149\n",
            "7               yearBuilt      1.606027\n",
            "11    MPF-HIST-CONC-RATIO      1.588995\n",
            "12                MPF-OCC      1.457892\n",
            "14             data_index      1.311653\n",
            "3                 stories      1.305810\n",
            "4                latitude      1.225063\n",
            "6               unitcount      1.163557\n",
            "5               longitude      1.123366\n",
            "8        MPF-ANN-RENT-CHG      1.097844\n",
            "16          uses_realpage      1.097536\n",
            "15              cbsa_code      1.081347\n"
          ]
        }
      ]
    },
    {
      "cell_type": "code",
      "source": [
        "# Drop the highly collinear feature\n",
        "X_train = X_train.drop(columns=[\"MPF-HIST-AVG-ASK-RPSF\"], errors=\"ignore\")\n",
        "X_test = X_test.drop(columns=[\"MPF-HIST-AVG-ASK-RPSF\"], errors=\"ignore\")\n",
        "\n",
        "# Re-run regression\n",
        "model_v2 = sm.OLS(y_train, sm.add_constant(X_train)).fit()\n",
        "\n",
        "# Print updated regression summary\n",
        "print(model_v2.summary())\n"
      ],
      "metadata": {
        "colab": {
          "base_uri": "https://localhost:8080/"
        },
        "id": "-OcwZzpYgUg_",
        "outputId": "b151e614-b676-42d3-b182-8d4f8759648c"
      },
      "execution_count": 7,
      "outputs": [
        {
          "output_type": "stream",
          "name": "stdout",
          "text": [
            "                            OLS Regression Results                            \n",
            "==============================================================================\n",
            "Dep. Variable:               MPF-RENT   R-squared:                       0.993\n",
            "Model:                            OLS   Adj. R-squared:                  0.993\n",
            "Method:                 Least Squares   F-statistic:                 3.306e+05\n",
            "Date:                Sat, 29 Mar 2025   Prob (F-statistic):               0.00\n",
            "Time:                        22:16:11   Log-Likelihood:            -1.7922e+05\n",
            "No. Observations:               33600   AIC:                         3.585e+05\n",
            "Df Residuals:                   33584   BIC:                         3.586e+05\n",
            "Df Model:                          15                                         \n",
            "Covariance Type:            nonrobust                                         \n",
            "========================================================================================\n",
            "                           coef    std err          t      P>|t|      [0.025      0.975]\n",
            "----------------------------------------------------------------------------------------\n",
            "const                   -2.1792     31.518     -0.069      0.945     -63.955      59.596\n",
            "propertyId           -4.036e-05   3.48e-06    -11.613      0.000   -4.72e-05   -3.35e-05\n",
            "averageSquareFootage     0.0668      0.002     30.922      0.000       0.063       0.071\n",
            "stories                 -0.8598      0.079    -10.931      0.000      -1.014      -0.706\n",
            "latitude                 0.3155      0.060      5.264      0.000       0.198       0.433\n",
            "longitude                0.0311      0.020      1.574      0.115      -0.008       0.070\n",
            "unitcount               -0.0044      0.002     -2.115      0.034      -0.008      -0.000\n",
            "yearBuilt               -0.0168      0.016     -1.060      0.289      -0.048       0.014\n",
            "MPF-ANN-RENT-CHG       120.0289      3.960     30.311      0.000     112.267     127.790\n",
            "MPF-HIST-ASK-RENT        0.9359      0.001    742.369      0.000       0.933       0.938\n",
            "MPF-HIST-CONC-RATIO  -1381.3405     12.636   -109.320      0.000   -1406.107   -1356.574\n",
            "MPF-OCC                101.2557      1.599     63.327      0.000      98.122     104.390\n",
            "MPF-RPSF                44.6313      1.105     40.403      0.000      42.466      46.796\n",
            "data_index              -0.0062      0.001     -8.303      0.000      -0.008      -0.005\n",
            "cbsa_code            -3.379e-05   2.42e-05     -1.396      0.163   -8.13e-05    1.37e-05\n",
            "uses_realpage           -0.5326      0.869     -0.613      0.540      -2.236       1.171\n",
            "==============================================================================\n",
            "Omnibus:                    14309.611   Durbin-Watson:                   1.998\n",
            "Prob(Omnibus):                  0.000   Jarque-Bera (JB):           231583.215\n",
            "Skew:                          -1.626   Prob(JB):                         0.00\n",
            "Kurtosis:                      15.444   Cond. No.                     2.04e+07\n",
            "==============================================================================\n",
            "\n",
            "Notes:\n",
            "[1] Standard Errors assume that the covariance matrix of the errors is correctly specified.\n",
            "[2] The condition number is large, 2.04e+07. This might indicate that there are\n",
            "strong multicollinearity or other numerical problems.\n"
          ]
        }
      ]
    },
    {
      "cell_type": "markdown",
      "source": [
        "Drop columns"
      ],
      "metadata": {
        "id": "sSRxX__cELO2"
      }
    },
    {
      "cell_type": "code",
      "source": [
        "cols_to_drop = [\n",
        "    \"propertyId\", \"data_index\", \"cbsa_code\",  # ID fields\n",
        "    \"MPF-HIST-AVG-ASK-RPSF\"  # collinear\n",
        "]\n",
        "\n",
        "X_train = X_train.drop(columns=[col for col in cols_to_drop if col in X_train.columns], errors=\"ignore\")\n",
        "X_test = X_test.drop(columns=[col for col in cols_to_drop if col in X_test.columns], errors=\"ignore\")\n"
      ],
      "metadata": {
        "id": "Q0x6TnQYEKPe"
      },
      "execution_count": 8,
      "outputs": []
    },
    {
      "cell_type": "code",
      "source": [
        "model_v3 = sm.OLS(y_train, sm.add_constant(X_train)).fit()\n",
        "print(model_v3.summary())"
      ],
      "metadata": {
        "colab": {
          "base_uri": "https://localhost:8080/"
        },
        "id": "f5SqsQugEVsn",
        "outputId": "d0f1dd07-0903-43b4-c19a-02f2c7b65eaa"
      },
      "execution_count": 9,
      "outputs": [
        {
          "output_type": "stream",
          "name": "stdout",
          "text": [
            "                            OLS Regression Results                            \n",
            "==============================================================================\n",
            "Dep. Variable:               MPF-RENT   R-squared:                       0.993\n",
            "Model:                            OLS   Adj. R-squared:                  0.993\n",
            "Method:                 Least Squares   F-statistic:                 4.097e+05\n",
            "Date:                Sat, 29 Mar 2025   Prob (F-statistic):               0.00\n",
            "Time:                        22:16:14   Log-Likelihood:            -1.7937e+05\n",
            "No. Observations:               33600   AIC:                         3.588e+05\n",
            "Df Residuals:                   33587   BIC:                         3.589e+05\n",
            "Df Model:                          12                                         \n",
            "Covariance Type:            nonrobust                                         \n",
            "========================================================================================\n",
            "                           coef    std err          t      P>|t|      [0.025      0.975]\n",
            "----------------------------------------------------------------------------------------\n",
            "const                  165.5779     29.064      5.697      0.000     108.611     222.545\n",
            "averageSquareFootage     0.0670      0.002     30.942      0.000       0.063       0.071\n",
            "stories                 -0.9097      0.079    -11.569      0.000      -1.064      -0.756\n",
            "latitude                 0.2870      0.057      5.034      0.000       0.175       0.399\n",
            "longitude                0.0108      0.020      0.551      0.581      -0.027       0.049\n",
            "unitcount                0.0015      0.002      0.724      0.469      -0.002       0.005\n",
            "yearBuilt               -0.1081      0.014     -7.462      0.000      -0.137      -0.080\n",
            "MPF-ANN-RENT-CHG       119.9257      3.963     30.263      0.000     112.159     127.693\n",
            "MPF-HIST-ASK-RENT        0.9357      0.001    741.002      0.000       0.933       0.938\n",
            "MPF-HIST-CONC-RATIO  -1403.0389     12.627   -111.116      0.000   -1427.788   -1378.290\n",
            "MPF-OCC                108.3637      1.532     70.712      0.000     105.360     111.367\n",
            "MPF-RPSF                44.3434      1.109     40.003      0.000      42.171      46.516\n",
            "uses_realpage           -0.5525      0.871     -0.635      0.526      -2.259       1.154\n",
            "==============================================================================\n",
            "Omnibus:                    14191.297   Durbin-Watson:                   1.996\n",
            "Prob(Omnibus):                  0.000   Jarque-Bera (JB):           221796.116\n",
            "Skew:                          -1.618   Prob(JB):                         0.00\n",
            "Kurtosis:                      15.163   Cond. No.                     2.95e+05\n",
            "==============================================================================\n",
            "\n",
            "Notes:\n",
            "[1] Standard Errors assume that the covariance matrix of the errors is correctly specified.\n",
            "[2] The condition number is large, 2.95e+05. This might indicate that there are\n",
            "strong multicollinearity or other numerical problems.\n"
          ]
        }
      ]
    },
    {
      "cell_type": "markdown",
      "source": [
        "# PROPENSITY SCORE MATCHING"
      ],
      "metadata": {
        "id": "ib-8ficTd0Bq"
      }
    },
    {
      "cell_type": "code",
      "source": [
        "import pandas as pd\n",
        "import numpy as np\n",
        "from sklearn.linear_model import LogisticRegression\n",
        "from sklearn.neighbors import NearestNeighbors\n",
        "from sklearn.preprocessing import StandardScaler\n",
        "\n",
        "#  data\n",
        "df_psm = df_cleaned.copy()\n",
        "\n",
        "treatment = 'uses_realpage'\n",
        "\n",
        "# Covariates matching\n",
        "covariates = [\n",
        "    'averageSquareFootage', 'stories', 'latitude', 'longitude',\n",
        "    'unitcount', 'yearBuilt', 'MPF-OCC', 'MPF-HIST-CONC-RATIO'\n",
        "]\n",
        "\n",
        "# Drop rows\n",
        "df_psm = df_psm.dropna(subset=covariates + [treatment])\n"
      ],
      "metadata": {
        "id": "M9B5GOxod3q3"
      },
      "execution_count": 10,
      "outputs": []
    },
    {
      "cell_type": "code",
      "source": [
        "# Normalize\n",
        "scaler = StandardScaler()\n",
        "X_scaled = scaler.fit_transform(df_psm[covariates])\n",
        "\n",
        "# Logistic regression\n",
        "logit = LogisticRegression()\n",
        "logit.fit(X_scaled, df_psm[treatment])\n",
        "df_psm['propensity_score'] = logit.predict_proba(X_scaled)[:, 1]\n"
      ],
      "metadata": {
        "id": "__CRt4lLeB0I"
      },
      "execution_count": 11,
      "outputs": []
    },
    {
      "cell_type": "code",
      "source": [
        "# Split treatment/control\n",
        "treated = df_psm[df_psm[treatment] == 1]\n",
        "control = df_psm[df_psm[treatment] == 0]\n",
        "\n",
        "# nearest neibor\n",
        "nn = NearestNeighbors(n_neighbors=1)\n",
        "nn.fit(control[['propensity_score']])\n",
        "distances, indices = nn.kneighbors(treated[['propensity_score']])\n",
        "\n",
        "# get matched\n",
        "matched_control = control.iloc[indices.flatten()].copy()\n",
        "matched_control['match_id'] = treated.index\n",
        "treated_matched = treated.copy()\n",
        "treated_matched['match_id'] = treated.index\n",
        "\n",
        "matched_df = pd.concat([treated_matched, matched_control], axis=0)\n"
      ],
      "metadata": {
        "id": "SiMMHWfueC8c"
      },
      "execution_count": 12,
      "outputs": []
    },
    {
      "cell_type": "markdown",
      "source": [
        "Propensity Score Matching Results"
      ],
      "metadata": {
        "id": "vTG4iMwYAJCb"
      }
    },
    {
      "cell_type": "code",
      "source": [
        "# Check mean rent between groups\n",
        "rent_treated = treated_matched['MPF-RENT']\n",
        "rent_control = matched_control['MPF-RENT']\n",
        "\n",
        "att = rent_treated.mean() - rent_control.mean()\n",
        "print(f\"RealPage vs not RealPage cost difference (ATT): {att:.2f}\")\n"
      ],
      "metadata": {
        "colab": {
          "base_uri": "https://localhost:8080/"
        },
        "id": "o6ioPTuJeFkW",
        "outputId": "9f4cf5b7-174b-4754-d57b-8aab1e69ebd5"
      },
      "execution_count": 14,
      "outputs": [
        {
          "output_type": "stream",
          "name": "stdout",
          "text": [
            "RealPage vs not RealPage cost difference (ATT): 278.79\n"
          ]
        }
      ]
    },
    {
      "cell_type": "code",
      "source": [
        "\n",
        "\n",
        "sns.histplot(df_psm, x=\"propensity_score\", hue=\"uses_realpage\", element=\"step\", stat=\"density\", common_norm=False)\n",
        "plt.title(\"Propensity Score Distribution (Before Matching)\")\n",
        "plt.show()\n"
      ],
      "metadata": {
        "colab": {
          "base_uri": "https://localhost:8080/",
          "height": 472
        },
        "id": "rQNZCzvkeHld",
        "outputId": "841c72c4-c572-48cf-974a-2f3c27d66662"
      },
      "execution_count": 10,
      "outputs": [
        {
          "output_type": "display_data",
          "data": {
            "text/plain": [
              "<Figure size 640x480 with 1 Axes>"
            ],
            "image/png": "[encoded data removed]"
          },
          "metadata": {}
        }
      ]
    },
    {
      "cell_type": "code",
      "source": [
        "diff = treated_matched['MPF-RENT'].values - matched_control['MPF-RENT'].values\n",
        "\n",
        "sns.histplot(diff, bins=30, kde=True)\n",
        "plt.axvline(diff.mean(), color='red', linestyle='--')\n",
        "plt.title(\"Distribution of Rent Differences (RealPage - Non-RealPage)\")\n",
        "plt.xlabel(\"Rent Difference\")\n",
        "plt.ylabel(\"Count\")\n",
        "plt.show()\n"
      ],
      "metadata": {
        "colab": {
          "base_uri": "https://localhost:8080/",
          "height": 472
        },
        "id": "4NJlttYx_fGP",
        "outputId": "1dd829e8-bd18-4d7d-94d1-2eb22a890b80"
      },
      "execution_count": 16,
      "outputs": [
        {
          "output_type": "display_data",
          "data": {
            "text/plain": [
              "<Figure size 640x480 with 1 Axes>"
            ],
            "image/png": "[encoded data removed]"
          },
          "metadata": {}
        }
      ]
    },
    {
      "cell_type": "code",
      "source": [
        "print(f\"Total matched pairs: {len(treated_matched)}\")\n"
      ],
      "metadata": {
        "colab": {
          "base_uri": "https://localhost:8080/"
        },
        "id": "ZBRCDM9aA8-c",
        "outputId": "b87e7443-9c29-46d5-9098-3be3797aa51e"
      },
      "execution_count": 18,
      "outputs": [
        {
          "output_type": "stream",
          "name": "stdout",
          "text": [
            "Total matched pairs: 1860\n"
          ]
        }
      ]
    },
    {
      "cell_type": "code",
      "source": [
        "\n",
        "\n",
        "t_stat, p_value = ttest_rel(treated_matched['MPF-RENT'], matched_control['MPF-RENT'])\n",
        "print(f\"T-stat: {t_stat:.3f}, p-value: {p_value:.4f}\")\n"
      ],
      "metadata": {
        "colab": {
          "base_uri": "https://localhost:8080/"
        },
        "id": "VGG4bjybeTBJ",
        "outputId": "f11b4aa5-8256-4a9b-afb9-c7b72feb2af1"
      },
      "execution_count": 11,
      "outputs": [
        {
          "output_type": "stream",
          "name": "stdout",
          "text": [
            "T-stat: 11.826, p-value: 0.0000\n"
          ]
        }
      ]
    },
    {
      "cell_type": "code",
      "source": [
        "def standardized_mean_diff(treated, control, col):\n",
        "    mean_t = treated[col].mean()\n",
        "    mean_c = control[col].mean()\n",
        "    pooled_std = np.sqrt((treated[col].var() + control[col].var()) / 2)\n",
        "    return (mean_t - mean_c) / pooled_std\n",
        "\n",
        "balance_stats = {\n",
        "    col: standardized_mean_diff(treated_matched, matched_control, col)\n",
        "    for col in covariates  # the list you matched on\n",
        "}\n",
        "\n",
        "balance_df = pd.Series(balance_stats).sort_values()\n",
        "print(balance_df)\n"
      ],
      "metadata": {
        "colab": {
          "base_uri": "https://localhost:8080/"
        },
        "id": "QRe2xCiFACvB",
        "outputId": "e7309423-e295-4e04-ff79-550792441889"
      },
      "execution_count": 17,
      "outputs": [
        {
          "output_type": "stream",
          "name": "stdout",
          "text": [
            "averageSquareFootage   -0.047509\n",
            "yearBuilt              -0.014647\n",
            "unitcount              -0.013170\n",
            "MPF-HIST-CONC-RATIO     0.000952\n",
            "MPF-OCC                 0.006335\n",
            "latitude                0.014500\n",
            "longitude               0.025964\n",
            "stories                 0.091557\n",
            "dtype: float64\n"
          ]
        }
      ]
    },
    {
      "cell_type": "code",
      "source": [
        "\n",
        "df_matched = pd.DataFrame({\n",
        "    'Rent': pd.concat([treated_matched['MPF-RENT'], matched_control['MPF-RENT']]),\n",
        "    'Group': ['RealPage'] * len(treated_matched) + ['Non-RealPage'] * len(matched_control)\n",
        "})\n",
        "\n",
        "sns.boxplot(x=\"Group\", y=\"Rent\", data=df_matched)\n",
        "plt.title(\"Rent Comparison (Matched Sample)\")\n",
        "plt.ylabel(\"MPF-RENT\")\n",
        "plt.show()\n"
      ],
      "metadata": {
        "colab": {
          "base_uri": "https://localhost:8080/",
          "height": 472
        },
        "id": "qGN4dBH0eVyV",
        "outputId": "746c4ee1-6729-49a9-f6ce-14bbca5ca065"
      },
      "execution_count": 12,
      "outputs": [
        {
          "output_type": "display_data",
          "data": {
            "text/plain": [
              "<Figure size 640x480 with 1 Axes>"
            ],
            "image/png": "[encoded data removed]"
          },
          "metadata": {}
        }
      ]
    },
    {
      "cell_type": "markdown",
      "source": [
        "# Supervised Residual Analysis"
      ],
      "metadata": {
        "id": "GxPp_37jFWTC"
      }
    },
    {
      "cell_type": "code",
      "source": [
        "from sklearn.ensemble import RandomForestRegressor\n",
        "from sklearn.model_selection import train_test_split\n",
        "from scipy.stats import ttest_ind\n",
        "\n",
        "# Load clean\n",
        "df = pd.read_csv(\"cbsa_data_final_cleaned.csv\", low_memory=False)\n",
        "df = df.dropna()\n",
        "exclude_cols = [\"MPF-RENT\", \"uses_realpage\", \"propertyId\", \"data_index\", \"cbsa_code\", \"MPF-HIST-AVG-ASK-RPSF\"]\n",
        "features = [col for col in df.columns if col not in exclude_cols and df[col].dtype in [np.float64, np.int64]]\n",
        "# Target variable\n",
        "target = \"MPF-RENT\"\n",
        "\n",
        "assert target in df.columns and \"uses_realpage\" in df.columns\n",
        "X = df[features]\n",
        "y = df[target]\n",
        "\n",
        "# Train-test split\n",
        "X_train, X_test, y_train, y_test, idx_train, idx_test = train_test_split(X, y, df.index, test_size=0.2, random_state=42)\n",
        "\n",
        "# Fit Random Forest\n",
        "rf_model = RandomForestRegressor(n_estimators=100, random_state=42)\n",
        "rf_model.fit(X_train, y_train)\n",
        "\n",
        "# Predict on test set\n",
        "y_pred = rf_model.predict(X_test)\n",
        "\n",
        "# Create DataFrame with results\n",
        "df_results = pd.DataFrame({\n",
        "    \"actual_rent\": y_test.values,\n",
        "    \"predicted_rent\": y_pred,\n",
        "    \"residual\": y_test.values - y_pred,\n",
        "    \"uses_realpage\": df.loc[idx_test, \"uses_realpage\"].values\n",
        "})\n"
      ],
      "metadata": {
        "id": "Tjku0qxqHrWr"
      },
      "execution_count": 19,
      "outputs": []
    },
    {
      "cell_type": "code",
      "source": [
        "# Mean residual difference\n",
        "realpage_res = df_results[df_results[\"uses_realpage\"] == 1][\"residual\"]\n",
        "non_realpage_res = df_results[df_results[\"uses_realpage\"] == 0][\"residual\"]\n",
        "\n",
        "att_residual = realpage_res.mean() - non_realpage_res.mean()\n",
        "print(f\"Average Residual Difference (RealPage - Non-RealPage): ${att_residual:.2f}\")\n"
      ],
      "metadata": {
        "colab": {
          "base_uri": "https://localhost:8080/"
        },
        "id": "55dPs8TpJiIz",
        "outputId": "cc38fe68-e2c3-4bb5-8854-950bce64b245"
      },
      "execution_count": 20,
      "outputs": [
        {
          "output_type": "stream",
          "name": "stdout",
          "text": [
            "Average Residual Difference (RealPage - Non-RealPage): $1.85\n"
          ]
        }
      ]
    },
    {
      "cell_type": "code",
      "source": [
        "import seaborn as sns\n",
        "import matplotlib.pyplot as plt\n",
        "\n",
        "sns.boxplot(x=\"uses_realpage\", y=\"residual\", data=df_results)\n",
        "plt.axhline(0, color='red', linestyle='--')\n",
        "plt.title(\"Residual Rent Comparison\")\n",
        "plt.xlabel(\"Uses RealPage\")\n",
        "plt.ylabel(\"Actual - Predicted Rent\")\n",
        "plt.xticks([0, 1], [\"No\", \"Yes\"])\n",
        "plt.tight_layout()\n",
        "plt.show()\n"
      ],
      "metadata": {
        "colab": {
          "base_uri": "https://localhost:8080/",
          "height": 487
        },
        "id": "BvVE5BO-JkLD",
        "outputId": "4890f753-961c-4bf3-91f3-0f8d7fd02a3f"
      },
      "execution_count": 21,
      "outputs": [
        {
          "output_type": "display_data",
          "data": {
            "text/plain": [
              "<Figure size 640x480 with 1 Axes>"
            ],
            "image/png": "[encoded data removed]"
          },
          "metadata": {}
        }
      ]
    },
    {
      "cell_type": "code",
      "source": [
        "t_stat, p_val = ttest_ind(realpage_res, non_realpage_res, equal_var=False)\n",
        "print(f\"T-statistic: {t_stat:.3f}, p-value: {p_val:.4f}\")\n"
      ],
      "metadata": {
        "colab": {
          "base_uri": "https://localhost:8080/"
        },
        "id": "mit3Di5eJnem",
        "outputId": "02e7db47-7dcf-4c05-e0c0-f12b473848f4"
      },
      "execution_count": 22,
      "outputs": [
        {
          "output_type": "stream",
          "name": "stdout",
          "text": [
            "T-statistic: 0.411, p-value: 0.6816\n"
          ]
        }
      ]
    },
    {
      "cell_type": "markdown",
      "source": [
        "Residual analysis is not statistically significant"
      ],
      "metadata": {
        "id": "c9PObRppKlcH"
      }
    }
  ]
}