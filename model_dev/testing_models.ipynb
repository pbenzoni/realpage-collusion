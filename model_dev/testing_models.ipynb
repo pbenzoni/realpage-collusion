{
 "cells": [
  {
   "cell_type": "code",
   "execution_count": 51,
   "metadata": {},
   "outputs": [],
   "source": [
    "import pandas as pd\n",
    "import numpy as np\n",
    "from datetime import datetime\n",
    "from sklearn.model_selection import train_test_split\n",
    "from sklearn.compose import ColumnTransformer\n",
    "from sklearn.pipeline import Pipeline\n",
    "from sklearn.preprocessing import StandardScaler, OneHotEncoder\n",
    "from sklearn.linear_model import LogisticRegression\n",
    "from sklearn.ensemble import RandomForestRegressor\n",
    "from sklearn.metrics import classification_report, mean_squared_error\n",
    "from tensorflow.keras import layers, models\n",
    "from tensorflow.keras.callbacks import EarlyStopping"
   ]
  },
  {
   "cell_type": "code",
   "execution_count": 52,
   "metadata": {},
   "outputs": [],
   "source": [
    "np.random.seed(42)"
   ]
  },
  {
   "cell_type": "code",
   "execution_count": 53,
   "metadata": {},
   "outputs": [
    {
     "name": "stderr",
     "output_type": "stream",
     "text": [
      "C:\\Users\\ahmad\\AppData\\Local\\Temp\\ipykernel_43960\\2797901069.py:1: DtypeWarning: Columns (2) have mixed types. Specify dtype option on import or set low_memory=False.\n",
      "  df = pd.read_csv(\"cbsa_data_final_cleaned.csv\")\n"
     ]
    }
   ],
   "source": [
    "df = pd.read_csv(\"cbsa_data_final_cleaned.csv\")"
   ]
  },
  {
   "cell_type": "code",
   "execution_count": 54,
   "metadata": {},
   "outputs": [
    {
     "data": {
      "text/plain": [
       "Index(['propertyId', 'propertyName', 'zipCode', 'address', 'city', 'state',\n",
       "       'averageSquareFootage', 'stories', 'stable', 'class', 'latitude',\n",
       "       'longitude', 'imageHero', 'heroSource', 'submarketName', 'unitcount',\n",
       "       'yearBuilt', 'siteStatus', 'type', 'MPF-ANN-RENT-CHG',\n",
       "       'MPF-HIST-ASK-RENT', 'MPF-HIST-AVG-ASK-RPSF', 'MPF-HIST-CONC-RATIO',\n",
       "       'MPF-OCC', 'MPF-RENT', 'MPF-RPSF', 'data_index', 'cbsa_code', 'status',\n",
       "       'uses_realpage'],\n",
       "      dtype='object')"
      ]
     },
     "execution_count": 54,
     "metadata": {},
     "output_type": "execute_result"
    }
   ],
   "source": [
    "df.columns"
   ]
  },
  {
   "cell_type": "code",
   "execution_count": 55,
   "metadata": {},
   "outputs": [],
   "source": [
    "# developing yearsold column (this is just the year the property was built minus the current year)\n",
    "current_year = datetime.now().year\n",
    "df['yearsold'] = current_year - df['yearBuilt']"
   ]
  },
  {
   "cell_type": "code",
   "execution_count": 56,
   "metadata": {},
   "outputs": [],
   "source": [
    "# selecting relevant columns to use in the model\n",
    "cols = [\n",
    "    'cbsa_code', 'averageSquareFootage', 'stories', 'class', 'unitcount', 'yearsold', 'MPF-OCC', 'MPF-RPSF', 'uses_realpage'\n",
    "]\n",
    "df.dropna(subset=cols,inplace=True)"
   ]
  },
  {
   "cell_type": "markdown",
   "metadata": {},
   "source": [
    "# Model 1: Predicting the Usage of RealPage\n",
    "\n",
    "In this section, we'll develop a binary classification model to predict whether a property uses RealPage. The key steps include:\n",
    "\n",
    "- **Preprocessing & Feature Engineering:**\n",
    "  - Compute `yearsold` from the `yearBuilt` column (Current year - yearBuilt).  \n",
    "  - Standardize numerical features using StandardScaler.\n",
    "  - One-hot encode categorical features (CBSA code and class).\n",
    "  - Eliminate any NA rows\n",
    "\n",
    "- **Modeling:**  \n",
    "  - Use logistic regression to estimate the propensity (probability) that a property uses RealPage.\n",
    "  - Perform an 80/20 train-test split for model evaluation.\n",
    "\n",
    "- **Evaluation:**  \n",
    "  - Generate a classification report with metrics like precision, recall, and F1-score.\n",
    "\n",
    "Goal: Prompt a user for input variables and make a prediction based on the variables whether it is a realpage user or not\n",
    "\n",
    "\n",
    "Columns used in model:\n",
    "<br>  - `cbsa_code`\n",
    "<br>    - `averageSquareFootage`\n",
    "<br>    - `stories`\n",
    "<br>    - `class`\n",
    "<br>    - `unitcount`\n",
    "<br>    - `yearsold`\n",
    "<br>    - `MPF-OCC`\n",
    "<br>    - `MPF-RPSF`\n",
    "<br>    - `uses_realpage`\n",
    "\n",
    "Please refer to the website (https://uc-berkeley-i-school.github.io/realpage-collusion/) for definitions of the columns.\n"
   ]
  },
  {
   "cell_type": "code",
   "execution_count": 57,
   "metadata": {},
   "outputs": [],
   "source": [
    "#creating our treatment and control groups\n",
    "features_treatment = ['averageSquareFootage', 'stories', 'cbsa_code', 'class', 'yearsold', 'MPF-OCC', 'unitcount', 'MPF-RPSF']\n",
    "X_treatment = df[features_treatment]\n",
    "y_treatment = df['uses_realpage']\n",
    "\n",
    "# assigning numeric and categorical features\n",
    "numeric_features_treatment = ['averageSquareFootage', 'stories', 'yearsold', 'MPF-OCC', 'unitcount', 'MPF-RPSF']\n",
    "categorical_features_treatment = ['cbsa_code', 'class']"
   ]
  },
  {
   "cell_type": "code",
   "execution_count": 58,
   "metadata": {},
   "outputs": [],
   "source": [
    "preprocessor_treatment = ColumnTransformer(\n",
    "    transformers=[\n",
    "        ('num', StandardScaler(), numeric_features_treatment),\n",
    "        ('cat', OneHotEncoder(handle_unknown='ignore'), categorical_features_treatment)\n",
    "    ]\n",
    ")"
   ]
  },
  {
   "cell_type": "code",
   "execution_count": 59,
   "metadata": {},
   "outputs": [],
   "source": [
    "clf_pipeline = Pipeline(steps=[\n",
    "    ('preprocessor', preprocessor_treatment),\n",
    "    ('classifier', LogisticRegression(solver='liblinear', random_state=42))\n",
    "])"
   ]
  },
  {
   "cell_type": "code",
   "execution_count": 60,
   "metadata": {},
   "outputs": [],
   "source": [
    "X_treat_train, X_treat_test, y_treat_train, y_treat_test = train_test_split(\n",
    "    X_treatment, y_treatment, test_size=0.2, random_state=42\n",
    ")"
   ]
  },
  {
   "cell_type": "code",
   "execution_count": 61,
   "metadata": {},
   "outputs": [
    {
     "data": {
      "text/html": [
       "<style>#sk-container-id-2 {color: black;}#sk-container-id-2 pre{padding: 0;}#sk-container-id-2 div.sk-toggleable {background-color: white;}#sk-container-id-2 label.sk-toggleable__label {cursor: pointer;display: block;width: 100%;margin-bottom: 0;padding: 0.3em;box-sizing: border-box;text-align: center;}#sk-container-id-2 label.sk-toggleable__label-arrow:before {content: \"▸\";float: left;margin-right: 0.25em;color: #696969;}#sk-container-id-2 label.sk-toggleable__label-arrow:hover:before {color: black;}#sk-container-id-2 div.sk-estimator:hover label.sk-toggleable__label-arrow:before {color: black;}#sk-container-id-2 div.sk-toggleable__content {max-height: 0;max-width: 0;overflow: hidden;text-align: left;background-color: #f0f8ff;}#sk-container-id-2 div.sk-toggleable__content pre {margin: 0.2em;color: black;border-radius: 0.25em;background-color: #f0f8ff;}#sk-container-id-2 input.sk-toggleable__control:checked~div.sk-toggleable__content {max-height: 200px;max-width: 100%;overflow: auto;}#sk-container-id-2 input.sk-toggleable__control:checked~label.sk-toggleable__label-arrow:before {content: \"▾\";}#sk-container-id-2 div.sk-estimator input.sk-toggleable__control:checked~label.sk-toggleable__label {background-color: #d4ebff;}#sk-container-id-2 div.sk-label input.sk-toggleable__control:checked~label.sk-toggleable__label {background-color: #d4ebff;}#sk-container-id-2 input.sk-hidden--visually {border: 0;clip: rect(1px 1px 1px 1px);clip: rect(1px, 1px, 1px, 1px);height: 1px;margin: -1px;overflow: hidden;padding: 0;position: absolute;width: 1px;}#sk-container-id-2 div.sk-estimator {font-family: monospace;background-color: #f0f8ff;border: 1px dotted black;border-radius: 0.25em;box-sizing: border-box;margin-bottom: 0.5em;}#sk-container-id-2 div.sk-estimator:hover {background-color: #d4ebff;}#sk-container-id-2 div.sk-parallel-item::after {content: \"\";width: 100%;border-bottom: 1px solid gray;flex-grow: 1;}#sk-container-id-2 div.sk-label:hover label.sk-toggleable__label {background-color: #d4ebff;}#sk-container-id-2 div.sk-serial::before {content: \"\";position: absolute;border-left: 1px solid gray;box-sizing: border-box;top: 0;bottom: 0;left: 50%;z-index: 0;}#sk-container-id-2 div.sk-serial {display: flex;flex-direction: column;align-items: center;background-color: white;padding-right: 0.2em;padding-left: 0.2em;position: relative;}#sk-container-id-2 div.sk-item {position: relative;z-index: 1;}#sk-container-id-2 div.sk-parallel {display: flex;align-items: stretch;justify-content: center;background-color: white;position: relative;}#sk-container-id-2 div.sk-item::before, #sk-container-id-2 div.sk-parallel-item::before {content: \"\";position: absolute;border-left: 1px solid gray;box-sizing: border-box;top: 0;bottom: 0;left: 50%;z-index: -1;}#sk-container-id-2 div.sk-parallel-item {display: flex;flex-direction: column;z-index: 1;position: relative;background-color: white;}#sk-container-id-2 div.sk-parallel-item:first-child::after {align-self: flex-end;width: 50%;}#sk-container-id-2 div.sk-parallel-item:last-child::after {align-self: flex-start;width: 50%;}#sk-container-id-2 div.sk-parallel-item:only-child::after {width: 0;}#sk-container-id-2 div.sk-dashed-wrapped {border: 1px dashed gray;margin: 0 0.4em 0.5em 0.4em;box-sizing: border-box;padding-bottom: 0.4em;background-color: white;}#sk-container-id-2 div.sk-label label {font-family: monospace;font-weight: bold;display: inline-block;line-height: 1.2em;}#sk-container-id-2 div.sk-label-container {text-align: center;}#sk-container-id-2 div.sk-container {/* jupyter's `normalize.less` sets `[hidden] { display: none; }` but bootstrap.min.css set `[hidden] { display: none !important; }` so we also need the `!important` here to be able to override the default hidden behavior on the sphinx rendered scikit-learn.org. See: https://github.com/scikit-learn/scikit-learn/issues/21755 */display: inline-block !important;position: relative;}#sk-container-id-2 div.sk-text-repr-fallback {display: none;}</style><div id=\"sk-container-id-2\" class=\"sk-top-container\"><div class=\"sk-text-repr-fallback\"><pre>Pipeline(steps=[(&#x27;preprocessor&#x27;,\n",
       "                 ColumnTransformer(transformers=[(&#x27;num&#x27;, StandardScaler(),\n",
       "                                                  [&#x27;averageSquareFootage&#x27;,\n",
       "                                                   &#x27;stories&#x27;, &#x27;yearsold&#x27;,\n",
       "                                                   &#x27;MPF-OCC&#x27;, &#x27;unitcount&#x27;,\n",
       "                                                   &#x27;MPF-RPSF&#x27;]),\n",
       "                                                 (&#x27;cat&#x27;,\n",
       "                                                  OneHotEncoder(handle_unknown=&#x27;ignore&#x27;),\n",
       "                                                  [&#x27;cbsa_code&#x27;, &#x27;class&#x27;])])),\n",
       "                (&#x27;classifier&#x27;,\n",
       "                 LogisticRegression(random_state=42, solver=&#x27;liblinear&#x27;))])</pre><b>In a Jupyter environment, please rerun this cell to show the HTML representation or trust the notebook. <br />On GitHub, the HTML representation is unable to render, please try loading this page with nbviewer.org.</b></div><div class=\"sk-container\" hidden><div class=\"sk-item sk-dashed-wrapped\"><div class=\"sk-label-container\"><div class=\"sk-label sk-toggleable\"><input class=\"sk-toggleable__control sk-hidden--visually\" id=\"sk-estimator-id-8\" type=\"checkbox\" ><label for=\"sk-estimator-id-8\" class=\"sk-toggleable__label sk-toggleable__label-arrow\">Pipeline</label><div class=\"sk-toggleable__content\"><pre>Pipeline(steps=[(&#x27;preprocessor&#x27;,\n",
       "                 ColumnTransformer(transformers=[(&#x27;num&#x27;, StandardScaler(),\n",
       "                                                  [&#x27;averageSquareFootage&#x27;,\n",
       "                                                   &#x27;stories&#x27;, &#x27;yearsold&#x27;,\n",
       "                                                   &#x27;MPF-OCC&#x27;, &#x27;unitcount&#x27;,\n",
       "                                                   &#x27;MPF-RPSF&#x27;]),\n",
       "                                                 (&#x27;cat&#x27;,\n",
       "                                                  OneHotEncoder(handle_unknown=&#x27;ignore&#x27;),\n",
       "                                                  [&#x27;cbsa_code&#x27;, &#x27;class&#x27;])])),\n",
       "                (&#x27;classifier&#x27;,\n",
       "                 LogisticRegression(random_state=42, solver=&#x27;liblinear&#x27;))])</pre></div></div></div><div class=\"sk-serial\"><div class=\"sk-item sk-dashed-wrapped\"><div class=\"sk-label-container\"><div class=\"sk-label sk-toggleable\"><input class=\"sk-toggleable__control sk-hidden--visually\" id=\"sk-estimator-id-9\" type=\"checkbox\" ><label for=\"sk-estimator-id-9\" class=\"sk-toggleable__label sk-toggleable__label-arrow\">preprocessor: ColumnTransformer</label><div class=\"sk-toggleable__content\"><pre>ColumnTransformer(transformers=[(&#x27;num&#x27;, StandardScaler(),\n",
       "                                 [&#x27;averageSquareFootage&#x27;, &#x27;stories&#x27;, &#x27;yearsold&#x27;,\n",
       "                                  &#x27;MPF-OCC&#x27;, &#x27;unitcount&#x27;, &#x27;MPF-RPSF&#x27;]),\n",
       "                                (&#x27;cat&#x27;, OneHotEncoder(handle_unknown=&#x27;ignore&#x27;),\n",
       "                                 [&#x27;cbsa_code&#x27;, &#x27;class&#x27;])])</pre></div></div></div><div class=\"sk-parallel\"><div class=\"sk-parallel-item\"><div class=\"sk-item\"><div class=\"sk-label-container\"><div class=\"sk-label sk-toggleable\"><input class=\"sk-toggleable__control sk-hidden--visually\" id=\"sk-estimator-id-10\" type=\"checkbox\" ><label for=\"sk-estimator-id-10\" class=\"sk-toggleable__label sk-toggleable__label-arrow\">num</label><div class=\"sk-toggleable__content\"><pre>[&#x27;averageSquareFootage&#x27;, &#x27;stories&#x27;, &#x27;yearsold&#x27;, &#x27;MPF-OCC&#x27;, &#x27;unitcount&#x27;, &#x27;MPF-RPSF&#x27;]</pre></div></div></div><div class=\"sk-serial\"><div class=\"sk-item\"><div class=\"sk-estimator sk-toggleable\"><input class=\"sk-toggleable__control sk-hidden--visually\" id=\"sk-estimator-id-11\" type=\"checkbox\" ><label for=\"sk-estimator-id-11\" class=\"sk-toggleable__label sk-toggleable__label-arrow\">StandardScaler</label><div class=\"sk-toggleable__content\"><pre>StandardScaler()</pre></div></div></div></div></div></div><div class=\"sk-parallel-item\"><div class=\"sk-item\"><div class=\"sk-label-container\"><div class=\"sk-label sk-toggleable\"><input class=\"sk-toggleable__control sk-hidden--visually\" id=\"sk-estimator-id-12\" type=\"checkbox\" ><label for=\"sk-estimator-id-12\" class=\"sk-toggleable__label sk-toggleable__label-arrow\">cat</label><div class=\"sk-toggleable__content\"><pre>[&#x27;cbsa_code&#x27;, &#x27;class&#x27;]</pre></div></div></div><div class=\"sk-serial\"><div class=\"sk-item\"><div class=\"sk-estimator sk-toggleable\"><input class=\"sk-toggleable__control sk-hidden--visually\" id=\"sk-estimator-id-13\" type=\"checkbox\" ><label for=\"sk-estimator-id-13\" class=\"sk-toggleable__label sk-toggleable__label-arrow\">OneHotEncoder</label><div class=\"sk-toggleable__content\"><pre>OneHotEncoder(handle_unknown=&#x27;ignore&#x27;)</pre></div></div></div></div></div></div></div></div><div class=\"sk-item\"><div class=\"sk-estimator sk-toggleable\"><input class=\"sk-toggleable__control sk-hidden--visually\" id=\"sk-estimator-id-14\" type=\"checkbox\" ><label for=\"sk-estimator-id-14\" class=\"sk-toggleable__label sk-toggleable__label-arrow\">LogisticRegression</label><div class=\"sk-toggleable__content\"><pre>LogisticRegression(random_state=42, solver=&#x27;liblinear&#x27;)</pre></div></div></div></div></div></div></div>"
      ],
      "text/plain": [
       "Pipeline(steps=[('preprocessor',\n",
       "                 ColumnTransformer(transformers=[('num', StandardScaler(),\n",
       "                                                  ['averageSquareFootage',\n",
       "                                                   'stories', 'yearsold',\n",
       "                                                   'MPF-OCC', 'unitcount',\n",
       "                                                   'MPF-RPSF']),\n",
       "                                                 ('cat',\n",
       "                                                  OneHotEncoder(handle_unknown='ignore'),\n",
       "                                                  ['cbsa_code', 'class'])])),\n",
       "                ('classifier',\n",
       "                 LogisticRegression(random_state=42, solver='liblinear'))])"
      ]
     },
     "execution_count": 61,
     "metadata": {},
     "output_type": "execute_result"
    }
   ],
   "source": [
    "clf_pipeline.fit(X_treat_train, y_treat_train)"
   ]
  },
  {
   "cell_type": "code",
   "execution_count": 62,
   "metadata": {},
   "outputs": [],
   "source": [
    "y_treat_pred = clf_pipeline.predict(X_treat_test)"
   ]
  },
  {
   "cell_type": "code",
   "execution_count": 63,
   "metadata": {},
   "outputs": [
    {
     "name": "stdout",
     "output_type": "stream",
     "text": [
      "Treatment Model Classification Report:\n",
      "              precision    recall  f1-score   support\n",
      "\n",
      "           0       0.88      1.00      0.93      6253\n",
      "           1       0.49      0.02      0.05       887\n",
      "\n",
      "    accuracy                           0.88      7140\n",
      "   macro avg       0.68      0.51      0.49      7140\n",
      "weighted avg       0.83      0.88      0.82      7140\n",
      "\n"
     ]
    }
   ],
   "source": [
    "print(\"Treatment Model Classification Report:\")\n",
    "print(classification_report(y_treat_test, y_treat_pred))"
   ]
  },
  {
   "cell_type": "code",
   "execution_count": null,
   "metadata": {},
   "outputs": [],
   "source": []
  },
  {
   "cell_type": "markdown",
   "metadata": {},
   "source": [
    "# Model 2: Predicting the Price of Properties\n",
    "\n",
    "In this section, our goal is to build a regression model to predict the rent per square foot (MPF-RPSF) of properties. The process involves:\n",
    "\n",
    "- **Preprocessing & Feature Engineering:**\n",
    "  - Compute `yearsold` from the `yearBuilt` column (Current year - yearBuilt).  \n",
    "  - Standardize numerical features using StandardScaler.\n",
    "  - One-hot encode categorical features (CBSA code and class).\n",
    "  - Eliminate any NA rows\n",
    "\n",
    "- **Modeling:**  \n",
    "  - Implement a Random Forest Regressor for robust prediction.\n",
    "  - Split the data into an 80/20 train-test set.\n",
    "\n",
    "- **Evaluation:**  \n",
    "  - Assess the model using the Mean Squared Error (MSE) metric.\n",
    "\n",
    "This setup will allow us to test, tweak, and improve both models based on the performance and insights we gain from the evaluation.\n",
    "\n",
    "Goal: Allow a user to prompt the model and see how the models prediction of price changes as they change the realpage usage variable, while keeping other variables constant.\n",
    "\n",
    "Columns used in model:\n",
    "<br>    - `cbsa_code`\n",
    "<br>    - `averageSquareFootage`\n",
    "<br>    - `stories`\n",
    "<br>    - `class`\n",
    "<br>    - `unitcount`\n",
    "<br>    - `yearsold`\n",
    "<br>    - `MPF-OCC`\n",
    "<br>    - `MPF-RPSF`\n",
    "<br>    - `uses_realpage`\n",
    "\n",
    "Please refer to the website (https://uc-berkeley-i-school.github.io/realpage-collusion/) for definitions of the columns."
   ]
  },
  {
   "cell_type": "code",
   "execution_count": 82,
   "metadata": {},
   "outputs": [],
   "source": [
    "#defining features and target\n",
    "features_rent = ['averageSquareFootage', 'stories', 'cbsa_code', 'class', 'yearsold', 'MPF-OCC', 'unitcount','uses_realpage']\n",
    "X_rent = df[features_rent]\n",
    "y_rent = df['MPF-RPSF']\n",
    "\n",
    "#assigning numeric and categorical features\n",
    "numeric_features_rent = ['averageSquareFootage', 'stories', 'yearsold', 'MPF-OCC', 'unitcount','uses_realpage']\n",
    "categorical_features_rent = ['cbsa_code', 'class']"
   ]
  },
  {
   "cell_type": "code",
   "execution_count": 83,
   "metadata": {},
   "outputs": [],
   "source": [
    "#develop a preprocessor for for the rent model\n",
    "preprocessor_rent = ColumnTransformer(\n",
    "    transformers=[\n",
    "        ('num', StandardScaler(), numeric_features_rent),\n",
    "        ('cat', OneHotEncoder(handle_unknown='ignore'), categorical_features_rent)\n",
    "    ]\n",
    ")"
   ]
  },
  {
   "cell_type": "code",
   "execution_count": 84,
   "metadata": {},
   "outputs": [],
   "source": [
    "#build pipeline for the regression model, we will use random forest regressor. will run through preprossor first, then through the regressor model.\n",
    "reg_pipeline = Pipeline(steps=[\n",
    "    ('preprocessor', preprocessor_rent),\n",
    "    ('regressor', RandomForestRegressor(n_estimators=100, random_state=42))\n",
    "])"
   ]
  },
  {
   "cell_type": "code",
   "execution_count": 85,
   "metadata": {},
   "outputs": [],
   "source": [
    "X_rent_train, X_rent_test, y_rent_train, y_rent_test = train_test_split(\n",
    "    X_rent, y_rent, test_size=0.2, random_state=42\n",
    ")"
   ]
  },
  {
   "cell_type": "code",
   "execution_count": 86,
   "metadata": {},
   "outputs": [
    {
     "data": {
      "text/html": [
       "<style>#sk-container-id-4 {color: black;}#sk-container-id-4 pre{padding: 0;}#sk-container-id-4 div.sk-toggleable {background-color: white;}#sk-container-id-4 label.sk-toggleable__label {cursor: pointer;display: block;width: 100%;margin-bottom: 0;padding: 0.3em;box-sizing: border-box;text-align: center;}#sk-container-id-4 label.sk-toggleable__label-arrow:before {content: \"▸\";float: left;margin-right: 0.25em;color: #696969;}#sk-container-id-4 label.sk-toggleable__label-arrow:hover:before {color: black;}#sk-container-id-4 div.sk-estimator:hover label.sk-toggleable__label-arrow:before {color: black;}#sk-container-id-4 div.sk-toggleable__content {max-height: 0;max-width: 0;overflow: hidden;text-align: left;background-color: #f0f8ff;}#sk-container-id-4 div.sk-toggleable__content pre {margin: 0.2em;color: black;border-radius: 0.25em;background-color: #f0f8ff;}#sk-container-id-4 input.sk-toggleable__control:checked~div.sk-toggleable__content {max-height: 200px;max-width: 100%;overflow: auto;}#sk-container-id-4 input.sk-toggleable__control:checked~label.sk-toggleable__label-arrow:before {content: \"▾\";}#sk-container-id-4 div.sk-estimator input.sk-toggleable__control:checked~label.sk-toggleable__label {background-color: #d4ebff;}#sk-container-id-4 div.sk-label input.sk-toggleable__control:checked~label.sk-toggleable__label {background-color: #d4ebff;}#sk-container-id-4 input.sk-hidden--visually {border: 0;clip: rect(1px 1px 1px 1px);clip: rect(1px, 1px, 1px, 1px);height: 1px;margin: -1px;overflow: hidden;padding: 0;position: absolute;width: 1px;}#sk-container-id-4 div.sk-estimator {font-family: monospace;background-color: #f0f8ff;border: 1px dotted black;border-radius: 0.25em;box-sizing: border-box;margin-bottom: 0.5em;}#sk-container-id-4 div.sk-estimator:hover {background-color: #d4ebff;}#sk-container-id-4 div.sk-parallel-item::after {content: \"\";width: 100%;border-bottom: 1px solid gray;flex-grow: 1;}#sk-container-id-4 div.sk-label:hover label.sk-toggleable__label {background-color: #d4ebff;}#sk-container-id-4 div.sk-serial::before {content: \"\";position: absolute;border-left: 1px solid gray;box-sizing: border-box;top: 0;bottom: 0;left: 50%;z-index: 0;}#sk-container-id-4 div.sk-serial {display: flex;flex-direction: column;align-items: center;background-color: white;padding-right: 0.2em;padding-left: 0.2em;position: relative;}#sk-container-id-4 div.sk-item {position: relative;z-index: 1;}#sk-container-id-4 div.sk-parallel {display: flex;align-items: stretch;justify-content: center;background-color: white;position: relative;}#sk-container-id-4 div.sk-item::before, #sk-container-id-4 div.sk-parallel-item::before {content: \"\";position: absolute;border-left: 1px solid gray;box-sizing: border-box;top: 0;bottom: 0;left: 50%;z-index: -1;}#sk-container-id-4 div.sk-parallel-item {display: flex;flex-direction: column;z-index: 1;position: relative;background-color: white;}#sk-container-id-4 div.sk-parallel-item:first-child::after {align-self: flex-end;width: 50%;}#sk-container-id-4 div.sk-parallel-item:last-child::after {align-self: flex-start;width: 50%;}#sk-container-id-4 div.sk-parallel-item:only-child::after {width: 0;}#sk-container-id-4 div.sk-dashed-wrapped {border: 1px dashed gray;margin: 0 0.4em 0.5em 0.4em;box-sizing: border-box;padding-bottom: 0.4em;background-color: white;}#sk-container-id-4 div.sk-label label {font-family: monospace;font-weight: bold;display: inline-block;line-height: 1.2em;}#sk-container-id-4 div.sk-label-container {text-align: center;}#sk-container-id-4 div.sk-container {/* jupyter's `normalize.less` sets `[hidden] { display: none; }` but bootstrap.min.css set `[hidden] { display: none !important; }` so we also need the `!important` here to be able to override the default hidden behavior on the sphinx rendered scikit-learn.org. See: https://github.com/scikit-learn/scikit-learn/issues/21755 */display: inline-block !important;position: relative;}#sk-container-id-4 div.sk-text-repr-fallback {display: none;}</style><div id=\"sk-container-id-4\" class=\"sk-top-container\"><div class=\"sk-text-repr-fallback\"><pre>Pipeline(steps=[(&#x27;preprocessor&#x27;,\n",
       "                 ColumnTransformer(transformers=[(&#x27;num&#x27;, StandardScaler(),\n",
       "                                                  [&#x27;averageSquareFootage&#x27;,\n",
       "                                                   &#x27;stories&#x27;, &#x27;yearsold&#x27;,\n",
       "                                                   &#x27;MPF-OCC&#x27;, &#x27;unitcount&#x27;,\n",
       "                                                   &#x27;uses_realpage&#x27;]),\n",
       "                                                 (&#x27;cat&#x27;,\n",
       "                                                  OneHotEncoder(handle_unknown=&#x27;ignore&#x27;),\n",
       "                                                  [&#x27;cbsa_code&#x27;, &#x27;class&#x27;])])),\n",
       "                (&#x27;regressor&#x27;, RandomForestRegressor(random_state=42))])</pre><b>In a Jupyter environment, please rerun this cell to show the HTML representation or trust the notebook. <br />On GitHub, the HTML representation is unable to render, please try loading this page with nbviewer.org.</b></div><div class=\"sk-container\" hidden><div class=\"sk-item sk-dashed-wrapped\"><div class=\"sk-label-container\"><div class=\"sk-label sk-toggleable\"><input class=\"sk-toggleable__control sk-hidden--visually\" id=\"sk-estimator-id-22\" type=\"checkbox\" ><label for=\"sk-estimator-id-22\" class=\"sk-toggleable__label sk-toggleable__label-arrow\">Pipeline</label><div class=\"sk-toggleable__content\"><pre>Pipeline(steps=[(&#x27;preprocessor&#x27;,\n",
       "                 ColumnTransformer(transformers=[(&#x27;num&#x27;, StandardScaler(),\n",
       "                                                  [&#x27;averageSquareFootage&#x27;,\n",
       "                                                   &#x27;stories&#x27;, &#x27;yearsold&#x27;,\n",
       "                                                   &#x27;MPF-OCC&#x27;, &#x27;unitcount&#x27;,\n",
       "                                                   &#x27;uses_realpage&#x27;]),\n",
       "                                                 (&#x27;cat&#x27;,\n",
       "                                                  OneHotEncoder(handle_unknown=&#x27;ignore&#x27;),\n",
       "                                                  [&#x27;cbsa_code&#x27;, &#x27;class&#x27;])])),\n",
       "                (&#x27;regressor&#x27;, RandomForestRegressor(random_state=42))])</pre></div></div></div><div class=\"sk-serial\"><div class=\"sk-item sk-dashed-wrapped\"><div class=\"sk-label-container\"><div class=\"sk-label sk-toggleable\"><input class=\"sk-toggleable__control sk-hidden--visually\" id=\"sk-estimator-id-23\" type=\"checkbox\" ><label for=\"sk-estimator-id-23\" class=\"sk-toggleable__label sk-toggleable__label-arrow\">preprocessor: ColumnTransformer</label><div class=\"sk-toggleable__content\"><pre>ColumnTransformer(transformers=[(&#x27;num&#x27;, StandardScaler(),\n",
       "                                 [&#x27;averageSquareFootage&#x27;, &#x27;stories&#x27;, &#x27;yearsold&#x27;,\n",
       "                                  &#x27;MPF-OCC&#x27;, &#x27;unitcount&#x27;, &#x27;uses_realpage&#x27;]),\n",
       "                                (&#x27;cat&#x27;, OneHotEncoder(handle_unknown=&#x27;ignore&#x27;),\n",
       "                                 [&#x27;cbsa_code&#x27;, &#x27;class&#x27;])])</pre></div></div></div><div class=\"sk-parallel\"><div class=\"sk-parallel-item\"><div class=\"sk-item\"><div class=\"sk-label-container\"><div class=\"sk-label sk-toggleable\"><input class=\"sk-toggleable__control sk-hidden--visually\" id=\"sk-estimator-id-24\" type=\"checkbox\" ><label for=\"sk-estimator-id-24\" class=\"sk-toggleable__label sk-toggleable__label-arrow\">num</label><div class=\"sk-toggleable__content\"><pre>[&#x27;averageSquareFootage&#x27;, &#x27;stories&#x27;, &#x27;yearsold&#x27;, &#x27;MPF-OCC&#x27;, &#x27;unitcount&#x27;, &#x27;uses_realpage&#x27;]</pre></div></div></div><div class=\"sk-serial\"><div class=\"sk-item\"><div class=\"sk-estimator sk-toggleable\"><input class=\"sk-toggleable__control sk-hidden--visually\" id=\"sk-estimator-id-25\" type=\"checkbox\" ><label for=\"sk-estimator-id-25\" class=\"sk-toggleable__label sk-toggleable__label-arrow\">StandardScaler</label><div class=\"sk-toggleable__content\"><pre>StandardScaler()</pre></div></div></div></div></div></div><div class=\"sk-parallel-item\"><div class=\"sk-item\"><div class=\"sk-label-container\"><div class=\"sk-label sk-toggleable\"><input class=\"sk-toggleable__control sk-hidden--visually\" id=\"sk-estimator-id-26\" type=\"checkbox\" ><label for=\"sk-estimator-id-26\" class=\"sk-toggleable__label sk-toggleable__label-arrow\">cat</label><div class=\"sk-toggleable__content\"><pre>[&#x27;cbsa_code&#x27;, &#x27;class&#x27;]</pre></div></div></div><div class=\"sk-serial\"><div class=\"sk-item\"><div class=\"sk-estimator sk-toggleable\"><input class=\"sk-toggleable__control sk-hidden--visually\" id=\"sk-estimator-id-27\" type=\"checkbox\" ><label for=\"sk-estimator-id-27\" class=\"sk-toggleable__label sk-toggleable__label-arrow\">OneHotEncoder</label><div class=\"sk-toggleable__content\"><pre>OneHotEncoder(handle_unknown=&#x27;ignore&#x27;)</pre></div></div></div></div></div></div></div></div><div class=\"sk-item\"><div class=\"sk-estimator sk-toggleable\"><input class=\"sk-toggleable__control sk-hidden--visually\" id=\"sk-estimator-id-28\" type=\"checkbox\" ><label for=\"sk-estimator-id-28\" class=\"sk-toggleable__label sk-toggleable__label-arrow\">RandomForestRegressor</label><div class=\"sk-toggleable__content\"><pre>RandomForestRegressor(random_state=42)</pre></div></div></div></div></div></div></div>"
      ],
      "text/plain": [
       "Pipeline(steps=[('preprocessor',\n",
       "                 ColumnTransformer(transformers=[('num', StandardScaler(),\n",
       "                                                  ['averageSquareFootage',\n",
       "                                                   'stories', 'yearsold',\n",
       "                                                   'MPF-OCC', 'unitcount',\n",
       "                                                   'uses_realpage']),\n",
       "                                                 ('cat',\n",
       "                                                  OneHotEncoder(handle_unknown='ignore'),\n",
       "                                                  ['cbsa_code', 'class'])])),\n",
       "                ('regressor', RandomForestRegressor(random_state=42))])"
      ]
     },
     "execution_count": 86,
     "metadata": {},
     "output_type": "execute_result"
    }
   ],
   "source": [
    "reg_pipeline.fit(X_rent_train, y_rent_train)"
   ]
  },
  {
   "cell_type": "code",
   "execution_count": 87,
   "metadata": {},
   "outputs": [
    {
     "name": "stdout",
     "output_type": "stream",
     "text": [
      "Rent Model Mean Squared Error: 0.06020848502946076\n"
     ]
    }
   ],
   "source": [
    "y_rent_pred = reg_pipeline.predict(X_rent_test)\n",
    "mse = mean_squared_error(y_rent_test, y_rent_pred)\n",
    "print(\"Rent Model Mean Squared Error:\", mse)"
   ]
  },
  {
   "cell_type": "markdown",
   "metadata": {},
   "source": [
    "# Try it Yourself! Predict the RPSF\n",
    "\n",
    "In this section, we're building an interactive function that allows a user to input key property details. Based on these inputs, our regression model will predict the rent per square foot (RPSF). This serves as a prototype for the similar functionality we plan to integrate into our website.\n",
    "\n",
    "## What Does the Function Do?\n",
    "\n",
    "- **User Prompts:**  \n",
    "  The function asks the user to enter several input variables, including:\n",
    "  - Average square footage\n",
    "  - Number of stories\n",
    "  - CBSA code (categorical)\n",
    "  - Property class (categorical)\n",
    "  - Year built (from which we calculate the property's age)\n",
    "  - MPF-OCC (occupancy)\n",
    "  - Unit count\n",
    "\n",
    "- **Output:**  \n",
    "  The function displays the inputs the user provided and then outputs the prediction in a clear format, e.g.,  \n",
    "  `Predicted RPSF: $XXXX`\n",
    "\n",
    "## How This Relates to Our Website\n",
    "\n",
    "This interactive function is a small-scale prototype of what we plan to implement on our website. On the live site:\n",
    "- Users can navigate to the Try it Yourself section within the website and test inputs\n",
    "- The website backend will process these inputs into our model using sagemaker\n",
    "- The predicted rent per square foot will be displayed to the user immediately.\n"
   ]
  },
  {
   "cell_type": "code",
   "execution_count": 88,
   "metadata": {},
   "outputs": [],
   "source": [
    "def predict_rpsf(model):\n",
    "    \"\"\"\n",
    "    Prompts the user for input variables, displays the inputs,\n",
    "    and outputs the predicted rent per square foot.\n",
    "    \"\"\"\n",
    "    try:\n",
    "        averageSquareFootage = float(input(\"Enter average square footage: \"))\n",
    "        stories = float(input(\"Enter number of stories: \"))\n",
    "        cbsa_code = input(\"Enter CBSA code: \")\n",
    "        property_class = input(\"Enter property class: \")\n",
    "        yearbuilt = int(input(\"Enter the year built: \"))\n",
    "        MPF_OCC = float(input(\"Enter MPF-OCC (occupancy): \"))\n",
    "        unitcount = float(input(\"Enter unit count: \"))\n",
    "        uses_realpage = input(\"Enter uses_realpage: \")\n",
    "    except Exception as e:\n",
    "        print(f\"Error in input: {e}\")\n",
    "        return\n",
    "\n",
    "    current_year = datetime.now().year\n",
    "    yearsold = current_year - yearbuilt\n",
    "\n",
    "    print(\"\\nUser Inputs:\")\n",
    "    print(f\"  Average Square Footage: {averageSquareFootage}\")\n",
    "    print(f\"  Stories: {stories}\")\n",
    "    print(f\"  CBSA Code: {cbsa_code}\")\n",
    "    print(f\"  Property Class: {property_class}\")\n",
    "    print(f\"  Year Built: {yearbuilt}\")\n",
    "    print(f\"  Years Old: {yearsold}\")\n",
    "    print(f\"  MPF-OCC (Occupancy): {MPF_OCC}\")\n",
    "    print(f\"  Unit Count: {unitcount}\")\n",
    "    print(f\"  Uses RealPage: {uses_realpage}\\n\")\n",
    "    \n",
    "    input_df = pd.DataFrame({\n",
    "        'averageSquareFootage': [averageSquareFootage],\n",
    "        'stories': [stories],\n",
    "        'cbsa_code': [cbsa_code],\n",
    "        'class': [property_class],\n",
    "        'yearsold': [yearsold],\n",
    "        'MPF-OCC': [MPF_OCC],\n",
    "        'unitcount': [unitcount],\n",
    "        'uses_realpage': [uses_realpage]\n",
    "    })\n",
    "    \n",
    "    prediction = model.predict(input_df)\n",
    "    predicted_rpsf = prediction[0]\n",
    "    \n",
    "    print(f\"Predicted RPSF: ${predicted_rpsf:.2f}\")\n",
    "    return predicted_rpsf\n"
   ]
  },
  {
   "cell_type": "code",
   "execution_count": 89,
   "metadata": {},
   "outputs": [
    {
     "name": "stdout",
     "output_type": "stream",
     "text": [
      "\n",
      "User Inputs:\n",
      "  Average Square Footage: 980.0\n",
      "  Stories: 2.0\n",
      "  CBSA Code: 10180\n",
      "  Property Class: A\n",
      "  Year Built: 2010\n",
      "  Years Old: 15\n",
      "  MPF-OCC (Occupancy): 0.974\n",
      "  Unit Count: 200.0\n",
      "\n",
      "  Uses RealPage: 1\n",
      "Predicted RPSF: $1.53\n"
     ]
    },
    {
     "data": {
      "text/plain": [
       "1.5283099999999998"
      ]
     },
     "execution_count": 89,
     "metadata": {},
     "output_type": "execute_result"
    }
   ],
   "source": [
    "predict_rpsf(reg_pipeline)"
   ]
  },
  {
   "cell_type": "code",
   "execution_count": null,
   "metadata": {},
   "outputs": [],
   "source": [
    "\"\"\"\n",
    "Next steps for me to work on:\n",
    "-   balance the dataset and retest the model\n",
    "-   limit to only cbsa's that have realpage users\n",
    "-   add in market share into model and see how that affects the model\n",
    "-   try different models\n",
    "-   do some hyperparameter tuning\n",
    "-   put in sagemaker and try to hit the model via API\n",
    "\"\"\""
   ]
  }
 ],
 "metadata": {
  "kernelspec": {
   "display_name": "tf_env",
   "language": "python",
   "name": "python3"
  },
  "language_info": {
   "codemirror_mode": {
    "name": "ipython",
    "version": 3
   },
   "file_extension": ".py",
   "mimetype": "text/x-python",
   "name": "python",
   "nbconvert_exporter": "python",
   "pygments_lexer": "ipython3",
   "version": "3.8.18"
  }
 },
 "nbformat": 4,
 "nbformat_minor": 2
}
