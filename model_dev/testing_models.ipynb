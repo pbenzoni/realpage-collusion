{
 "cells": [
  {
   "cell_type": "code",
   "execution_count": 141,
   "metadata": {},
   "outputs": [],
   "source": [
    "import pandas as pd\n",
    "import numpy as np\n",
    "import matplotlib.pyplot as plt\n",
    "from datetime import datetime\n",
    "from sklearn.model_selection import train_test_split\n",
    "from sklearn.compose import ColumnTransformer\n",
    "from sklearn.pipeline import Pipeline\n",
    "from sklearn.preprocessing import StandardScaler, OneHotEncoder\n",
    "from sklearn.linear_model import LogisticRegression\n",
    "from sklearn.ensemble import RandomForestRegressor\n",
    "from sklearn.metrics import classification_report, mean_squared_error\n",
    "from tensorflow.keras import layers, models\n",
    "from tensorflow.keras.callbacks import EarlyStopping"
   ]
  },
  {
   "cell_type": "code",
   "execution_count": 142,
   "metadata": {},
   "outputs": [],
   "source": [
    "np.random.seed(42)"
   ]
  },
  {
   "cell_type": "code",
   "execution_count": 143,
   "metadata": {},
   "outputs": [
    {
     "name": "stderr",
     "output_type": "stream",
     "text": [
      "C:\\Users\\ahmad\\AppData\\Local\\Temp\\ipykernel_40832\\636769717.py:1: DtypeWarning: Columns (2) have mixed types. Specify dtype option on import or set low_memory=False.\n",
      "  df = pd.read_csv(\"../data/cbsa_data_realpageflag.csv\")\n"
     ]
    }
   ],
   "source": [
    "df = pd.read_csv(\"../data/cbsa_data_realpageflag.csv\")"
   ]
  },
  {
   "cell_type": "code",
   "execution_count": 144,
   "metadata": {},
   "outputs": [
    {
     "data": {
      "text/plain": [
       "Index(['propertyId', 'propertyName', 'zipCode', 'address', 'city', 'state',\n",
       "       'averageSquareFootage', 'stories', 'stable', 'class', 'latitude',\n",
       "       'longitude', 'imageHero', 'heroSource', 'submarketName', 'unitcount',\n",
       "       'yearBuilt', 'siteStatus', 'type', 'MPF-ANN-RENT-CHG',\n",
       "       'MPF-HIST-ASK-RENT', 'MPF-HIST-AVG-ASK-RPSF', 'MPF-HIST-CONC-RATIO',\n",
       "       'MPF-OCC', 'MPF-RENT', 'MPF-RPSF', 'data_index', 'cbsa_code', 'status',\n",
       "       'SH-HIST-ASK-RENT-PB', 'SH-HIST-RENT-PB', 'SH-HIST-CONC-RATIO-PB',\n",
       "       'SH-HIST-OCCUPANCY', 'SH-HIST-RPSF-PB', 'SH-HIST-AVG-ASK-RPSF-PB',\n",
       "       'SH-HIST-ANN-RENT-PB-CHG', 'uses_realpage'],\n",
       "      dtype='object')"
      ]
     },
     "execution_count": 144,
     "metadata": {},
     "output_type": "execute_result"
    }
   ],
   "source": [
    "df.columns"
   ]
  },
  {
   "cell_type": "code",
   "execution_count": 145,
   "metadata": {},
   "outputs": [],
   "source": [
    "# developing yearsold column (this is just the year the property was built minus the current year)\n",
    "current_year = datetime.now().year\n",
    "df['yearsold'] = current_year - df['yearBuilt']"
   ]
  },
  {
   "cell_type": "code",
   "execution_count": 146,
   "metadata": {},
   "outputs": [],
   "source": [
    "# selecting relevant columns to use in the model\n",
    "cols = [\n",
    "    'cbsa_code', 'averageSquareFootage', 'stories', 'class', 'unitcount', 'yearsold', 'MPF-OCC', 'MPF-RPSF', 'uses_realpage'\n",
    "]\n",
    "df.dropna(subset=cols,inplace=True)"
   ]
  },
  {
   "cell_type": "code",
   "execution_count": 147,
   "metadata": {},
   "outputs": [
    {
     "name": "stdout",
     "output_type": "stream",
     "text": [
      "averageSquareFootage: 0 null(s)\n",
      "stories: 0 null(s)\n",
      "cbsa_code: 0 null(s)\n",
      "class: 0 null(s)\n",
      "yearsold: 0 null(s)\n",
      "MPF-OCC: 0 null(s)\n",
      "unitcount: 0 null(s)\n",
      "MPF-HIST-CONC-RATIO: 27308 null(s)\n",
      "uses_realpage: 0 null(s)\n",
      "MPF-RPSF: 0 null(s)\n"
     ]
    }
   ],
   "source": [
    "def print_null_counts(df, columns):\n",
    "    for col in columns:\n",
    "        null_count = df[col].isnull().sum()\n",
    "        print(f\"{col}: {null_count} null(s)\")\n",
    "\n",
    "\n",
    "columns_to_check = ['averageSquareFootage', 'stories', 'cbsa_code', 'class', 'yearsold', 'MPF-OCC', 'unitcount','MPF-HIST-CONC-RATIO','uses_realpage','MPF-RPSF']\n",
    "print_null_counts(df, columns_to_check)\n",
    "\n",
    "#while the concentration ratio would be phenomenal to use, excluding 25167 rows would be very detrimental to our dataset. this is over 75% of our dataset and would essentially remove most of our cbsa's include ones we have realpage users for"
   ]
  },
  {
   "cell_type": "markdown",
   "metadata": {},
   "source": [
    "# Feature Engineering & Exploratory Data Analysis (EDA)\n",
    "\n",
    "Before developing our models, we want to validate parts of our dataset and clean parts that dont make sense. These include the following:\n",
    "\n",
    "- **Excluding Student Housing:**  \n",
    "   - **What:** Filter out any properties categorized as student housing.\n",
    "   - **Why:** Student housing often follows different market dynamics that do not align with our target analysis of RealPage usage and property rent. Removing these properties helps focus our model on the residential segments of interest.\n",
    "\n",
    "-  **Excluding CBSAs with No RealPage Usage:**  \n",
    "   - **What:** Remove any Core Based Statistical Areas (CBSAs) that do not have at least one property using RealPage.\n",
    "   - **Why:** This ensures that our analysis only includes markets where RealPage is active. By doing so, we improve the relevance and reliability of our insights and predictions. We also want to know how the dynamics of a market will change with the treatment of it being a RealPage user, so a market without any RealPage usage would not really be beneficial for our cause.\n",
    "\n",
    "- **Integrating External Market Share Data:**  \n",
    "  We incorporate an external dataset from a research paper/article that provides every CBSA code along with RealPage's estimated market share. This dataset will serve as a benchmark to compare against our own estimates.\n",
    "\n",
    "- **Creating a Proxy for Market Share per CBSA:**  \n",
    "  Using our internal dataset, we compute a proxy for market share at the CBSA level. This proxy is calculated based on the proportion of RealPage users (flagged properties) relative to the total number of properties within each CBSA. It offers a localized estimation of RealPage's market penetration.\n",
    "\n",
    "- **Comparing Our Proxy with the External Benchmark:**  \n",
    "  We assess the similarity between our computed market share proxy and the research's market share data. This comparison will help validate the accuracy of our proxy, ensuring our estimations are consistent with external insights.\n",
    "\n",
    "- **Filtering the Dataset for Reliability:**  \n",
    "  - **Exclude CBSAs with No RealPage Users:**  \n",
    "    To focus on relevant markets, any CBSA with zero flagged RealPage users will be excluded.\n",
    "  - **Exclude CBSAs with Fewer than 2 Properties:**  \n",
    "    CBSAs with less than 2 properties are removed to avoid noise and ensure statistical significance in our analysis."
   ]
  },
  {
   "cell_type": "code",
   "execution_count": 148,
   "metadata": {},
   "outputs": [],
   "source": [
    "# Excluding student housing\n",
    "df = df[~df.get('type', '').astype(str).str.contains(\"Student\", na=False)]"
   ]
  },
  {
   "cell_type": "code",
   "execution_count": 149,
   "metadata": {},
   "outputs": [
    {
     "name": "stdout",
     "output_type": "stream",
     "text": [
      " Number of unique CBSAs: 298\n"
     ]
    }
   ],
   "source": [
    "print(f\" Number of unique CBSAs: {len(df['cbsa_code'].unique())}\")"
   ]
  },
  {
   "cell_type": "code",
   "execution_count": 150,
   "metadata": {},
   "outputs": [],
   "source": [
    "# Excluding cbsas that do not have at least 1 realpage user and less than 2 properties\n",
    "realpage_usage_by_cbsa = df.groupby('cbsa_code').agg(\n",
    "    total_properties=('cbsa_code', 'count'),\n",
    "    realpage_count=('uses_realpage', 'sum')\n",
    ").reset_index()\n",
    "\n",
    "valid_cbsa = realpage_usage_by_cbsa[(realpage_usage_by_cbsa['realpage_count'] >= 1) & (realpage_usage_by_cbsa['total_properties'] >= 2)]\n",
    "\n",
    "df = df[df['cbsa_code'].isin(valid_cbsa['cbsa_code'])]"
   ]
  },
  {
   "cell_type": "code",
   "execution_count": 151,
   "metadata": {},
   "outputs": [
    {
     "name": "stdout",
     "output_type": "stream",
     "text": [
      " Number of unique CBSAs after the filter: 177\n"
     ]
    }
   ],
   "source": [
    "print(f\" Number of unique CBSAs after the filter: {len(df['cbsa_code'].unique())}\")"
   ]
  },
  {
   "cell_type": "code",
   "execution_count": 152,
   "metadata": {},
   "outputs": [],
   "source": [
    "#adding in dataset with researched market shares per cbsa\n",
    "cbsa_rp_ms = pd.read_csv('msa_market_share_cbsa_matched_final.csv')"
   ]
  },
  {
   "cell_type": "code",
   "execution_count": 153,
   "metadata": {},
   "outputs": [
    {
     "data": {
      "text/html": [
       "<div>\n",
       "<style scoped>\n",
       "    .dataframe tbody tr th:only-of-type {\n",
       "        vertical-align: middle;\n",
       "    }\n",
       "\n",
       "    .dataframe tbody tr th {\n",
       "        vertical-align: top;\n",
       "    }\n",
       "\n",
       "    .dataframe thead th {\n",
       "        text-align: right;\n",
       "    }\n",
       "</style>\n",
       "<table border=\"1\" class=\"dataframe\">\n",
       "  <thead>\n",
       "    <tr style=\"text-align: right;\">\n",
       "      <th></th>\n",
       "      <th>MSA</th>\n",
       "      <th>Realpage Market Share</th>\n",
       "      <th>CBSA Code</th>\n",
       "    </tr>\n",
       "  </thead>\n",
       "  <tbody>\n",
       "    <tr>\n",
       "      <th>0</th>\n",
       "      <td>Austin-Round Rock-San Marcos, TX</td>\n",
       "      <td>46.004304</td>\n",
       "      <td>12420</td>\n",
       "    </tr>\n",
       "    <tr>\n",
       "      <th>1</th>\n",
       "      <td>Raleigh-Cary, NC</td>\n",
       "      <td>42.650406</td>\n",
       "      <td>39580</td>\n",
       "    </tr>\n",
       "    <tr>\n",
       "      <th>2</th>\n",
       "      <td>Gainesville, GA</td>\n",
       "      <td>34.424809</td>\n",
       "      <td>23580</td>\n",
       "    </tr>\n",
       "    <tr>\n",
       "      <th>3</th>\n",
       "      <td>Durham-Chapel Hill, NC</td>\n",
       "      <td>33.856628</td>\n",
       "      <td>20500</td>\n",
       "    </tr>\n",
       "    <tr>\n",
       "      <th>4</th>\n",
       "      <td>Dallas-Fort Worth-Arlington, TX</td>\n",
       "      <td>33.721714</td>\n",
       "      <td>19100</td>\n",
       "    </tr>\n",
       "  </tbody>\n",
       "</table>\n",
       "</div>"
      ],
      "text/plain": [
       "                                MSA  Realpage Market Share  CBSA Code\n",
       "0  Austin-Round Rock-San Marcos, TX              46.004304      12420\n",
       "1                  Raleigh-Cary, NC              42.650406      39580\n",
       "2                   Gainesville, GA              34.424809      23580\n",
       "3            Durham-Chapel Hill, NC              33.856628      20500\n",
       "4   Dallas-Fort Worth-Arlington, TX              33.721714      19100"
      ]
     },
     "execution_count": 153,
     "metadata": {},
     "output_type": "execute_result"
    }
   ],
   "source": [
    "cbsa_rp_ms.head()"
   ]
  },
  {
   "cell_type": "code",
   "execution_count": 154,
   "metadata": {},
   "outputs": [],
   "source": [
    "df_with_ms = df.merge(cbsa_rp_ms, left_on='cbsa_code', right_on='CBSA Code', how='left')"
   ]
  },
  {
   "cell_type": "code",
   "execution_count": 155,
   "metadata": {},
   "outputs": [
    {
     "name": "stdout",
     "output_type": "stream",
     "text": [
      "CBSA's without matched market shares: 28\n"
     ]
    }
   ],
   "source": [
    "print(f\"CBSA's without matched market shares: {len(df_with_ms[df_with_ms['Realpage Market Share'].isnull()]['cbsa_code'].unique())}\")"
   ]
  },
  {
   "cell_type": "code",
   "execution_count": 156,
   "metadata": {},
   "outputs": [
    {
     "data": {
      "text/plain": [
       "array([13900, 14020, 16300, 19340, 20420, 21780, 23940, 24780, 25260,\n",
       "       25620, 29020, 29300, 29540, 30700, 31740, 33540, 33740, 35100,\n",
       "       35980, 37900, 39420, 40420, 40580, 42940, 44180, 48060, 48780,\n",
       "       49660], dtype=int64)"
      ]
     },
     "execution_count": 156,
     "metadata": {},
     "output_type": "execute_result"
    }
   ],
   "source": [
    "df_with_ms[df_with_ms['Realpage Market Share'].isnull()]['cbsa_code'].unique()"
   ]
  },
  {
   "cell_type": "code",
   "execution_count": 157,
   "metadata": {},
   "outputs": [],
   "source": [
    "market_share_proxy = df.groupby('cbsa_code',as_index=False).agg(props=('propertyId','count')\n",
    "                                           ,realpage_users=('uses_realpage','sum'))\n",
    "market_share_proxy['market_share'] = market_share_proxy['realpage_users']/market_share_proxy['props']"
   ]
  },
  {
   "cell_type": "code",
   "execution_count": 158,
   "metadata": {},
   "outputs": [],
   "source": [
    "error_rate_df = market_share_proxy.merge(cbsa_rp_ms,left_on='cbsa_code',right_on='CBSA Code',how='left')\n",
    "error_rate_df['market_share_proxy'] = error_rate_df['market_share'] * 100"
   ]
  },
  {
   "cell_type": "code",
   "execution_count": 159,
   "metadata": {},
   "outputs": [],
   "source": [
    "mse_series = (error_rate_df[error_rate_df['CBSA Code'].isnull() == False]['Realpage Market Share'] - error_rate_df[error_rate_df['CBSA Code'].isnull() == False]['market_share_proxy'])**2"
   ]
  },
  {
   "cell_type": "code",
   "execution_count": 160,
   "metadata": {},
   "outputs": [
    {
     "name": "stdout",
     "output_type": "stream",
     "text": [
      "RSME of proxy vs research market shares: 10.898890574316335\n",
      "Standard Deviation of reseached market shares:8.571298144362245\n"
     ]
    }
   ],
   "source": [
    "print(f\"RSME of proxy vs research market shares: {(mse_series.sum()/len(mse_series))**(1/2)}\")\n",
    "print(f\"Standard Deviation of reseached market shares:{cbsa_rp_ms['Realpage Market Share'].std()}\")"
   ]
  },
  {
   "cell_type": "markdown",
   "metadata": {},
   "source": [
    "# Model 1: Predicting the Usage of RealPage\n",
    "\n",
    "In this section, we'll develop a binary classification model to predict whether a property uses RealPage. The key steps include:\n",
    "\n",
    "- **Preprocessing & Feature Engineering:**\n",
    "  - Compute `yearsold` from the `yearBuilt` column (Current year - yearBuilt).  \n",
    "  - Standardize numerical features using StandardScaler.\n",
    "  - One-hot encode categorical features (CBSA code and class).\n",
    "  - Eliminate any NA rows\n",
    "\n",
    "- **Modeling:**  \n",
    "  - Use logistic regression to estimate the propensity (probability) that a property uses RealPage.\n",
    "  - Perform an 80/20 train-test split for model evaluation.\n",
    "\n",
    "- **Evaluation:**  \n",
    "  - Generate a classification report with metrics like precision, recall, and F1-score.\n",
    "\n",
    "Goal: Prompt a user for input variables and make a prediction based on the variables whether it is a realpage user or not\n",
    "\n",
    "\n",
    "Columns used in model:\n",
    "<br>  - `cbsa_code`\n",
    "<br>    - `averageSquareFootage`\n",
    "<br>    - `stories`\n",
    "<br>    - `class`\n",
    "<br>    - `unitcount`\n",
    "<br>    - `yearsold`\n",
    "<br>    - `MPF-OCC`\n",
    "<br>    - `MPF-RPSF`\n",
    "<br>    - `uses_realpage`\n",
    "\n",
    "Please refer to the website (https://uc-berkeley-i-school.github.io/realpage-collusion/) for definitions of the columns.\n"
   ]
  },
  {
   "cell_type": "code",
   "execution_count": 161,
   "metadata": {},
   "outputs": [],
   "source": [
    "#creating our treatment and control groups\n",
    "features_treatment = ['averageSquareFootage', 'stories', 'cbsa_code', 'class', 'yearsold', 'MPF-OCC', 'unitcount', 'MPF-RPSF']\n",
    "X_treatment = df[features_treatment]\n",
    "y_treatment = df['uses_realpage']\n",
    "\n",
    "# assigning numeric and categorical features\n",
    "numeric_features_treatment = ['averageSquareFootage', 'stories', 'yearsold', 'MPF-OCC', 'unitcount', 'MPF-RPSF']\n",
    "categorical_features_treatment = ['cbsa_code', 'class']"
   ]
  },
  {
   "cell_type": "code",
   "execution_count": 162,
   "metadata": {},
   "outputs": [],
   "source": [
    "preprocessor_treatment = ColumnTransformer(\n",
    "    transformers=[\n",
    "        ('num', StandardScaler(), numeric_features_treatment),\n",
    "        ('cat', OneHotEncoder(handle_unknown='ignore'), categorical_features_treatment)\n",
    "    ]\n",
    ")"
   ]
  },
  {
   "cell_type": "code",
   "execution_count": 163,
   "metadata": {},
   "outputs": [],
   "source": [
    "clf_pipeline = Pipeline(steps=[\n",
    "    ('preprocessor', preprocessor_treatment),\n",
    "    ('classifier', LogisticRegression(solver='liblinear', random_state=42))\n",
    "])"
   ]
  },
  {
   "cell_type": "code",
   "execution_count": 164,
   "metadata": {},
   "outputs": [],
   "source": [
    "X_treat_train, X_treat_test, y_treat_train, y_treat_test = train_test_split(\n",
    "    X_treatment, y_treatment, test_size=0.2, random_state=42\n",
    ")"
   ]
  },
  {
   "cell_type": "code",
   "execution_count": 165,
   "metadata": {},
   "outputs": [
    {
     "data": {
      "text/html": [
       "<style>#sk-container-id-5 {color: black;}#sk-container-id-5 pre{padding: 0;}#sk-container-id-5 div.sk-toggleable {background-color: white;}#sk-container-id-5 label.sk-toggleable__label {cursor: pointer;display: block;width: 100%;margin-bottom: 0;padding: 0.3em;box-sizing: border-box;text-align: center;}#sk-container-id-5 label.sk-toggleable__label-arrow:before {content: \"▸\";float: left;margin-right: 0.25em;color: #696969;}#sk-container-id-5 label.sk-toggleable__label-arrow:hover:before {color: black;}#sk-container-id-5 div.sk-estimator:hover label.sk-toggleable__label-arrow:before {color: black;}#sk-container-id-5 div.sk-toggleable__content {max-height: 0;max-width: 0;overflow: hidden;text-align: left;background-color: #f0f8ff;}#sk-container-id-5 div.sk-toggleable__content pre {margin: 0.2em;color: black;border-radius: 0.25em;background-color: #f0f8ff;}#sk-container-id-5 input.sk-toggleable__control:checked~div.sk-toggleable__content {max-height: 200px;max-width: 100%;overflow: auto;}#sk-container-id-5 input.sk-toggleable__control:checked~label.sk-toggleable__label-arrow:before {content: \"▾\";}#sk-container-id-5 div.sk-estimator input.sk-toggleable__control:checked~label.sk-toggleable__label {background-color: #d4ebff;}#sk-container-id-5 div.sk-label input.sk-toggleable__control:checked~label.sk-toggleable__label {background-color: #d4ebff;}#sk-container-id-5 input.sk-hidden--visually {border: 0;clip: rect(1px 1px 1px 1px);clip: rect(1px, 1px, 1px, 1px);height: 1px;margin: -1px;overflow: hidden;padding: 0;position: absolute;width: 1px;}#sk-container-id-5 div.sk-estimator {font-family: monospace;background-color: #f0f8ff;border: 1px dotted black;border-radius: 0.25em;box-sizing: border-box;margin-bottom: 0.5em;}#sk-container-id-5 div.sk-estimator:hover {background-color: #d4ebff;}#sk-container-id-5 div.sk-parallel-item::after {content: \"\";width: 100%;border-bottom: 1px solid gray;flex-grow: 1;}#sk-container-id-5 div.sk-label:hover label.sk-toggleable__label {background-color: #d4ebff;}#sk-container-id-5 div.sk-serial::before {content: \"\";position: absolute;border-left: 1px solid gray;box-sizing: border-box;top: 0;bottom: 0;left: 50%;z-index: 0;}#sk-container-id-5 div.sk-serial {display: flex;flex-direction: column;align-items: center;background-color: white;padding-right: 0.2em;padding-left: 0.2em;position: relative;}#sk-container-id-5 div.sk-item {position: relative;z-index: 1;}#sk-container-id-5 div.sk-parallel {display: flex;align-items: stretch;justify-content: center;background-color: white;position: relative;}#sk-container-id-5 div.sk-item::before, #sk-container-id-5 div.sk-parallel-item::before {content: \"\";position: absolute;border-left: 1px solid gray;box-sizing: border-box;top: 0;bottom: 0;left: 50%;z-index: -1;}#sk-container-id-5 div.sk-parallel-item {display: flex;flex-direction: column;z-index: 1;position: relative;background-color: white;}#sk-container-id-5 div.sk-parallel-item:first-child::after {align-self: flex-end;width: 50%;}#sk-container-id-5 div.sk-parallel-item:last-child::after {align-self: flex-start;width: 50%;}#sk-container-id-5 div.sk-parallel-item:only-child::after {width: 0;}#sk-container-id-5 div.sk-dashed-wrapped {border: 1px dashed gray;margin: 0 0.4em 0.5em 0.4em;box-sizing: border-box;padding-bottom: 0.4em;background-color: white;}#sk-container-id-5 div.sk-label label {font-family: monospace;font-weight: bold;display: inline-block;line-height: 1.2em;}#sk-container-id-5 div.sk-label-container {text-align: center;}#sk-container-id-5 div.sk-container {/* jupyter's `normalize.less` sets `[hidden] { display: none; }` but bootstrap.min.css set `[hidden] { display: none !important; }` so we also need the `!important` here to be able to override the default hidden behavior on the sphinx rendered scikit-learn.org. See: https://github.com/scikit-learn/scikit-learn/issues/21755 */display: inline-block !important;position: relative;}#sk-container-id-5 div.sk-text-repr-fallback {display: none;}</style><div id=\"sk-container-id-5\" class=\"sk-top-container\"><div class=\"sk-text-repr-fallback\"><pre>Pipeline(steps=[(&#x27;preprocessor&#x27;,\n",
       "                 ColumnTransformer(transformers=[(&#x27;num&#x27;, StandardScaler(),\n",
       "                                                  [&#x27;averageSquareFootage&#x27;,\n",
       "                                                   &#x27;stories&#x27;, &#x27;yearsold&#x27;,\n",
       "                                                   &#x27;MPF-OCC&#x27;, &#x27;unitcount&#x27;,\n",
       "                                                   &#x27;MPF-RPSF&#x27;]),\n",
       "                                                 (&#x27;cat&#x27;,\n",
       "                                                  OneHotEncoder(handle_unknown=&#x27;ignore&#x27;),\n",
       "                                                  [&#x27;cbsa_code&#x27;, &#x27;class&#x27;])])),\n",
       "                (&#x27;classifier&#x27;,\n",
       "                 LogisticRegression(random_state=42, solver=&#x27;liblinear&#x27;))])</pre><b>In a Jupyter environment, please rerun this cell to show the HTML representation or trust the notebook. <br />On GitHub, the HTML representation is unable to render, please try loading this page with nbviewer.org.</b></div><div class=\"sk-container\" hidden><div class=\"sk-item sk-dashed-wrapped\"><div class=\"sk-label-container\"><div class=\"sk-label sk-toggleable\"><input class=\"sk-toggleable__control sk-hidden--visually\" id=\"sk-estimator-id-29\" type=\"checkbox\" ><label for=\"sk-estimator-id-29\" class=\"sk-toggleable__label sk-toggleable__label-arrow\">Pipeline</label><div class=\"sk-toggleable__content\"><pre>Pipeline(steps=[(&#x27;preprocessor&#x27;,\n",
       "                 ColumnTransformer(transformers=[(&#x27;num&#x27;, StandardScaler(),\n",
       "                                                  [&#x27;averageSquareFootage&#x27;,\n",
       "                                                   &#x27;stories&#x27;, &#x27;yearsold&#x27;,\n",
       "                                                   &#x27;MPF-OCC&#x27;, &#x27;unitcount&#x27;,\n",
       "                                                   &#x27;MPF-RPSF&#x27;]),\n",
       "                                                 (&#x27;cat&#x27;,\n",
       "                                                  OneHotEncoder(handle_unknown=&#x27;ignore&#x27;),\n",
       "                                                  [&#x27;cbsa_code&#x27;, &#x27;class&#x27;])])),\n",
       "                (&#x27;classifier&#x27;,\n",
       "                 LogisticRegression(random_state=42, solver=&#x27;liblinear&#x27;))])</pre></div></div></div><div class=\"sk-serial\"><div class=\"sk-item sk-dashed-wrapped\"><div class=\"sk-label-container\"><div class=\"sk-label sk-toggleable\"><input class=\"sk-toggleable__control sk-hidden--visually\" id=\"sk-estimator-id-30\" type=\"checkbox\" ><label for=\"sk-estimator-id-30\" class=\"sk-toggleable__label sk-toggleable__label-arrow\">preprocessor: ColumnTransformer</label><div class=\"sk-toggleable__content\"><pre>ColumnTransformer(transformers=[(&#x27;num&#x27;, StandardScaler(),\n",
       "                                 [&#x27;averageSquareFootage&#x27;, &#x27;stories&#x27;, &#x27;yearsold&#x27;,\n",
       "                                  &#x27;MPF-OCC&#x27;, &#x27;unitcount&#x27;, &#x27;MPF-RPSF&#x27;]),\n",
       "                                (&#x27;cat&#x27;, OneHotEncoder(handle_unknown=&#x27;ignore&#x27;),\n",
       "                                 [&#x27;cbsa_code&#x27;, &#x27;class&#x27;])])</pre></div></div></div><div class=\"sk-parallel\"><div class=\"sk-parallel-item\"><div class=\"sk-item\"><div class=\"sk-label-container\"><div class=\"sk-label sk-toggleable\"><input class=\"sk-toggleable__control sk-hidden--visually\" id=\"sk-estimator-id-31\" type=\"checkbox\" ><label for=\"sk-estimator-id-31\" class=\"sk-toggleable__label sk-toggleable__label-arrow\">num</label><div class=\"sk-toggleable__content\"><pre>[&#x27;averageSquareFootage&#x27;, &#x27;stories&#x27;, &#x27;yearsold&#x27;, &#x27;MPF-OCC&#x27;, &#x27;unitcount&#x27;, &#x27;MPF-RPSF&#x27;]</pre></div></div></div><div class=\"sk-serial\"><div class=\"sk-item\"><div class=\"sk-estimator sk-toggleable\"><input class=\"sk-toggleable__control sk-hidden--visually\" id=\"sk-estimator-id-32\" type=\"checkbox\" ><label for=\"sk-estimator-id-32\" class=\"sk-toggleable__label sk-toggleable__label-arrow\">StandardScaler</label><div class=\"sk-toggleable__content\"><pre>StandardScaler()</pre></div></div></div></div></div></div><div class=\"sk-parallel-item\"><div class=\"sk-item\"><div class=\"sk-label-container\"><div class=\"sk-label sk-toggleable\"><input class=\"sk-toggleable__control sk-hidden--visually\" id=\"sk-estimator-id-33\" type=\"checkbox\" ><label for=\"sk-estimator-id-33\" class=\"sk-toggleable__label sk-toggleable__label-arrow\">cat</label><div class=\"sk-toggleable__content\"><pre>[&#x27;cbsa_code&#x27;, &#x27;class&#x27;]</pre></div></div></div><div class=\"sk-serial\"><div class=\"sk-item\"><div class=\"sk-estimator sk-toggleable\"><input class=\"sk-toggleable__control sk-hidden--visually\" id=\"sk-estimator-id-34\" type=\"checkbox\" ><label for=\"sk-estimator-id-34\" class=\"sk-toggleable__label sk-toggleable__label-arrow\">OneHotEncoder</label><div class=\"sk-toggleable__content\"><pre>OneHotEncoder(handle_unknown=&#x27;ignore&#x27;)</pre></div></div></div></div></div></div></div></div><div class=\"sk-item\"><div class=\"sk-estimator sk-toggleable\"><input class=\"sk-toggleable__control sk-hidden--visually\" id=\"sk-estimator-id-35\" type=\"checkbox\" ><label for=\"sk-estimator-id-35\" class=\"sk-toggleable__label sk-toggleable__label-arrow\">LogisticRegression</label><div class=\"sk-toggleable__content\"><pre>LogisticRegression(random_state=42, solver=&#x27;liblinear&#x27;)</pre></div></div></div></div></div></div></div>"
      ],
      "text/plain": [
       "Pipeline(steps=[('preprocessor',\n",
       "                 ColumnTransformer(transformers=[('num', StandardScaler(),\n",
       "                                                  ['averageSquareFootage',\n",
       "                                                   'stories', 'yearsold',\n",
       "                                                   'MPF-OCC', 'unitcount',\n",
       "                                                   'MPF-RPSF']),\n",
       "                                                 ('cat',\n",
       "                                                  OneHotEncoder(handle_unknown='ignore'),\n",
       "                                                  ['cbsa_code', 'class'])])),\n",
       "                ('classifier',\n",
       "                 LogisticRegression(random_state=42, solver='liblinear'))])"
      ]
     },
     "execution_count": 165,
     "metadata": {},
     "output_type": "execute_result"
    }
   ],
   "source": [
    "clf_pipeline.fit(X_treat_train, y_treat_train)"
   ]
  },
  {
   "cell_type": "code",
   "execution_count": 166,
   "metadata": {},
   "outputs": [],
   "source": [
    "y_treat_pred = clf_pipeline.predict(X_treat_test)"
   ]
  },
  {
   "cell_type": "code",
   "execution_count": 180,
   "metadata": {},
   "outputs": [
    {
     "name": "stdout",
     "output_type": "stream",
     "text": [
      "Treatment Model Classification Report:\n",
      "              precision    recall  f1-score   support\n",
      "\n",
      "           0       0.87      0.99      0.93      5771\n",
      "           1       0.41      0.03      0.05       877\n",
      "\n",
      "    accuracy                           0.87      6648\n",
      "   macro avg       0.64      0.51      0.49      6648\n",
      "weighted avg       0.81      0.87      0.81      6648\n",
      "\n"
     ]
    }
   ],
   "source": [
    "print(\"Treatment Model Classification Report:\")\n",
    "print(classification_report(y_treat_test, y_treat_pred))"
   ]
  },
  {
   "cell_type": "markdown",
   "metadata": {},
   "source": [
    "# Model 2: Predicting the Price of Properties\n",
    "\n",
    "In this section, our goal is to build a regression model to predict the rent per square foot (MPF-RPSF) of properties. The process involves:\n",
    "\n",
    "- **Preprocessing & Feature Engineering:**\n",
    "  - Compute `yearsold` from the `yearBuilt` column (Current year - yearBuilt).  \n",
    "  - Standardize numerical features using StandardScaler.\n",
    "  - One-hot encode categorical features (CBSA code and class).\n",
    "  - Eliminate any NA rows\n",
    "\n",
    "- **Modeling:**  \n",
    "  - Implement a Random Forest Regressor for robust prediction.\n",
    "  - Split the data into an 80/20 train-test set.\n",
    "\n",
    "- **Evaluation:**  \n",
    "  - Assess the model using the Mean Squared Error (MSE) metric.\n",
    "\n",
    "This setup will allow us to test, tweak, and improve both models based on the performance and insights we gain from the evaluation.\n",
    "\n",
    "Goal: Allow a user to prompt the model and see how the models prediction of price changes as they change the realpage usage variable, while keeping other variables constant.\n",
    "\n",
    "Columns used in model:\n",
    "<br>    - `cbsa_code`\n",
    "<br>    - `averageSquareFootage`\n",
    "<br>    - `stories`\n",
    "<br>    - `class`\n",
    "<br>    - `unitcount`\n",
    "<br>    - `yearsold`\n",
    "<br>    - `MPF-OCC`\n",
    "<br>    - `MPF-RPSF`\n",
    "<br>    - `uses_realpage`\n",
    "\n",
    "Please refer to the website (https://uc-berkeley-i-school.github.io/realpage-collusion/) for definitions of the columns."
   ]
  },
  {
   "cell_type": "code",
   "execution_count": 168,
   "metadata": {},
   "outputs": [],
   "source": [
    "#defining features and target\n",
    "features_rent = ['averageSquareFootage', 'stories', 'cbsa_code', 'class', 'yearsold', 'MPF-OCC', 'unitcount','uses_realpage']\n",
    "X_rent = df[features_rent]\n",
    "y_rent = df['MPF-RPSF']\n",
    "\n",
    "#assigning numeric and categorical features\n",
    "numeric_features_rent = ['averageSquareFootage', 'stories', 'yearsold', 'MPF-OCC', 'unitcount','uses_realpage']\n",
    "categorical_features_rent = ['cbsa_code', 'class']"
   ]
  },
  {
   "cell_type": "code",
   "execution_count": 169,
   "metadata": {},
   "outputs": [],
   "source": [
    "#develop a preprocessor for for the rent model\n",
    "preprocessor_rent = ColumnTransformer(\n",
    "    transformers=[\n",
    "        ('num', StandardScaler(), numeric_features_rent),\n",
    "        ('cat', OneHotEncoder(handle_unknown='ignore'), categorical_features_rent)\n",
    "    ]\n",
    ")"
   ]
  },
  {
   "cell_type": "code",
   "execution_count": 170,
   "metadata": {},
   "outputs": [],
   "source": [
    "#build pipeline for the regression model, we will use random forest regressor. will run through preprossor first, then through the regressor model.\n",
    "reg_pipeline = Pipeline(steps=[\n",
    "    ('preprocessor', preprocessor_rent),\n",
    "    ('regressor', RandomForestRegressor(n_estimators=100, random_state=42))\n",
    "])"
   ]
  },
  {
   "cell_type": "code",
   "execution_count": 171,
   "metadata": {},
   "outputs": [],
   "source": [
    "X_rent_train, X_rent_test, y_rent_train, y_rent_test = train_test_split(\n",
    "    X_rent, y_rent, test_size=0.2, random_state=42\n",
    ")"
   ]
  },
  {
   "cell_type": "code",
   "execution_count": 202,
   "metadata": {},
   "outputs": [
    {
     "data": {
      "text/html": [
       "<style>#sk-container-id-9 {color: black;}#sk-container-id-9 pre{padding: 0;}#sk-container-id-9 div.sk-toggleable {background-color: white;}#sk-container-id-9 label.sk-toggleable__label {cursor: pointer;display: block;width: 100%;margin-bottom: 0;padding: 0.3em;box-sizing: border-box;text-align: center;}#sk-container-id-9 label.sk-toggleable__label-arrow:before {content: \"▸\";float: left;margin-right: 0.25em;color: #696969;}#sk-container-id-9 label.sk-toggleable__label-arrow:hover:before {color: black;}#sk-container-id-9 div.sk-estimator:hover label.sk-toggleable__label-arrow:before {color: black;}#sk-container-id-9 div.sk-toggleable__content {max-height: 0;max-width: 0;overflow: hidden;text-align: left;background-color: #f0f8ff;}#sk-container-id-9 div.sk-toggleable__content pre {margin: 0.2em;color: black;border-radius: 0.25em;background-color: #f0f8ff;}#sk-container-id-9 input.sk-toggleable__control:checked~div.sk-toggleable__content {max-height: 200px;max-width: 100%;overflow: auto;}#sk-container-id-9 input.sk-toggleable__control:checked~label.sk-toggleable__label-arrow:before {content: \"▾\";}#sk-container-id-9 div.sk-estimator input.sk-toggleable__control:checked~label.sk-toggleable__label {background-color: #d4ebff;}#sk-container-id-9 div.sk-label input.sk-toggleable__control:checked~label.sk-toggleable__label {background-color: #d4ebff;}#sk-container-id-9 input.sk-hidden--visually {border: 0;clip: rect(1px 1px 1px 1px);clip: rect(1px, 1px, 1px, 1px);height: 1px;margin: -1px;overflow: hidden;padding: 0;position: absolute;width: 1px;}#sk-container-id-9 div.sk-estimator {font-family: monospace;background-color: #f0f8ff;border: 1px dotted black;border-radius: 0.25em;box-sizing: border-box;margin-bottom: 0.5em;}#sk-container-id-9 div.sk-estimator:hover {background-color: #d4ebff;}#sk-container-id-9 div.sk-parallel-item::after {content: \"\";width: 100%;border-bottom: 1px solid gray;flex-grow: 1;}#sk-container-id-9 div.sk-label:hover label.sk-toggleable__label {background-color: #d4ebff;}#sk-container-id-9 div.sk-serial::before {content: \"\";position: absolute;border-left: 1px solid gray;box-sizing: border-box;top: 0;bottom: 0;left: 50%;z-index: 0;}#sk-container-id-9 div.sk-serial {display: flex;flex-direction: column;align-items: center;background-color: white;padding-right: 0.2em;padding-left: 0.2em;position: relative;}#sk-container-id-9 div.sk-item {position: relative;z-index: 1;}#sk-container-id-9 div.sk-parallel {display: flex;align-items: stretch;justify-content: center;background-color: white;position: relative;}#sk-container-id-9 div.sk-item::before, #sk-container-id-9 div.sk-parallel-item::before {content: \"\";position: absolute;border-left: 1px solid gray;box-sizing: border-box;top: 0;bottom: 0;left: 50%;z-index: -1;}#sk-container-id-9 div.sk-parallel-item {display: flex;flex-direction: column;z-index: 1;position: relative;background-color: white;}#sk-container-id-9 div.sk-parallel-item:first-child::after {align-self: flex-end;width: 50%;}#sk-container-id-9 div.sk-parallel-item:last-child::after {align-self: flex-start;width: 50%;}#sk-container-id-9 div.sk-parallel-item:only-child::after {width: 0;}#sk-container-id-9 div.sk-dashed-wrapped {border: 1px dashed gray;margin: 0 0.4em 0.5em 0.4em;box-sizing: border-box;padding-bottom: 0.4em;background-color: white;}#sk-container-id-9 div.sk-label label {font-family: monospace;font-weight: bold;display: inline-block;line-height: 1.2em;}#sk-container-id-9 div.sk-label-container {text-align: center;}#sk-container-id-9 div.sk-container {/* jupyter's `normalize.less` sets `[hidden] { display: none; }` but bootstrap.min.css set `[hidden] { display: none !important; }` so we also need the `!important` here to be able to override the default hidden behavior on the sphinx rendered scikit-learn.org. See: https://github.com/scikit-learn/scikit-learn/issues/21755 */display: inline-block !important;position: relative;}#sk-container-id-9 div.sk-text-repr-fallback {display: none;}</style><div id=\"sk-container-id-9\" class=\"sk-top-container\"><div class=\"sk-text-repr-fallback\"><pre>Pipeline(steps=[(&#x27;preprocessor&#x27;,\n",
       "                 ColumnTransformer(transformers=[(&#x27;num&#x27;, StandardScaler(),\n",
       "                                                  [&#x27;averageSquareFootage&#x27;,\n",
       "                                                   &#x27;stories&#x27;, &#x27;yearsold&#x27;,\n",
       "                                                   &#x27;MPF-OCC&#x27;, &#x27;unitcount&#x27;,\n",
       "                                                   &#x27;uses_realpage&#x27;]),\n",
       "                                                 (&#x27;cat&#x27;,\n",
       "                                                  OneHotEncoder(handle_unknown=&#x27;ignore&#x27;),\n",
       "                                                  [&#x27;cbsa_code&#x27;, &#x27;class&#x27;])])),\n",
       "                (&#x27;regressor&#x27;, RandomForestRegressor(random_state=42))])</pre><b>In a Jupyter environment, please rerun this cell to show the HTML representation or trust the notebook. <br />On GitHub, the HTML representation is unable to render, please try loading this page with nbviewer.org.</b></div><div class=\"sk-container\" hidden><div class=\"sk-item sk-dashed-wrapped\"><div class=\"sk-label-container\"><div class=\"sk-label sk-toggleable\"><input class=\"sk-toggleable__control sk-hidden--visually\" id=\"sk-estimator-id-57\" type=\"checkbox\" ><label for=\"sk-estimator-id-57\" class=\"sk-toggleable__label sk-toggleable__label-arrow\">Pipeline</label><div class=\"sk-toggleable__content\"><pre>Pipeline(steps=[(&#x27;preprocessor&#x27;,\n",
       "                 ColumnTransformer(transformers=[(&#x27;num&#x27;, StandardScaler(),\n",
       "                                                  [&#x27;averageSquareFootage&#x27;,\n",
       "                                                   &#x27;stories&#x27;, &#x27;yearsold&#x27;,\n",
       "                                                   &#x27;MPF-OCC&#x27;, &#x27;unitcount&#x27;,\n",
       "                                                   &#x27;uses_realpage&#x27;]),\n",
       "                                                 (&#x27;cat&#x27;,\n",
       "                                                  OneHotEncoder(handle_unknown=&#x27;ignore&#x27;),\n",
       "                                                  [&#x27;cbsa_code&#x27;, &#x27;class&#x27;])])),\n",
       "                (&#x27;regressor&#x27;, RandomForestRegressor(random_state=42))])</pre></div></div></div><div class=\"sk-serial\"><div class=\"sk-item sk-dashed-wrapped\"><div class=\"sk-label-container\"><div class=\"sk-label sk-toggleable\"><input class=\"sk-toggleable__control sk-hidden--visually\" id=\"sk-estimator-id-58\" type=\"checkbox\" ><label for=\"sk-estimator-id-58\" class=\"sk-toggleable__label sk-toggleable__label-arrow\">preprocessor: ColumnTransformer</label><div class=\"sk-toggleable__content\"><pre>ColumnTransformer(transformers=[(&#x27;num&#x27;, StandardScaler(),\n",
       "                                 [&#x27;averageSquareFootage&#x27;, &#x27;stories&#x27;, &#x27;yearsold&#x27;,\n",
       "                                  &#x27;MPF-OCC&#x27;, &#x27;unitcount&#x27;, &#x27;uses_realpage&#x27;]),\n",
       "                                (&#x27;cat&#x27;, OneHotEncoder(handle_unknown=&#x27;ignore&#x27;),\n",
       "                                 [&#x27;cbsa_code&#x27;, &#x27;class&#x27;])])</pre></div></div></div><div class=\"sk-parallel\"><div class=\"sk-parallel-item\"><div class=\"sk-item\"><div class=\"sk-label-container\"><div class=\"sk-label sk-toggleable\"><input class=\"sk-toggleable__control sk-hidden--visually\" id=\"sk-estimator-id-59\" type=\"checkbox\" ><label for=\"sk-estimator-id-59\" class=\"sk-toggleable__label sk-toggleable__label-arrow\">num</label><div class=\"sk-toggleable__content\"><pre>[&#x27;averageSquareFootage&#x27;, &#x27;stories&#x27;, &#x27;yearsold&#x27;, &#x27;MPF-OCC&#x27;, &#x27;unitcount&#x27;, &#x27;uses_realpage&#x27;]</pre></div></div></div><div class=\"sk-serial\"><div class=\"sk-item\"><div class=\"sk-estimator sk-toggleable\"><input class=\"sk-toggleable__control sk-hidden--visually\" id=\"sk-estimator-id-60\" type=\"checkbox\" ><label for=\"sk-estimator-id-60\" class=\"sk-toggleable__label sk-toggleable__label-arrow\">StandardScaler</label><div class=\"sk-toggleable__content\"><pre>StandardScaler()</pre></div></div></div></div></div></div><div class=\"sk-parallel-item\"><div class=\"sk-item\"><div class=\"sk-label-container\"><div class=\"sk-label sk-toggleable\"><input class=\"sk-toggleable__control sk-hidden--visually\" id=\"sk-estimator-id-61\" type=\"checkbox\" ><label for=\"sk-estimator-id-61\" class=\"sk-toggleable__label sk-toggleable__label-arrow\">cat</label><div class=\"sk-toggleable__content\"><pre>[&#x27;cbsa_code&#x27;, &#x27;class&#x27;]</pre></div></div></div><div class=\"sk-serial\"><div class=\"sk-item\"><div class=\"sk-estimator sk-toggleable\"><input class=\"sk-toggleable__control sk-hidden--visually\" id=\"sk-estimator-id-62\" type=\"checkbox\" ><label for=\"sk-estimator-id-62\" class=\"sk-toggleable__label sk-toggleable__label-arrow\">OneHotEncoder</label><div class=\"sk-toggleable__content\"><pre>OneHotEncoder(handle_unknown=&#x27;ignore&#x27;)</pre></div></div></div></div></div></div></div></div><div class=\"sk-item\"><div class=\"sk-estimator sk-toggleable\"><input class=\"sk-toggleable__control sk-hidden--visually\" id=\"sk-estimator-id-63\" type=\"checkbox\" ><label for=\"sk-estimator-id-63\" class=\"sk-toggleable__label sk-toggleable__label-arrow\">RandomForestRegressor</label><div class=\"sk-toggleable__content\"><pre>RandomForestRegressor(random_state=42)</pre></div></div></div></div></div></div></div>"
      ],
      "text/plain": [
       "Pipeline(steps=[('preprocessor',\n",
       "                 ColumnTransformer(transformers=[('num', StandardScaler(),\n",
       "                                                  ['averageSquareFootage',\n",
       "                                                   'stories', 'yearsold',\n",
       "                                                   'MPF-OCC', 'unitcount',\n",
       "                                                   'uses_realpage']),\n",
       "                                                 ('cat',\n",
       "                                                  OneHotEncoder(handle_unknown='ignore'),\n",
       "                                                  ['cbsa_code', 'class'])])),\n",
       "                ('regressor', RandomForestRegressor(random_state=42))])"
      ]
     },
     "execution_count": 202,
     "metadata": {},
     "output_type": "execute_result"
    }
   ],
   "source": [
    "reg_pipeline.fit(X_rent_train, y_rent_train)"
   ]
  },
  {
   "cell_type": "code",
   "execution_count": 173,
   "metadata": {},
   "outputs": [
    {
     "name": "stdout",
     "output_type": "stream",
     "text": [
      "Rent Model Mean Squared Error: 0.04848786969718381\n"
     ]
    }
   ],
   "source": [
    "y_rent_pred = reg_pipeline.predict(X_rent_test)\n",
    "mse = mean_squared_error(y_rent_test, y_rent_pred)\n",
    "print(\"Rent Model Mean Squared Error:\", mse)"
   ]
  },
  {
   "cell_type": "code",
   "execution_count": 179,
   "metadata": {},
   "outputs": [
    {
     "name": "stdout",
     "output_type": "stream",
     "text": [
      "Feature Importances for model 1:\n",
      "                  feature  importance\n",
      "6  cbsa_code (aggregated)    0.543746\n",
      "0                 stories    0.215968\n",
      "7      class (aggregated)    0.121429\n",
      "1    averageSquareFootage    0.069682\n",
      "2                yearsold    0.017268\n",
      "3               unitcount    0.017060\n",
      "4                 MPF-OCC    0.013397\n",
      "5           uses_realpage    0.001450\n"
     ]
    }
   ],
   "source": [
    "#finding feature importance for the random forest regressor model\n",
    "preprocessor_reg_1 = reg_pipeline.named_steps['preprocessor']\n",
    "regressor_reg_1 = reg_pipeline.named_steps['regressor']\n",
    "\n",
    "num_features_reg_1 = numeric_features_rent\n",
    "\n",
    "cat_transformer_reg_1 = preprocessor_reg_1.named_transformers_['cat']\n",
    "cat_features_reg_1 = list(cat_transformer_reg_1.get_feature_names_out(categorical_features_rent))\n",
    "\n",
    "all_feature_names_reg_1 = num_features_reg_1 + cat_features_reg_1\n",
    "\n",
    "importances_reg_1 = regressor_reg_1.feature_importances_\n",
    "\n",
    "feature_importance_reg1_df = pd.DataFrame({\n",
    "    'feature': all_feature_names_reg_1,\n",
    "    'importance': importances_reg_1\n",
    "}).sort_values(by='importance', ascending=False)\n",
    "\n",
    "cbsa_mask = feature_importance_reg1_df['feature'].str.startswith('cbsa_code')\n",
    "cbsa_agg = feature_importance_reg1_df.loc[cbsa_mask, 'importance'].sum()\n",
    "\n",
    "feature_importance_reg1_df = feature_importance_reg1_df.loc[~cbsa_mask]\n",
    "\n",
    "agg__cbsa_row = pd.DataFrame({'feature': ['cbsa_code (aggregated)'], 'importance': [cbsa_agg]})\n",
    "feature_importance_reg1_df = pd.concat([feature_importance_reg1_df, agg__cbsa_row], ignore_index=True)\n",
    "\n",
    "class_mask = feature_importance_reg1_df['feature'].str.startswith('class')\n",
    "class_agg = feature_importance_reg1_df.loc[class_mask, 'importance'].sum()\n",
    "\n",
    "feature_importance_reg1_df = feature_importance_reg1_df.loc[~class_mask]\n",
    "\n",
    "agg_class_row = pd.DataFrame({'feature': ['class (aggregated)'], 'importance': [class_agg]})\n",
    "feature_importance_reg1_df = pd.concat([feature_importance_reg1_df, agg_class_row], ignore_index=True)\n",
    "\n",
    "print(\"Feature Importances for model 1:\")\n",
    "print(feature_importance_reg1_df.sort_values('importance',ascending=False))"
   ]
  },
  {
   "cell_type": "markdown",
   "metadata": {},
   "source": [
    "# Try it Yourself! Predict the RPSF\n",
    "\n",
    "In this section, we're building an interactive function that allows a user to input key property details. Based on these inputs, our regression model will predict the rent per square foot (RPSF). This serves as a prototype for the similar functionality we plan to integrate into our website.\n",
    "\n",
    "## What Does the Function Do?\n",
    "\n",
    "- **User Prompts:**  \n",
    "  The function asks the user to enter several input variables, including:\n",
    "  - Average square footage\n",
    "  - Number of stories\n",
    "  - CBSA code (categorical)\n",
    "  - Property class (categorical)\n",
    "  - Year built (from which we calculate the property's age)\n",
    "  - MPF-OCC (occupancy)\n",
    "  - Unit count\n",
    "\n",
    "- **Output:**  \n",
    "  The function displays the inputs the user provided and then outputs the prediction in a clear format, e.g.,  \n",
    "  `Predicted RPSF: $XXXX`\n",
    "\n",
    "## How This Relates to Our Website\n",
    "\n",
    "This interactive function is a small-scale prototype of what we plan to implement on our website. On the live site:\n",
    "- Users can navigate to the Try it Yourself section within the website and test inputs\n",
    "- The website backend will process these inputs into our model using sagemaker\n",
    "- The predicted rent per square foot will be displayed to the user immediately.\n"
   ]
  },
  {
   "cell_type": "code",
   "execution_count": 20,
   "metadata": {},
   "outputs": [],
   "source": [
    "def predict_rpsf(model):\n",
    "    \"\"\"\n",
    "    Prompts the user for input variables, displays the inputs,\n",
    "    and outputs the predicted rent per square foot.\n",
    "    \"\"\"\n",
    "    try:\n",
    "        averageSquareFootage = float(input(\"Enter average square footage: \"))\n",
    "        stories = float(input(\"Enter number of stories: \"))\n",
    "        cbsa_code = input(\"Enter CBSA code: \")\n",
    "        property_class = input(\"Enter property class: \")\n",
    "        yearbuilt = int(input(\"Enter the year built: \"))\n",
    "        MPF_OCC = float(input(\"Enter MPF-OCC (occupancy): \"))\n",
    "        unitcount = float(input(\"Enter unit count: \"))\n",
    "        uses_realpage = input(\"Enter uses_realpage: \")\n",
    "    except Exception as e:\n",
    "        print(f\"Error in input: {e}\")\n",
    "        return\n",
    "\n",
    "    current_year = datetime.now().year\n",
    "    yearsold = current_year - yearbuilt\n",
    "\n",
    "    print(\"\\nUser Inputs:\")\n",
    "    print(f\"  Average Square Footage: {averageSquareFootage}\")\n",
    "    print(f\"  Stories: {stories}\")\n",
    "    print(f\"  CBSA Code: {cbsa_code}\")\n",
    "    print(f\"  Property Class: {property_class}\")\n",
    "    print(f\"  Year Built: {yearbuilt}\")\n",
    "    print(f\"  Years Old: {yearsold}\")\n",
    "    print(f\"  MPF-OCC (Occupancy): {MPF_OCC}\")\n",
    "    print(f\"  Unit Count: {unitcount}\")\n",
    "    print(f\"  Uses RealPage: {uses_realpage}\\n\")\n",
    "    \n",
    "    input_df = pd.DataFrame({\n",
    "        'averageSquareFootage': [averageSquareFootage],\n",
    "        'stories': [stories],\n",
    "        'cbsa_code': [cbsa_code],\n",
    "        'class': [property_class],\n",
    "        'yearsold': [yearsold],\n",
    "        'MPF-OCC': [MPF_OCC],\n",
    "        'unitcount': [unitcount],\n",
    "        'uses_realpage': [uses_realpage]\n",
    "    })\n",
    "    \n",
    "    prediction = model.predict(input_df)\n",
    "    predicted_rpsf = prediction[0]\n",
    "    \n",
    "    print(f\"Predicted RPSF: ${predicted_rpsf:.2f}\")\n",
    "    return predicted_rpsf\n"
   ]
  },
  {
   "cell_type": "code",
   "execution_count": null,
   "metadata": {},
   "outputs": [
    {
     "name": "stdout",
     "output_type": "stream",
     "text": [
      "\n",
      "User Inputs:\n",
      "  Average Square Footage: 890.0\n",
      "  Stories: 2.0\n",
      "  CBSA Code: 10180\n",
      "  Property Class: A\n",
      "  Year Built: 1994\n",
      "  Years Old: 31\n",
      "  MPF-OCC (Occupancy): 0.964\n",
      "  Unit Count: 190.0\n",
      "  Uses RealPage: 1\n",
      "\n",
      "Predicted RPSF: $1.58\n"
     ]
    },
    {
     "data": {
      "text/plain": [
       "1.5804899999999988"
      ]
     },
     "execution_count": 21,
     "metadata": {},
     "output_type": "execute_result"
    }
   ],
   "source": [
    "predict_rpsf(reg_pipeline)"
   ]
  },
  {
   "cell_type": "code",
   "execution_count": 181,
   "metadata": {},
   "outputs": [
    {
     "data": {
      "text/plain": [
       "'\\nNext steps for me to work on:\\n-   try different models\\n-   do some hyperparameter tuning\\n-   put in sagemaker and try to hit the model via API\\n'"
      ]
     },
     "execution_count": 181,
     "metadata": {},
     "output_type": "execute_result"
    }
   ],
   "source": [
    "\"\"\"\n",
    "Next steps for me to work on:\n",
    "-   try different models\n",
    "-   do some hyperparameter tuning\n",
    "-   put in sagemaker and try to hit the model via API\n",
    "\"\"\""
   ]
  },
  {
   "cell_type": "markdown",
   "metadata": {},
   "source": [
    "## Model 3\n",
    "\n",
    "Earlier, we found a proxy in our dataset for realpage's market share using the flagged users per cbsa in our dataset. This is our model will change:\n",
    "\n",
    "- **Feature Engineering:**\n",
    "  - Adding in a feature for market share using the proxy we developed\n",
    "  - The proxy is found by the following calculation per CBSA: `Total Number of Flagged Realpage Users / Total Number of Property Listings`\n",
    "\n"
   ]
  },
  {
   "cell_type": "code",
   "execution_count": 194,
   "metadata": {},
   "outputs": [],
   "source": [
    "market_share_proxy = market_share_proxy.rename(columns={'cbsa_code':'CBSA'})"
   ]
  },
  {
   "cell_type": "code",
   "execution_count": 195,
   "metadata": {},
   "outputs": [],
   "source": [
    "model3_df = df.merge(market_share_proxy[['CBSA','market_share']],left_on='cbsa_code',right_on='CBSA',how='left')"
   ]
  },
  {
   "cell_type": "code",
   "execution_count": 196,
   "metadata": {},
   "outputs": [],
   "source": [
    "#defining features and target\n",
    "features_rent_reg_2 = ['averageSquareFootage', 'stories', 'cbsa_code', 'class', 'yearsold', 'MPF-OCC', 'unitcount','uses_realpage','market_share']\n",
    "X_rent_reg_2 = model3_df[features_rent_reg_2]\n",
    "y_rent_reg_2 = model3_df['MPF-RPSF']\n",
    "\n",
    "#assigning numeric and categorical features\n",
    "numeric_features_rent_reg_2 = ['averageSquareFootage', 'stories', 'yearsold', 'MPF-OCC', 'unitcount','uses_realpage','market_share']\n",
    "categorical_features_rent_reg_2 = ['cbsa_code', 'class']"
   ]
  },
  {
   "cell_type": "code",
   "execution_count": 197,
   "metadata": {},
   "outputs": [],
   "source": [
    "#develop a preprocessor for for the rent model\n",
    "preprocessor_rent_reg_2 = ColumnTransformer(\n",
    "    transformers=[\n",
    "        ('num', StandardScaler(), numeric_features_rent_reg_2),\n",
    "        ('cat', OneHotEncoder(handle_unknown='ignore'), categorical_features_rent_reg_2)\n",
    "    ]\n",
    ")"
   ]
  },
  {
   "cell_type": "code",
   "execution_count": 198,
   "metadata": {},
   "outputs": [],
   "source": [
    "reg_pipeline_reg_2 = Pipeline(steps=[\n",
    "    ('preprocessor', preprocessor_rent_reg_2),\n",
    "    ('regressor', RandomForestRegressor(n_estimators=100, random_state=42))\n",
    "])"
   ]
  },
  {
   "cell_type": "code",
   "execution_count": 199,
   "metadata": {},
   "outputs": [],
   "source": [
    "X_rent_train_reg_2, X_rent_test_reg_2, y_rent_train_reg_2, y_rent_test_reg_2 = train_test_split(\n",
    "    X_rent_reg_2, y_rent_reg_2, test_size=0.2, random_state=42\n",
    ")"
   ]
  },
  {
   "cell_type": "code",
   "execution_count": 201,
   "metadata": {},
   "outputs": [
    {
     "data": {
      "text/html": [
       "<style>#sk-container-id-8 {color: black;}#sk-container-id-8 pre{padding: 0;}#sk-container-id-8 div.sk-toggleable {background-color: white;}#sk-container-id-8 label.sk-toggleable__label {cursor: pointer;display: block;width: 100%;margin-bottom: 0;padding: 0.3em;box-sizing: border-box;text-align: center;}#sk-container-id-8 label.sk-toggleable__label-arrow:before {content: \"▸\";float: left;margin-right: 0.25em;color: #696969;}#sk-container-id-8 label.sk-toggleable__label-arrow:hover:before {color: black;}#sk-container-id-8 div.sk-estimator:hover label.sk-toggleable__label-arrow:before {color: black;}#sk-container-id-8 div.sk-toggleable__content {max-height: 0;max-width: 0;overflow: hidden;text-align: left;background-color: #f0f8ff;}#sk-container-id-8 div.sk-toggleable__content pre {margin: 0.2em;color: black;border-radius: 0.25em;background-color: #f0f8ff;}#sk-container-id-8 input.sk-toggleable__control:checked~div.sk-toggleable__content {max-height: 200px;max-width: 100%;overflow: auto;}#sk-container-id-8 input.sk-toggleable__control:checked~label.sk-toggleable__label-arrow:before {content: \"▾\";}#sk-container-id-8 div.sk-estimator input.sk-toggleable__control:checked~label.sk-toggleable__label {background-color: #d4ebff;}#sk-container-id-8 div.sk-label input.sk-toggleable__control:checked~label.sk-toggleable__label {background-color: #d4ebff;}#sk-container-id-8 input.sk-hidden--visually {border: 0;clip: rect(1px 1px 1px 1px);clip: rect(1px, 1px, 1px, 1px);height: 1px;margin: -1px;overflow: hidden;padding: 0;position: absolute;width: 1px;}#sk-container-id-8 div.sk-estimator {font-family: monospace;background-color: #f0f8ff;border: 1px dotted black;border-radius: 0.25em;box-sizing: border-box;margin-bottom: 0.5em;}#sk-container-id-8 div.sk-estimator:hover {background-color: #d4ebff;}#sk-container-id-8 div.sk-parallel-item::after {content: \"\";width: 100%;border-bottom: 1px solid gray;flex-grow: 1;}#sk-container-id-8 div.sk-label:hover label.sk-toggleable__label {background-color: #d4ebff;}#sk-container-id-8 div.sk-serial::before {content: \"\";position: absolute;border-left: 1px solid gray;box-sizing: border-box;top: 0;bottom: 0;left: 50%;z-index: 0;}#sk-container-id-8 div.sk-serial {display: flex;flex-direction: column;align-items: center;background-color: white;padding-right: 0.2em;padding-left: 0.2em;position: relative;}#sk-container-id-8 div.sk-item {position: relative;z-index: 1;}#sk-container-id-8 div.sk-parallel {display: flex;align-items: stretch;justify-content: center;background-color: white;position: relative;}#sk-container-id-8 div.sk-item::before, #sk-container-id-8 div.sk-parallel-item::before {content: \"\";position: absolute;border-left: 1px solid gray;box-sizing: border-box;top: 0;bottom: 0;left: 50%;z-index: -1;}#sk-container-id-8 div.sk-parallel-item {display: flex;flex-direction: column;z-index: 1;position: relative;background-color: white;}#sk-container-id-8 div.sk-parallel-item:first-child::after {align-self: flex-end;width: 50%;}#sk-container-id-8 div.sk-parallel-item:last-child::after {align-self: flex-start;width: 50%;}#sk-container-id-8 div.sk-parallel-item:only-child::after {width: 0;}#sk-container-id-8 div.sk-dashed-wrapped {border: 1px dashed gray;margin: 0 0.4em 0.5em 0.4em;box-sizing: border-box;padding-bottom: 0.4em;background-color: white;}#sk-container-id-8 div.sk-label label {font-family: monospace;font-weight: bold;display: inline-block;line-height: 1.2em;}#sk-container-id-8 div.sk-label-container {text-align: center;}#sk-container-id-8 div.sk-container {/* jupyter's `normalize.less` sets `[hidden] { display: none; }` but bootstrap.min.css set `[hidden] { display: none !important; }` so we also need the `!important` here to be able to override the default hidden behavior on the sphinx rendered scikit-learn.org. See: https://github.com/scikit-learn/scikit-learn/issues/21755 */display: inline-block !important;position: relative;}#sk-container-id-8 div.sk-text-repr-fallback {display: none;}</style><div id=\"sk-container-id-8\" class=\"sk-top-container\"><div class=\"sk-text-repr-fallback\"><pre>Pipeline(steps=[(&#x27;preprocessor&#x27;,\n",
       "                 ColumnTransformer(transformers=[(&#x27;num&#x27;, StandardScaler(),\n",
       "                                                  [&#x27;averageSquareFootage&#x27;,\n",
       "                                                   &#x27;stories&#x27;, &#x27;yearsold&#x27;,\n",
       "                                                   &#x27;MPF-OCC&#x27;, &#x27;unitcount&#x27;,\n",
       "                                                   &#x27;uses_realpage&#x27;,\n",
       "                                                   &#x27;market_share&#x27;]),\n",
       "                                                 (&#x27;cat&#x27;,\n",
       "                                                  OneHotEncoder(handle_unknown=&#x27;ignore&#x27;),\n",
       "                                                  [&#x27;cbsa_code&#x27;, &#x27;class&#x27;])])),\n",
       "                (&#x27;regressor&#x27;, RandomForestRegressor(random_state=42))])</pre><b>In a Jupyter environment, please rerun this cell to show the HTML representation or trust the notebook. <br />On GitHub, the HTML representation is unable to render, please try loading this page with nbviewer.org.</b></div><div class=\"sk-container\" hidden><div class=\"sk-item sk-dashed-wrapped\"><div class=\"sk-label-container\"><div class=\"sk-label sk-toggleable\"><input class=\"sk-toggleable__control sk-hidden--visually\" id=\"sk-estimator-id-50\" type=\"checkbox\" ><label for=\"sk-estimator-id-50\" class=\"sk-toggleable__label sk-toggleable__label-arrow\">Pipeline</label><div class=\"sk-toggleable__content\"><pre>Pipeline(steps=[(&#x27;preprocessor&#x27;,\n",
       "                 ColumnTransformer(transformers=[(&#x27;num&#x27;, StandardScaler(),\n",
       "                                                  [&#x27;averageSquareFootage&#x27;,\n",
       "                                                   &#x27;stories&#x27;, &#x27;yearsold&#x27;,\n",
       "                                                   &#x27;MPF-OCC&#x27;, &#x27;unitcount&#x27;,\n",
       "                                                   &#x27;uses_realpage&#x27;,\n",
       "                                                   &#x27;market_share&#x27;]),\n",
       "                                                 (&#x27;cat&#x27;,\n",
       "                                                  OneHotEncoder(handle_unknown=&#x27;ignore&#x27;),\n",
       "                                                  [&#x27;cbsa_code&#x27;, &#x27;class&#x27;])])),\n",
       "                (&#x27;regressor&#x27;, RandomForestRegressor(random_state=42))])</pre></div></div></div><div class=\"sk-serial\"><div class=\"sk-item sk-dashed-wrapped\"><div class=\"sk-label-container\"><div class=\"sk-label sk-toggleable\"><input class=\"sk-toggleable__control sk-hidden--visually\" id=\"sk-estimator-id-51\" type=\"checkbox\" ><label for=\"sk-estimator-id-51\" class=\"sk-toggleable__label sk-toggleable__label-arrow\">preprocessor: ColumnTransformer</label><div class=\"sk-toggleable__content\"><pre>ColumnTransformer(transformers=[(&#x27;num&#x27;, StandardScaler(),\n",
       "                                 [&#x27;averageSquareFootage&#x27;, &#x27;stories&#x27;, &#x27;yearsold&#x27;,\n",
       "                                  &#x27;MPF-OCC&#x27;, &#x27;unitcount&#x27;, &#x27;uses_realpage&#x27;,\n",
       "                                  &#x27;market_share&#x27;]),\n",
       "                                (&#x27;cat&#x27;, OneHotEncoder(handle_unknown=&#x27;ignore&#x27;),\n",
       "                                 [&#x27;cbsa_code&#x27;, &#x27;class&#x27;])])</pre></div></div></div><div class=\"sk-parallel\"><div class=\"sk-parallel-item\"><div class=\"sk-item\"><div class=\"sk-label-container\"><div class=\"sk-label sk-toggleable\"><input class=\"sk-toggleable__control sk-hidden--visually\" id=\"sk-estimator-id-52\" type=\"checkbox\" ><label for=\"sk-estimator-id-52\" class=\"sk-toggleable__label sk-toggleable__label-arrow\">num</label><div class=\"sk-toggleable__content\"><pre>[&#x27;averageSquareFootage&#x27;, &#x27;stories&#x27;, &#x27;yearsold&#x27;, &#x27;MPF-OCC&#x27;, &#x27;unitcount&#x27;, &#x27;uses_realpage&#x27;, &#x27;market_share&#x27;]</pre></div></div></div><div class=\"sk-serial\"><div class=\"sk-item\"><div class=\"sk-estimator sk-toggleable\"><input class=\"sk-toggleable__control sk-hidden--visually\" id=\"sk-estimator-id-53\" type=\"checkbox\" ><label for=\"sk-estimator-id-53\" class=\"sk-toggleable__label sk-toggleable__label-arrow\">StandardScaler</label><div class=\"sk-toggleable__content\"><pre>StandardScaler()</pre></div></div></div></div></div></div><div class=\"sk-parallel-item\"><div class=\"sk-item\"><div class=\"sk-label-container\"><div class=\"sk-label sk-toggleable\"><input class=\"sk-toggleable__control sk-hidden--visually\" id=\"sk-estimator-id-54\" type=\"checkbox\" ><label for=\"sk-estimator-id-54\" class=\"sk-toggleable__label sk-toggleable__label-arrow\">cat</label><div class=\"sk-toggleable__content\"><pre>[&#x27;cbsa_code&#x27;, &#x27;class&#x27;]</pre></div></div></div><div class=\"sk-serial\"><div class=\"sk-item\"><div class=\"sk-estimator sk-toggleable\"><input class=\"sk-toggleable__control sk-hidden--visually\" id=\"sk-estimator-id-55\" type=\"checkbox\" ><label for=\"sk-estimator-id-55\" class=\"sk-toggleable__label sk-toggleable__label-arrow\">OneHotEncoder</label><div class=\"sk-toggleable__content\"><pre>OneHotEncoder(handle_unknown=&#x27;ignore&#x27;)</pre></div></div></div></div></div></div></div></div><div class=\"sk-item\"><div class=\"sk-estimator sk-toggleable\"><input class=\"sk-toggleable__control sk-hidden--visually\" id=\"sk-estimator-id-56\" type=\"checkbox\" ><label for=\"sk-estimator-id-56\" class=\"sk-toggleable__label sk-toggleable__label-arrow\">RandomForestRegressor</label><div class=\"sk-toggleable__content\"><pre>RandomForestRegressor(random_state=42)</pre></div></div></div></div></div></div></div>"
      ],
      "text/plain": [
       "Pipeline(steps=[('preprocessor',\n",
       "                 ColumnTransformer(transformers=[('num', StandardScaler(),\n",
       "                                                  ['averageSquareFootage',\n",
       "                                                   'stories', 'yearsold',\n",
       "                                                   'MPF-OCC', 'unitcount',\n",
       "                                                   'uses_realpage',\n",
       "                                                   'market_share']),\n",
       "                                                 ('cat',\n",
       "                                                  OneHotEncoder(handle_unknown='ignore'),\n",
       "                                                  ['cbsa_code', 'class'])])),\n",
       "                ('regressor', RandomForestRegressor(random_state=42))])"
      ]
     },
     "execution_count": 201,
     "metadata": {},
     "output_type": "execute_result"
    }
   ],
   "source": [
    "reg_pipeline_reg_2.fit(X_rent_train_reg_2, y_rent_train_reg_2)"
   ]
  },
  {
   "cell_type": "code",
   "execution_count": 204,
   "metadata": {},
   "outputs": [
    {
     "name": "stdout",
     "output_type": "stream",
     "text": [
      "Rent Model Mean Squared Error: 0.040398723995711296\n"
     ]
    }
   ],
   "source": [
    "y_rent_pred_reg_2 = reg_pipeline_reg_2.predict(X_rent_test_reg_2)\n",
    "mse_reg_2 = mean_squared_error(y_rent_test_reg_2, y_rent_pred_reg_2)\n",
    "print(\"Rent Model Mean Squared Error:\", mse_reg_2)"
   ]
  },
  {
   "cell_type": "code",
   "execution_count": 206,
   "metadata": {},
   "outputs": [
    {
     "name": "stdout",
     "output_type": "stream",
     "text": [
      "Feature Importances for model 2:\n",
      "                  feature  importance\n",
      "7  cbsa_code (aggregated)    0.365948\n",
      "0            market_share    0.252231\n",
      "8      class (aggregated)    0.193452\n",
      "1                 stories    0.079133\n",
      "2    averageSquareFootage    0.064340\n",
      "3               unitcount    0.015716\n",
      "4                yearsold    0.015670\n",
      "5                 MPF-OCC    0.012320\n",
      "6           uses_realpage    0.001190\n"
     ]
    }
   ],
   "source": [
    "#finding feature importance for the random forest regressor model\n",
    "preprocessor_reg_2 = reg_pipeline_reg_2.named_steps['preprocessor']\n",
    "regressor_reg_2 = reg_pipeline_reg_2.named_steps['regressor']\n",
    "\n",
    "num_features_reg_2 = numeric_features_rent_reg_2\n",
    "\n",
    "cat_transformer_reg_2 = preprocessor_reg_2.named_transformers_['cat']\n",
    "cat_features_reg_2 = list(cat_transformer_reg_2.get_feature_names_out(categorical_features_rent_reg_2))\n",
    "\n",
    "all_feature_names_reg_2 = num_features_reg_2 + cat_features_reg_2\n",
    "\n",
    "importances_reg_2 = regressor_reg_2.feature_importances_\n",
    "\n",
    "feature_importance_reg2_df = pd.DataFrame({\n",
    "    'feature': all_feature_names_reg_2,\n",
    "    'importance': importances_reg_2\n",
    "}).sort_values(by='importance', ascending=False)\n",
    "\n",
    "cbsa_mask = feature_importance_reg2_df['feature'].str.startswith('cbsa_code')\n",
    "cbsa_agg = feature_importance_reg2_df.loc[cbsa_mask, 'importance'].sum()\n",
    "\n",
    "feature_importance_reg2_df = feature_importance_reg2_df.loc[~cbsa_mask]\n",
    "\n",
    "agg__cbsa_row = pd.DataFrame({'feature': ['cbsa_code (aggregated)'], 'importance': [cbsa_agg]})\n",
    "feature_importance_reg2_df = pd.concat([feature_importance_reg2_df, agg__cbsa_row], ignore_index=True)\n",
    "\n",
    "class_mask = feature_importance_reg2_df['feature'].str.startswith('class')\n",
    "class_agg = feature_importance_reg2_df.loc[class_mask, 'importance'].sum()\n",
    "\n",
    "feature_importance_reg2_df = feature_importance_reg2_df.loc[~class_mask]\n",
    "\n",
    "agg_class_row = pd.DataFrame({'feature': ['class (aggregated)'], 'importance': [class_agg]})\n",
    "feature_importance_reg2_df = pd.concat([feature_importance_reg2_df, agg_class_row], ignore_index=True)\n",
    "\n",
    "print(\"Feature Importances for model 2:\")\n",
    "print(feature_importance_reg2_df.sort_values('importance',ascending=False))"
   ]
  },
  {
   "cell_type": "code",
   "execution_count": 210,
   "metadata": {},
   "outputs": [],
   "source": [
    "df[['averageSquareFootage', 'stories', 'cbsa_code', 'class', 'yearsold', 'MPF-OCC', 'unitcount','uses_realpage','MPF-RPSF']].to_csv('model_1_data.csv',index=False)"
   ]
  },
  {
   "cell_type": "code",
   "execution_count": 212,
   "metadata": {},
   "outputs": [],
   "source": [
    "model3_df[['averageSquareFootage', 'stories', 'cbsa_code', 'class', 'yearsold', 'MPF-OCC', 'unitcount','uses_realpage','market_share','MPF-RPSF']].to_csv('model_2_data.csv',index=False)"
   ]
  },
  {
   "cell_type": "markdown",
   "metadata": {},
   "source": [
    "# Simulation of Predicted Prices Based on Varying Inputs\n",
    "\n",
    "In this section, we perform simulations to illustrate how the predicted price per square foot (MPF-RPSF) changes as key input features vary. We focus on two cases:\n",
    "\n",
    "1. **Regressor Model 1 (AKA Model 2) – Varying the `uses_realpage` Flag:**  \n",
    "   We generate simulated data points for a representative property by holding most features constant while switching the `uses_realpage` flag between 0 and 1. This will help us see the effect of being a RealPage user on the predicted price.\n",
    "\n",
    "2. **Regressor Model 2 (AKA Model 3) – Varying Market Share and `uses_realpage`:**  \n",
    "   For the second model, we simulate how the predicted MPF-RPSF changes as RealPage’s market share in the CBSA changes. We generate two sets of simulated properties (one for non-RealPage users and one for RealPage users) while varying the `market_share` feature over a range of values. The resulting plots will show the relationship between market share and predicted price for both groups.\n",
    "\n",
    "These simulations not only serve to validate the models but also provide clear visual insights that can be presented in our paper and on our website."
   ]
  },
  {
   "cell_type": "code",
   "execution_count": 214,
   "metadata": {},
   "outputs": [],
   "source": [
    "# develop simulated data to use for experiment\n",
    "baseline_avg_sqft = df['averageSquareFootage'].median()\n",
    "baseline_stories = df['stories'].median()\n",
    "baseline_cbsa = df['cbsa_code'].mode()[0]\n",
    "baseline_class = df['class'].mode()[0]\n",
    "baseline_yearsold = df['yearsold'].median()\n",
    "baseline_MPF_OCC = df['MPF-OCC'].median()\n",
    "baseline_unitcount = df['unitcount'].median()\n",
    "\n",
    "baseline_model1 = {\n",
    "    'averageSquareFootage': baseline_avg_sqft,\n",
    "    'stories': baseline_stories,\n",
    "    'cbsa_code': baseline_cbsa,\n",
    "    'class': baseline_class,\n",
    "    'yearsold': baseline_yearsold,\n",
    "    'MPF-OCC': baseline_MPF_OCC,\n",
    "    'unitcount': baseline_unitcount,\n",
    "}"
   ]
  },
  {
   "cell_type": "code",
   "execution_count": 215,
   "metadata": {},
   "outputs": [],
   "source": [
    "sim_data_model1 = pd.DataFrame([\n",
    "    {**baseline_model1, 'uses_realpage': 0},\n",
    "    {**baseline_model1, 'uses_realpage': 1}\n",
    "])"
   ]
  },
  {
   "cell_type": "code",
   "execution_count": 216,
   "metadata": {},
   "outputs": [],
   "source": [
    "preds_model1 = reg_pipeline.predict(sim_data_model1)\n",
    "sim_data_model1['Predicted_RPSF'] = preds_model1"
   ]
  },
  {
   "cell_type": "code",
   "execution_count": 217,
   "metadata": {},
   "outputs": [
    {
     "name": "stdout",
     "output_type": "stream",
     "text": [
      "Model 1 Simulation Data:\n",
      "   averageSquareFootage  stories  cbsa_code class  yearsold  MPF-OCC  \\\n",
      "0                 902.0      3.0      26420     B      31.0    0.955   \n",
      "1                 902.0      3.0      26420     B      31.0    0.955   \n",
      "\n",
      "   unitcount  uses_realpage  Predicted_RPSF  \n",
      "0      204.0              0         1.48282  \n",
      "1      204.0              1         1.50443  \n"
     ]
    }
   ],
   "source": [
    "print(\"Model 1 Simulation Data:\")\n",
    "print(sim_data_model1)"
   ]
  },
  {
   "cell_type": "code",
   "execution_count": 220,
   "metadata": {},
   "outputs": [
    {
     "data": {
      "image/png": "[encoded data removed]",
      "text/plain": [
       "<Figure size 600x400 with 1 Axes>"
      ]
     },
     "metadata": {},
     "output_type": "display_data"
    }
   ],
   "source": [
    "plt.figure(figsize=(6,4))\n",
    "bars = plt.bar(['Non-RealPage User', 'RealPage User'], preds_model1, color=['skyblue', 'salmon'])\n",
    "\n",
    "plt.ylabel('Predicted Rent per Sq Ft (MPF-RPSF)')\n",
    "plt.title('Model 1: Effect of uses_realpage on Predicted Price')\n",
    "\n",
    "# Add data labels above each bar\n",
    "for bar in bars:\n",
    "    height = bar.get_height()\n",
    "    plt.text(bar.get_x() + bar.get_width()/2, height, f'{height:.2f}', ha='center', va='bottom')\n",
    "\n",
    "ax = plt.gca()\n",
    "# Remove y-axis ticks\n",
    "ax.set_yticks([])\n",
    "\n",
    "# Remove top and right borders\n",
    "ax.spines['top'].set_visible(False)\n",
    "ax.spines['right'].set_visible(False)\n",
    "ax.spines['left'].set_visible(False)\n",
    "\n",
    "plt.show()"
   ]
  },
  {
   "cell_type": "code",
   "execution_count": 228,
   "metadata": {},
   "outputs": [],
   "source": [
    "baseline_avg_sqft_2 = model3_df['averageSquareFootage'].median()\n",
    "baseline_stories_2 = model3_df['stories'].median()\n",
    "baseline_cbsa_2 = model3_df['cbsa_code'].mode()[0]\n",
    "baseline_class_2 = model3_df['class'].mode()[0]\n",
    "baseline_yearsold_2 = model3_df['yearsold'].median()\n",
    "baseline_MPF_OCC_2 = model3_df['MPF-OCC'].median()\n",
    "baseline_unitcount_2 = model3_df['unitcount'].median()\n",
    "market_share_min = model3_df['market_share'].min()\n",
    "market_share_max = model3_df['market_share'].max()"
   ]
  },
  {
   "cell_type": "code",
   "execution_count": 229,
   "metadata": {},
   "outputs": [],
   "source": [
    "baseline_model2 = {\n",
    "    'averageSquareFootage': baseline_avg_sqft_2,\n",
    "    'stories': baseline_stories_2,\n",
    "    'cbsa_code': baseline_cbsa_2,\n",
    "    'class': baseline_class_2,\n",
    "    'yearsold': baseline_yearsold_2,\n",
    "    'MPF-OCC': baseline_MPF_OCC_2,\n",
    "    'unitcount': baseline_unitcount_2,\n",
    "}"
   ]
  },
  {
   "cell_type": "code",
   "execution_count": 230,
   "metadata": {},
   "outputs": [],
   "source": [
    "market_shares = np.linspace(market_share_min, market_share_max, 10)"
   ]
  },
  {
   "cell_type": "code",
   "execution_count": 231,
   "metadata": {},
   "outputs": [],
   "source": [
    "sim_rows = []\n",
    "for uses in [0, 1]:\n",
    "    for ms in market_shares:\n",
    "        sim_row = {**baseline_model2, 'uses_realpage': uses, 'market_share': ms}\n",
    "        sim_rows.append(sim_row)"
   ]
  },
  {
   "cell_type": "code",
   "execution_count": 232,
   "metadata": {},
   "outputs": [],
   "source": [
    "sim_data_model2 = pd.DataFrame(sim_rows)"
   ]
  },
  {
   "cell_type": "code",
   "execution_count": 233,
   "metadata": {},
   "outputs": [],
   "source": [
    "preds_model2 = reg_pipeline_reg_2.predict(sim_data_model2)\n",
    "sim_data_model2['Predicted_RPSF'] = preds_model2"
   ]
  },
  {
   "cell_type": "code",
   "execution_count": 234,
   "metadata": {},
   "outputs": [],
   "source": [
    "sim_non_realpage = sim_data_model2[sim_data_model2['uses_realpage'] == 0]\n",
    "sim_realpage = sim_data_model2[sim_data_model2['uses_realpage'] == 1]"
   ]
  },
  {
   "cell_type": "code",
   "execution_count": 235,
   "metadata": {},
   "outputs": [
    {
     "data": {
      "image/png": "[encoded data removed]",
      "text/plain": [
       "<Figure size 800x500 with 1 Axes>"
      ]
     },
     "metadata": {},
     "output_type": "display_data"
    }
   ],
   "source": [
    "plt.figure(figsize=(8,5))\n",
    "plt.plot(sim_non_realpage['market_share'], sim_non_realpage['Predicted_RPSF'], marker='o', label='Non-RealPage User', color='skyblue')\n",
    "plt.plot(sim_realpage['market_share'], sim_realpage['Predicted_RPSF'], marker='o', label='RealPage User', color='salmon')\n",
    "plt.xlabel('RealPage Market Share in CBSA')\n",
    "plt.ylabel('Predicted Rent per Sq Ft (MPF-RPSF)')\n",
    "plt.title('Model 2: Effect of Market Share and uses_realpage on Predicted Price')\n",
    "plt.legend()\n",
    "plt.grid(True)\n",
    "plt.show()"
   ]
  }
 ],
 "metadata": {
  "kernelspec": {
   "display_name": "tf_env",
   "language": "python",
   "name": "python3"
  },
  "language_info": {
   "codemirror_mode": {
    "name": "ipython",
    "version": 3
   },
   "file_extension": ".py",
   "mimetype": "text/x-python",
   "name": "python",
   "nbconvert_exporter": "python",
   "pygments_lexer": "ipython3",
   "version": "3.8.18"
  }
 },
 "nbformat": 4,
 "nbformat_minor": 2
}
