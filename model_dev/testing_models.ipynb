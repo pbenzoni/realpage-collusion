{
 "cells": [
  {
   "cell_type": "code",
   "execution_count": 1,
   "metadata": {},
   "outputs": [],
   "source": [
    "import pandas as pd\n",
    "import numpy as np\n",
    "import matplotlib.pyplot as plt\n",
    "from datetime import datetime\n",
    "import seaborn as sns\n",
    "import scipy.stats as stats\n",
    "\n",
    "#sklearn libraries\n",
    "from sklearn.model_selection import train_test_split, cross_val_score\n",
    "from sklearn.compose import ColumnTransformer\n",
    "from sklearn.pipeline import Pipeline\n",
    "from sklearn.preprocessing import StandardScaler, OneHotEncoder\n",
    "from sklearn.linear_model import LogisticRegression\n",
    "from sklearn.ensemble import RandomForestRegressor, GradientBoostingRegressor\n",
    "from sklearn.metrics import classification_report, mean_squared_error, r2_score\n",
    "\n",
    "#tensorflow libraries\n",
    "import tensorflow as tf\n",
    "from tensorflow.keras.models import Sequential\n",
    "from tensorflow.keras.layers import Dense\n",
    "from tensorflow.keras.callbacks import EarlyStopping"
   ]
  },
  {
   "cell_type": "code",
   "execution_count": 2,
   "metadata": {},
   "outputs": [],
   "source": [
    "np.random.seed(42)"
   ]
  },
  {
   "cell_type": "code",
   "execution_count": 3,
   "metadata": {},
   "outputs": [
    {
     "name": "stderr",
     "output_type": "stream",
     "text": [
      "C:\\Users\\ahmad\\AppData\\Local\\Temp\\ipykernel_38720\\636769717.py:1: DtypeWarning: Columns (2) have mixed types. Specify dtype option on import or set low_memory=False.\n",
      "  df = pd.read_csv(\"../data/cbsa_data_realpageflag.csv\")\n"
     ]
    }
   ],
   "source": [
    "df = pd.read_csv(\"../data/cbsa_data_realpageflag.csv\")"
   ]
  },
  {
   "cell_type": "code",
   "execution_count": 4,
   "metadata": {},
   "outputs": [
    {
     "data": {
      "text/plain": [
       "Index(['propertyId', 'propertyName', 'zipCode', 'address', 'city', 'state',\n",
       "       'averageSquareFootage', 'stories', 'stable', 'class', 'latitude',\n",
       "       'longitude', 'imageHero', 'heroSource', 'submarketName', 'unitcount',\n",
       "       'yearBuilt', 'siteStatus', 'type', 'MPF-ANN-RENT-CHG',\n",
       "       'MPF-HIST-ASK-RENT', 'MPF-HIST-AVG-ASK-RPSF', 'MPF-HIST-CONC-RATIO',\n",
       "       'MPF-OCC', 'MPF-RENT', 'MPF-RPSF', 'data_index', 'cbsa_code', 'status',\n",
       "       'SH-HIST-ASK-RENT-PB', 'SH-HIST-RENT-PB', 'SH-HIST-CONC-RATIO-PB',\n",
       "       'SH-HIST-OCCUPANCY', 'SH-HIST-RPSF-PB', 'SH-HIST-AVG-ASK-RPSF-PB',\n",
       "       'SH-HIST-ANN-RENT-PB-CHG', 'uses_realpage'],\n",
       "      dtype='object')"
      ]
     },
     "execution_count": 4,
     "metadata": {},
     "output_type": "execute_result"
    }
   ],
   "source": [
    "df.columns"
   ]
  },
  {
   "cell_type": "code",
   "execution_count": 5,
   "metadata": {},
   "outputs": [],
   "source": [
    "# developing yearsold column (this is just the year the property was built minus the current year)\n",
    "current_year = datetime.now().year\n",
    "df['yearsold'] = current_year - df['yearBuilt']"
   ]
  },
  {
   "cell_type": "code",
   "execution_count": 6,
   "metadata": {},
   "outputs": [],
   "source": [
    "# selecting relevant columns to use in the model\n",
    "cols = [\n",
    "    'cbsa_code', 'averageSquareFootage', 'stories', 'class', 'unitcount', 'yearsold', 'MPF-OCC', 'MPF-RPSF', 'uses_realpage'\n",
    "]\n",
    "df.dropna(subset=cols,inplace=True)"
   ]
  },
  {
   "cell_type": "code",
   "execution_count": 7,
   "metadata": {},
   "outputs": [
    {
     "name": "stdout",
     "output_type": "stream",
     "text": [
      "averageSquareFootage: 0 null(s)\n",
      "stories: 0 null(s)\n",
      "cbsa_code: 0 null(s)\n",
      "class: 0 null(s)\n",
      "yearsold: 0 null(s)\n",
      "MPF-OCC: 0 null(s)\n",
      "unitcount: 0 null(s)\n",
      "MPF-HIST-CONC-RATIO: 27308 null(s)\n",
      "uses_realpage: 0 null(s)\n",
      "MPF-RPSF: 0 null(s)\n"
     ]
    }
   ],
   "source": [
    "def print_null_counts(df, columns):\n",
    "    for col in columns:\n",
    "        null_count = df[col].isnull().sum()\n",
    "        print(f\"{col}: {null_count} null(s)\")\n",
    "\n",
    "\n",
    "columns_to_check = ['averageSquareFootage', 'stories', 'cbsa_code', 'class', 'yearsold', 'MPF-OCC', 'unitcount','MPF-HIST-CONC-RATIO','uses_realpage','MPF-RPSF']\n",
    "print_null_counts(df, columns_to_check)\n",
    "\n",
    "#while the concentration ratio would be phenomenal to use, excluding 25167 rows would be very detrimental to our dataset. this is over 75% of our dataset and would essentially remove most of our cbsa's include ones we have realpage users for"
   ]
  },
  {
   "cell_type": "markdown",
   "metadata": {},
   "source": [
    "# Feature Engineering & Exploratory Data Analysis (EDA)\n",
    "\n",
    "Before developing our models, we want to validate parts of our dataset and clean parts that dont make sense. These include the following:\n",
    "\n",
    "- **Excluding Student Housing:**  \n",
    "   - **What:** Filter out any properties categorized as student housing.\n",
    "   - **Why:** Student housing often follows different market dynamics that do not align with our target analysis of RealPage usage and property rent. Removing these properties helps focus our model on the residential segments of interest.\n",
    "\n",
    "-  **Excluding CBSAs with No RealPage Usage:**  \n",
    "   - **What:** Remove any Core Based Statistical Areas (CBSAs) that do not have at least one property using RealPage.\n",
    "   - **Why:** This ensures that our analysis only includes markets where RealPage is active. By doing so, we improve the relevance and reliability of our insights and predictions. We also want to know how the dynamics of a market will change with the treatment of it being a RealPage user, so a market without any RealPage usage would not really be beneficial for our cause.\n",
    "\n",
    "- **Integrating External Market Share Data:**  \n",
    "  We incorporate an external dataset from a research paper/article that provides every CBSA code along with RealPage's estimated market share. This dataset will serve as a benchmark to compare against our own estimates.\n",
    "\n",
    "- **Creating a Proxy for Market Share per CBSA:**  \n",
    "  Using our internal dataset, we compute a proxy for market share at the CBSA level. This proxy is calculated based on the proportion of RealPage users (flagged properties) relative to the total number of properties within each CBSA. It offers a localized estimation of RealPage's market penetration.\n",
    "\n",
    "- **Comparing Our Proxy with the External Benchmark:**  \n",
    "  We assess the similarity between our computed market share proxy and the research's market share data. This comparison will help validate the accuracy of our proxy, ensuring our estimations are consistent with external insights.\n",
    "\n",
    "- **Filtering the Dataset for Reliability:**  \n",
    "  - **Exclude CBSAs with No RealPage Users:**  \n",
    "    To focus on relevant markets, any CBSA with zero flagged RealPage users will be excluded.\n",
    "  - **Exclude CBSAs with Fewer than 2 Properties:**  \n",
    "    CBSAs with less than 2 properties are removed to avoid noise and ensure statistical significance in our analysis."
   ]
  },
  {
   "cell_type": "code",
   "execution_count": 8,
   "metadata": {},
   "outputs": [],
   "source": [
    "# Excluding student housing\n",
    "df = df[~df.get('type', '').astype(str).str.contains(\"Student\", na=False)]"
   ]
  },
  {
   "cell_type": "code",
   "execution_count": 9,
   "metadata": {},
   "outputs": [
    {
     "name": "stdout",
     "output_type": "stream",
     "text": [
      " Number of unique CBSAs: 298\n"
     ]
    }
   ],
   "source": [
    "print(f\" Number of unique CBSAs: {len(df['cbsa_code'].unique())}\")"
   ]
  },
  {
   "cell_type": "code",
   "execution_count": 10,
   "metadata": {},
   "outputs": [],
   "source": [
    "# Excluding cbsas that do not have at least 1 realpage user and less than 2 properties\n",
    "realpage_usage_by_cbsa = df.groupby('cbsa_code').agg(\n",
    "    total_properties=('cbsa_code', 'count'),\n",
    "    realpage_count=('uses_realpage', 'sum')\n",
    ").reset_index()\n",
    "\n",
    "valid_cbsa = realpage_usage_by_cbsa[(realpage_usage_by_cbsa['realpage_count'] >= 1) & (realpage_usage_by_cbsa['total_properties'] >= 2)]\n",
    "\n",
    "df = df[df['cbsa_code'].isin(valid_cbsa['cbsa_code'])]"
   ]
  },
  {
   "cell_type": "code",
   "execution_count": 11,
   "metadata": {},
   "outputs": [
    {
     "name": "stdout",
     "output_type": "stream",
     "text": [
      " Number of unique CBSAs after the filter: 177\n"
     ]
    }
   ],
   "source": [
    "print(f\" Number of unique CBSAs after the filter: {len(df['cbsa_code'].unique())}\")"
   ]
  },
  {
   "cell_type": "code",
   "execution_count": 12,
   "metadata": {},
   "outputs": [],
   "source": [
    "#adding in dataset with researched market shares per cbsa\n",
    "cbsa_rp_ms = pd.read_csv('msa_market_share_cbsa_matched_final.csv')"
   ]
  },
  {
   "cell_type": "code",
   "execution_count": 13,
   "metadata": {},
   "outputs": [
    {
     "data": {
      "text/html": [
       "<div>\n",
       "<style scoped>\n",
       "    .dataframe tbody tr th:only-of-type {\n",
       "        vertical-align: middle;\n",
       "    }\n",
       "\n",
       "    .dataframe tbody tr th {\n",
       "        vertical-align: top;\n",
       "    }\n",
       "\n",
       "    .dataframe thead th {\n",
       "        text-align: right;\n",
       "    }\n",
       "</style>\n",
       "<table border=\"1\" class=\"dataframe\">\n",
       "  <thead>\n",
       "    <tr style=\"text-align: right;\">\n",
       "      <th></th>\n",
       "      <th>MSA</th>\n",
       "      <th>Realpage Market Share</th>\n",
       "      <th>CBSA Code</th>\n",
       "    </tr>\n",
       "  </thead>\n",
       "  <tbody>\n",
       "    <tr>\n",
       "      <th>0</th>\n",
       "      <td>Austin-Round Rock-San Marcos, TX</td>\n",
       "      <td>46.004304</td>\n",
       "      <td>12420</td>\n",
       "    </tr>\n",
       "    <tr>\n",
       "      <th>1</th>\n",
       "      <td>Raleigh-Cary, NC</td>\n",
       "      <td>42.650406</td>\n",
       "      <td>39580</td>\n",
       "    </tr>\n",
       "    <tr>\n",
       "      <th>2</th>\n",
       "      <td>Gainesville, GA</td>\n",
       "      <td>34.424809</td>\n",
       "      <td>23580</td>\n",
       "    </tr>\n",
       "    <tr>\n",
       "      <th>3</th>\n",
       "      <td>Durham-Chapel Hill, NC</td>\n",
       "      <td>33.856628</td>\n",
       "      <td>20500</td>\n",
       "    </tr>\n",
       "    <tr>\n",
       "      <th>4</th>\n",
       "      <td>Dallas-Fort Worth-Arlington, TX</td>\n",
       "      <td>33.721714</td>\n",
       "      <td>19100</td>\n",
       "    </tr>\n",
       "  </tbody>\n",
       "</table>\n",
       "</div>"
      ],
      "text/plain": [
       "                                MSA  Realpage Market Share  CBSA Code\n",
       "0  Austin-Round Rock-San Marcos, TX              46.004304      12420\n",
       "1                  Raleigh-Cary, NC              42.650406      39580\n",
       "2                   Gainesville, GA              34.424809      23580\n",
       "3            Durham-Chapel Hill, NC              33.856628      20500\n",
       "4   Dallas-Fort Worth-Arlington, TX              33.721714      19100"
      ]
     },
     "execution_count": 13,
     "metadata": {},
     "output_type": "execute_result"
    }
   ],
   "source": [
    "cbsa_rp_ms.head()"
   ]
  },
  {
   "cell_type": "code",
   "execution_count": 14,
   "metadata": {},
   "outputs": [],
   "source": [
    "df_with_ms = df.merge(cbsa_rp_ms, left_on='cbsa_code', right_on='CBSA Code', how='left')"
   ]
  },
  {
   "cell_type": "code",
   "execution_count": 15,
   "metadata": {},
   "outputs": [
    {
     "name": "stdout",
     "output_type": "stream",
     "text": [
      "CBSA's without matched market shares: 28\n"
     ]
    }
   ],
   "source": [
    "print(f\"CBSA's without matched market shares: {len(df_with_ms[df_with_ms['Realpage Market Share'].isnull()]['cbsa_code'].unique())}\")"
   ]
  },
  {
   "cell_type": "code",
   "execution_count": 16,
   "metadata": {},
   "outputs": [
    {
     "data": {
      "text/plain": [
       "array([13900, 14020, 16300, 19340, 20420, 21780, 23940, 24780, 25260,\n",
       "       25620, 29020, 29300, 29540, 30700, 31740, 33540, 33740, 35100,\n",
       "       35980, 37900, 39420, 40420, 40580, 42940, 44180, 48060, 48780,\n",
       "       49660], dtype=int64)"
      ]
     },
     "execution_count": 16,
     "metadata": {},
     "output_type": "execute_result"
    }
   ],
   "source": [
    "df_with_ms[df_with_ms['Realpage Market Share'].isnull()]['cbsa_code'].unique()"
   ]
  },
  {
   "cell_type": "code",
   "execution_count": 17,
   "metadata": {},
   "outputs": [],
   "source": [
    "market_share_proxy = df.groupby('cbsa_code',as_index=False).agg(props=('propertyId','count')\n",
    "                                           ,realpage_users=('uses_realpage','sum'))\n",
    "market_share_proxy['market_share'] = market_share_proxy['realpage_users']/market_share_proxy['props']"
   ]
  },
  {
   "cell_type": "code",
   "execution_count": 18,
   "metadata": {},
   "outputs": [],
   "source": [
    "error_rate_df = market_share_proxy.merge(cbsa_rp_ms,left_on='cbsa_code',right_on='CBSA Code',how='left')\n",
    "error_rate_df['market_share_proxy'] = error_rate_df['market_share'] * 100"
   ]
  },
  {
   "cell_type": "code",
   "execution_count": 19,
   "metadata": {},
   "outputs": [],
   "source": [
    "mse_series = (error_rate_df[error_rate_df['CBSA Code'].isnull() == False]['Realpage Market Share'] - error_rate_df[error_rate_df['CBSA Code'].isnull() == False]['market_share_proxy'])**2"
   ]
  },
  {
   "cell_type": "code",
   "execution_count": 20,
   "metadata": {},
   "outputs": [
    {
     "name": "stdout",
     "output_type": "stream",
     "text": [
      "RSME of proxy vs research market shares: 10.898890574316335\n",
      "Standard Deviation of reseached market shares:8.571298144362245\n"
     ]
    }
   ],
   "source": [
    "print(f\"RSME of proxy vs research market shares: {(mse_series.sum()/len(mse_series))**(1/2)}\")\n",
    "print(f\"Standard Deviation of reseached market shares:{cbsa_rp_ms['Realpage Market Share'].std()}\")"
   ]
  },
  {
   "cell_type": "markdown",
   "metadata": {},
   "source": [
    "# Model 1: Predicting the Usage of RealPage\n",
    "\n",
    "In this section, we'll develop a binary classification model to predict whether a property uses RealPage. The key steps include:\n",
    "\n",
    "- **Preprocessing & Feature Engineering:**\n",
    "  - Compute `yearsold` from the `yearBuilt` column (Current year - yearBuilt).  \n",
    "  - Standardize numerical features using StandardScaler.\n",
    "  - One-hot encode categorical features (CBSA code and class).\n",
    "  - Eliminate any NA rows\n",
    "\n",
    "- **Modeling:**  \n",
    "  - Use logistic regression to estimate the propensity (probability) that a property uses RealPage.\n",
    "  - Perform an 80/20 train-test split for model evaluation.\n",
    "\n",
    "- **Evaluation:**  \n",
    "  - Generate a classification report with metrics like precision, recall, and F1-score.\n",
    "\n",
    "Goal: Prompt a user for input variables and make a prediction based on the variables whether it is a realpage user or not\n",
    "\n",
    "\n",
    "Columns used in model:\n",
    "<br>  - `cbsa_code`\n",
    "<br>    - `averageSquareFootage`\n",
    "<br>    - `stories`\n",
    "<br>    - `class`\n",
    "<br>    - `unitcount`\n",
    "<br>    - `yearsold`\n",
    "<br>    - `MPF-OCC`\n",
    "<br>    - `MPF-RPSF`\n",
    "<br>    - `uses_realpage`\n",
    "\n",
    "Please refer to the website (https://uc-berkeley-i-school.github.io/realpage-collusion/) for definitions of the columns.\n"
   ]
  },
  {
   "cell_type": "code",
   "execution_count": 21,
   "metadata": {},
   "outputs": [],
   "source": [
    "#creating our treatment and control groups\n",
    "features_treatment = ['averageSquareFootage', 'stories', 'cbsa_code', 'class', 'yearsold', 'MPF-OCC', 'unitcount', 'MPF-RPSF']\n",
    "X_treatment = df[features_treatment]\n",
    "y_treatment = df['uses_realpage']\n",
    "\n",
    "# assigning numeric and categorical features\n",
    "numeric_features_treatment = ['averageSquareFootage', 'stories', 'yearsold', 'MPF-OCC', 'unitcount', 'MPF-RPSF']\n",
    "categorical_features_treatment = ['cbsa_code', 'class']"
   ]
  },
  {
   "cell_type": "code",
   "execution_count": 22,
   "metadata": {},
   "outputs": [],
   "source": [
    "preprocessor_treatment = ColumnTransformer(\n",
    "    transformers=[\n",
    "        ('num', StandardScaler(), numeric_features_treatment),\n",
    "        ('cat', OneHotEncoder(handle_unknown='ignore'), categorical_features_treatment)\n",
    "    ]\n",
    ")"
   ]
  },
  {
   "cell_type": "code",
   "execution_count": 23,
   "metadata": {},
   "outputs": [],
   "source": [
    "clf_pipeline = Pipeline(steps=[\n",
    "    ('preprocessor', preprocessor_treatment),\n",
    "    ('classifier', LogisticRegression(solver='liblinear', random_state=42))\n",
    "])"
   ]
  },
  {
   "cell_type": "code",
   "execution_count": 24,
   "metadata": {},
   "outputs": [],
   "source": [
    "X_treat_train, X_treat_test, y_treat_train, y_treat_test = train_test_split(\n",
    "    X_treatment, y_treatment, test_size=0.2, random_state=42\n",
    ")"
   ]
  },
  {
   "cell_type": "code",
   "execution_count": 25,
   "metadata": {},
   "outputs": [
    {
     "data": {
      "text/html": [
       "<style>#sk-container-id-1 {color: black;}#sk-container-id-1 pre{padding: 0;}#sk-container-id-1 div.sk-toggleable {background-color: white;}#sk-container-id-1 label.sk-toggleable__label {cursor: pointer;display: block;width: 100%;margin-bottom: 0;padding: 0.3em;box-sizing: border-box;text-align: center;}#sk-container-id-1 label.sk-toggleable__label-arrow:before {content: \"▸\";float: left;margin-right: 0.25em;color: #696969;}#sk-container-id-1 label.sk-toggleable__label-arrow:hover:before {color: black;}#sk-container-id-1 div.sk-estimator:hover label.sk-toggleable__label-arrow:before {color: black;}#sk-container-id-1 div.sk-toggleable__content {max-height: 0;max-width: 0;overflow: hidden;text-align: left;background-color: #f0f8ff;}#sk-container-id-1 div.sk-toggleable__content pre {margin: 0.2em;color: black;border-radius: 0.25em;background-color: #f0f8ff;}#sk-container-id-1 input.sk-toggleable__control:checked~div.sk-toggleable__content {max-height: 200px;max-width: 100%;overflow: auto;}#sk-container-id-1 input.sk-toggleable__control:checked~label.sk-toggleable__label-arrow:before {content: \"▾\";}#sk-container-id-1 div.sk-estimator input.sk-toggleable__control:checked~label.sk-toggleable__label {background-color: #d4ebff;}#sk-container-id-1 div.sk-label input.sk-toggleable__control:checked~label.sk-toggleable__label {background-color: #d4ebff;}#sk-container-id-1 input.sk-hidden--visually {border: 0;clip: rect(1px 1px 1px 1px);clip: rect(1px, 1px, 1px, 1px);height: 1px;margin: -1px;overflow: hidden;padding: 0;position: absolute;width: 1px;}#sk-container-id-1 div.sk-estimator {font-family: monospace;background-color: #f0f8ff;border: 1px dotted black;border-radius: 0.25em;box-sizing: border-box;margin-bottom: 0.5em;}#sk-container-id-1 div.sk-estimator:hover {background-color: #d4ebff;}#sk-container-id-1 div.sk-parallel-item::after {content: \"\";width: 100%;border-bottom: 1px solid gray;flex-grow: 1;}#sk-container-id-1 div.sk-label:hover label.sk-toggleable__label {background-color: #d4ebff;}#sk-container-id-1 div.sk-serial::before {content: \"\";position: absolute;border-left: 1px solid gray;box-sizing: border-box;top: 0;bottom: 0;left: 50%;z-index: 0;}#sk-container-id-1 div.sk-serial {display: flex;flex-direction: column;align-items: center;background-color: white;padding-right: 0.2em;padding-left: 0.2em;position: relative;}#sk-container-id-1 div.sk-item {position: relative;z-index: 1;}#sk-container-id-1 div.sk-parallel {display: flex;align-items: stretch;justify-content: center;background-color: white;position: relative;}#sk-container-id-1 div.sk-item::before, #sk-container-id-1 div.sk-parallel-item::before {content: \"\";position: absolute;border-left: 1px solid gray;box-sizing: border-box;top: 0;bottom: 0;left: 50%;z-index: -1;}#sk-container-id-1 div.sk-parallel-item {display: flex;flex-direction: column;z-index: 1;position: relative;background-color: white;}#sk-container-id-1 div.sk-parallel-item:first-child::after {align-self: flex-end;width: 50%;}#sk-container-id-1 div.sk-parallel-item:last-child::after {align-self: flex-start;width: 50%;}#sk-container-id-1 div.sk-parallel-item:only-child::after {width: 0;}#sk-container-id-1 div.sk-dashed-wrapped {border: 1px dashed gray;margin: 0 0.4em 0.5em 0.4em;box-sizing: border-box;padding-bottom: 0.4em;background-color: white;}#sk-container-id-1 div.sk-label label {font-family: monospace;font-weight: bold;display: inline-block;line-height: 1.2em;}#sk-container-id-1 div.sk-label-container {text-align: center;}#sk-container-id-1 div.sk-container {/* jupyter's `normalize.less` sets `[hidden] { display: none; }` but bootstrap.min.css set `[hidden] { display: none !important; }` so we also need the `!important` here to be able to override the default hidden behavior on the sphinx rendered scikit-learn.org. See: https://github.com/scikit-learn/scikit-learn/issues/21755 */display: inline-block !important;position: relative;}#sk-container-id-1 div.sk-text-repr-fallback {display: none;}</style><div id=\"sk-container-id-1\" class=\"sk-top-container\"><div class=\"sk-text-repr-fallback\"><pre>Pipeline(steps=[(&#x27;preprocessor&#x27;,\n",
       "                 ColumnTransformer(transformers=[(&#x27;num&#x27;, StandardScaler(),\n",
       "                                                  [&#x27;averageSquareFootage&#x27;,\n",
       "                                                   &#x27;stories&#x27;, &#x27;yearsold&#x27;,\n",
       "                                                   &#x27;MPF-OCC&#x27;, &#x27;unitcount&#x27;,\n",
       "                                                   &#x27;MPF-RPSF&#x27;]),\n",
       "                                                 (&#x27;cat&#x27;,\n",
       "                                                  OneHotEncoder(handle_unknown=&#x27;ignore&#x27;),\n",
       "                                                  [&#x27;cbsa_code&#x27;, &#x27;class&#x27;])])),\n",
       "                (&#x27;classifier&#x27;,\n",
       "                 LogisticRegression(random_state=42, solver=&#x27;liblinear&#x27;))])</pre><b>In a Jupyter environment, please rerun this cell to show the HTML representation or trust the notebook. <br />On GitHub, the HTML representation is unable to render, please try loading this page with nbviewer.org.</b></div><div class=\"sk-container\" hidden><div class=\"sk-item sk-dashed-wrapped\"><div class=\"sk-label-container\"><div class=\"sk-label sk-toggleable\"><input class=\"sk-toggleable__control sk-hidden--visually\" id=\"sk-estimator-id-1\" type=\"checkbox\" ><label for=\"sk-estimator-id-1\" class=\"sk-toggleable__label sk-toggleable__label-arrow\">Pipeline</label><div class=\"sk-toggleable__content\"><pre>Pipeline(steps=[(&#x27;preprocessor&#x27;,\n",
       "                 ColumnTransformer(transformers=[(&#x27;num&#x27;, StandardScaler(),\n",
       "                                                  [&#x27;averageSquareFootage&#x27;,\n",
       "                                                   &#x27;stories&#x27;, &#x27;yearsold&#x27;,\n",
       "                                                   &#x27;MPF-OCC&#x27;, &#x27;unitcount&#x27;,\n",
       "                                                   &#x27;MPF-RPSF&#x27;]),\n",
       "                                                 (&#x27;cat&#x27;,\n",
       "                                                  OneHotEncoder(handle_unknown=&#x27;ignore&#x27;),\n",
       "                                                  [&#x27;cbsa_code&#x27;, &#x27;class&#x27;])])),\n",
       "                (&#x27;classifier&#x27;,\n",
       "                 LogisticRegression(random_state=42, solver=&#x27;liblinear&#x27;))])</pre></div></div></div><div class=\"sk-serial\"><div class=\"sk-item sk-dashed-wrapped\"><div class=\"sk-label-container\"><div class=\"sk-label sk-toggleable\"><input class=\"sk-toggleable__control sk-hidden--visually\" id=\"sk-estimator-id-2\" type=\"checkbox\" ><label for=\"sk-estimator-id-2\" class=\"sk-toggleable__label sk-toggleable__label-arrow\">preprocessor: ColumnTransformer</label><div class=\"sk-toggleable__content\"><pre>ColumnTransformer(transformers=[(&#x27;num&#x27;, StandardScaler(),\n",
       "                                 [&#x27;averageSquareFootage&#x27;, &#x27;stories&#x27;, &#x27;yearsold&#x27;,\n",
       "                                  &#x27;MPF-OCC&#x27;, &#x27;unitcount&#x27;, &#x27;MPF-RPSF&#x27;]),\n",
       "                                (&#x27;cat&#x27;, OneHotEncoder(handle_unknown=&#x27;ignore&#x27;),\n",
       "                                 [&#x27;cbsa_code&#x27;, &#x27;class&#x27;])])</pre></div></div></div><div class=\"sk-parallel\"><div class=\"sk-parallel-item\"><div class=\"sk-item\"><div class=\"sk-label-container\"><div class=\"sk-label sk-toggleable\"><input class=\"sk-toggleable__control sk-hidden--visually\" id=\"sk-estimator-id-3\" type=\"checkbox\" ><label for=\"sk-estimator-id-3\" class=\"sk-toggleable__label sk-toggleable__label-arrow\">num</label><div class=\"sk-toggleable__content\"><pre>[&#x27;averageSquareFootage&#x27;, &#x27;stories&#x27;, &#x27;yearsold&#x27;, &#x27;MPF-OCC&#x27;, &#x27;unitcount&#x27;, &#x27;MPF-RPSF&#x27;]</pre></div></div></div><div class=\"sk-serial\"><div class=\"sk-item\"><div class=\"sk-estimator sk-toggleable\"><input class=\"sk-toggleable__control sk-hidden--visually\" id=\"sk-estimator-id-4\" type=\"checkbox\" ><label for=\"sk-estimator-id-4\" class=\"sk-toggleable__label sk-toggleable__label-arrow\">StandardScaler</label><div class=\"sk-toggleable__content\"><pre>StandardScaler()</pre></div></div></div></div></div></div><div class=\"sk-parallel-item\"><div class=\"sk-item\"><div class=\"sk-label-container\"><div class=\"sk-label sk-toggleable\"><input class=\"sk-toggleable__control sk-hidden--visually\" id=\"sk-estimator-id-5\" type=\"checkbox\" ><label for=\"sk-estimator-id-5\" class=\"sk-toggleable__label sk-toggleable__label-arrow\">cat</label><div class=\"sk-toggleable__content\"><pre>[&#x27;cbsa_code&#x27;, &#x27;class&#x27;]</pre></div></div></div><div class=\"sk-serial\"><div class=\"sk-item\"><div class=\"sk-estimator sk-toggleable\"><input class=\"sk-toggleable__control sk-hidden--visually\" id=\"sk-estimator-id-6\" type=\"checkbox\" ><label for=\"sk-estimator-id-6\" class=\"sk-toggleable__label sk-toggleable__label-arrow\">OneHotEncoder</label><div class=\"sk-toggleable__content\"><pre>OneHotEncoder(handle_unknown=&#x27;ignore&#x27;)</pre></div></div></div></div></div></div></div></div><div class=\"sk-item\"><div class=\"sk-estimator sk-toggleable\"><input class=\"sk-toggleable__control sk-hidden--visually\" id=\"sk-estimator-id-7\" type=\"checkbox\" ><label for=\"sk-estimator-id-7\" class=\"sk-toggleable__label sk-toggleable__label-arrow\">LogisticRegression</label><div class=\"sk-toggleable__content\"><pre>LogisticRegression(random_state=42, solver=&#x27;liblinear&#x27;)</pre></div></div></div></div></div></div></div>"
      ],
      "text/plain": [
       "Pipeline(steps=[('preprocessor',\n",
       "                 ColumnTransformer(transformers=[('num', StandardScaler(),\n",
       "                                                  ['averageSquareFootage',\n",
       "                                                   'stories', 'yearsold',\n",
       "                                                   'MPF-OCC', 'unitcount',\n",
       "                                                   'MPF-RPSF']),\n",
       "                                                 ('cat',\n",
       "                                                  OneHotEncoder(handle_unknown='ignore'),\n",
       "                                                  ['cbsa_code', 'class'])])),\n",
       "                ('classifier',\n",
       "                 LogisticRegression(random_state=42, solver='liblinear'))])"
      ]
     },
     "execution_count": 25,
     "metadata": {},
     "output_type": "execute_result"
    }
   ],
   "source": [
    "clf_pipeline.fit(X_treat_train, y_treat_train)"
   ]
  },
  {
   "cell_type": "code",
   "execution_count": 26,
   "metadata": {},
   "outputs": [],
   "source": [
    "y_treat_pred = clf_pipeline.predict(X_treat_test)"
   ]
  },
  {
   "cell_type": "code",
   "execution_count": 27,
   "metadata": {},
   "outputs": [
    {
     "name": "stdout",
     "output_type": "stream",
     "text": [
      "Treatment Model Classification Report:\n",
      "              precision    recall  f1-score   support\n",
      "\n",
      "           0       0.87      0.99      0.93      5771\n",
      "           1       0.41      0.03      0.05       877\n",
      "\n",
      "    accuracy                           0.87      6648\n",
      "   macro avg       0.64      0.51      0.49      6648\n",
      "weighted avg       0.81      0.87      0.81      6648\n",
      "\n"
     ]
    }
   ],
   "source": [
    "print(\"Treatment Model Classification Report:\")\n",
    "print(classification_report(y_treat_test, y_treat_pred))"
   ]
  },
  {
   "cell_type": "markdown",
   "metadata": {},
   "source": [
    "# Model 2: Predicting the Price of Properties\n",
    "\n",
    "In this section, our goal is to build a regression model to predict the rent per square foot (MPF-RPSF) of properties. The process involves:\n",
    "\n",
    "- **Preprocessing & Feature Engineering:**\n",
    "  - Compute `yearsold` from the `yearBuilt` column (Current year - yearBuilt).  \n",
    "  - Standardize numerical features using StandardScaler.\n",
    "  - One-hot encode categorical features (CBSA code and class).\n",
    "  - Eliminate any NA rows\n",
    "\n",
    "- **Modeling:**  \n",
    "  - Implement a Random Forest Regressor for robust prediction.\n",
    "  - Split the data into an 80/20 train-test set.\n",
    "\n",
    "- **Evaluation:**  \n",
    "  - Assess the model using the Mean Squared Error (MSE) metric.\n",
    "\n",
    "This setup will allow us to test, tweak, and improve both models based on the performance and insights we gain from the evaluation.\n",
    "\n",
    "Goal: Allow a user to prompt the model and see how the models prediction of price changes as they change the realpage usage variable, while keeping other variables constant.\n",
    "\n",
    "Columns used in model:\n",
    "<br>    - `cbsa_code`\n",
    "<br>    - `averageSquareFootage`\n",
    "<br>    - `stories`\n",
    "<br>    - `class`\n",
    "<br>    - `unitcount`\n",
    "<br>    - `yearsold`\n",
    "<br>    - `MPF-OCC`\n",
    "<br>    - `MPF-RPSF`\n",
    "<br>    - `uses_realpage`\n",
    "\n",
    "Please refer to the website (https://uc-berkeley-i-school.github.io/realpage-collusion/) for definitions of the columns."
   ]
  },
  {
   "cell_type": "code",
   "execution_count": 28,
   "metadata": {},
   "outputs": [],
   "source": [
    "#defining features and target\n",
    "features_rent = ['averageSquareFootage', 'stories', 'cbsa_code', 'class', 'yearsold', 'MPF-OCC', 'unitcount','uses_realpage']\n",
    "X_rent = df[features_rent]\n",
    "y_rent = df['MPF-RPSF']\n",
    "\n",
    "#assigning numeric and categorical features\n",
    "numeric_features_rent = ['averageSquareFootage', 'stories', 'yearsold', 'MPF-OCC', 'unitcount','uses_realpage']\n",
    "categorical_features_rent = ['cbsa_code', 'class']"
   ]
  },
  {
   "cell_type": "code",
   "execution_count": 29,
   "metadata": {},
   "outputs": [],
   "source": [
    "#develop a preprocessor for for the rent model\n",
    "preprocessor_rent = ColumnTransformer(\n",
    "    transformers=[\n",
    "        ('num', StandardScaler(), numeric_features_rent),\n",
    "        ('cat', OneHotEncoder(handle_unknown='ignore'), categorical_features_rent)\n",
    "    ]\n",
    ")"
   ]
  },
  {
   "cell_type": "code",
   "execution_count": 30,
   "metadata": {},
   "outputs": [],
   "source": [
    "#build pipeline for the regression model, we will use random forest regressor. will run through preprossor first, then through the regressor model.\n",
    "reg_pipeline = Pipeline(steps=[\n",
    "    ('preprocessor', preprocessor_rent),\n",
    "    ('regressor', RandomForestRegressor(n_estimators=100, random_state=42))\n",
    "])"
   ]
  },
  {
   "cell_type": "code",
   "execution_count": 31,
   "metadata": {},
   "outputs": [],
   "source": [
    "X_rent_train, X_rent_test, y_rent_train, y_rent_test = train_test_split(\n",
    "    X_rent, y_rent, test_size=0.2, random_state=42\n",
    ")"
   ]
  },
  {
   "cell_type": "code",
   "execution_count": 32,
   "metadata": {},
   "outputs": [
    {
     "data": {
      "text/html": [
       "<style>#sk-container-id-2 {color: black;}#sk-container-id-2 pre{padding: 0;}#sk-container-id-2 div.sk-toggleable {background-color: white;}#sk-container-id-2 label.sk-toggleable__label {cursor: pointer;display: block;width: 100%;margin-bottom: 0;padding: 0.3em;box-sizing: border-box;text-align: center;}#sk-container-id-2 label.sk-toggleable__label-arrow:before {content: \"▸\";float: left;margin-right: 0.25em;color: #696969;}#sk-container-id-2 label.sk-toggleable__label-arrow:hover:before {color: black;}#sk-container-id-2 div.sk-estimator:hover label.sk-toggleable__label-arrow:before {color: black;}#sk-container-id-2 div.sk-toggleable__content {max-height: 0;max-width: 0;overflow: hidden;text-align: left;background-color: #f0f8ff;}#sk-container-id-2 div.sk-toggleable__content pre {margin: 0.2em;color: black;border-radius: 0.25em;background-color: #f0f8ff;}#sk-container-id-2 input.sk-toggleable__control:checked~div.sk-toggleable__content {max-height: 200px;max-width: 100%;overflow: auto;}#sk-container-id-2 input.sk-toggleable__control:checked~label.sk-toggleable__label-arrow:before {content: \"▾\";}#sk-container-id-2 div.sk-estimator input.sk-toggleable__control:checked~label.sk-toggleable__label {background-color: #d4ebff;}#sk-container-id-2 div.sk-label input.sk-toggleable__control:checked~label.sk-toggleable__label {background-color: #d4ebff;}#sk-container-id-2 input.sk-hidden--visually {border: 0;clip: rect(1px 1px 1px 1px);clip: rect(1px, 1px, 1px, 1px);height: 1px;margin: -1px;overflow: hidden;padding: 0;position: absolute;width: 1px;}#sk-container-id-2 div.sk-estimator {font-family: monospace;background-color: #f0f8ff;border: 1px dotted black;border-radius: 0.25em;box-sizing: border-box;margin-bottom: 0.5em;}#sk-container-id-2 div.sk-estimator:hover {background-color: #d4ebff;}#sk-container-id-2 div.sk-parallel-item::after {content: \"\";width: 100%;border-bottom: 1px solid gray;flex-grow: 1;}#sk-container-id-2 div.sk-label:hover label.sk-toggleable__label {background-color: #d4ebff;}#sk-container-id-2 div.sk-serial::before {content: \"\";position: absolute;border-left: 1px solid gray;box-sizing: border-box;top: 0;bottom: 0;left: 50%;z-index: 0;}#sk-container-id-2 div.sk-serial {display: flex;flex-direction: column;align-items: center;background-color: white;padding-right: 0.2em;padding-left: 0.2em;position: relative;}#sk-container-id-2 div.sk-item {position: relative;z-index: 1;}#sk-container-id-2 div.sk-parallel {display: flex;align-items: stretch;justify-content: center;background-color: white;position: relative;}#sk-container-id-2 div.sk-item::before, #sk-container-id-2 div.sk-parallel-item::before {content: \"\";position: absolute;border-left: 1px solid gray;box-sizing: border-box;top: 0;bottom: 0;left: 50%;z-index: -1;}#sk-container-id-2 div.sk-parallel-item {display: flex;flex-direction: column;z-index: 1;position: relative;background-color: white;}#sk-container-id-2 div.sk-parallel-item:first-child::after {align-self: flex-end;width: 50%;}#sk-container-id-2 div.sk-parallel-item:last-child::after {align-self: flex-start;width: 50%;}#sk-container-id-2 div.sk-parallel-item:only-child::after {width: 0;}#sk-container-id-2 div.sk-dashed-wrapped {border: 1px dashed gray;margin: 0 0.4em 0.5em 0.4em;box-sizing: border-box;padding-bottom: 0.4em;background-color: white;}#sk-container-id-2 div.sk-label label {font-family: monospace;font-weight: bold;display: inline-block;line-height: 1.2em;}#sk-container-id-2 div.sk-label-container {text-align: center;}#sk-container-id-2 div.sk-container {/* jupyter's `normalize.less` sets `[hidden] { display: none; }` but bootstrap.min.css set `[hidden] { display: none !important; }` so we also need the `!important` here to be able to override the default hidden behavior on the sphinx rendered scikit-learn.org. See: https://github.com/scikit-learn/scikit-learn/issues/21755 */display: inline-block !important;position: relative;}#sk-container-id-2 div.sk-text-repr-fallback {display: none;}</style><div id=\"sk-container-id-2\" class=\"sk-top-container\"><div class=\"sk-text-repr-fallback\"><pre>Pipeline(steps=[(&#x27;preprocessor&#x27;,\n",
       "                 ColumnTransformer(transformers=[(&#x27;num&#x27;, StandardScaler(),\n",
       "                                                  [&#x27;averageSquareFootage&#x27;,\n",
       "                                                   &#x27;stories&#x27;, &#x27;yearsold&#x27;,\n",
       "                                                   &#x27;MPF-OCC&#x27;, &#x27;unitcount&#x27;,\n",
       "                                                   &#x27;uses_realpage&#x27;]),\n",
       "                                                 (&#x27;cat&#x27;,\n",
       "                                                  OneHotEncoder(handle_unknown=&#x27;ignore&#x27;),\n",
       "                                                  [&#x27;cbsa_code&#x27;, &#x27;class&#x27;])])),\n",
       "                (&#x27;regressor&#x27;, RandomForestRegressor(random_state=42))])</pre><b>In a Jupyter environment, please rerun this cell to show the HTML representation or trust the notebook. <br />On GitHub, the HTML representation is unable to render, please try loading this page with nbviewer.org.</b></div><div class=\"sk-container\" hidden><div class=\"sk-item sk-dashed-wrapped\"><div class=\"sk-label-container\"><div class=\"sk-label sk-toggleable\"><input class=\"sk-toggleable__control sk-hidden--visually\" id=\"sk-estimator-id-8\" type=\"checkbox\" ><label for=\"sk-estimator-id-8\" class=\"sk-toggleable__label sk-toggleable__label-arrow\">Pipeline</label><div class=\"sk-toggleable__content\"><pre>Pipeline(steps=[(&#x27;preprocessor&#x27;,\n",
       "                 ColumnTransformer(transformers=[(&#x27;num&#x27;, StandardScaler(),\n",
       "                                                  [&#x27;averageSquareFootage&#x27;,\n",
       "                                                   &#x27;stories&#x27;, &#x27;yearsold&#x27;,\n",
       "                                                   &#x27;MPF-OCC&#x27;, &#x27;unitcount&#x27;,\n",
       "                                                   &#x27;uses_realpage&#x27;]),\n",
       "                                                 (&#x27;cat&#x27;,\n",
       "                                                  OneHotEncoder(handle_unknown=&#x27;ignore&#x27;),\n",
       "                                                  [&#x27;cbsa_code&#x27;, &#x27;class&#x27;])])),\n",
       "                (&#x27;regressor&#x27;, RandomForestRegressor(random_state=42))])</pre></div></div></div><div class=\"sk-serial\"><div class=\"sk-item sk-dashed-wrapped\"><div class=\"sk-label-container\"><div class=\"sk-label sk-toggleable\"><input class=\"sk-toggleable__control sk-hidden--visually\" id=\"sk-estimator-id-9\" type=\"checkbox\" ><label for=\"sk-estimator-id-9\" class=\"sk-toggleable__label sk-toggleable__label-arrow\">preprocessor: ColumnTransformer</label><div class=\"sk-toggleable__content\"><pre>ColumnTransformer(transformers=[(&#x27;num&#x27;, StandardScaler(),\n",
       "                                 [&#x27;averageSquareFootage&#x27;, &#x27;stories&#x27;, &#x27;yearsold&#x27;,\n",
       "                                  &#x27;MPF-OCC&#x27;, &#x27;unitcount&#x27;, &#x27;uses_realpage&#x27;]),\n",
       "                                (&#x27;cat&#x27;, OneHotEncoder(handle_unknown=&#x27;ignore&#x27;),\n",
       "                                 [&#x27;cbsa_code&#x27;, &#x27;class&#x27;])])</pre></div></div></div><div class=\"sk-parallel\"><div class=\"sk-parallel-item\"><div class=\"sk-item\"><div class=\"sk-label-container\"><div class=\"sk-label sk-toggleable\"><input class=\"sk-toggleable__control sk-hidden--visually\" id=\"sk-estimator-id-10\" type=\"checkbox\" ><label for=\"sk-estimator-id-10\" class=\"sk-toggleable__label sk-toggleable__label-arrow\">num</label><div class=\"sk-toggleable__content\"><pre>[&#x27;averageSquareFootage&#x27;, &#x27;stories&#x27;, &#x27;yearsold&#x27;, &#x27;MPF-OCC&#x27;, &#x27;unitcount&#x27;, &#x27;uses_realpage&#x27;]</pre></div></div></div><div class=\"sk-serial\"><div class=\"sk-item\"><div class=\"sk-estimator sk-toggleable\"><input class=\"sk-toggleable__control sk-hidden--visually\" id=\"sk-estimator-id-11\" type=\"checkbox\" ><label for=\"sk-estimator-id-11\" class=\"sk-toggleable__label sk-toggleable__label-arrow\">StandardScaler</label><div class=\"sk-toggleable__content\"><pre>StandardScaler()</pre></div></div></div></div></div></div><div class=\"sk-parallel-item\"><div class=\"sk-item\"><div class=\"sk-label-container\"><div class=\"sk-label sk-toggleable\"><input class=\"sk-toggleable__control sk-hidden--visually\" id=\"sk-estimator-id-12\" type=\"checkbox\" ><label for=\"sk-estimator-id-12\" class=\"sk-toggleable__label sk-toggleable__label-arrow\">cat</label><div class=\"sk-toggleable__content\"><pre>[&#x27;cbsa_code&#x27;, &#x27;class&#x27;]</pre></div></div></div><div class=\"sk-serial\"><div class=\"sk-item\"><div class=\"sk-estimator sk-toggleable\"><input class=\"sk-toggleable__control sk-hidden--visually\" id=\"sk-estimator-id-13\" type=\"checkbox\" ><label for=\"sk-estimator-id-13\" class=\"sk-toggleable__label sk-toggleable__label-arrow\">OneHotEncoder</label><div class=\"sk-toggleable__content\"><pre>OneHotEncoder(handle_unknown=&#x27;ignore&#x27;)</pre></div></div></div></div></div></div></div></div><div class=\"sk-item\"><div class=\"sk-estimator sk-toggleable\"><input class=\"sk-toggleable__control sk-hidden--visually\" id=\"sk-estimator-id-14\" type=\"checkbox\" ><label for=\"sk-estimator-id-14\" class=\"sk-toggleable__label sk-toggleable__label-arrow\">RandomForestRegressor</label><div class=\"sk-toggleable__content\"><pre>RandomForestRegressor(random_state=42)</pre></div></div></div></div></div></div></div>"
      ],
      "text/plain": [
       "Pipeline(steps=[('preprocessor',\n",
       "                 ColumnTransformer(transformers=[('num', StandardScaler(),\n",
       "                                                  ['averageSquareFootage',\n",
       "                                                   'stories', 'yearsold',\n",
       "                                                   'MPF-OCC', 'unitcount',\n",
       "                                                   'uses_realpage']),\n",
       "                                                 ('cat',\n",
       "                                                  OneHotEncoder(handle_unknown='ignore'),\n",
       "                                                  ['cbsa_code', 'class'])])),\n",
       "                ('regressor', RandomForestRegressor(random_state=42))])"
      ]
     },
     "execution_count": 32,
     "metadata": {},
     "output_type": "execute_result"
    }
   ],
   "source": [
    "reg_pipeline.fit(X_rent_train, y_rent_train)"
   ]
  },
  {
   "cell_type": "code",
   "execution_count": 33,
   "metadata": {},
   "outputs": [
    {
     "name": "stdout",
     "output_type": "stream",
     "text": [
      "Rent Model Mean Squared Error: 0.04848786969718381\n"
     ]
    }
   ],
   "source": [
    "y_rent_pred = reg_pipeline.predict(X_rent_test)\n",
    "mse = mean_squared_error(y_rent_test, y_rent_pred)\n",
    "print(\"Rent Model Mean Squared Error:\", mse)"
   ]
  },
  {
   "cell_type": "code",
   "execution_count": 34,
   "metadata": {},
   "outputs": [
    {
     "name": "stdout",
     "output_type": "stream",
     "text": [
      "Feature Importances for model 1:\n",
      "                  feature  importance\n",
      "6  cbsa_code (aggregated)    0.543746\n",
      "0                 stories    0.215968\n",
      "7      class (aggregated)    0.121429\n",
      "1    averageSquareFootage    0.069682\n",
      "2                yearsold    0.017268\n",
      "3               unitcount    0.017060\n",
      "4                 MPF-OCC    0.013397\n",
      "5           uses_realpage    0.001450\n"
     ]
    }
   ],
   "source": [
    "#finding feature importance for the random forest regressor model\n",
    "preprocessor_reg_1 = reg_pipeline.named_steps['preprocessor']\n",
    "regressor_reg_1 = reg_pipeline.named_steps['regressor']\n",
    "\n",
    "num_features_reg_1 = numeric_features_rent\n",
    "\n",
    "cat_transformer_reg_1 = preprocessor_reg_1.named_transformers_['cat']\n",
    "cat_features_reg_1 = list(cat_transformer_reg_1.get_feature_names_out(categorical_features_rent))\n",
    "\n",
    "all_feature_names_reg_1 = num_features_reg_1 + cat_features_reg_1\n",
    "\n",
    "importances_reg_1 = regressor_reg_1.feature_importances_\n",
    "\n",
    "feature_importance_reg1_df = pd.DataFrame({\n",
    "    'feature': all_feature_names_reg_1,\n",
    "    'importance': importances_reg_1\n",
    "}).sort_values(by='importance', ascending=False)\n",
    "\n",
    "cbsa_mask = feature_importance_reg1_df['feature'].str.startswith('cbsa_code')\n",
    "cbsa_agg = feature_importance_reg1_df.loc[cbsa_mask, 'importance'].sum()\n",
    "\n",
    "feature_importance_reg1_df = feature_importance_reg1_df.loc[~cbsa_mask]\n",
    "\n",
    "agg__cbsa_row = pd.DataFrame({'feature': ['cbsa_code (aggregated)'], 'importance': [cbsa_agg]})\n",
    "feature_importance_reg1_df = pd.concat([feature_importance_reg1_df, agg__cbsa_row], ignore_index=True)\n",
    "\n",
    "class_mask = feature_importance_reg1_df['feature'].str.startswith('class')\n",
    "class_agg = feature_importance_reg1_df.loc[class_mask, 'importance'].sum()\n",
    "\n",
    "feature_importance_reg1_df = feature_importance_reg1_df.loc[~class_mask]\n",
    "\n",
    "agg_class_row = pd.DataFrame({'feature': ['class (aggregated)'], 'importance': [class_agg]})\n",
    "feature_importance_reg1_df = pd.concat([feature_importance_reg1_df, agg_class_row], ignore_index=True)\n",
    "\n",
    "print(\"Feature Importances for model 1:\")\n",
    "print(feature_importance_reg1_df.sort_values('importance',ascending=False))"
   ]
  },
  {
   "cell_type": "markdown",
   "metadata": {},
   "source": [
    "# Try it Yourself! Predict the RPSF\n",
    "\n",
    "In this section, we're building an interactive function that allows a user to input key property details. Based on these inputs, our regression model will predict the rent per square foot (RPSF). This serves as a prototype for the similar functionality we plan to integrate into our website.\n",
    "\n",
    "## What Does the Function Do?\n",
    "\n",
    "- **User Prompts:**  \n",
    "  The function asks the user to enter several input variables, including:\n",
    "  - Average square footage\n",
    "  - Number of stories\n",
    "  - CBSA code (categorical)\n",
    "  - Property class (categorical)\n",
    "  - Year built (from which we calculate the property's age)\n",
    "  - MPF-OCC (occupancy)\n",
    "  - Unit count\n",
    "\n",
    "- **Output:**  \n",
    "  The function displays the inputs the user provided and then outputs the prediction in a clear format, e.g.,  \n",
    "  `Predicted RPSF: $XXXX`\n",
    "\n",
    "## How This Relates to Our Website\n",
    "\n",
    "This interactive function is a small-scale prototype of what we plan to implement on our website. On the live site:\n",
    "- Users can navigate to the Try it Yourself section within the website and test inputs\n",
    "- The website backend will process these inputs into our model using sagemaker\n",
    "- The predicted rent per square foot will be displayed to the user immediately.\n"
   ]
  },
  {
   "cell_type": "code",
   "execution_count": 35,
   "metadata": {},
   "outputs": [],
   "source": [
    "def predict_rpsf(model):\n",
    "    \"\"\"\n",
    "    Prompts the user for input variables, displays the inputs,\n",
    "    and outputs the predicted rent per square foot.\n",
    "    \"\"\"\n",
    "    try:\n",
    "        averageSquareFootage = float(input(\"Enter average square footage: \"))\n",
    "        stories = float(input(\"Enter number of stories: \"))\n",
    "        cbsa_code = input(\"Enter CBSA code: \")\n",
    "        property_class = input(\"Enter property class: \")\n",
    "        yearbuilt = int(input(\"Enter the year built: \"))\n",
    "        MPF_OCC = float(input(\"Enter MPF-OCC (occupancy): \"))\n",
    "        unitcount = float(input(\"Enter unit count: \"))\n",
    "        uses_realpage = input(\"Enter uses_realpage: \")\n",
    "    except Exception as e:\n",
    "        print(f\"Error in input: {e}\")\n",
    "        return\n",
    "\n",
    "    current_year = datetime.now().year\n",
    "    yearsold = current_year - yearbuilt\n",
    "\n",
    "    print(\"\\nUser Inputs:\")\n",
    "    print(f\"  Average Square Footage: {averageSquareFootage}\")\n",
    "    print(f\"  Stories: {stories}\")\n",
    "    print(f\"  CBSA Code: {cbsa_code}\")\n",
    "    print(f\"  Property Class: {property_class}\")\n",
    "    print(f\"  Year Built: {yearbuilt}\")\n",
    "    print(f\"  Years Old: {yearsold}\")\n",
    "    print(f\"  MPF-OCC (Occupancy): {MPF_OCC}\")\n",
    "    print(f\"  Unit Count: {unitcount}\")\n",
    "    print(f\"  Uses RealPage: {uses_realpage}\\n\")\n",
    "    \n",
    "    input_df = pd.DataFrame({\n",
    "        'averageSquareFootage': [averageSquareFootage],\n",
    "        'stories': [stories],\n",
    "        'cbsa_code': [cbsa_code],\n",
    "        'class': [property_class],\n",
    "        'yearsold': [yearsold],\n",
    "        'MPF-OCC': [MPF_OCC],\n",
    "        'unitcount': [unitcount],\n",
    "        'uses_realpage': [uses_realpage]\n",
    "    })\n",
    "    \n",
    "    prediction = model.predict(input_df)\n",
    "    predicted_rpsf = prediction[0]\n",
    "    \n",
    "    print(f\"Predicted RPSF: ${predicted_rpsf:.2f}\")\n",
    "    return predicted_rpsf\n"
   ]
  },
  {
   "cell_type": "code",
   "execution_count": 36,
   "metadata": {},
   "outputs": [
    {
     "name": "stdout",
     "output_type": "stream",
     "text": [
      "Error in input: could not convert string to float: ''\n"
     ]
    }
   ],
   "source": [
    "predict_rpsf(reg_pipeline)"
   ]
  },
  {
   "cell_type": "code",
   "execution_count": 37,
   "metadata": {},
   "outputs": [
    {
     "data": {
      "text/plain": [
       "'\\nNext steps for me to work on:\\n-   try different models\\n-   do some hyperparameter tuning\\n-   put in sagemaker and try to hit the model via API\\n'"
      ]
     },
     "execution_count": 37,
     "metadata": {},
     "output_type": "execute_result"
    }
   ],
   "source": [
    "\"\"\"\n",
    "Next steps for me to work on:\n",
    "-   try different models\n",
    "-   do some hyperparameter tuning\n",
    "-   put in sagemaker and try to hit the model via API\n",
    "\"\"\""
   ]
  },
  {
   "cell_type": "markdown",
   "metadata": {},
   "source": [
    "## Model 3\n",
    "\n",
    "Earlier, we found a proxy in our dataset for realpage's market share using the flagged users per cbsa in our dataset. This is our model will change:\n",
    "\n",
    "- **Feature Engineering:**\n",
    "  - Adding in a feature for market share using the proxy we developed\n",
    "  - The proxy is found by the following calculation per CBSA: `Total Number of Flagged Realpage Users / Total Number of Property Listings`\n",
    "\n",
    "- **We will use 3 different models:**\n",
    "  - Random Forest Regressor\n",
    "  - Gradient Boosting Regressor\n",
    "  - Feedforward Neural Networks\n",
    "\n",
    "After running the models and evaluating the metrics, we will use the best model based on r2 scores and MSE to simulate data with and compare predicted results."
   ]
  },
  {
   "cell_type": "markdown",
   "metadata": {},
   "source": [
    "***Random Forest Regressor***"
   ]
  },
  {
   "cell_type": "code",
   "execution_count": 38,
   "metadata": {},
   "outputs": [],
   "source": [
    "market_share_proxy = market_share_proxy.rename(columns={'cbsa_code':'CBSA'})"
   ]
  },
  {
   "cell_type": "code",
   "execution_count": 39,
   "metadata": {},
   "outputs": [],
   "source": [
    "model3_df = df.merge(market_share_proxy[['CBSA','market_share']],left_on='cbsa_code',right_on='CBSA',how='left')"
   ]
  },
  {
   "cell_type": "code",
   "execution_count": 40,
   "metadata": {},
   "outputs": [],
   "source": [
    "#defining features and target\n",
    "features_rent_reg_2 = ['averageSquareFootage', 'stories', 'cbsa_code', 'class', 'yearsold', 'MPF-OCC', 'unitcount','uses_realpage','market_share']\n",
    "X_rent_reg_2 = model3_df[features_rent_reg_2]\n",
    "y_rent_reg_2 = model3_df['MPF-RPSF']\n",
    "\n",
    "#assigning numeric and categorical features\n",
    "numeric_features_rent_reg_2 = ['averageSquareFootage', 'stories', 'yearsold', 'MPF-OCC', 'unitcount','uses_realpage','market_share']\n",
    "categorical_features_rent_reg_2 = ['cbsa_code', 'class']"
   ]
  },
  {
   "cell_type": "code",
   "execution_count": 41,
   "metadata": {},
   "outputs": [],
   "source": [
    "#develop a preprocessor for for the rent model\n",
    "preprocessor_rent_reg_2 = ColumnTransformer(\n",
    "    transformers=[\n",
    "        ('num', StandardScaler(), numeric_features_rent_reg_2),\n",
    "        ('cat', OneHotEncoder(handle_unknown='ignore'), categorical_features_rent_reg_2)\n",
    "    ]\n",
    ")"
   ]
  },
  {
   "cell_type": "code",
   "execution_count": 42,
   "metadata": {},
   "outputs": [],
   "source": [
    "reg_pipeline_reg_2 = Pipeline(steps=[\n",
    "    ('preprocessor', preprocessor_rent_reg_2),\n",
    "    ('regressor', RandomForestRegressor(n_estimators=100, random_state=42))\n",
    "])"
   ]
  },
  {
   "cell_type": "code",
   "execution_count": 43,
   "metadata": {},
   "outputs": [],
   "source": [
    "X_rent_train_reg_2, X_rent_test_reg_2, y_rent_train_reg_2, y_rent_test_reg_2 = train_test_split(\n",
    "    X_rent_reg_2, y_rent_reg_2, test_size=0.2, random_state=42\n",
    ")"
   ]
  },
  {
   "cell_type": "code",
   "execution_count": 44,
   "metadata": {},
   "outputs": [
    {
     "data": {
      "text/html": [
       "<style>#sk-container-id-3 {color: black;}#sk-container-id-3 pre{padding: 0;}#sk-container-id-3 div.sk-toggleable {background-color: white;}#sk-container-id-3 label.sk-toggleable__label {cursor: pointer;display: block;width: 100%;margin-bottom: 0;padding: 0.3em;box-sizing: border-box;text-align: center;}#sk-container-id-3 label.sk-toggleable__label-arrow:before {content: \"▸\";float: left;margin-right: 0.25em;color: #696969;}#sk-container-id-3 label.sk-toggleable__label-arrow:hover:before {color: black;}#sk-container-id-3 div.sk-estimator:hover label.sk-toggleable__label-arrow:before {color: black;}#sk-container-id-3 div.sk-toggleable__content {max-height: 0;max-width: 0;overflow: hidden;text-align: left;background-color: #f0f8ff;}#sk-container-id-3 div.sk-toggleable__content pre {margin: 0.2em;color: black;border-radius: 0.25em;background-color: #f0f8ff;}#sk-container-id-3 input.sk-toggleable__control:checked~div.sk-toggleable__content {max-height: 200px;max-width: 100%;overflow: auto;}#sk-container-id-3 input.sk-toggleable__control:checked~label.sk-toggleable__label-arrow:before {content: \"▾\";}#sk-container-id-3 div.sk-estimator input.sk-toggleable__control:checked~label.sk-toggleable__label {background-color: #d4ebff;}#sk-container-id-3 div.sk-label input.sk-toggleable__control:checked~label.sk-toggleable__label {background-color: #d4ebff;}#sk-container-id-3 input.sk-hidden--visually {border: 0;clip: rect(1px 1px 1px 1px);clip: rect(1px, 1px, 1px, 1px);height: 1px;margin: -1px;overflow: hidden;padding: 0;position: absolute;width: 1px;}#sk-container-id-3 div.sk-estimator {font-family: monospace;background-color: #f0f8ff;border: 1px dotted black;border-radius: 0.25em;box-sizing: border-box;margin-bottom: 0.5em;}#sk-container-id-3 div.sk-estimator:hover {background-color: #d4ebff;}#sk-container-id-3 div.sk-parallel-item::after {content: \"\";width: 100%;border-bottom: 1px solid gray;flex-grow: 1;}#sk-container-id-3 div.sk-label:hover label.sk-toggleable__label {background-color: #d4ebff;}#sk-container-id-3 div.sk-serial::before {content: \"\";position: absolute;border-left: 1px solid gray;box-sizing: border-box;top: 0;bottom: 0;left: 50%;z-index: 0;}#sk-container-id-3 div.sk-serial {display: flex;flex-direction: column;align-items: center;background-color: white;padding-right: 0.2em;padding-left: 0.2em;position: relative;}#sk-container-id-3 div.sk-item {position: relative;z-index: 1;}#sk-container-id-3 div.sk-parallel {display: flex;align-items: stretch;justify-content: center;background-color: white;position: relative;}#sk-container-id-3 div.sk-item::before, #sk-container-id-3 div.sk-parallel-item::before {content: \"\";position: absolute;border-left: 1px solid gray;box-sizing: border-box;top: 0;bottom: 0;left: 50%;z-index: -1;}#sk-container-id-3 div.sk-parallel-item {display: flex;flex-direction: column;z-index: 1;position: relative;background-color: white;}#sk-container-id-3 div.sk-parallel-item:first-child::after {align-self: flex-end;width: 50%;}#sk-container-id-3 div.sk-parallel-item:last-child::after {align-self: flex-start;width: 50%;}#sk-container-id-3 div.sk-parallel-item:only-child::after {width: 0;}#sk-container-id-3 div.sk-dashed-wrapped {border: 1px dashed gray;margin: 0 0.4em 0.5em 0.4em;box-sizing: border-box;padding-bottom: 0.4em;background-color: white;}#sk-container-id-3 div.sk-label label {font-family: monospace;font-weight: bold;display: inline-block;line-height: 1.2em;}#sk-container-id-3 div.sk-label-container {text-align: center;}#sk-container-id-3 div.sk-container {/* jupyter's `normalize.less` sets `[hidden] { display: none; }` but bootstrap.min.css set `[hidden] { display: none !important; }` so we also need the `!important` here to be able to override the default hidden behavior on the sphinx rendered scikit-learn.org. See: https://github.com/scikit-learn/scikit-learn/issues/21755 */display: inline-block !important;position: relative;}#sk-container-id-3 div.sk-text-repr-fallback {display: none;}</style><div id=\"sk-container-id-3\" class=\"sk-top-container\"><div class=\"sk-text-repr-fallback\"><pre>Pipeline(steps=[(&#x27;preprocessor&#x27;,\n",
       "                 ColumnTransformer(transformers=[(&#x27;num&#x27;, StandardScaler(),\n",
       "                                                  [&#x27;averageSquareFootage&#x27;,\n",
       "                                                   &#x27;stories&#x27;, &#x27;yearsold&#x27;,\n",
       "                                                   &#x27;MPF-OCC&#x27;, &#x27;unitcount&#x27;,\n",
       "                                                   &#x27;uses_realpage&#x27;,\n",
       "                                                   &#x27;market_share&#x27;]),\n",
       "                                                 (&#x27;cat&#x27;,\n",
       "                                                  OneHotEncoder(handle_unknown=&#x27;ignore&#x27;),\n",
       "                                                  [&#x27;cbsa_code&#x27;, &#x27;class&#x27;])])),\n",
       "                (&#x27;regressor&#x27;, RandomForestRegressor(random_state=42))])</pre><b>In a Jupyter environment, please rerun this cell to show the HTML representation or trust the notebook. <br />On GitHub, the HTML representation is unable to render, please try loading this page with nbviewer.org.</b></div><div class=\"sk-container\" hidden><div class=\"sk-item sk-dashed-wrapped\"><div class=\"sk-label-container\"><div class=\"sk-label sk-toggleable\"><input class=\"sk-toggleable__control sk-hidden--visually\" id=\"sk-estimator-id-15\" type=\"checkbox\" ><label for=\"sk-estimator-id-15\" class=\"sk-toggleable__label sk-toggleable__label-arrow\">Pipeline</label><div class=\"sk-toggleable__content\"><pre>Pipeline(steps=[(&#x27;preprocessor&#x27;,\n",
       "                 ColumnTransformer(transformers=[(&#x27;num&#x27;, StandardScaler(),\n",
       "                                                  [&#x27;averageSquareFootage&#x27;,\n",
       "                                                   &#x27;stories&#x27;, &#x27;yearsold&#x27;,\n",
       "                                                   &#x27;MPF-OCC&#x27;, &#x27;unitcount&#x27;,\n",
       "                                                   &#x27;uses_realpage&#x27;,\n",
       "                                                   &#x27;market_share&#x27;]),\n",
       "                                                 (&#x27;cat&#x27;,\n",
       "                                                  OneHotEncoder(handle_unknown=&#x27;ignore&#x27;),\n",
       "                                                  [&#x27;cbsa_code&#x27;, &#x27;class&#x27;])])),\n",
       "                (&#x27;regressor&#x27;, RandomForestRegressor(random_state=42))])</pre></div></div></div><div class=\"sk-serial\"><div class=\"sk-item sk-dashed-wrapped\"><div class=\"sk-label-container\"><div class=\"sk-label sk-toggleable\"><input class=\"sk-toggleable__control sk-hidden--visually\" id=\"sk-estimator-id-16\" type=\"checkbox\" ><label for=\"sk-estimator-id-16\" class=\"sk-toggleable__label sk-toggleable__label-arrow\">preprocessor: ColumnTransformer</label><div class=\"sk-toggleable__content\"><pre>ColumnTransformer(transformers=[(&#x27;num&#x27;, StandardScaler(),\n",
       "                                 [&#x27;averageSquareFootage&#x27;, &#x27;stories&#x27;, &#x27;yearsold&#x27;,\n",
       "                                  &#x27;MPF-OCC&#x27;, &#x27;unitcount&#x27;, &#x27;uses_realpage&#x27;,\n",
       "                                  &#x27;market_share&#x27;]),\n",
       "                                (&#x27;cat&#x27;, OneHotEncoder(handle_unknown=&#x27;ignore&#x27;),\n",
       "                                 [&#x27;cbsa_code&#x27;, &#x27;class&#x27;])])</pre></div></div></div><div class=\"sk-parallel\"><div class=\"sk-parallel-item\"><div class=\"sk-item\"><div class=\"sk-label-container\"><div class=\"sk-label sk-toggleable\"><input class=\"sk-toggleable__control sk-hidden--visually\" id=\"sk-estimator-id-17\" type=\"checkbox\" ><label for=\"sk-estimator-id-17\" class=\"sk-toggleable__label sk-toggleable__label-arrow\">num</label><div class=\"sk-toggleable__content\"><pre>[&#x27;averageSquareFootage&#x27;, &#x27;stories&#x27;, &#x27;yearsold&#x27;, &#x27;MPF-OCC&#x27;, &#x27;unitcount&#x27;, &#x27;uses_realpage&#x27;, &#x27;market_share&#x27;]</pre></div></div></div><div class=\"sk-serial\"><div class=\"sk-item\"><div class=\"sk-estimator sk-toggleable\"><input class=\"sk-toggleable__control sk-hidden--visually\" id=\"sk-estimator-id-18\" type=\"checkbox\" ><label for=\"sk-estimator-id-18\" class=\"sk-toggleable__label sk-toggleable__label-arrow\">StandardScaler</label><div class=\"sk-toggleable__content\"><pre>StandardScaler()</pre></div></div></div></div></div></div><div class=\"sk-parallel-item\"><div class=\"sk-item\"><div class=\"sk-label-container\"><div class=\"sk-label sk-toggleable\"><input class=\"sk-toggleable__control sk-hidden--visually\" id=\"sk-estimator-id-19\" type=\"checkbox\" ><label for=\"sk-estimator-id-19\" class=\"sk-toggleable__label sk-toggleable__label-arrow\">cat</label><div class=\"sk-toggleable__content\"><pre>[&#x27;cbsa_code&#x27;, &#x27;class&#x27;]</pre></div></div></div><div class=\"sk-serial\"><div class=\"sk-item\"><div class=\"sk-estimator sk-toggleable\"><input class=\"sk-toggleable__control sk-hidden--visually\" id=\"sk-estimator-id-20\" type=\"checkbox\" ><label for=\"sk-estimator-id-20\" class=\"sk-toggleable__label sk-toggleable__label-arrow\">OneHotEncoder</label><div class=\"sk-toggleable__content\"><pre>OneHotEncoder(handle_unknown=&#x27;ignore&#x27;)</pre></div></div></div></div></div></div></div></div><div class=\"sk-item\"><div class=\"sk-estimator sk-toggleable\"><input class=\"sk-toggleable__control sk-hidden--visually\" id=\"sk-estimator-id-21\" type=\"checkbox\" ><label for=\"sk-estimator-id-21\" class=\"sk-toggleable__label sk-toggleable__label-arrow\">RandomForestRegressor</label><div class=\"sk-toggleable__content\"><pre>RandomForestRegressor(random_state=42)</pre></div></div></div></div></div></div></div>"
      ],
      "text/plain": [
       "Pipeline(steps=[('preprocessor',\n",
       "                 ColumnTransformer(transformers=[('num', StandardScaler(),\n",
       "                                                  ['averageSquareFootage',\n",
       "                                                   'stories', 'yearsold',\n",
       "                                                   'MPF-OCC', 'unitcount',\n",
       "                                                   'uses_realpage',\n",
       "                                                   'market_share']),\n",
       "                                                 ('cat',\n",
       "                                                  OneHotEncoder(handle_unknown='ignore'),\n",
       "                                                  ['cbsa_code', 'class'])])),\n",
       "                ('regressor', RandomForestRegressor(random_state=42))])"
      ]
     },
     "execution_count": 44,
     "metadata": {},
     "output_type": "execute_result"
    }
   ],
   "source": [
    "reg_pipeline_reg_2.fit(X_rent_train_reg_2, y_rent_train_reg_2)"
   ]
  },
  {
   "cell_type": "code",
   "execution_count": 45,
   "metadata": {},
   "outputs": [
    {
     "name": "stdout",
     "output_type": "stream",
     "text": [
      "Rent Model Mean Squared Error: 0.040398723995711296\n"
     ]
    }
   ],
   "source": [
    "y_rent_pred_reg_2 = reg_pipeline_reg_2.predict(X_rent_test_reg_2)\n",
    "mse_reg_2 = mean_squared_error(y_rent_test_reg_2, y_rent_pred_reg_2)\n",
    "print(\"Rent Model Mean Squared Error:\", mse_reg_2)"
   ]
  },
  {
   "cell_type": "code",
   "execution_count": 46,
   "metadata": {},
   "outputs": [
    {
     "name": "stdout",
     "output_type": "stream",
     "text": [
      "Rent R^2: 0.921434980776745\n"
     ]
    }
   ],
   "source": [
    "model_3_r2 = r2_score(y_rent_test_reg_2, y_rent_pred_reg_2)\n",
    "print(\"Rent R^2:\", model_3_r2)\n"
   ]
  },
  {
   "cell_type": "code",
   "execution_count": 47,
   "metadata": {},
   "outputs": [
    {
     "name": "stdout",
     "output_type": "stream",
     "text": [
      "Feature Importances for model 2:\n",
      "                  feature  importance\n",
      "7  cbsa_code (aggregated)    0.365948\n",
      "0            market_share    0.252231\n",
      "8      class (aggregated)    0.193452\n",
      "1                 stories    0.079133\n",
      "2    averageSquareFootage    0.064340\n",
      "3               unitcount    0.015716\n",
      "4                yearsold    0.015670\n",
      "5                 MPF-OCC    0.012320\n",
      "6           uses_realpage    0.001190\n"
     ]
    }
   ],
   "source": [
    "#finding feature importance for the random forest regressor model\n",
    "preprocessor_reg_2 = reg_pipeline_reg_2.named_steps['preprocessor']\n",
    "regressor_reg_2 = reg_pipeline_reg_2.named_steps['regressor']\n",
    "\n",
    "num_features_reg_2 = numeric_features_rent_reg_2\n",
    "\n",
    "cat_transformer_reg_2 = preprocessor_reg_2.named_transformers_['cat']\n",
    "cat_features_reg_2 = list(cat_transformer_reg_2.get_feature_names_out(categorical_features_rent_reg_2))\n",
    "\n",
    "all_feature_names_reg_2 = num_features_reg_2 + cat_features_reg_2\n",
    "\n",
    "importances_reg_2 = regressor_reg_2.feature_importances_\n",
    "\n",
    "feature_importance_reg2_df = pd.DataFrame({\n",
    "    'feature': all_feature_names_reg_2,\n",
    "    'importance': importances_reg_2\n",
    "}).sort_values(by='importance', ascending=False)\n",
    "\n",
    "cbsa_mask = feature_importance_reg2_df['feature'].str.startswith('cbsa_code')\n",
    "cbsa_agg = feature_importance_reg2_df.loc[cbsa_mask, 'importance'].sum()\n",
    "\n",
    "feature_importance_reg2_df = feature_importance_reg2_df.loc[~cbsa_mask]\n",
    "\n",
    "agg__cbsa_row = pd.DataFrame({'feature': ['cbsa_code (aggregated)'], 'importance': [cbsa_agg]})\n",
    "feature_importance_reg2_df = pd.concat([feature_importance_reg2_df, agg__cbsa_row], ignore_index=True)\n",
    "\n",
    "class_mask = feature_importance_reg2_df['feature'].str.startswith('class')\n",
    "class_agg = feature_importance_reg2_df.loc[class_mask, 'importance'].sum()\n",
    "\n",
    "feature_importance_reg2_df = feature_importance_reg2_df.loc[~class_mask]\n",
    "\n",
    "agg_class_row = pd.DataFrame({'feature': ['class (aggregated)'], 'importance': [class_agg]})\n",
    "feature_importance_reg2_df = pd.concat([feature_importance_reg2_df, agg_class_row], ignore_index=True)\n",
    "\n",
    "print(\"Feature Importances for model 2:\")\n",
    "print(feature_importance_reg2_df.sort_values('importance',ascending=False))"
   ]
  },
  {
   "cell_type": "code",
   "execution_count": 48,
   "metadata": {},
   "outputs": [],
   "source": [
    "df[['averageSquareFootage', 'stories', 'cbsa_code', 'class', 'yearsold', 'MPF-OCC', 'unitcount','uses_realpage','MPF-RPSF']].to_csv('model_1_data.csv',index=False)"
   ]
  },
  {
   "cell_type": "code",
   "execution_count": 49,
   "metadata": {},
   "outputs": [],
   "source": [
    "model3_df[['averageSquareFootage', 'stories', 'cbsa_code', 'class', 'yearsold', 'MPF-OCC', 'unitcount','uses_realpage','market_share','MPF-RPSF']].to_csv('model_2_data.csv',index=False)"
   ]
  },
  {
   "cell_type": "markdown",
   "metadata": {},
   "source": [
    "***Gradient Boosting Regressor***"
   ]
  },
  {
   "cell_type": "code",
   "execution_count": 50,
   "metadata": {},
   "outputs": [
    {
     "data": {
      "text/html": [
       "<style>#sk-container-id-4 {color: black;}#sk-container-id-4 pre{padding: 0;}#sk-container-id-4 div.sk-toggleable {background-color: white;}#sk-container-id-4 label.sk-toggleable__label {cursor: pointer;display: block;width: 100%;margin-bottom: 0;padding: 0.3em;box-sizing: border-box;text-align: center;}#sk-container-id-4 label.sk-toggleable__label-arrow:before {content: \"▸\";float: left;margin-right: 0.25em;color: #696969;}#sk-container-id-4 label.sk-toggleable__label-arrow:hover:before {color: black;}#sk-container-id-4 div.sk-estimator:hover label.sk-toggleable__label-arrow:before {color: black;}#sk-container-id-4 div.sk-toggleable__content {max-height: 0;max-width: 0;overflow: hidden;text-align: left;background-color: #f0f8ff;}#sk-container-id-4 div.sk-toggleable__content pre {margin: 0.2em;color: black;border-radius: 0.25em;background-color: #f0f8ff;}#sk-container-id-4 input.sk-toggleable__control:checked~div.sk-toggleable__content {max-height: 200px;max-width: 100%;overflow: auto;}#sk-container-id-4 input.sk-toggleable__control:checked~label.sk-toggleable__label-arrow:before {content: \"▾\";}#sk-container-id-4 div.sk-estimator input.sk-toggleable__control:checked~label.sk-toggleable__label {background-color: #d4ebff;}#sk-container-id-4 div.sk-label input.sk-toggleable__control:checked~label.sk-toggleable__label {background-color: #d4ebff;}#sk-container-id-4 input.sk-hidden--visually {border: 0;clip: rect(1px 1px 1px 1px);clip: rect(1px, 1px, 1px, 1px);height: 1px;margin: -1px;overflow: hidden;padding: 0;position: absolute;width: 1px;}#sk-container-id-4 div.sk-estimator {font-family: monospace;background-color: #f0f8ff;border: 1px dotted black;border-radius: 0.25em;box-sizing: border-box;margin-bottom: 0.5em;}#sk-container-id-4 div.sk-estimator:hover {background-color: #d4ebff;}#sk-container-id-4 div.sk-parallel-item::after {content: \"\";width: 100%;border-bottom: 1px solid gray;flex-grow: 1;}#sk-container-id-4 div.sk-label:hover label.sk-toggleable__label {background-color: #d4ebff;}#sk-container-id-4 div.sk-serial::before {content: \"\";position: absolute;border-left: 1px solid gray;box-sizing: border-box;top: 0;bottom: 0;left: 50%;z-index: 0;}#sk-container-id-4 div.sk-serial {display: flex;flex-direction: column;align-items: center;background-color: white;padding-right: 0.2em;padding-left: 0.2em;position: relative;}#sk-container-id-4 div.sk-item {position: relative;z-index: 1;}#sk-container-id-4 div.sk-parallel {display: flex;align-items: stretch;justify-content: center;background-color: white;position: relative;}#sk-container-id-4 div.sk-item::before, #sk-container-id-4 div.sk-parallel-item::before {content: \"\";position: absolute;border-left: 1px solid gray;box-sizing: border-box;top: 0;bottom: 0;left: 50%;z-index: -1;}#sk-container-id-4 div.sk-parallel-item {display: flex;flex-direction: column;z-index: 1;position: relative;background-color: white;}#sk-container-id-4 div.sk-parallel-item:first-child::after {align-self: flex-end;width: 50%;}#sk-container-id-4 div.sk-parallel-item:last-child::after {align-self: flex-start;width: 50%;}#sk-container-id-4 div.sk-parallel-item:only-child::after {width: 0;}#sk-container-id-4 div.sk-dashed-wrapped {border: 1px dashed gray;margin: 0 0.4em 0.5em 0.4em;box-sizing: border-box;padding-bottom: 0.4em;background-color: white;}#sk-container-id-4 div.sk-label label {font-family: monospace;font-weight: bold;display: inline-block;line-height: 1.2em;}#sk-container-id-4 div.sk-label-container {text-align: center;}#sk-container-id-4 div.sk-container {/* jupyter's `normalize.less` sets `[hidden] { display: none; }` but bootstrap.min.css set `[hidden] { display: none !important; }` so we also need the `!important` here to be able to override the default hidden behavior on the sphinx rendered scikit-learn.org. See: https://github.com/scikit-learn/scikit-learn/issues/21755 */display: inline-block !important;position: relative;}#sk-container-id-4 div.sk-text-repr-fallback {display: none;}</style><div id=\"sk-container-id-4\" class=\"sk-top-container\"><div class=\"sk-text-repr-fallback\"><pre>Pipeline(steps=[(&#x27;preprocessor&#x27;,\n",
       "                 ColumnTransformer(transformers=[(&#x27;num&#x27;, StandardScaler(),\n",
       "                                                  [&#x27;averageSquareFootage&#x27;,\n",
       "                                                   &#x27;stories&#x27;, &#x27;yearsold&#x27;,\n",
       "                                                   &#x27;MPF-OCC&#x27;, &#x27;unitcount&#x27;,\n",
       "                                                   &#x27;uses_realpage&#x27;,\n",
       "                                                   &#x27;market_share&#x27;]),\n",
       "                                                 (&#x27;cat&#x27;,\n",
       "                                                  OneHotEncoder(handle_unknown=&#x27;ignore&#x27;),\n",
       "                                                  [&#x27;cbsa_code&#x27;, &#x27;class&#x27;])])),\n",
       "                (&#x27;regressor&#x27;,\n",
       "                 GradientBoostingRegressor(n_estimators=200, random_state=42))])</pre><b>In a Jupyter environment, please rerun this cell to show the HTML representation or trust the notebook. <br />On GitHub, the HTML representation is unable to render, please try loading this page with nbviewer.org.</b></div><div class=\"sk-container\" hidden><div class=\"sk-item sk-dashed-wrapped\"><div class=\"sk-label-container\"><div class=\"sk-label sk-toggleable\"><input class=\"sk-toggleable__control sk-hidden--visually\" id=\"sk-estimator-id-22\" type=\"checkbox\" ><label for=\"sk-estimator-id-22\" class=\"sk-toggleable__label sk-toggleable__label-arrow\">Pipeline</label><div class=\"sk-toggleable__content\"><pre>Pipeline(steps=[(&#x27;preprocessor&#x27;,\n",
       "                 ColumnTransformer(transformers=[(&#x27;num&#x27;, StandardScaler(),\n",
       "                                                  [&#x27;averageSquareFootage&#x27;,\n",
       "                                                   &#x27;stories&#x27;, &#x27;yearsold&#x27;,\n",
       "                                                   &#x27;MPF-OCC&#x27;, &#x27;unitcount&#x27;,\n",
       "                                                   &#x27;uses_realpage&#x27;,\n",
       "                                                   &#x27;market_share&#x27;]),\n",
       "                                                 (&#x27;cat&#x27;,\n",
       "                                                  OneHotEncoder(handle_unknown=&#x27;ignore&#x27;),\n",
       "                                                  [&#x27;cbsa_code&#x27;, &#x27;class&#x27;])])),\n",
       "                (&#x27;regressor&#x27;,\n",
       "                 GradientBoostingRegressor(n_estimators=200, random_state=42))])</pre></div></div></div><div class=\"sk-serial\"><div class=\"sk-item sk-dashed-wrapped\"><div class=\"sk-label-container\"><div class=\"sk-label sk-toggleable\"><input class=\"sk-toggleable__control sk-hidden--visually\" id=\"sk-estimator-id-23\" type=\"checkbox\" ><label for=\"sk-estimator-id-23\" class=\"sk-toggleable__label sk-toggleable__label-arrow\">preprocessor: ColumnTransformer</label><div class=\"sk-toggleable__content\"><pre>ColumnTransformer(transformers=[(&#x27;num&#x27;, StandardScaler(),\n",
       "                                 [&#x27;averageSquareFootage&#x27;, &#x27;stories&#x27;, &#x27;yearsold&#x27;,\n",
       "                                  &#x27;MPF-OCC&#x27;, &#x27;unitcount&#x27;, &#x27;uses_realpage&#x27;,\n",
       "                                  &#x27;market_share&#x27;]),\n",
       "                                (&#x27;cat&#x27;, OneHotEncoder(handle_unknown=&#x27;ignore&#x27;),\n",
       "                                 [&#x27;cbsa_code&#x27;, &#x27;class&#x27;])])</pre></div></div></div><div class=\"sk-parallel\"><div class=\"sk-parallel-item\"><div class=\"sk-item\"><div class=\"sk-label-container\"><div class=\"sk-label sk-toggleable\"><input class=\"sk-toggleable__control sk-hidden--visually\" id=\"sk-estimator-id-24\" type=\"checkbox\" ><label for=\"sk-estimator-id-24\" class=\"sk-toggleable__label sk-toggleable__label-arrow\">num</label><div class=\"sk-toggleable__content\"><pre>[&#x27;averageSquareFootage&#x27;, &#x27;stories&#x27;, &#x27;yearsold&#x27;, &#x27;MPF-OCC&#x27;, &#x27;unitcount&#x27;, &#x27;uses_realpage&#x27;, &#x27;market_share&#x27;]</pre></div></div></div><div class=\"sk-serial\"><div class=\"sk-item\"><div class=\"sk-estimator sk-toggleable\"><input class=\"sk-toggleable__control sk-hidden--visually\" id=\"sk-estimator-id-25\" type=\"checkbox\" ><label for=\"sk-estimator-id-25\" class=\"sk-toggleable__label sk-toggleable__label-arrow\">StandardScaler</label><div class=\"sk-toggleable__content\"><pre>StandardScaler()</pre></div></div></div></div></div></div><div class=\"sk-parallel-item\"><div class=\"sk-item\"><div class=\"sk-label-container\"><div class=\"sk-label sk-toggleable\"><input class=\"sk-toggleable__control sk-hidden--visually\" id=\"sk-estimator-id-26\" type=\"checkbox\" ><label for=\"sk-estimator-id-26\" class=\"sk-toggleable__label sk-toggleable__label-arrow\">cat</label><div class=\"sk-toggleable__content\"><pre>[&#x27;cbsa_code&#x27;, &#x27;class&#x27;]</pre></div></div></div><div class=\"sk-serial\"><div class=\"sk-item\"><div class=\"sk-estimator sk-toggleable\"><input class=\"sk-toggleable__control sk-hidden--visually\" id=\"sk-estimator-id-27\" type=\"checkbox\" ><label for=\"sk-estimator-id-27\" class=\"sk-toggleable__label sk-toggleable__label-arrow\">OneHotEncoder</label><div class=\"sk-toggleable__content\"><pre>OneHotEncoder(handle_unknown=&#x27;ignore&#x27;)</pre></div></div></div></div></div></div></div></div><div class=\"sk-item\"><div class=\"sk-estimator sk-toggleable\"><input class=\"sk-toggleable__control sk-hidden--visually\" id=\"sk-estimator-id-28\" type=\"checkbox\" ><label for=\"sk-estimator-id-28\" class=\"sk-toggleable__label sk-toggleable__label-arrow\">GradientBoostingRegressor</label><div class=\"sk-toggleable__content\"><pre>GradientBoostingRegressor(n_estimators=200, random_state=42)</pre></div></div></div></div></div></div></div>"
      ],
      "text/plain": [
       "Pipeline(steps=[('preprocessor',\n",
       "                 ColumnTransformer(transformers=[('num', StandardScaler(),\n",
       "                                                  ['averageSquareFootage',\n",
       "                                                   'stories', 'yearsold',\n",
       "                                                   'MPF-OCC', 'unitcount',\n",
       "                                                   'uses_realpage',\n",
       "                                                   'market_share']),\n",
       "                                                 ('cat',\n",
       "                                                  OneHotEncoder(handle_unknown='ignore'),\n",
       "                                                  ['cbsa_code', 'class'])])),\n",
       "                ('regressor',\n",
       "                 GradientBoostingRegressor(n_estimators=200, random_state=42))])"
      ]
     },
     "execution_count": 50,
     "metadata": {},
     "output_type": "execute_result"
    }
   ],
   "source": [
    "gbr_pipeline = Pipeline(steps=[\n",
    "    ('preprocessor', preprocessor_rent_reg_2),\n",
    "    ('regressor', GradientBoostingRegressor(n_estimators=200, learning_rate=0.1, random_state=42))\n",
    "])\n",
    "gbr_pipeline.fit(X_rent_train_reg_2, y_rent_train_reg_2)"
   ]
  },
  {
   "cell_type": "code",
   "execution_count": 51,
   "metadata": {},
   "outputs": [
    {
     "name": "stdout",
     "output_type": "stream",
     "text": [
      "Gradient Boosting Model Mean Squared Error: 0.06\n",
      "Gradient Boosting Model R² Score: 0.89\n"
     ]
    }
   ],
   "source": [
    "y_pred_gbr = gbr_pipeline.predict(X_rent_test_reg_2)\n",
    "mse = mean_squared_error(y_rent_test_reg_2, y_pred_gbr)\n",
    "r2 = r2_score(y_rent_test_reg_2, y_pred_gbr)\n",
    "print(f\"Gradient Boosting Model Mean Squared Error: {mse:.2f}\")\n",
    "print(f\"Gradient Boosting Model R² Score: {r2:.2f}\")"
   ]
  },
  {
   "cell_type": "code",
   "execution_count": 52,
   "metadata": {},
   "outputs": [
    {
     "name": "stdout",
     "output_type": "stream",
     "text": [
      "Cross-validated MSE: 0.35968392285172135\n"
     ]
    }
   ],
   "source": [
    "cv_scores = cross_val_score(gbr_pipeline, X_rent_reg_2, y_rent_reg_2, cv=5, scoring='neg_mean_squared_error')\n",
    "print(\"Cross-validated MSE:\", -np.mean(cv_scores))"
   ]
  },
  {
   "cell_type": "code",
   "execution_count": 53,
   "metadata": {},
   "outputs": [
    {
     "data": {
      "image/png": "[encoded data removed]",
      "text/plain": [
       "<Figure size 800x500 with 1 Axes>"
      ]
     },
     "metadata": {},
     "output_type": "display_data"
    }
   ],
   "source": [
    "plt.figure(figsize=(8,5))\n",
    "plt.scatter(y_rent_test_reg_2, y_pred_gbr, alpha=0.6)\n",
    "plt.xlabel('Actual MPF-RPSF')\n",
    "plt.ylabel('Predicted MPF-RPSF')\n",
    "plt.title('Gradient Boosting: Actual vs. Predicted MPF-RPSF')\n",
    "plt.plot([y_rent_test_reg_2.min(), y_rent_test_reg_2.max()], [y_rent_test_reg_2.min(), y_rent_test_reg_2.max()], color='red', linestyle='--')\n",
    "plt.show()"
   ]
  },
  {
   "cell_type": "markdown",
   "metadata": {},
   "source": [
    "***Feedforward Neural Network***"
   ]
  },
  {
   "cell_type": "code",
   "execution_count": 54,
   "metadata": {},
   "outputs": [],
   "source": [
    "#change preprocessor to make the onehotencoding sparse because neural networks needs sparse values for columns thatr are encoded\n",
    "preprocessor_rent_nn = ColumnTransformer(\n",
    "    transformers=[\n",
    "        ('num', StandardScaler(), numeric_features_rent_reg_2),\n",
    "        ('cat', OneHotEncoder(handle_unknown='ignore',sparse=False), categorical_features_rent_reg_2)\n",
    "    ]\n",
    ")"
   ]
  },
  {
   "cell_type": "code",
   "execution_count": 55,
   "metadata": {},
   "outputs": [
    {
     "name": "stderr",
     "output_type": "stream",
     "text": [
      "c:\\Users\\ahmad\\anaconda3\\envs\\tf_env\\lib\\site-packages\\sklearn\\preprocessing\\_encoders.py:975: FutureWarning: `sparse` was renamed to `sparse_output` in version 1.2 and will be removed in 1.4. `sparse_output` is ignored unless you leave `sparse` to its default value.\n",
      "  warnings.warn(\n"
     ]
    }
   ],
   "source": [
    "X_train_nn_transformed = preprocessor_rent_nn.fit_transform(X_rent_train_reg_2)\n",
    "X_test_nn_transformed = preprocessor_rent_nn.transform(X_rent_test_reg_2)"
   ]
  },
  {
   "cell_type": "code",
   "execution_count": 56,
   "metadata": {},
   "outputs": [],
   "source": [
    "#developing FFNN architecture\n",
    "input_dim = X_train_nn_transformed.shape[1]\n",
    "model_nn = Sequential()\n",
    "model_nn.add(Dense(64, activation='relu', input_dim=input_dim))\n",
    "model_nn.add(Dense(32, activation='relu'))\n",
    "model_nn.add(Dense(16, activation='relu'))\n",
    "model_nn.add(Dense(1))"
   ]
  },
  {
   "cell_type": "code",
   "execution_count": 74,
   "metadata": {},
   "outputs": [
    {
     "name": "stdout",
     "output_type": "stream",
     "text": [
      "Model: \"sequential\"\n",
      "_________________________________________________________________\n",
      " Layer (type)                Output Shape              Param #   \n",
      "=================================================================\n",
      " dense (Dense)               (None, 64)                12032     \n",
      "                                                                 \n",
      " dense_1 (Dense)             (None, 32)                2080      \n",
      "                                                                 \n",
      " dense_2 (Dense)             (None, 16)                528       \n",
      "                                                                 \n",
      " dense_3 (Dense)             (None, 1)                 17        \n",
      "                                                                 \n",
      "=================================================================\n",
      "Total params: 14657 (57.25 KB)\n",
      "Trainable params: 14657 (57.25 KB)\n",
      "Non-trainable params: 0 (0.00 Byte)\n",
      "_________________________________________________________________\n"
     ]
    }
   ],
   "source": [
    "model_nn.summary()"
   ]
  },
  {
   "cell_type": "code",
   "execution_count": 66,
   "metadata": {},
   "outputs": [],
   "source": [
    "model_nn.compile(optimizer='adam', loss='mean_squared_error', metrics=['mean_squared_error'])"
   ]
  },
  {
   "cell_type": "code",
   "execution_count": 67,
   "metadata": {},
   "outputs": [],
   "source": [
    "early_stop = EarlyStopping(monitor='val_loss', patience=10, restore_best_weights=True)"
   ]
  },
  {
   "cell_type": "code",
   "execution_count": 68,
   "metadata": {},
   "outputs": [
    {
     "name": "stdout",
     "output_type": "stream",
     "text": [
      "Epoch 1/10\n",
      "665/665 [==============================] - 1s 983us/step - loss: 0.2634 - mean_squared_error: 0.2634 - val_loss: 0.0528 - val_mean_squared_error: 0.0528\n",
      "Epoch 2/10\n",
      "665/665 [==============================] - 1s 819us/step - loss: 0.0492 - mean_squared_error: 0.0492 - val_loss: 0.0391 - val_mean_squared_error: 0.0391\n",
      "Epoch 3/10\n",
      "665/665 [==============================] - 1s 833us/step - loss: 0.0417 - mean_squared_error: 0.0417 - val_loss: 0.0406 - val_mean_squared_error: 0.0406\n",
      "Epoch 4/10\n",
      "665/665 [==============================] - 1s 819us/step - loss: 0.0391 - mean_squared_error: 0.0391 - val_loss: 0.0376 - val_mean_squared_error: 0.0376\n",
      "Epoch 5/10\n",
      "665/665 [==============================] - 1s 801us/step - loss: 0.0379 - mean_squared_error: 0.0379 - val_loss: 0.0368 - val_mean_squared_error: 0.0368\n",
      "Epoch 6/10\n",
      "665/665 [==============================] - 1s 813us/step - loss: 0.0364 - mean_squared_error: 0.0364 - val_loss: 0.0379 - val_mean_squared_error: 0.0379\n",
      "Epoch 7/10\n",
      "665/665 [==============================] - 1s 800us/step - loss: 0.0351 - mean_squared_error: 0.0351 - val_loss: 0.0371 - val_mean_squared_error: 0.0371\n",
      "Epoch 8/10\n",
      "665/665 [==============================] - 1s 817us/step - loss: 0.0344 - mean_squared_error: 0.0344 - val_loss: 0.0366 - val_mean_squared_error: 0.0366\n",
      "Epoch 9/10\n",
      "665/665 [==============================] - 1s 806us/step - loss: 0.0333 - mean_squared_error: 0.0333 - val_loss: 0.0356 - val_mean_squared_error: 0.0356\n",
      "Epoch 10/10\n",
      "665/665 [==============================] - 1s 814us/step - loss: 0.0334 - mean_squared_error: 0.0334 - val_loss: 0.0354 - val_mean_squared_error: 0.0354\n"
     ]
    }
   ],
   "source": [
    "history_nn = model_nn.fit(\n",
    "    X_train_nn_transformed, y_rent_train_reg_2,\n",
    "    validation_split=0.2,\n",
    "    epochs=10,\n",
    "    batch_size=32,\n",
    "    callbacks=[early_stop],\n",
    "    verbose=1\n",
    ")"
   ]
  },
  {
   "cell_type": "code",
   "execution_count": 69,
   "metadata": {},
   "outputs": [
    {
     "name": "stdout",
     "output_type": "stream",
     "text": [
      "208/208 [==============================] - 0s 606us/step - loss: 0.0349 - mean_squared_error: 0.0349\n",
      "Neural Network Test MSE: 0.03\n"
     ]
    }
   ],
   "source": [
    "test_loss, test_mse = model_nn.evaluate(X_test_nn_transformed, y_rent_test_reg_2)\n",
    "print(f\"Neural Network Test MSE: {test_mse:.2f}\")"
   ]
  },
  {
   "cell_type": "code",
   "execution_count": 70,
   "metadata": {},
   "outputs": [
    {
     "name": "stdout",
     "output_type": "stream",
     "text": [
      "208/208 [==============================] - 0s 515us/step\n"
     ]
    }
   ],
   "source": [
    "y_pred_nn = model_nn.predict(X_test_nn_transformed).flatten()\n",
    "nn_mse = mean_squared_error(y_rent_test_reg_2, y_pred_nn)\n",
    "nn_r2 = r2_score(y_rent_test_reg_2, y_pred_nn)\n"
   ]
  },
  {
   "cell_type": "code",
   "execution_count": 71,
   "metadata": {},
   "outputs": [
    {
     "name": "stdout",
     "output_type": "stream",
     "text": [
      "FFNN MSE: 0.03491363778280157\n",
      "FFNN R-squared: 0.9321020479792688\n"
     ]
    }
   ],
   "source": [
    "print(f'FFNN MSE: {nn_mse}')\n",
    "print(f'FFNN R-squared: {nn_r2}')"
   ]
  },
  {
   "cell_type": "code",
   "execution_count": 72,
   "metadata": {},
   "outputs": [
    {
     "data": {
      "image/png": "[encoded data removed]",
      "text/plain": [
       "<Figure size 800x500 with 1 Axes>"
      ]
     },
     "metadata": {},
     "output_type": "display_data"
    }
   ],
   "source": [
    "plt.figure(figsize=(8,5))\n",
    "plt.plot(history_nn.history['loss'], label='Train Loss')\n",
    "plt.plot(history_nn.history['val_loss'], label='Validation Loss')\n",
    "plt.xlabel('Epoch')\n",
    "plt.ylabel('Mean Squared Error')\n",
    "plt.title('Neural Network Training & Validation Loss')\n",
    "plt.legend()\n",
    "plt.show()"
   ]
  },
  {
   "cell_type": "markdown",
   "metadata": {},
   "source": [
    "# Model Results\n",
    "\n",
    "| **Model**              | **Mean Squared Error (MSE)** | **R² Score** | **Cross-Validated MSE** | **Model Used**  |\n",
    "|------------------------|------------------------------|--------------|-------------------------|-----------------|\n",
    "| **Model 3 (Baseline RF)**  | 0.04040                         | 0.9214         | Random Forest baseline using features including *market_share*                                                                                         |  Random Forest Regressor |\n",
    "| **Gradient Boosting**  | 0.06                         | 0.89         | Ensemble method that captures non-linear relationships. Feature importance shows *market_share* as influential.                                          |  Gradient Boosting Regressor |\n",
    "| **Neural Network**     | 0.03836                         |  0.9254        | Feed-forward NN with 3 hidden layers (64, 32, 16 neurons). Uses ReLU activations and early stopping; learns complex interactions with *market_share*. | Feed-forward Neural Network (Architecure shown above) |\n"
   ]
  },
  {
   "cell_type": "markdown",
   "metadata": {},
   "source": [
    "# Simulation of Predicted Prices Based on Varying Inputs\n",
    "\n",
    "In this section, we perform simulations to illustrate how the predicted price per square foot (MPF-RPSF) changes as key input features vary. We focus on two cases:\n",
    "\n",
    "1. **Regressor Model 1 (AKA Model 2) – Varying the `uses_realpage` Flag:**  \n",
    "   We generate simulated data points for a representative property by holding most features constant while switching the `uses_realpage` flag between 0 and 1. This will help us see the effect of being a RealPage user on the predicted price.\n",
    "\n",
    "2. **Regressor Model 2 (AKA Model 3) – Varying Market Share and `uses_realpage`:**  \n",
    "   For the second model, we simulate how the predicted MPF-RPSF changes as RealPage’s market share in the CBSA changes. We generate two sets of simulated properties (one for non-RealPage users and one for RealPage users) while varying the `market_share` feature over a range of values. The resulting plots will show the relationship between market share and predicted price for both groups.\n",
    "\n",
    "These simulations not only serve to validate the models but also provide clear visual insights that can be presented in our paper and on our website."
   ]
  },
  {
   "cell_type": "code",
   "execution_count": 214,
   "metadata": {},
   "outputs": [],
   "source": [
    "# develop simulated data to use for experiment\n",
    "baseline_avg_sqft = df['averageSquareFootage'].median()\n",
    "baseline_stories = df['stories'].median()\n",
    "baseline_cbsa = df['cbsa_code'].mode()[0]\n",
    "baseline_class = df['class'].mode()[0]\n",
    "baseline_yearsold = df['yearsold'].median()\n",
    "baseline_MPF_OCC = df['MPF-OCC'].median()\n",
    "baseline_unitcount = df['unitcount'].median()\n",
    "\n",
    "baseline_model1 = {\n",
    "    'averageSquareFootage': baseline_avg_sqft,\n",
    "    'stories': baseline_stories,\n",
    "    'cbsa_code': baseline_cbsa,\n",
    "    'class': baseline_class,\n",
    "    'yearsold': baseline_yearsold,\n",
    "    'MPF-OCC': baseline_MPF_OCC,\n",
    "    'unitcount': baseline_unitcount,\n",
    "}"
   ]
  },
  {
   "cell_type": "code",
   "execution_count": 215,
   "metadata": {},
   "outputs": [],
   "source": [
    "sim_data_model1 = pd.DataFrame([\n",
    "    {**baseline_model1, 'uses_realpage': 0},\n",
    "    {**baseline_model1, 'uses_realpage': 1}\n",
    "])"
   ]
  },
  {
   "cell_type": "code",
   "execution_count": 216,
   "metadata": {},
   "outputs": [],
   "source": [
    "preds_model1 = reg_pipeline.predict(sim_data_model1)\n",
    "sim_data_model1['Predicted_RPSF'] = preds_model1"
   ]
  },
  {
   "cell_type": "code",
   "execution_count": 217,
   "metadata": {},
   "outputs": [
    {
     "name": "stdout",
     "output_type": "stream",
     "text": [
      "Model 1 Simulation Data:\n",
      "   averageSquareFootage  stories  cbsa_code class  yearsold  MPF-OCC  \\\n",
      "0                 902.0      3.0      26420     B      31.0    0.955   \n",
      "1                 902.0      3.0      26420     B      31.0    0.955   \n",
      "\n",
      "   unitcount  uses_realpage  Predicted_RPSF  \n",
      "0      204.0              0         1.48282  \n",
      "1      204.0              1         1.50443  \n"
     ]
    }
   ],
   "source": [
    "print(\"Model 1 Simulation Data:\")\n",
    "print(sim_data_model1)"
   ]
  },
  {
   "cell_type": "code",
   "execution_count": 220,
   "metadata": {},
   "outputs": [
    {
     "data": {
      "image/png": "[encoded data removed]",
      "text/plain": [
       "<Figure size 600x400 with 1 Axes>"
      ]
     },
     "metadata": {},
     "output_type": "display_data"
    }
   ],
   "source": [
    "plt.figure(figsize=(6,4))\n",
    "bars = plt.bar(['Non-RealPage User', 'RealPage User'], preds_model1, color=['skyblue', 'salmon'])\n",
    "\n",
    "plt.ylabel('Predicted Rent per Sq Ft (MPF-RPSF)')\n",
    "plt.title('Model 1: Effect of uses_realpage on Predicted Price')\n",
    "\n",
    "# Add data labels above each bar\n",
    "for bar in bars:\n",
    "    height = bar.get_height()\n",
    "    plt.text(bar.get_x() + bar.get_width()/2, height, f'{height:.2f}', ha='center', va='bottom')\n",
    "\n",
    "ax = plt.gca()\n",
    "# Remove y-axis ticks\n",
    "ax.set_yticks([])\n",
    "\n",
    "# Remove top and right borders\n",
    "ax.spines['top'].set_visible(False)\n",
    "ax.spines['right'].set_visible(False)\n",
    "ax.spines['left'].set_visible(False)\n",
    "\n",
    "plt.show()"
   ]
  },
  {
   "cell_type": "code",
   "execution_count": 228,
   "metadata": {},
   "outputs": [],
   "source": [
    "baseline_avg_sqft_2 = model3_df['averageSquareFootage'].median()\n",
    "baseline_stories_2 = model3_df['stories'].median()\n",
    "baseline_cbsa_2 = model3_df['cbsa_code'].mode()[0]\n",
    "baseline_class_2 = model3_df['class'].mode()[0]\n",
    "baseline_yearsold_2 = model3_df['yearsold'].median()\n",
    "baseline_MPF_OCC_2 = model3_df['MPF-OCC'].median()\n",
    "baseline_unitcount_2 = model3_df['unitcount'].median()\n",
    "market_share_min = model3_df['market_share'].min()\n",
    "market_share_max = model3_df['market_share'].max()"
   ]
  },
  {
   "cell_type": "code",
   "execution_count": 229,
   "metadata": {},
   "outputs": [],
   "source": [
    "baseline_model2 = {\n",
    "    'averageSquareFootage': baseline_avg_sqft_2,\n",
    "    'stories': baseline_stories_2,\n",
    "    'cbsa_code': baseline_cbsa_2,\n",
    "    'class': baseline_class_2,\n",
    "    'yearsold': baseline_yearsold_2,\n",
    "    'MPF-OCC': baseline_MPF_OCC_2,\n",
    "    'unitcount': baseline_unitcount_2,\n",
    "}"
   ]
  },
  {
   "cell_type": "code",
   "execution_count": 230,
   "metadata": {},
   "outputs": [],
   "source": [
    "market_shares = np.linspace(market_share_min, market_share_max, 10)"
   ]
  },
  {
   "cell_type": "code",
   "execution_count": 231,
   "metadata": {},
   "outputs": [],
   "source": [
    "sim_rows = []\n",
    "for uses in [0, 1]:\n",
    "    for ms in market_shares:\n",
    "        sim_row = {**baseline_model2, 'uses_realpage': uses, 'market_share': ms}\n",
    "        sim_rows.append(sim_row)"
   ]
  },
  {
   "cell_type": "code",
   "execution_count": 232,
   "metadata": {},
   "outputs": [],
   "source": [
    "sim_data_model2 = pd.DataFrame(sim_rows)"
   ]
  },
  {
   "cell_type": "code",
   "execution_count": 233,
   "metadata": {},
   "outputs": [],
   "source": [
    "preds_model2 = reg_pipeline_reg_2.predict(sim_data_model2)\n",
    "sim_data_model2['Predicted_RPSF'] = preds_model2"
   ]
  },
  {
   "cell_type": "code",
   "execution_count": 234,
   "metadata": {},
   "outputs": [],
   "source": [
    "sim_non_realpage = sim_data_model2[sim_data_model2['uses_realpage'] == 0]\n",
    "sim_realpage = sim_data_model2[sim_data_model2['uses_realpage'] == 1]"
   ]
  },
  {
   "cell_type": "code",
   "execution_count": 73,
   "metadata": {},
   "outputs": [
    {
     "ename": "NameError",
     "evalue": "name 'sim_non_realpage' is not defined",
     "output_type": "error",
     "traceback": [
      "\u001b[1;31m---------------------------------------------------------------------------\u001b[0m",
      "\u001b[1;31mNameError\u001b[0m                                 Traceback (most recent call last)",
      "Cell \u001b[1;32mIn[73], line 2\u001b[0m\n\u001b[0;32m      1\u001b[0m plt\u001b[38;5;241m.\u001b[39mfigure(figsize\u001b[38;5;241m=\u001b[39m(\u001b[38;5;241m8\u001b[39m,\u001b[38;5;241m5\u001b[39m))\n\u001b[1;32m----> 2\u001b[0m plt\u001b[38;5;241m.\u001b[39mplot(\u001b[43msim_non_realpage\u001b[49m[\u001b[38;5;124m'\u001b[39m\u001b[38;5;124mmarket_share\u001b[39m\u001b[38;5;124m'\u001b[39m], sim_non_realpage[\u001b[38;5;124m'\u001b[39m\u001b[38;5;124mPredicted_RPSF\u001b[39m\u001b[38;5;124m'\u001b[39m], marker\u001b[38;5;241m=\u001b[39m\u001b[38;5;124m'\u001b[39m\u001b[38;5;124mo\u001b[39m\u001b[38;5;124m'\u001b[39m, label\u001b[38;5;241m=\u001b[39m\u001b[38;5;124m'\u001b[39m\u001b[38;5;124mNon-RealPage User\u001b[39m\u001b[38;5;124m'\u001b[39m, color\u001b[38;5;241m=\u001b[39m\u001b[38;5;124m'\u001b[39m\u001b[38;5;124mskyblue\u001b[39m\u001b[38;5;124m'\u001b[39m)\n\u001b[0;32m      3\u001b[0m plt\u001b[38;5;241m.\u001b[39mplot(sim_realpage[\u001b[38;5;124m'\u001b[39m\u001b[38;5;124mmarket_share\u001b[39m\u001b[38;5;124m'\u001b[39m], sim_realpage[\u001b[38;5;124m'\u001b[39m\u001b[38;5;124mPredicted_RPSF\u001b[39m\u001b[38;5;124m'\u001b[39m], marker\u001b[38;5;241m=\u001b[39m\u001b[38;5;124m'\u001b[39m\u001b[38;5;124mo\u001b[39m\u001b[38;5;124m'\u001b[39m, label\u001b[38;5;241m=\u001b[39m\u001b[38;5;124m'\u001b[39m\u001b[38;5;124mRealPage User\u001b[39m\u001b[38;5;124m'\u001b[39m, color\u001b[38;5;241m=\u001b[39m\u001b[38;5;124m'\u001b[39m\u001b[38;5;124msalmon\u001b[39m\u001b[38;5;124m'\u001b[39m)\n\u001b[0;32m      4\u001b[0m plt\u001b[38;5;241m.\u001b[39mxlabel(\u001b[38;5;124m'\u001b[39m\u001b[38;5;124mRealPage Market Share in CBSA\u001b[39m\u001b[38;5;124m'\u001b[39m)\n",
      "\u001b[1;31mNameError\u001b[0m: name 'sim_non_realpage' is not defined"
     ]
    },
    {
     "data": {
      "text/plain": [
       "<Figure size 800x500 with 0 Axes>"
      ]
     },
     "metadata": {},
     "output_type": "display_data"
    }
   ],
   "source": [
    "plt.figure(figsize=(8,5))\n",
    "plt.plot(sim_non_realpage['market_share'], sim_non_realpage['Predicted_RPSF'], marker='o', label='Non-RealPage User', color='skyblue')\n",
    "plt.plot(sim_realpage['market_share'], sim_realpage['Predicted_RPSF'], marker='o', label='RealPage User', color='salmon')\n",
    "plt.xlabel('RealPage Market Share in CBSA')\n",
    "plt.ylabel('Predicted Rent per Sq Ft (MPF-RPSF)')\n",
    "plt.title('Model 2: Effect of Market Share and uses_realpage on Predicted Price')\n",
    "plt.legend()\n",
    "plt.grid(True)\n",
    "plt.show()"
   ]
  },
  {
   "cell_type": "markdown",
   "metadata": {},
   "source": [
    "# Simulating distributions of RSPF for Realpage users vs Nonrealpage users\n",
    "\n",
    "In this section, we perform simulations to illustrate how the distributions of predicted rent per square foot (RSPF) differs between realpage and nonrealpage users using the FFNN model:\n",
    "\n",
    "- **Variation in RSPF with `uses_realpage` Flag:**  \n",
    "   We generate simulated data points for a representative property by holding most features constant while switching the `uses_realpage` flag between 0 and 1. This will help us see the effect of being a RealPage user on the predicted price.\n",
    "\n",
    "1. **Varying `market_share` and `uses_realpage`:**  \n",
    "   The second simulation will show how the predicted MPF-RPSF changes as RealPage’s market share in the CBSA changes. We generate two sets of simulated properties (one for non-RealPage users and one for RealPage users) while varying the `market_share` feature over a range of values. The resulting plots will show the relationship between market share and predicted price for both groups.\n",
    "\n",
    "Our goal will be to show that the distributions of the predictions will differ greatly as the variable of uses_realpage changes."
   ]
  },
  {
   "cell_type": "code",
   "execution_count": 76,
   "metadata": {},
   "outputs": [],
   "source": [
    "sim_data = pd.read_csv('simulated_50_properties.csv')"
   ]
  },
  {
   "cell_type": "code",
   "execution_count": 78,
   "metadata": {},
   "outputs": [],
   "source": [
    "sim_data_realpage = sim_data.copy()\n",
    "sim_data_nonrealpage = sim_data.copy()"
   ]
  },
  {
   "cell_type": "code",
   "execution_count": 79,
   "metadata": {},
   "outputs": [],
   "source": [
    "sim_data_realpage['uses_realpage'] = 1\n",
    "sim_data_nonrealpage['uses_realpage'] = 0"
   ]
  },
  {
   "cell_type": "code",
   "execution_count": 80,
   "metadata": {},
   "outputs": [
    {
     "data": {
      "text/html": [
       "<div>\n",
       "<style scoped>\n",
       "    .dataframe tbody tr th:only-of-type {\n",
       "        vertical-align: middle;\n",
       "    }\n",
       "\n",
       "    .dataframe tbody tr th {\n",
       "        vertical-align: top;\n",
       "    }\n",
       "\n",
       "    .dataframe thead th {\n",
       "        text-align: right;\n",
       "    }\n",
       "</style>\n",
       "<table border=\"1\" class=\"dataframe\">\n",
       "  <thead>\n",
       "    <tr style=\"text-align: right;\">\n",
       "      <th></th>\n",
       "      <th>averageSquareFootage</th>\n",
       "      <th>stories</th>\n",
       "      <th>cbsa_code</th>\n",
       "      <th>class</th>\n",
       "      <th>yearsold</th>\n",
       "      <th>MPF-OCC</th>\n",
       "      <th>unitcount</th>\n",
       "      <th>uses_realpage</th>\n",
       "      <th>market_share</th>\n",
       "    </tr>\n",
       "  </thead>\n",
       "  <tbody>\n",
       "    <tr>\n",
       "      <th>0</th>\n",
       "      <td>1010.0</td>\n",
       "      <td>5.0</td>\n",
       "      <td>48060</td>\n",
       "      <td>B</td>\n",
       "      <td>1.0</td>\n",
       "      <td>0.96</td>\n",
       "      <td>274.0</td>\n",
       "      <td>1</td>\n",
       "      <td>0.03</td>\n",
       "    </tr>\n",
       "    <tr>\n",
       "      <th>1</th>\n",
       "      <td>882.0</td>\n",
       "      <td>2.2</td>\n",
       "      <td>41060</td>\n",
       "      <td>B</td>\n",
       "      <td>22.0</td>\n",
       "      <td>0.96</td>\n",
       "      <td>304.0</td>\n",
       "      <td>1</td>\n",
       "      <td>0.21</td>\n",
       "    </tr>\n",
       "    <tr>\n",
       "      <th>2</th>\n",
       "      <td>1040.0</td>\n",
       "      <td>1.0</td>\n",
       "      <td>15980</td>\n",
       "      <td>A</td>\n",
       "      <td>24.0</td>\n",
       "      <td>0.92</td>\n",
       "      <td>379.0</td>\n",
       "      <td>1</td>\n",
       "      <td>0.31</td>\n",
       "    </tr>\n",
       "    <tr>\n",
       "      <th>3</th>\n",
       "      <td>1217.0</td>\n",
       "      <td>6.2</td>\n",
       "      <td>38060</td>\n",
       "      <td>B</td>\n",
       "      <td>14.0</td>\n",
       "      <td>0.96</td>\n",
       "      <td>375.0</td>\n",
       "      <td>1</td>\n",
       "      <td>0.22</td>\n",
       "    </tr>\n",
       "    <tr>\n",
       "      <th>4</th>\n",
       "      <td>863.0</td>\n",
       "      <td>7.9</td>\n",
       "      <td>11260</td>\n",
       "      <td>C</td>\n",
       "      <td>28.0</td>\n",
       "      <td>0.96</td>\n",
       "      <td>22.0</td>\n",
       "      <td>1</td>\n",
       "      <td>0.01</td>\n",
       "    </tr>\n",
       "    <tr>\n",
       "      <th>5</th>\n",
       "      <td>863.0</td>\n",
       "      <td>7.5</td>\n",
       "      <td>16700</td>\n",
       "      <td>B</td>\n",
       "      <td>40.0</td>\n",
       "      <td>0.92</td>\n",
       "      <td>86.0</td>\n",
       "      <td>1</td>\n",
       "      <td>0.09</td>\n",
       "    </tr>\n",
       "    <tr>\n",
       "      <th>6</th>\n",
       "      <td>1228.0</td>\n",
       "      <td>0.3</td>\n",
       "      <td>46520</td>\n",
       "      <td>A</td>\n",
       "      <td>72.0</td>\n",
       "      <td>1.00</td>\n",
       "      <td>297.0</td>\n",
       "      <td>1</td>\n",
       "      <td>0.24</td>\n",
       "    </tr>\n",
       "    <tr>\n",
       "      <th>7</th>\n",
       "      <td>1065.0</td>\n",
       "      <td>2.5</td>\n",
       "      <td>47260</td>\n",
       "      <td>B</td>\n",
       "      <td>35.0</td>\n",
       "      <td>0.97</td>\n",
       "      <td>297.0</td>\n",
       "      <td>1</td>\n",
       "      <td>0.07</td>\n",
       "    </tr>\n",
       "    <tr>\n",
       "      <th>8</th>\n",
       "      <td>816.0</td>\n",
       "      <td>5.0</td>\n",
       "      <td>29020</td>\n",
       "      <td>A</td>\n",
       "      <td>37.0</td>\n",
       "      <td>0.90</td>\n",
       "      <td>297.0</td>\n",
       "      <td>1</td>\n",
       "      <td>0.17</td>\n",
       "    </tr>\n",
       "    <tr>\n",
       "      <th>9</th>\n",
       "      <td>1019.0</td>\n",
       "      <td>7.6</td>\n",
       "      <td>40900</td>\n",
       "      <td>A</td>\n",
       "      <td>30.0</td>\n",
       "      <td>0.97</td>\n",
       "      <td>781.0</td>\n",
       "      <td>1</td>\n",
       "      <td>0.20</td>\n",
       "    </tr>\n",
       "    <tr>\n",
       "      <th>10</th>\n",
       "      <td>817.0</td>\n",
       "      <td>1.8</td>\n",
       "      <td>35300</td>\n",
       "      <td>B</td>\n",
       "      <td>0.0</td>\n",
       "      <td>0.91</td>\n",
       "      <td>305.0</td>\n",
       "      <td>1</td>\n",
       "      <td>0.05</td>\n",
       "    </tr>\n",
       "    <tr>\n",
       "      <th>11</th>\n",
       "      <td>816.0</td>\n",
       "      <td>3.0</td>\n",
       "      <td>24540</td>\n",
       "      <td>C</td>\n",
       "      <td>31.0</td>\n",
       "      <td>0.98</td>\n",
       "      <td>387.0</td>\n",
       "      <td>1</td>\n",
       "      <td>0.13</td>\n",
       "    </tr>\n",
       "    <tr>\n",
       "      <th>12</th>\n",
       "      <td>959.0</td>\n",
       "      <td>0.0</td>\n",
       "      <td>29340</td>\n",
       "      <td>A</td>\n",
       "      <td>33.0</td>\n",
       "      <td>1.00</td>\n",
       "      <td>361.0</td>\n",
       "      <td>1</td>\n",
       "      <td>0.00</td>\n",
       "    </tr>\n",
       "    <tr>\n",
       "      <th>13</th>\n",
       "      <td>525.0</td>\n",
       "      <td>0.0</td>\n",
       "      <td>41940</td>\n",
       "      <td>B</td>\n",
       "      <td>84.0</td>\n",
       "      <td>0.91</td>\n",
       "      <td>317.0</td>\n",
       "      <td>1</td>\n",
       "      <td>0.05</td>\n",
       "    </tr>\n",
       "    <tr>\n",
       "      <th>14</th>\n",
       "      <td>563.0</td>\n",
       "      <td>7.0</td>\n",
       "      <td>25940</td>\n",
       "      <td>B</td>\n",
       "      <td>27.0</td>\n",
       "      <td>0.99</td>\n",
       "      <td>177.0</td>\n",
       "      <td>1</td>\n",
       "      <td>0.11</td>\n",
       "    </tr>\n",
       "    <tr>\n",
       "      <th>15</th>\n",
       "      <td>797.0</td>\n",
       "      <td>9.2</td>\n",
       "      <td>19340</td>\n",
       "      <td>C</td>\n",
       "      <td>38.0</td>\n",
       "      <td>0.96</td>\n",
       "      <td>332.0</td>\n",
       "      <td>1</td>\n",
       "      <td>0.03</td>\n",
       "    </tr>\n",
       "    <tr>\n",
       "      <th>16</th>\n",
       "      <td>706.0</td>\n",
       "      <td>3.4</td>\n",
       "      <td>40340</td>\n",
       "      <td>A</td>\n",
       "      <td>31.0</td>\n",
       "      <td>0.98</td>\n",
       "      <td>110.0</td>\n",
       "      <td>1</td>\n",
       "      <td>0.27</td>\n",
       "    </tr>\n",
       "    <tr>\n",
       "      <th>17</th>\n",
       "      <td>973.0</td>\n",
       "      <td>7.7</td>\n",
       "      <td>17300</td>\n",
       "      <td>A</td>\n",
       "      <td>6.0</td>\n",
       "      <td>1.00</td>\n",
       "      <td>188.0</td>\n",
       "      <td>1</td>\n",
       "      <td>0.01</td>\n",
       "    </tr>\n",
       "    <tr>\n",
       "      <th>18</th>\n",
       "      <td>727.0</td>\n",
       "      <td>5.2</td>\n",
       "      <td>25620</td>\n",
       "      <td>B</td>\n",
       "      <td>56.0</td>\n",
       "      <td>0.94</td>\n",
       "      <td>152.0</td>\n",
       "      <td>1</td>\n",
       "      <td>0.10</td>\n",
       "    </tr>\n",
       "    <tr>\n",
       "      <th>19</th>\n",
       "      <td>626.0</td>\n",
       "      <td>1.1</td>\n",
       "      <td>45220</td>\n",
       "      <td>B</td>\n",
       "      <td>47.0</td>\n",
       "      <td>0.91</td>\n",
       "      <td>234.0</td>\n",
       "      <td>1</td>\n",
       "      <td>0.14</td>\n",
       "    </tr>\n",
       "    <tr>\n",
       "      <th>20</th>\n",
       "      <td>1205.0</td>\n",
       "      <td>5.2</td>\n",
       "      <td>14020</td>\n",
       "      <td>C</td>\n",
       "      <td>48.0</td>\n",
       "      <td>0.91</td>\n",
       "      <td>558.0</td>\n",
       "      <td>1</td>\n",
       "      <td>0.25</td>\n",
       "    </tr>\n",
       "    <tr>\n",
       "      <th>21</th>\n",
       "      <td>865.0</td>\n",
       "      <td>9.9</td>\n",
       "      <td>35100</td>\n",
       "      <td>C</td>\n",
       "      <td>12.0</td>\n",
       "      <td>0.91</td>\n",
       "      <td>1.0</td>\n",
       "      <td>1</td>\n",
       "      <td>0.01</td>\n",
       "    </tr>\n",
       "    <tr>\n",
       "      <th>22</th>\n",
       "      <td>924.0</td>\n",
       "      <td>3.6</td>\n",
       "      <td>47300</td>\n",
       "      <td>A</td>\n",
       "      <td>61.0</td>\n",
       "      <td>0.94</td>\n",
       "      <td>322.0</td>\n",
       "      <td>1</td>\n",
       "      <td>0.23</td>\n",
       "    </tr>\n",
       "    <tr>\n",
       "      <th>23</th>\n",
       "      <td>623.0</td>\n",
       "      <td>10.0</td>\n",
       "      <td>29740</td>\n",
       "      <td>A</td>\n",
       "      <td>1.0</td>\n",
       "      <td>0.96</td>\n",
       "      <td>1.0</td>\n",
       "      <td>1</td>\n",
       "      <td>0.13</td>\n",
       "    </tr>\n",
       "    <tr>\n",
       "      <th>24</th>\n",
       "      <td>801.0</td>\n",
       "      <td>0.0</td>\n",
       "      <td>29700</td>\n",
       "      <td>B</td>\n",
       "      <td>44.0</td>\n",
       "      <td>0.96</td>\n",
       "      <td>154.0</td>\n",
       "      <td>1</td>\n",
       "      <td>0.05</td>\n",
       "    </tr>\n",
       "    <tr>\n",
       "      <th>25</th>\n",
       "      <td>932.0</td>\n",
       "      <td>7.0</td>\n",
       "      <td>14020</td>\n",
       "      <td>A</td>\n",
       "      <td>78.0</td>\n",
       "      <td>0.98</td>\n",
       "      <td>380.0</td>\n",
       "      <td>1</td>\n",
       "      <td>0.17</td>\n",
       "    </tr>\n",
       "    <tr>\n",
       "      <th>26</th>\n",
       "      <td>679.0</td>\n",
       "      <td>4.1</td>\n",
       "      <td>17820</td>\n",
       "      <td>C</td>\n",
       "      <td>10.0</td>\n",
       "      <td>0.95</td>\n",
       "      <td>232.0</td>\n",
       "      <td>1</td>\n",
       "      <td>0.15</td>\n",
       "    </tr>\n",
       "    <tr>\n",
       "      <th>27</th>\n",
       "      <td>986.0</td>\n",
       "      <td>2.5</td>\n",
       "      <td>39340</td>\n",
       "      <td>C</td>\n",
       "      <td>19.0</td>\n",
       "      <td>1.00</td>\n",
       "      <td>66.0</td>\n",
       "      <td>1</td>\n",
       "      <td>0.08</td>\n",
       "    </tr>\n",
       "    <tr>\n",
       "      <th>28</th>\n",
       "      <td>789.0</td>\n",
       "      <td>4.1</td>\n",
       "      <td>48780</td>\n",
       "      <td>B</td>\n",
       "      <td>33.0</td>\n",
       "      <td>0.94</td>\n",
       "      <td>119.0</td>\n",
       "      <td>1</td>\n",
       "      <td>0.14</td>\n",
       "    </tr>\n",
       "    <tr>\n",
       "      <th>29</th>\n",
       "      <td>851.0</td>\n",
       "      <td>0.0</td>\n",
       "      <td>41500</td>\n",
       "      <td>C</td>\n",
       "      <td>20.0</td>\n",
       "      <td>1.00</td>\n",
       "      <td>321.0</td>\n",
       "      <td>1</td>\n",
       "      <td>0.10</td>\n",
       "    </tr>\n",
       "    <tr>\n",
       "      <th>30</th>\n",
       "      <td>789.0</td>\n",
       "      <td>2.8</td>\n",
       "      <td>39340</td>\n",
       "      <td>C</td>\n",
       "      <td>0.0</td>\n",
       "      <td>0.97</td>\n",
       "      <td>116.0</td>\n",
       "      <td>1</td>\n",
       "      <td>0.14</td>\n",
       "    </tr>\n",
       "    <tr>\n",
       "      <th>31</th>\n",
       "      <td>1283.0</td>\n",
       "      <td>5.1</td>\n",
       "      <td>22380</td>\n",
       "      <td>C</td>\n",
       "      <td>33.0</td>\n",
       "      <td>0.91</td>\n",
       "      <td>254.0</td>\n",
       "      <td>1</td>\n",
       "      <td>0.19</td>\n",
       "    </tr>\n",
       "    <tr>\n",
       "      <th>32</th>\n",
       "      <td>907.0</td>\n",
       "      <td>9.7</td>\n",
       "      <td>42140</td>\n",
       "      <td>C</td>\n",
       "      <td>8.0</td>\n",
       "      <td>0.90</td>\n",
       "      <td>229.0</td>\n",
       "      <td>1</td>\n",
       "      <td>0.27</td>\n",
       "    </tr>\n",
       "    <tr>\n",
       "      <th>33</th>\n",
       "      <td>697.0</td>\n",
       "      <td>1.6</td>\n",
       "      <td>23420</td>\n",
       "      <td>B</td>\n",
       "      <td>41.0</td>\n",
       "      <td>0.97</td>\n",
       "      <td>128.0</td>\n",
       "      <td>1</td>\n",
       "      <td>0.03</td>\n",
       "    </tr>\n",
       "    <tr>\n",
       "      <th>34</th>\n",
       "      <td>1076.0</td>\n",
       "      <td>0.4</td>\n",
       "      <td>39420</td>\n",
       "      <td>B</td>\n",
       "      <td>12.0</td>\n",
       "      <td>0.94</td>\n",
       "      <td>533.0</td>\n",
       "      <td>1</td>\n",
       "      <td>0.31</td>\n",
       "    </tr>\n",
       "    <tr>\n",
       "      <th>35</th>\n",
       "      <td>664.0</td>\n",
       "      <td>1.7</td>\n",
       "      <td>34820</td>\n",
       "      <td>A</td>\n",
       "      <td>64.0</td>\n",
       "      <td>0.98</td>\n",
       "      <td>314.0</td>\n",
       "      <td>1</td>\n",
       "      <td>0.00</td>\n",
       "    </tr>\n",
       "    <tr>\n",
       "      <th>36</th>\n",
       "      <td>952.0</td>\n",
       "      <td>7.4</td>\n",
       "      <td>47300</td>\n",
       "      <td>C</td>\n",
       "      <td>14.0</td>\n",
       "      <td>0.97</td>\n",
       "      <td>1.0</td>\n",
       "      <td>1</td>\n",
       "      <td>0.12</td>\n",
       "    </tr>\n",
       "    <tr>\n",
       "      <th>37</th>\n",
       "      <td>516.0</td>\n",
       "      <td>5.0</td>\n",
       "      <td>10180</td>\n",
       "      <td>A</td>\n",
       "      <td>24.0</td>\n",
       "      <td>0.94</td>\n",
       "      <td>249.0</td>\n",
       "      <td>1</td>\n",
       "      <td>0.18</td>\n",
       "    </tr>\n",
       "    <tr>\n",
       "      <th>38</th>\n",
       "      <td>643.0</td>\n",
       "      <td>1.6</td>\n",
       "      <td>40140</td>\n",
       "      <td>B</td>\n",
       "      <td>49.0</td>\n",
       "      <td>0.91</td>\n",
       "      <td>126.0</td>\n",
       "      <td>1</td>\n",
       "      <td>0.16</td>\n",
       "    </tr>\n",
       "    <tr>\n",
       "      <th>39</th>\n",
       "      <td>950.0</td>\n",
       "      <td>5.8</td>\n",
       "      <td>29820</td>\n",
       "      <td>B</td>\n",
       "      <td>5.0</td>\n",
       "      <td>0.88</td>\n",
       "      <td>346.0</td>\n",
       "      <td>1</td>\n",
       "      <td>0.08</td>\n",
       "    </tr>\n",
       "    <tr>\n",
       "      <th>40</th>\n",
       "      <td>1059.0</td>\n",
       "      <td>4.1</td>\n",
       "      <td>36420</td>\n",
       "      <td>B</td>\n",
       "      <td>36.0</td>\n",
       "      <td>0.93</td>\n",
       "      <td>107.0</td>\n",
       "      <td>1</td>\n",
       "      <td>0.12</td>\n",
       "    </tr>\n",
       "    <tr>\n",
       "      <th>41</th>\n",
       "      <td>945.0</td>\n",
       "      <td>7.6</td>\n",
       "      <td>43300</td>\n",
       "      <td>B</td>\n",
       "      <td>59.0</td>\n",
       "      <td>0.98</td>\n",
       "      <td>206.0</td>\n",
       "      <td>1</td>\n",
       "      <td>0.09</td>\n",
       "    </tr>\n",
       "    <tr>\n",
       "      <th>42</th>\n",
       "      <td>887.0</td>\n",
       "      <td>0.9</td>\n",
       "      <td>22180</td>\n",
       "      <td>B</td>\n",
       "      <td>0.0</td>\n",
       "      <td>0.96</td>\n",
       "      <td>296.0</td>\n",
       "      <td>1</td>\n",
       "      <td>0.08</td>\n",
       "    </tr>\n",
       "    <tr>\n",
       "      <th>43</th>\n",
       "      <td>850.0</td>\n",
       "      <td>2.4</td>\n",
       "      <td>46060</td>\n",
       "      <td>B</td>\n",
       "      <td>35.0</td>\n",
       "      <td>0.89</td>\n",
       "      <td>348.0</td>\n",
       "      <td>1</td>\n",
       "      <td>0.20</td>\n",
       "    </tr>\n",
       "    <tr>\n",
       "      <th>44</th>\n",
       "      <td>613.0</td>\n",
       "      <td>2.1</td>\n",
       "      <td>47260</td>\n",
       "      <td>B</td>\n",
       "      <td>37.0</td>\n",
       "      <td>0.95</td>\n",
       "      <td>48.0</td>\n",
       "      <td>1</td>\n",
       "      <td>0.16</td>\n",
       "    </tr>\n",
       "    <tr>\n",
       "      <th>45</th>\n",
       "      <td>765.0</td>\n",
       "      <td>0.0</td>\n",
       "      <td>37100</td>\n",
       "      <td>C</td>\n",
       "      <td>48.0</td>\n",
       "      <td>0.96</td>\n",
       "      <td>174.0</td>\n",
       "      <td>1</td>\n",
       "      <td>0.07</td>\n",
       "    </tr>\n",
       "    <tr>\n",
       "      <th>46</th>\n",
       "      <td>817.0</td>\n",
       "      <td>4.9</td>\n",
       "      <td>40420</td>\n",
       "      <td>A</td>\n",
       "      <td>5.0</td>\n",
       "      <td>0.91</td>\n",
       "      <td>153.0</td>\n",
       "      <td>1</td>\n",
       "      <td>0.21</td>\n",
       "    </tr>\n",
       "    <tr>\n",
       "      <th>47</th>\n",
       "      <td>1123.0</td>\n",
       "      <td>4.8</td>\n",
       "      <td>22380</td>\n",
       "      <td>B</td>\n",
       "      <td>3.0</td>\n",
       "      <td>0.95</td>\n",
       "      <td>128.0</td>\n",
       "      <td>1</td>\n",
       "      <td>0.16</td>\n",
       "    </tr>\n",
       "    <tr>\n",
       "      <th>48</th>\n",
       "      <td>979.0</td>\n",
       "      <td>3.7</td>\n",
       "      <td>18880</td>\n",
       "      <td>C</td>\n",
       "      <td>42.0</td>\n",
       "      <td>0.95</td>\n",
       "      <td>478.0</td>\n",
       "      <td>1</td>\n",
       "      <td>0.20</td>\n",
       "    </tr>\n",
       "    <tr>\n",
       "      <th>49</th>\n",
       "      <td>555.0</td>\n",
       "      <td>2.8</td>\n",
       "      <td>48780</td>\n",
       "      <td>C</td>\n",
       "      <td>38.0</td>\n",
       "      <td>0.90</td>\n",
       "      <td>281.0</td>\n",
       "      <td>1</td>\n",
       "      <td>0.19</td>\n",
       "    </tr>\n",
       "  </tbody>\n",
       "</table>\n",
       "</div>"
      ],
      "text/plain": [
       "    averageSquareFootage  stories  cbsa_code class  yearsold  MPF-OCC  \\\n",
       "0                 1010.0      5.0      48060     B       1.0     0.96   \n",
       "1                  882.0      2.2      41060     B      22.0     0.96   \n",
       "2                 1040.0      1.0      15980     A      24.0     0.92   \n",
       "3                 1217.0      6.2      38060     B      14.0     0.96   \n",
       "4                  863.0      7.9      11260     C      28.0     0.96   \n",
       "5                  863.0      7.5      16700     B      40.0     0.92   \n",
       "6                 1228.0      0.3      46520     A      72.0     1.00   \n",
       "7                 1065.0      2.5      47260     B      35.0     0.97   \n",
       "8                  816.0      5.0      29020     A      37.0     0.90   \n",
       "9                 1019.0      7.6      40900     A      30.0     0.97   \n",
       "10                 817.0      1.8      35300     B       0.0     0.91   \n",
       "11                 816.0      3.0      24540     C      31.0     0.98   \n",
       "12                 959.0      0.0      29340     A      33.0     1.00   \n",
       "13                 525.0      0.0      41940     B      84.0     0.91   \n",
       "14                 563.0      7.0      25940     B      27.0     0.99   \n",
       "15                 797.0      9.2      19340     C      38.0     0.96   \n",
       "16                 706.0      3.4      40340     A      31.0     0.98   \n",
       "17                 973.0      7.7      17300     A       6.0     1.00   \n",
       "18                 727.0      5.2      25620     B      56.0     0.94   \n",
       "19                 626.0      1.1      45220     B      47.0     0.91   \n",
       "20                1205.0      5.2      14020     C      48.0     0.91   \n",
       "21                 865.0      9.9      35100     C      12.0     0.91   \n",
       "22                 924.0      3.6      47300     A      61.0     0.94   \n",
       "23                 623.0     10.0      29740     A       1.0     0.96   \n",
       "24                 801.0      0.0      29700     B      44.0     0.96   \n",
       "25                 932.0      7.0      14020     A      78.0     0.98   \n",
       "26                 679.0      4.1      17820     C      10.0     0.95   \n",
       "27                 986.0      2.5      39340     C      19.0     1.00   \n",
       "28                 789.0      4.1      48780     B      33.0     0.94   \n",
       "29                 851.0      0.0      41500     C      20.0     1.00   \n",
       "30                 789.0      2.8      39340     C       0.0     0.97   \n",
       "31                1283.0      5.1      22380     C      33.0     0.91   \n",
       "32                 907.0      9.7      42140     C       8.0     0.90   \n",
       "33                 697.0      1.6      23420     B      41.0     0.97   \n",
       "34                1076.0      0.4      39420     B      12.0     0.94   \n",
       "35                 664.0      1.7      34820     A      64.0     0.98   \n",
       "36                 952.0      7.4      47300     C      14.0     0.97   \n",
       "37                 516.0      5.0      10180     A      24.0     0.94   \n",
       "38                 643.0      1.6      40140     B      49.0     0.91   \n",
       "39                 950.0      5.8      29820     B       5.0     0.88   \n",
       "40                1059.0      4.1      36420     B      36.0     0.93   \n",
       "41                 945.0      7.6      43300     B      59.0     0.98   \n",
       "42                 887.0      0.9      22180     B       0.0     0.96   \n",
       "43                 850.0      2.4      46060     B      35.0     0.89   \n",
       "44                 613.0      2.1      47260     B      37.0     0.95   \n",
       "45                 765.0      0.0      37100     C      48.0     0.96   \n",
       "46                 817.0      4.9      40420     A       5.0     0.91   \n",
       "47                1123.0      4.8      22380     B       3.0     0.95   \n",
       "48                 979.0      3.7      18880     C      42.0     0.95   \n",
       "49                 555.0      2.8      48780     C      38.0     0.90   \n",
       "\n",
       "    unitcount  uses_realpage  market_share  \n",
       "0       274.0              1          0.03  \n",
       "1       304.0              1          0.21  \n",
       "2       379.0              1          0.31  \n",
       "3       375.0              1          0.22  \n",
       "4        22.0              1          0.01  \n",
       "5        86.0              1          0.09  \n",
       "6       297.0              1          0.24  \n",
       "7       297.0              1          0.07  \n",
       "8       297.0              1          0.17  \n",
       "9       781.0              1          0.20  \n",
       "10      305.0              1          0.05  \n",
       "11      387.0              1          0.13  \n",
       "12      361.0              1          0.00  \n",
       "13      317.0              1          0.05  \n",
       "14      177.0              1          0.11  \n",
       "15      332.0              1          0.03  \n",
       "16      110.0              1          0.27  \n",
       "17      188.0              1          0.01  \n",
       "18      152.0              1          0.10  \n",
       "19      234.0              1          0.14  \n",
       "20      558.0              1          0.25  \n",
       "21        1.0              1          0.01  \n",
       "22      322.0              1          0.23  \n",
       "23        1.0              1          0.13  \n",
       "24      154.0              1          0.05  \n",
       "25      380.0              1          0.17  \n",
       "26      232.0              1          0.15  \n",
       "27       66.0              1          0.08  \n",
       "28      119.0              1          0.14  \n",
       "29      321.0              1          0.10  \n",
       "30      116.0              1          0.14  \n",
       "31      254.0              1          0.19  \n",
       "32      229.0              1          0.27  \n",
       "33      128.0              1          0.03  \n",
       "34      533.0              1          0.31  \n",
       "35      314.0              1          0.00  \n",
       "36        1.0              1          0.12  \n",
       "37      249.0              1          0.18  \n",
       "38      126.0              1          0.16  \n",
       "39      346.0              1          0.08  \n",
       "40      107.0              1          0.12  \n",
       "41      206.0              1          0.09  \n",
       "42      296.0              1          0.08  \n",
       "43      348.0              1          0.20  \n",
       "44       48.0              1          0.16  \n",
       "45      174.0              1          0.07  \n",
       "46      153.0              1          0.21  \n",
       "47      128.0              1          0.16  \n",
       "48      478.0              1          0.20  \n",
       "49      281.0              1          0.19  "
      ]
     },
     "execution_count": 80,
     "metadata": {},
     "output_type": "execute_result"
    }
   ],
   "source": [
    "sim_data_realpage"
   ]
  },
  {
   "cell_type": "code",
   "execution_count": 83,
   "metadata": {},
   "outputs": [
    {
     "data": {
      "text/plain": [
       "Index(['averageSquareFootage', 'stories', 'cbsa_code', 'class', 'yearsold',\n",
       "       'MPF-OCC', 'unitcount', 'uses_realpage', 'market_share'],\n",
       "      dtype='object')"
      ]
     },
     "execution_count": 83,
     "metadata": {},
     "output_type": "execute_result"
    }
   ],
   "source": [
    "sim_data_nonrealpage.columns"
   ]
  },
  {
   "cell_type": "code",
   "execution_count": 82,
   "metadata": {},
   "outputs": [
    {
     "data": {
      "text/plain": [
       "['averageSquareFootage',\n",
       " 'stories',\n",
       " 'cbsa_code',\n",
       " 'class',\n",
       " 'yearsold',\n",
       " 'MPF-OCC',\n",
       " 'unitcount',\n",
       " 'uses_realpage',\n",
       " 'market_share']"
      ]
     },
     "execution_count": 82,
     "metadata": {},
     "output_type": "execute_result"
    }
   ],
   "source": [
    "features_rent_reg_2"
   ]
  },
  {
   "cell_type": "code",
   "execution_count": 84,
   "metadata": {},
   "outputs": [],
   "source": [
    "X_sim_rp = preprocessor_rent_nn.transform(sim_data_realpage[features_rent_reg_2])\n",
    "X_sim_nonrp = preprocessor_rent_nn.transform(sim_data_nonrealpage[features_rent_reg_2])"
   ]
  },
  {
   "cell_type": "code",
   "execution_count": 85,
   "metadata": {},
   "outputs": [
    {
     "name": "stdout",
     "output_type": "stream",
     "text": [
      "2/2 [==============================] - 0s 2ms/step\n",
      "2/2 [==============================] - 0s 1ms/step\n"
     ]
    }
   ],
   "source": [
    "preds_sim_rp = model_nn.predict(X_sim_rp).flatten()\n",
    "preds_sim_nonrp = model_nn.predict(X_sim_nonrp).flatten()"
   ]
  },
  {
   "cell_type": "code",
   "execution_count": 87,
   "metadata": {},
   "outputs": [],
   "source": [
    "sim_data_realpage['Predicted_RPSF'] = preds_sim_rp\n",
    "sim_data_nonrealpage['Predicted_RPSF'] = preds_sim_nonrp"
   ]
  },
  {
   "cell_type": "code",
   "execution_count": 97,
   "metadata": {},
   "outputs": [
    {
     "data": {
      "image/png": "[encoded data removed]",
      "text/plain": [
       "<Figure size 1000x600 with 1 Axes>"
      ]
     },
     "metadata": {},
     "output_type": "display_data"
    }
   ],
   "source": [
    "median_nonrp = np.median(preds_sim_nonrp)\n",
    "median_rp    = np.median(preds_sim_rp)\n",
    "\n",
    "plt.figure(figsize=(10,6))\n",
    "\n",
    "sns.histplot(preds_sim_nonrp, label=\"Non-RealPage\", color=\"skyblue\", kde=True, bins=15, stat=\"density\", element=\"step\")\n",
    "sns.histplot(preds_sim_rp, label=\"RealPage\", color=\"salmon\", kde=True, bins=15, stat=\"density\", element=\"step\")\n",
    "\n",
    "plt.axvline(median_nonrp, color=\"blue\", linestyle=\"--\", linewidth=2, label=f\"Non-RealPage Median: {median_nonrp:.2f}\")\n",
    "plt.axvline(median_rp, color=\"red\", linestyle=\"--\", linewidth=2, label=f\"RealPage Median: {median_rp:.2f}\")\n",
    "\n",
    "plt.xlabel(\"Predicted Rent per Sq Ft (MPF-RPSF)\")\n",
    "plt.ylabel(\"Density\")\n",
    "plt.title(\"Distribution of Predicted MPF-RPSF for Non-RealPage vs. RealPage\")\n",
    "plt.legend()\n",
    "\n",
    "ax = plt.gca()\n",
    "ax.spines['top'].set_visible(False)\n",
    "ax.spines['right'].set_visible(False)\n",
    "\n",
    "plt.show()\n"
   ]
  },
  {
   "cell_type": "code",
   "execution_count": 101,
   "metadata": {},
   "outputs": [
    {
     "name": "stdout",
     "output_type": "stream",
     "text": [
      "One-sided Mann–Whitney U test (RealPage > Non-RealPage):\n",
      "U-statistic: 1270.0000\n",
      "p-value: 0.4465\n"
     ]
    }
   ],
   "source": [
    "u_stat, u_p_value = stats.mannwhitneyu(preds_sim_rp, preds_sim_nonrp, alternative='greater')\n",
    "\n",
    "print(\"One-sided Mann–Whitney U test (RealPage > Non-RealPage):\")\n",
    "print(f\"U-statistic: {u_stat:.4f}\")\n",
    "print(f\"p-value: {u_p_value:.4f}\")"
   ]
  },
  {
   "cell_type": "code",
   "execution_count": 102,
   "metadata": {},
   "outputs": [
    {
     "name": "stdout",
     "output_type": "stream",
     "text": [
      "\n",
      "Result: The test did not detect a statistically significant difference (p >= 0.05).\n"
     ]
    }
   ],
   "source": [
    "alpha = 0.05\n",
    "if u_p_value < alpha:\n",
    "    print(\"\\nResult: The predicted MPF-RPSF for RealPage properties is significantly higher than for Non-RealPage properties (p < 0.05).\")\n",
    "else:\n",
    "    print(\"\\nResult: The test did not detect a statistically significant difference (p >= 0.05).\")"
   ]
  },
  {
   "cell_type": "code",
   "execution_count": null,
   "metadata": {},
   "outputs": [],
   "source": []
  }
 ],
 "metadata": {
  "kernelspec": {
   "display_name": "tf_env",
   "language": "python",
   "name": "python3"
  },
  "language_info": {
   "codemirror_mode": {
    "name": "ipython",
    "version": 3
   },
   "file_extension": ".py",
   "mimetype": "text/x-python",
   "name": "python",
   "nbconvert_exporter": "python",
   "pygments_lexer": "ipython3",
   "version": "3.8.18"
  }
 },
 "nbformat": 4,
 "nbformat_minor": 2
}
